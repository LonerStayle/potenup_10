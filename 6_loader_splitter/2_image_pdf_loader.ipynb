{
 "cells": [
  {
   "cell_type": "code",
   "execution_count": 1,
   "id": "10a0cfe0",
   "metadata": {},
   "outputs": [],
   "source": [
    "from langchain_community.document_loaders import PyPDFLoader"
   ]
  },
  {
   "cell_type": "code",
   "execution_count": null,
   "id": "28695980",
   "metadata": {},
   "outputs": [
    {
     "name": "stdout",
     "output_type": "stream",
     "text": [
      "문서로드중\n"
     ]
    }
   ],
   "source": [
    "file_path = \"../data/Image_Samsung_Electronics_Sustainability_Report_2025_KOR_partial.pdf\"\n",
    "\n",
    "print(\"문서로드중\")\n",
    "loader = PyPDFLoader(file_path)\n",
    "docs = loader.load()"
   ]
  },
  {
   "cell_type": "code",
   "execution_count": 3,
   "id": "f193c0eb",
   "metadata": {},
   "outputs": [
    {
     "data": {
      "text/plain": [
       "30"
      ]
     },
     "execution_count": 3,
     "metadata": {},
     "output_type": "execute_result"
    }
   ],
   "source": [
    "len(docs)"
   ]
  },
  {
   "cell_type": "code",
   "execution_count": 4,
   "id": "9af97f9c",
   "metadata": {},
   "outputs": [
    {
     "data": {
      "text/plain": [
       "Document(metadata={'producer': 'ezPDF Maker', 'creator': 'ezPDF Maker', 'creationdate': '2025-10-12T19:22:25+09:00', 'moddate': '2025-10-12T19:22:25+09:00', 'source': '../0_data/Image_Samsung_Electronics_Sustainability_Report_2025_KOR_partial.pdf', 'total_pages': 30, 'page': 1, 'page_label': '2'}, page_content='')"
      ]
     },
     "execution_count": 4,
     "metadata": {},
     "output_type": "execute_result"
    }
   ],
   "source": [
    "docs[1]"
   ]
  },
  {
   "cell_type": "code",
   "execution_count": 5,
   "id": "58c0aa7c",
   "metadata": {},
   "outputs": [],
   "source": [
    "# uv add easyocr"
   ]
  },
  {
   "cell_type": "code",
   "execution_count": 6,
   "id": "83562abf",
   "metadata": {},
   "outputs": [],
   "source": [
    "import fitz\n",
    "import numpy as np\n",
    "from PIL import Image\n",
    "import easyocr\n",
    "from langchain.docstore.document import Document"
   ]
  },
  {
   "cell_type": "code",
   "execution_count": 7,
   "id": "769ca9f8",
   "metadata": {},
   "outputs": [],
   "source": [
    "def load_pdf_with_easyocr(\n",
    "    pdf_path: str,\n",
    "    languages=(\"ko\",\"en\"),   # 한국어+영어\n",
    "    gpu=True,                # GPU 사용\n",
    "    dpi=300,                 # OCR 품질용 렌더 DPI\n",
    "    page_from=None,          # 1부터 시작, None=첫 페이지\n",
    "    page_to=None             # 포함, None=마지막 페이지\n",
    "):\n",
    "    reader = easyocr.Reader(list(languages), gpu=gpu)\n",
    "    docs = []\n",
    "\n",
    "    with fitz.open(pdf_path) as pdf:\n",
    "        total = len(pdf)\n",
    "        start = 1 if page_from is None else max(1, page_from)\n",
    "        end   = total if page_to is None else min(total, page_to)\n",
    "\n",
    "        for p in range(start-1, end):\n",
    "            page = pdf[p]\n",
    "            zoom = dpi / 72.0\n",
    "            mat = fitz.Matrix(zoom, zoom)\n",
    "            pix = page.get_pixmap(matrix=mat, alpha=False)\n",
    "            img = Image.frombytes(\"RGB\", (pix.width, pix.height), pix.samples)\n",
    "\n",
    "            arr = np.array(img)\n",
    "            result = reader.readtext(arr, detail=0, paragraph=True)\n",
    "            text = \"\\n\".join(result) if result else \"\"\n",
    "\n",
    "            docs.append(Document(\n",
    "                page_content=text,\n",
    "                metadata={\"source\": pdf_path, \"page\": p+1, \"dpi\": dpi, \"ocr_engine\": \"EasyOCR\"}\n",
    "            ))\n",
    "\n",
    "    return docs"
   ]
  },
  {
   "cell_type": "code",
   "execution_count": null,
   "id": "e6bd6165",
   "metadata": {},
   "outputs": [],
   "source": [
    "docs = load_pdf_with_easyocr(file_path, languages=(\"ko\", \"en\"), gpu=True, dpi=300)\n",
    "docs"
   ]
  },
  {
   "cell_type": "code",
   "execution_count": 10,
   "id": "2ebc9d00",
   "metadata": {},
   "outputs": [
    {
     "data": {
      "text/plain": [
       "30"
      ]
     },
     "execution_count": 10,
     "metadata": {},
     "output_type": "execute_result"
    }
   ],
   "source": [
    "len(docs)"
   ]
  },
  {
   "cell_type": "code",
   "execution_count": 9,
   "id": "9ddef331",
   "metadata": {},
   "outputs": [
    {
     "data": {
      "text/plain": [
       "86"
      ]
     },
     "execution_count": 9,
     "metadata": {},
     "output_type": "execute_result"
    }
   ],
   "source": [
    "from langchain.text_splitter import RecursiveCharacterTextSplitter\n",
    "splitter = RecursiveCharacterTextSplitter(\n",
    "    chunk_size = 1000,\n",
    "    chunk_overlap =100\n",
    ")\n",
    "chunk = splitter.split_documents(docs)\n",
    "len(chunk)"
   ]
  },
  {
   "cell_type": "code",
   "execution_count": null,
   "id": "8526ac18",
   "metadata": {},
   "outputs": [],
   "source": []
  }
 ],
 "metadata": {
  "kernelspec": {
   "display_name": "2025_10_LLM",
   "language": "python",
   "name": "python3"
  },
  "language_info": {
   "codemirror_mode": {
    "name": "ipython",
    "version": 3
   },
   "file_extension": ".py",
   "mimetype": "text/x-python",
   "name": "python",
   "nbconvert_exporter": "python",
   "pygments_lexer": "ipython3",
   "version": "3.11.9"
  }
 },
 "nbformat": 4,
 "nbformat_minor": 5
}
