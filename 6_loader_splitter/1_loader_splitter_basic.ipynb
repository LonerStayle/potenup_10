{
 "cells": [
  {
   "cell_type": "code",
   "execution_count": null,
   "id": "10fad4a9",
   "metadata": {},
   "outputs": [
    {
     "name": "stderr",
     "output_type": "stream",
     "text": [
      "c:\\PythonProject\\potenup_10\\.venv\\Lib\\site-packages\\tqdm\\auto.py:21: TqdmWarning: IProgress not found. Please update jupyter and ipywidgets. See https://ipywidgets.readthedocs.io/en/stable/user_install.html\n",
      "  from .autonotebook import tqdm as notebook_tqdm\n"
     ]
    }
   ],
   "source": [
    "from langchain_community.document_loaders import PyPDFLoader"
   ]
  },
  {
   "cell_type": "code",
   "execution_count": null,
   "id": "30c35a22",
   "metadata": {},
   "outputs": [
    {
     "name": "stdout",
     "output_type": "stream",
     "text": [
      "문서로드중\n"
     ]
    }
   ],
   "source": [
    "file_path = \"../data/Sustainability_report_2024_kr.pdf\"\n",
    "\n",
    "print(\"문서로드중\")\n",
    "loader = PyPDFLoader(file_path)\n",
    "docs = loader.load()"
   ]
  },
  {
   "cell_type": "code",
   "execution_count": null,
   "id": "338bb44d",
   "metadata": {},
   "outputs": [],
   "source": [
    "from langchain_core.documents import Document\n",
    "from langchain_text_splitters import CharacterTextSplitter, RecursiveCharacterTextSplitter, TokenTextSplitter"
   ]
  },
  {
   "cell_type": "code",
   "execution_count": null,
   "id": "cc9c6f08",
   "metadata": {},
   "outputs": [],
   "source": [
    "import tiktoken"
   ]
  },
  {
   "cell_type": "code",
   "execution_count": null,
   "id": "93e631c6",
   "metadata": {},
   "outputs": [],
   "source": [
    "tiktoken.list_encoding_names()"
   ]
  },
  {
   "cell_type": "code",
   "execution_count": null,
   "id": "5bfcc739",
   "metadata": {},
   "outputs": [],
   "source": [
    "encoding = tiktoken.encoding_for_model(\"gpt-4.1-mini\")"
   ]
  },
  {
   "cell_type": "code",
   "execution_count": null,
   "id": "e3e0fed4",
   "metadata": {},
   "outputs": [],
   "source": [
    "text = \"안녕하세요 여러분, 좋은 월요일입니다\"\n",
    "encoding.encode(text)"
   ]
  },
  {
   "cell_type": "code",
   "execution_count": null,
   "id": "c11c17f9",
   "metadata": {},
   "outputs": [],
   "source": [
    "len(encoding.encode(text))"
   ]
  },
  {
   "cell_type": "code",
   "execution_count": null,
   "id": "4b77f44f",
   "metadata": {},
   "outputs": [],
   "source": [
    "# 스플리터 종류 테스트\n",
    "char_splitter = CharacterTextSplitter(\n",
    "    chunk_size = 1000,\n",
    "    chunk_overlap=100\n",
    ")\n",
    "rec_splitter = RecursiveCharacterTextSplitter(\n",
    "    chunk_size = 1000,\n",
    "    chunk_overlap=100\n",
    ")\n",
    "token_splitter = TokenTextSplitter(\n",
    "    chunk_size = 1000,\n",
    "    chunk_overlap=100\n",
    ")"
   ]
  },
  {
   "cell_type": "code",
   "execution_count": null,
   "id": "348336de",
   "metadata": {},
   "outputs": [],
   "source": [
    "len(docs)"
   ]
  },
  {
   "cell_type": "code",
   "execution_count": null,
   "id": "bd4180ef",
   "metadata": {},
   "outputs": [],
   "source": [
    "char_chunk = char_splitter.split_documents(docs)\n",
    "len(char_chunk)"
   ]
  },
  {
   "cell_type": "code",
   "execution_count": null,
   "id": "618264b7",
   "metadata": {},
   "outputs": [],
   "source": [
    "char_chunk[4]"
   ]
  },
  {
   "cell_type": "code",
   "execution_count": null,
   "id": "737aed76",
   "metadata": {},
   "outputs": [],
   "source": [
    "rec_chunk = rec_splitter.split_documents(docs)\n",
    "len(rec_chunk)"
   ]
  },
  {
   "cell_type": "code",
   "execution_count": null,
   "id": "a4d691b3",
   "metadata": {},
   "outputs": [],
   "source": [
    "rec_chunk[4]"
   ]
  },
  {
   "cell_type": "code",
   "execution_count": null,
   "id": "8e6091a8",
   "metadata": {},
   "outputs": [],
   "source": [
    "token_chunk = token_splitter.split_documents(docs)\n",
    "len(token_chunk)"
   ]
  },
  {
   "cell_type": "code",
   "execution_count": null,
   "id": "2d9c7eb3",
   "metadata": {},
   "outputs": [],
   "source": [
    "token_chunk[3].page_content"
   ]
  },
  {
   "cell_type": "code",
   "execution_count": null,
   "id": "68c55a5c",
   "metadata": {},
   "outputs": [],
   "source": [
    "rec_chunk[4].page_content"
   ]
  },
  {
   "cell_type": "code",
   "execution_count": null,
   "id": "3c9f05aa",
   "metadata": {},
   "outputs": [],
   "source": [
    "rec_chunk[4].metadata[\"test\"] = \"항목 추가\""
   ]
  },
  {
   "cell_type": "code",
   "execution_count": null,
   "id": "ccaf1bd0",
   "metadata": {},
   "outputs": [],
   "source": [
    "rec_chunk[4].metadata"
   ]
  },
  {
   "cell_type": "code",
   "execution_count": null,
   "id": "53df1833",
   "metadata": {},
   "outputs": [],
   "source": []
  }
 ],
 "metadata": {
  "kernelspec": {
   "display_name": "potenup_10",
   "language": "python",
   "name": "python3"
  },
  "language_info": {
   "codemirror_mode": {
    "name": "ipython",
    "version": 3
   },
   "file_extension": ".py",
   "mimetype": "text/x-python",
   "name": "python",
   "nbconvert_exporter": "python",
   "pygments_lexer": "ipython3",
   "version": "3.11.0"
  }
 },
 "nbformat": 4,
 "nbformat_minor": 5
}
