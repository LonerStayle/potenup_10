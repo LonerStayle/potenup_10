{
 "cells": [
  {
   "cell_type": "code",
   "execution_count": null,
   "id": "c6ce7e0c",
   "metadata": {},
   "outputs": [],
   "source": [
    "from langchain_community.document_loaders import UnstructuredPDFLoader"
   ]
  },
  {
   "cell_type": "code",
   "execution_count": null,
   "id": "524935c2",
   "metadata": {},
   "outputs": [],
   "source": [
    "loader = UnstructuredPDFLoader(\n",
    "    file_path=\"../data/Image_Samsung_Electronics_Sustainability_Report_2025_KOR_partial.pdf\",\n",
    "    mode=\"elements\",\n",
    "    strategy=\"ocr_only\",\n",
    "    ocr_language=[\"kor\",\"eng\"]\n",
    ")"
   ]
  },
  {
   "cell_type": "code",
   "execution_count": null,
   "id": "6d0c602e",
   "metadata": {},
   "outputs": [],
   "source": [
    "docs = loader.load()"
   ]
  },
  {
   "cell_type": "code",
   "execution_count": null,
   "id": "aac44f61",
   "metadata": {},
   "outputs": [],
   "source": [
    "docs[:10]"
   ]
  }
 ],
 "metadata": {
  "kernelspec": {
   "display_name": "potenup_10",
   "language": "python",
   "name": "python3"
  },
  "language_info": {
   "codemirror_mode": {
    "name": "ipython",
    "version": 3
   },
   "file_extension": ".py",
   "mimetype": "text/x-python",
   "name": "python",
   "nbconvert_exporter": "python",
   "pygments_lexer": "ipython3",
   "version": "3.11.0"
  }
 },
 "nbformat": 4,
 "nbformat_minor": 5
}
