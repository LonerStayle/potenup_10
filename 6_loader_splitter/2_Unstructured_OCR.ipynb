{
 "cells": [
  {
   "cell_type": "code",
   "execution_count": null,
   "id": "06482421",
   "metadata": {},
   "outputs": [],
   "source": [
    "# uv add -U \"unstructured[pdf,local-inference] pytesseract"
   ]
  },
  {
   "cell_type": "code",
   "execution_count": 5,
   "id": "a4e7827d",
   "metadata": {},
   "outputs": [
    {
     "name": "stderr",
     "output_type": "stream",
     "text": [
      "No features in text.\n",
      "No features in text.\n",
      "No features in text.\n",
      "No features in text.\n",
      "No features in text.\n",
      "No features in text.\n",
      "No features in text.\n",
      "No features in text.\n",
      "No features in text.\n"
     ]
    }
   ],
   "source": [
    "from langchain_community.document_loaders import UnstructuredPDFLoader\n",
    "from langchain.text_splitter import RecursiveCharacterTextSplitter\n",
    "import pytesseract\n",
    "\n",
    "loader = UnstructuredPDFLoader(\n",
    "    file_path=\"..\\data\\Image_Samsung_Electronics_Sustainability_Report_2025_KOR_partial.pdf\",\n",
    "    mode=\"elements\",\n",
    "    strategy=\"ocr_only\",\n",
    "    languages=[\"kor\", \"eng\"]\n",
    ")\n",
    "docs = loader.load()"
   ]
  },
  {
   "cell_type": "code",
   "execution_count": 3,
   "id": "e73f102c",
   "metadata": {},
   "outputs": [
    {
     "data": {
      "text/plain": [
       "[Document(metadata={'source': '..\\\\0_data\\\\Image_Apple_Environmental_Progress_Report_2024_partial.pdf', 'coordinates': {'points': ((np.float64(95.0), np.float64(551.0)), (np.float64(95.0), np.float64(1176.0)), (np.float64(1587.0), np.float64(1176.0)), (np.float64(1587.0), np.float64(551.0))), 'system': 'PixelSpace', 'layout_width': 3023, 'layout_height': 1700}, 'filetype': 'application/pdf', 'languages': ['eng'], 'last_modified': '2025-10-12T19:06:24', 'page_number': 1, 'file_directory': '..\\\\0_data', 'filename': 'Image_Apple_Environmental_Progress_Report_2024_partial.pdf', 'category': 'Title', 'element_id': 'a781a040de70aa951b747f79ddce222c'}, page_content='Environmental Progress Report'),\n",
       " Document(metadata={'source': '..\\\\0_data\\\\Image_Apple_Environmental_Progress_Report_2024_partial.pdf', 'coordinates': {'points': ((np.float64(2062.0), np.float64(706.0)), (np.float64(2062.0), np.float64(861.0)), (np.float64(2547.0), np.float64(861.0)), (np.float64(2547.0), np.float64(706.0))), 'system': 'PixelSpace', 'layout_width': 3023, 'layout_height': 1700}, 'filetype': 'application/pdf', 'languages': ['eng', 'ita'], 'last_modified': '2025-10-12T19:06:24', 'page_number': 1, 'file_directory': '..\\\\0_data', 'filename': 'Image_Apple_Environmental_Progress_Report_2024_partial.pdf', 'category': 'Title', 'element_id': '33acafe23c24bc08c9d89e07f5fd8581'}, page_content='Grid Forecast Cupertino Cleaner until 4:00 PM.'),\n",
       " Document(metadata={'source': '..\\\\0_data\\\\Image_Apple_Environmental_Progress_Report_2024_partial.pdf', 'coordinates': {'points': ((np.float64(96.0), np.float64(1596.0)), (np.float64(96.0), np.float64(1616.0)), (np.float64(347.0), np.float64(1616.0)), (np.float64(347.0), np.float64(1596.0))), 'system': 'PixelSpace', 'layout_width': 3023, 'layout_height': 1700}, 'filetype': 'application/pdf', 'languages': ['eng'], 'last_modified': '2025-10-12T19:06:24', 'page_number': 1, 'file_directory': '..\\\\0_data', 'filename': 'Image_Apple_Environmental_Progress_Report_2024_partial.pdf', 'parent_id': '33acafe23c24bc08c9d89e07f5fd8581', 'category': 'NarrativeText', 'element_id': '52dd538de67f1b9147294bf4b2f7fcf1'}, page_content='Covering fiscal year 2023'),\n",
       " Document(metadata={'source': '..\\\\0_data\\\\Image_Apple_Environmental_Progress_Report_2024_partial.pdf', 'coordinates': {'points': ((np.float64(96.0), np.float64(58.0)), (np.float64(96.0), np.float64(85.0)), (np.float64(2928.0), np.float64(85.0)), (np.float64(2928.0), np.float64(58.0))), 'system': 'PixelSpace', 'layout_width': 3023, 'layout_height': 1700}, 'filetype': 'application/pdf', 'languages': ['eng'], 'last_modified': '2025-10-12T19:06:24', 'page_number': 2, 'file_directory': '..\\\\0_data', 'filename': 'Image_Apple_Environmental_Progress_Report_2024_partial.pdf', 'parent_id': '33acafe23c24bc08c9d89e07f5fd8581', 'category': 'UncategorizedText', 'element_id': 'd8a2ca13e22bfd2386fb68f8379e4a60'}, page_content='Contents = Introduction Environmental Initiatives © Engagementand Advocacy Data Appendix Environmental Progress Report 2'),\n",
       " Document(metadata={'source': '..\\\\0_data\\\\Image_Apple_Environmental_Progress_Report_2024_partial.pdf', 'coordinates': {'points': ((np.float64(100.0), np.float64(319.0)), (np.float64(100.0), np.float64(395.0)), (np.float64(523.0), np.float64(395.0)), (np.float64(523.0), np.float64(319.0))), 'system': 'PixelSpace', 'layout_width': 3023, 'layout_height': 1700}, 'filetype': 'application/pdf', 'languages': ['eng'], 'last_modified': '2025-10-12T19:06:24', 'page_number': 2, 'file_directory': '..\\\\0_data', 'filename': 'Image_Apple_Environmental_Progress_Report_2024_partial.pdf', 'category': 'Title', 'element_id': 'b0a06e8231364bdd929f530cdcb1c2cf'}, page_content='Contents')]"
      ]
     },
     "execution_count": 3,
     "metadata": {},
     "output_type": "execute_result"
    }
   ],
   "source": [
    "docs[:5]"
   ]
  },
  {
   "cell_type": "code",
   "execution_count": 5,
   "id": "8cb29776",
   "metadata": {},
   "outputs": [
    {
     "name": "stdout",
     "output_type": "stream",
     "text": [
      "861\n"
     ]
    }
   ],
   "source": [
    "splitter = RecursiveCharacterTextSplitter(chunk_size=1000, chunk_overlap=200)\n",
    "splits = splitter.split_documents(docs)\n",
    "print(len(splits))"
   ]
  },
  {
   "cell_type": "code",
   "execution_count": null,
   "id": "cf995a2f",
   "metadata": {},
   "outputs": [],
   "source": [
    "# 삼성 보고서 가져와보기\n",
    "samsung_loader = UnstructuredPDFLoader(\n",
    "    file_path=r\"..\\0_data\\test.pdf\",\n",
    "    mode=\"elements\",\n",
    "    strategy=\"ocr_only\",\n",
    "    languages=[\"kor\", \"eng\"]\n",
    ")\n",
    "samsung_docs = samsung_loader.load()"
   ]
  },
  {
   "cell_type": "code",
   "execution_count": 19,
   "id": "755728bb",
   "metadata": {},
   "outputs": [
    {
     "data": {
      "text/plain": [
       "0"
      ]
     },
     "execution_count": 19,
     "metadata": {},
     "output_type": "execute_result"
    }
   ],
   "source": [
    "len(samsung_docs)"
   ]
  },
  {
   "cell_type": "code",
   "execution_count": 13,
   "id": "3637b23c",
   "metadata": {},
   "outputs": [
    {
     "data": {
      "text/plain": [
       "[Document(metadata={'source': '..\\\\0_data\\\\Image_Samsung_Electronics_Sustainability_Report_2025_KOR_partial.pdf', 'coordinates': {'points': ((np.float64(136.0), np.float64(150.0)), (np.float64(136.0), np.float64(213.0)), (np.float64(872.0), np.float64(213.0)), (np.float64(872.0), np.float64(150.0))), 'system': 'PixelSpace', 'layout_width': 2339, 'layout_height': 1654}, 'filetype': 'application/pdf', 'languages': ['eng'], 'last_modified': '2025-10-12T19:22:56', 'page_number': 6, 'file_directory': '..\\\\0_data', 'filename': 'Image_Samsung_Electronics_Sustainability_Report_2025_KOR_partial.pdf', 'category': 'Title', 'element_id': '07bda07f4fac2231d419d7c4dfe7a8b1'}, page_content='Corporate Governance'),\n",
       " Document(metadata={'source': '..\\\\0_data\\\\Image_Samsung_Electronics_Sustainability_Report_2025_KOR_partial.pdf', 'coordinates': {'points': ((np.float64(139.0), np.float64(225.0)), (np.float64(139.0), np.float64(251.0)), (np.float64(185.0), np.float64(251.0)), (np.float64(185.0), np.float64(225.0))), 'system': 'PixelSpace', 'layout_width': 2339, 'layout_height': 1654}, 'filetype': 'application/pdf', 'languages': ['kor'], 'last_modified': '2025-10-12T19:22:56', 'page_number': 6, 'file_directory': '..\\\\0_data', 'filename': 'Image_Samsung_Electronics_Sustainability_Report_2025_KOR_partial.pdf', 'category': 'Title', 'element_id': 'b7a2e44472427a38baef13cfb596876d'}, page_content='기업'),\n",
       " Document(metadata={'source': '..\\\\0_data\\\\Image_Samsung_Electronics_Sustainability_Report_2025_KOR_partial.pdf', 'coordinates': {'points': ((np.float64(119.0), np.float64(339.0)), (np.float64(119.0), np.float64(1214.0)), (np.float64(2162.0), np.float64(1214.0)), (np.float64(2162.0), np.float64(339.0))), 'system': 'PixelSpace', 'layout_width': 2339, 'layout_height': 1654}, 'filetype': 'application/pdf', 'languages': ['kor'], 'last_modified': '2025-10-12T19:22:56', 'page_number': 6, 'file_directory': '..\\\\0_data', 'filename': 'Image_Samsung_Electronics_Sustainability_Report_2025_KOR_partial.pdf', 'parent_id': 'b7a2e44472427a38baef13cfb596876d', 'category': 'NarrativeText', 'element_id': '436b6c71c1bcdd58473e6692e156ed92'}, page_content=\"Ss ATE 주 = 이사회 구성 추진 체계 이 주주 = 이 의 HSS 최고 0%, 주요 있습니다. 21 OFA] ASR DOI 7a A SAS 추진하고 A AEE 객관적인 시 각 ASMS 균형 잡힌 거버넌스 위해 확대 이사회 산하 이사회 산하 SS 통해, 하였습니다. 말 기준 이사 SE! 이행 (ASS, SMS) GES, ASS, RSS | 있습니다. SESH SS (6000008068 정책, 중장기 Ht 등 위하여 이사회 본 보가 13 BOA: —a-. = AQT] 분야별 관련 협의 SUH TBE : 주기: 최소 반기 18] 이싱 더불어 선임 성별, 국적 등 있습니다. 분야별 | Le ro} — ae Al: i oe ” USHE, 재무, BS, ERATED, 리스크 함께 관련 따라 관리, 분야 등에 관한 히야 인권 음질 풍부한 이를 ae was ee eee ee 환경 Hoe 회의, 풍부한 ES 이름 위해 BSM(Board Skills Matri@S 등 주요 주제별 관련 [OSHS] 작성, 또한 0 2 성별 등 이사회 미치는 긍정적 여성 ' = coils 더 ° 2A}. 21 210] 성과 평가 관련 으으 이이 are 이시이 clon 사업 성과 평가 업무 맞게 전환, 제품 개발 준법 제품 접근성 사회 있습니다.\"),\n",
       " Document(metadata={'source': '..\\\\0_data\\\\Image_Samsung_Electronics_Sustainability_Report_2025_KOR_partial.pdf', 'coordinates': {'points': ((np.float64(119.0), np.float64(573.0)), (np.float64(119.0), np.float64(1591.0)), (np.float64(2221.0), np.float64(1591.0)), (np.float64(2221.0), np.float64(573.0))), 'system': 'PixelSpace', 'layout_width': 2339, 'layout_height': 1654}, 'filetype': 'application/pdf', 'languages': ['eng', 'fra'], 'last_modified': '2025-10-12T19:22:56', 'page_number': 6, 'file_directory': '..\\\\0_data', 'filename': 'Image_Samsung_Electronics_Sustainability_Report_2025_KOR_partial.pdf', 'parent_id': 'b7a2e44472427a38baef13cfb596876d', 'category': 'UncategorizedText', 'element_id': '7ed464f6af7f80f06d43e16cdda7fb1d'}, page_content='2025 = OurCompany Planet People Principle Facts & Figures Appendix 42) 4 06 >'),\n",
       " Document(metadata={'source': '..\\\\0_data\\\\Image_Samsung_Electronics_Sustainability_Report_2025_KOR_partial.pdf', 'coordinates': {'points': ((np.float64(137.0), np.float64(147.0)), (np.float64(137.0), np.float64(213.0)), (np.float64(843.0), np.float64(213.0)), (np.float64(843.0), np.float64(147.0))), 'system': 'PixelSpace', 'layout_width': 2339, 'layout_height': 1654}, 'filetype': 'application/pdf', 'languages': ['eng'], 'last_modified': '2025-10-12T19:22:56', 'page_number': 7, 'file_directory': '..\\\\0_data', 'filename': 'Image_Samsung_Electronics_Sustainability_Report_2025_KOR_partial.pdf', 'category': 'Title', 'element_id': 'ac51acd577524a8a88d0224275ee6b1f'}, page_content='Materiality Assessmen'),\n",
       " Document(metadata={'source': '..\\\\0_data\\\\Image_Samsung_Electronics_Sustainability_Report_2025_KOR_partial.pdf', 'coordinates': {'points': ((np.float64(218.0), np.float64(225.0)), (np.float64(218.0), np.float64(251.0)), (np.float64(267.0), np.float64(251.0)), (np.float64(267.0), np.float64(225.0))), 'system': 'PixelSpace', 'layout_width': 2339, 'layout_height': 1654}, 'filetype': 'application/pdf', 'languages': ['kor'], 'last_modified': '2025-10-12T19:22:56', 'page_number': 7, 'file_directory': '..\\\\0_data', 'filename': 'Image_Samsung_Electronics_Sustainability_Report_2025_KOR_partial.pdf', 'category': 'Title', 'element_id': 'fda9fdbf82c10e75af5c74e62e26daed'}, page_content='평가'),\n",
       " Document(metadata={'source': '..\\\\0_data\\\\Image_Samsung_Electronics_Sustainability_Report_2025_KOR_partial.pdf', 'coordinates': {'points': ((np.float64(302.0), np.float64(333.0)), (np.float64(302.0), np.float64(354.0)), (np.float64(551.0), np.float64(354.0)), (np.float64(551.0), np.float64(333.0))), 'system': 'PixelSpace', 'layout_width': 2339, 'layout_height': 1654}, 'filetype': 'application/pdf', 'languages': ['kor'], 'last_modified': '2025-10-12T19:22:56', 'page_number': 7, 'file_directory': '..\\\\0_data', 'filename': 'Image_Samsung_Electronics_Sustainability_Report_2025_KOR_partial.pdf', 'category': 'Title', 'element_id': '3236c172c149abe630fcb0c1d41b7982'}, page_content='중대한 미치는 주요'),\n",
       " Document(metadata={'source': '..\\\\0_data\\\\Image_Samsung_Electronics_Sustainability_Report_2025_KOR_partial.pdf', 'coordinates': {'points': ((np.float64(654.0), np.float64(333.0)), (np.float64(654.0), np.float64(355.0)), (np.float64(1340.0), np.float64(355.0)), (np.float64(1340.0), np.float64(333.0))), 'system': 'PixelSpace', 'layout_width': 2339, 'layout_height': 1654}, 'filetype': 'application/pdf', 'languages': ['kor'], 'last_modified': '2025-10-12T19:22:56', 'page_number': 7, 'file_directory': '..\\\\0_data', 'filename': 'Image_Samsung_Electronics_Sustainability_Report_2025_KOR_partial.pdf', 'category': 'Title', 'element_id': 'f6bf2d9a2dc321d7fddc270108ee4e22'}, page_content='3Y 파악해 우선 SSS SHS WS 평가'),\n",
       " Document(metadata={'source': '..\\\\0_data\\\\Image_Samsung_Electronics_Sustainability_Report_2025_KOR_partial.pdf', 'coordinates': {'points': ((np.float64(121.0), np.float64(375.0)), (np.float64(121.0), np.float64(400.0)), (np.float64(2218.0), np.float64(400.0)), (np.float64(2218.0), np.float64(375.0))), 'system': 'PixelSpace', 'layout_width': 2339, 'layout_height': 1654}, 'filetype': 'application/pdf', 'languages': ['eng'], 'last_modified': '2025-10-12T19:22:56', 'page_number': 7, 'file_directory': '..\\\\0_data', 'filename': 'Image_Samsung_Electronics_Sustainability_Report_2025_KOR_partial.pdf', 'parent_id': 'f6bf2d9a2dc321d7fddc270108ee4e22', 'category': 'UncategorizedText', 'element_id': 'de64f573f06ebf002d9b79c9f0b74c1f'}, page_content='European Financial Reporting Advisory Group)0| 평가 이행 70/4A(Materiality Assessment Implementation Guidance) @Ol SCH B7t(Double Materiality Assessment)S 전기'),\n",
       " Document(metadata={'source': '..\\\\0_data\\\\Image_Samsung_Electronics_Sustainability_Report_2025_KOR_partial.pdf', 'coordinates': {'points': ((np.float64(487.0), np.float64(375.0)), (np.float64(487.0), np.float64(439.0)), (np.float64(1858.0), np.float64(439.0)), (np.float64(1858.0), np.float64(375.0))), 'system': 'PixelSpace', 'layout_width': 2339, 'layout_height': 1654}, 'filetype': 'application/pdf', 'languages': ['kor'], 'last_modified': '2025-10-12T19:22:56', 'page_number': 7, 'file_directory': '..\\\\0_data', 'filename': 'Image_Samsung_Electronics_Sustainability_Report_2025_KOR_partial.pdf', 'category': 'Title', 'element_id': 'eb0a961e49ac3ddb3e66678fa2d6465a'}, page_content='기 이후 내 관련된 큰 없다고 최종 중대 FAS SUS')]"
      ]
     },
     "execution_count": 13,
     "metadata": {},
     "output_type": "execute_result"
    }
   ],
   "source": [
    "samsung_docs[50:60]"
   ]
  },
  {
   "cell_type": "code",
   "execution_count": 11,
   "id": "04f43d9b",
   "metadata": {},
   "outputs": [
    {
     "name": "stdout",
     "output_type": "stream",
     "text": [
      "791\n"
     ]
    }
   ],
   "source": [
    "splitter = RecursiveCharacterTextSplitter(chunk_size=1000, chunk_overlap=200)\n",
    "samsung_splits = splitter.split_documents(samsung_docs)\n",
    "print(len(samsung_splits))"
   ]
  },
  {
   "cell_type": "code",
   "execution_count": null,
   "id": "da11dad5",
   "metadata": {},
   "outputs": [],
   "source": []
  }
 ],
 "metadata": {
  "kernelspec": {
   "display_name": "potenup_10",
   "language": "python",
   "name": "python3"
  },
  "language_info": {
   "codemirror_mode": {
    "name": "ipython",
    "version": 3
   },
   "file_extension": ".py",
   "mimetype": "text/x-python",
   "name": "python",
   "nbconvert_exporter": "python",
   "pygments_lexer": "ipython3",
   "version": "3.11.0"
  }
 },
 "nbformat": 4,
 "nbformat_minor": 5
}
