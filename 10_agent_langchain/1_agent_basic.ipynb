{
 "cells": [
  {
   "cell_type": "markdown",
   "id": "d22c61ce",
   "metadata": {},
   "source": [
    "### 빌트인 도구\n",
    "- 랭체인 제공\n",
    "- 도구와 툴킷\n",
    "- 툴 -> 단일 도구, 툴킷 -> 여러 도구가 묶여 있다.\n",
    "- 파일 관리 툴킷 : 파일 삭제 툴, 파일 읽기 툴 ..."
   ]
  },
  {
   "cell_type": "markdown",
   "id": "f4c97770",
   "metadata": {},
   "source": [
    "### 1. 검색 툴 사용해보기 "
   ]
  },
  {
   "cell_type": "code",
   "execution_count": 4,
   "id": "0a3fc107",
   "metadata": {},
   "outputs": [],
   "source": [
    "import os \n",
    "from dotenv import load_dotenv\n",
    "load_dotenv()\n",
    "\n",
    "project_name = \"wanted_2nd_agent_basic\"\n",
    "os.environ[\"LANGSMITH_PROJECT\"] = project_name"
   ]
  },
  {
   "cell_type": "code",
   "execution_count": 5,
   "id": "1d9e0524",
   "metadata": {},
   "outputs": [],
   "source": [
    "from langchain_openai import ChatOpenAI\n",
    "from langchain.agents import create_openai_tools_agent, AgentExecutor\n",
    "from langchain_core.prompts import ChatPromptTemplate\n",
    "from langchain_tavily import TavilySearch\n",
    "\n",
    "llm = ChatOpenAI(model = 'gpt-4.1-mini')"
   ]
  },
  {
   "cell_type": "code",
   "execution_count": 6,
   "id": "8c7f3565",
   "metadata": {},
   "outputs": [],
   "source": [
    "tavily_search = TavilySearch()\n",
    "\n",
    "prompt = ChatPromptTemplate.from_messages([\n",
    "    (\"system\",\"너는 툴만 사용해서 사실을 확인하고 한국어로 간단하게 답한다.\"),\n",
    "    (\"human\",\"{input}\"),\n",
    "    (\"placeholder\",\"{agent_scratchpad}\")\n",
    "\n",
    "])\n",
    "\n",
    "agent = create_openai_tools_agent(\n",
    "    llm = llm ,\n",
    "    tools = [tavily_search],\n",
    "    prompt = prompt \n",
    ")\n",
    "\n",
    "executor = AgentExecutor(\n",
    "    agent = agent , \n",
    "    tools = [tavily_search],\n",
    "    verbose = True\n",
    ")"
   ]
  },
  {
   "cell_type": "code",
   "execution_count": 8,
   "id": "fddb9402",
   "metadata": {},
   "outputs": [
    {
     "name": "stdout",
     "output_type": "stream",
     "text": [
      "\n",
      "\n",
      "\u001b[1m> Entering new AgentExecutor chain...\u001b[0m\n",
      "\u001b[32;1m\u001b[1;3m\n",
      "Invoking: `tavily_search` with `{'query': '윤택한 강사님', 'search_depth': 'basic'}`\n",
      "\n",
      "\n",
      "\u001b[0m\u001b[36;1m\u001b[1;3m{'query': '윤택한 강사님', 'follow_up_questions': None, 'answer': None, 'images': [], 'results': [{'url': 'https://m.blog.naver.com/xnosis01/223396234195', 'title': 'Hey, 파이썬! 생성형AI활용 앱 만들어 줘(김한호,최태온,윤택한)', 'content': '최태온 인공지능, 유니티 XR분야강의하십니다. 윤택한 인공지능강사시고 서울대 응용생물화학정공을 하셨습니다. 생성형AI가 나오기전에는 파이썬', 'score': 0.599087, 'raw_content': None}, {'url': 'https://mtvs.kr/user/lecturer/info/', 'title': '강사소개 - 메타버스 아카데미', 'content': \"Unity 공인인증강사 ('23~현재) Lab21 대표 ('12~현재) C#/Unity/XR 전문 교육 프로그램 및 대학교 정규/특별 강의 50회/3000시간 이상 강의. 강사윤택한. AI yth1133\", 'score': 0.57723385, 'raw_content': None}, {'url': 'https://www.instagram.com/p/CiyN1r_vUlF/', 'title': '오늘도 뛴다 #런데이15일차 #런데이 - Instagram', 'content': '#런데이. more. kmj64527. 반복과 연습으로 윤택한 ... more. kmj64527. 칭찬 ... @jiyeon_ssamv 박지연 강사님 고맙습니다. 중간중간 다른 쌤들의', 'score': 0.49699774, 'raw_content': None}, {'url': 'https://m.blog.naver.com/idxidxi/222017086875', 'title': '윤택한 법전원 첫학기를 위한 입학 전 선행학습 - 네이버 블로그', 'content': '본격적인 1순환까지 윤강사님 루트를 탄다면 더 편할거고요. 보통 10만원 안쪽의 여러 입문강의를 찾을 수 있습니다. 이런 식으로 기초강의를 꼭 먼저', 'score': 0.42634606, 'raw_content': None}, {'url': 'https://www.youtube.com/watch?v=7Y4V9I7cKSo', 'title': \"자연인에게 배운 '자연스러움'의 가치 | 윤택 방송인 | 세바시 1915회\", 'content': '강연 소개 : 31살의 나이에 사업 실패로 인한 7억 8천의 빚을 가진 채 대학로 연습생 생활을 시작했습니다. 어린 친구들의 무시와 배고픔을 견디고', 'score': 0.29945382, 'raw_content': None}], 'response_time': 0.91, 'request_id': '98110637-4abf-458c-9a47-41fc0812726c'}\u001b[0m\u001b[32;1m\u001b[1;3m윤택한 강사님은 서울대 응용생물화학정공을 전공하셨고, 인공지능 분야 강사로 활동 중입니다. Unity 공인인증강사이며 Lab21 대표로서 C#/Unity/XR 전문 교육 프로그램과 대학교 강의도 진행하고 있습니다. 생성형 AI와 파이썬 등 관련 분야 강의 경험이 있습니다.\u001b[0m\n",
      "\n",
      "\u001b[1m> Finished chain.\u001b[0m\n"
     ]
    }
   ],
   "source": [
    "result = executor.invoke({\"input\":\"윤택한 강사님에 대해 알려줘\"})"
   ]
  },
  {
   "cell_type": "code",
   "execution_count": null,
   "id": "c91be62c",
   "metadata": {},
   "outputs": [
    {
     "ename": "NameError",
     "evalue": "name 'Tav' is not defined",
     "output_type": "error",
     "traceback": [
      "\u001b[31m---------------------------------------------------------------------------\u001b[39m",
      "\u001b[31mNameError\u001b[39m                                 Traceback (most recent call last)",
      "\u001b[36mCell\u001b[39m\u001b[36m \u001b[39m\u001b[32mIn[9]\u001b[39m\u001b[32m, line 4\u001b[39m\n\u001b[32m      1\u001b[39m \u001b[38;5;28;01mfrom\u001b[39;00m\u001b[38;5;250m \u001b[39m\u001b[34;01mlangchain_community\u001b[39;00m\u001b[34;01m.\u001b[39;00m\u001b[34;01magent_toolkits\u001b[39;00m\u001b[38;5;250m \u001b[39m\u001b[38;5;28;01mimport\u001b[39;00m FileManagementToolkit\n\u001b[32m      2\u001b[39m file_tools = FileManagementToolkit()\n\u001b[32m----> \u001b[39m\u001b[32m4\u001b[39m tavily_search = \u001b[43mTav\u001b[49m\n",
      "\u001b[31mNameError\u001b[39m: name 'Tav' is not defined"
     ]
    }
   ],
   "source": [
    "from langchain_community.agent_toolkits import FileManagementToolkit\n",
    "file_tools = FileManagementToolkit()\n",
    "\n"
   ]
  }
 ],
 "metadata": {
  "kernelspec": {
   "display_name": "potenup_10",
   "language": "python",
   "name": "python3"
  },
  "language_info": {
   "codemirror_mode": {
    "name": "ipython",
    "version": 3
   },
   "file_extension": ".py",
   "mimetype": "text/x-python",
   "name": "python",
   "nbconvert_exporter": "python",
   "pygments_lexer": "ipython3",
   "version": "3.11.0"
  }
 },
 "nbformat": 4,
 "nbformat_minor": 5
}
