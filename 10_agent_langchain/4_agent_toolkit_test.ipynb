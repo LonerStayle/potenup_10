{
 "cells": [
  {
   "cell_type": "code",
   "execution_count": 1,
   "id": "4a2e0be5",
   "metadata": {},
   "outputs": [
    {
     "data": {
      "text/plain": [
       "True"
      ]
     },
     "execution_count": 1,
     "metadata": {},
     "output_type": "execute_result"
    }
   ],
   "source": [
    "from dotenv import load_dotenv\n",
    "load_dotenv()"
   ]
  },
  {
   "cell_type": "code",
   "execution_count": 2,
   "id": "be6af8d8",
   "metadata": {},
   "outputs": [
    {
     "name": "stderr",
     "output_type": "stream",
     "text": [
      "c:\\PythonProject\\potenup_10\\.venv\\Lib\\site-packages\\tqdm\\auto.py:21: TqdmWarning: IProgress not found. Please update jupyter and ipywidgets. See https://ipywidgets.readthedocs.io/en/stable/user_install.html\n",
      "  from .autonotebook import tqdm as notebook_tqdm\n"
     ]
    }
   ],
   "source": [
    "from langchain_openai import ChatOpenAI\n",
    "from langchain.agents import create_openai_tools_agent, AgentExecutor\n",
    "from langchain_core.prompts import ChatPromptTemplate\n",
    "from typing import List, Dict, Optional"
   ]
  },
  {
   "cell_type": "code",
   "execution_count": 3,
   "id": "fcc429f8",
   "metadata": {},
   "outputs": [
    {
     "ename": "PydanticUserError",
     "evalue": "Field 'description' defined on a base class was overridden by a non-annotated attribute. All field definitions, including overrides, require a type annotation.\n\nFor further information visit https://errors.pydantic.dev/2.12/u/model-field-overridden",
     "output_type": "error",
     "traceback": [
      "\u001b[31m---------------------------------------------------------------------------\u001b[39m",
      "\u001b[31mPydanticUserError\u001b[39m                         Traceback (most recent call last)",
      "\u001b[36mCell\u001b[39m\u001b[36m \u001b[39m\u001b[32mIn[3]\u001b[39m\u001b[32m, line 1\u001b[39m\n\u001b[32m----> \u001b[39m\u001b[32m1\u001b[39m \u001b[38;5;28;01mfrom\u001b[39;00m\u001b[38;5;250m \u001b[39m\u001b[34;01mdolmary_schedule_toolkit\u001b[39;00m\u001b[38;5;250m \u001b[39m\u001b[38;5;28;01mimport\u001b[39;00m DolmaryScheduleToolkit\n",
      "\u001b[36mFile \u001b[39m\u001b[32mc:\\PythonProject\\potenup_10\\10_agent_langchain\\dolmary_schedule_toolkit\\__init__.py:1\u001b[39m\n\u001b[32m----> \u001b[39m\u001b[32m1\u001b[39m \u001b[38;5;28;01mfrom\u001b[39;00m\u001b[38;5;250m \u001b[39m\u001b[34;01m.\u001b[39;00m\u001b[34;01mtoolkit\u001b[39;00m\u001b[38;5;250m \u001b[39m\u001b[38;5;28;01mimport\u001b[39;00m DolmaryScheduleToolkit\n\u001b[32m      2\u001b[39m \u001b[38;5;28;01mfrom\u001b[39;00m\u001b[38;5;250m \u001b[39m\u001b[34;01m.\u001b[39;00m\u001b[34;01mtools\u001b[39;00m\u001b[38;5;250m \u001b[39m\u001b[38;5;28;01mimport\u001b[39;00m AddToDoTool, ViewToDoTool\n\u001b[32m      4\u001b[39m __all__ = [\n\u001b[32m      5\u001b[39m     \u001b[33m\"\u001b[39m\u001b[33mDolmaryScheduleToolkit\u001b[39m\u001b[33m\"\u001b[39m,\n\u001b[32m      6\u001b[39m     \u001b[33m\"\u001b[39m\u001b[33mAddToDoTool\u001b[39m\u001b[33m\"\u001b[39m,\n\u001b[32m      7\u001b[39m     \u001b[33m\"\u001b[39m\u001b[33mViewToDoTool\u001b[39m\u001b[33m\"\u001b[39m\n\u001b[32m      8\u001b[39m ]\n",
      "\u001b[36mFile \u001b[39m\u001b[32mc:\\PythonProject\\potenup_10\\10_agent_langchain\\dolmary_schedule_toolkit\\toolkit.py:7\u001b[39m\n\u001b[32m      3\u001b[39m \u001b[38;5;28;01mfrom\u001b[39;00m\u001b[38;5;250m \u001b[39m\u001b[34;01mlangchain\u001b[39;00m\u001b[34;01m.\u001b[39;00m\u001b[34;01magents\u001b[39;00m\u001b[34;01m.\u001b[39;00m\u001b[34;01magent_toolkits\u001b[39;00m\u001b[34;01m.\u001b[39;00m\u001b[34;01mbase\u001b[39;00m\u001b[38;5;250m \u001b[39m\u001b[38;5;28;01mimport\u001b[39;00m BaseToolkit\n\u001b[32m      5\u001b[39m \u001b[38;5;66;03m# 여가에 만들 툴을을 등록\u001b[39;00m\n\u001b[32m      6\u001b[39m \u001b[38;5;66;03m# 새로운 도구 추가\u001b[39;00m\n\u001b[32m----> \u001b[39m\u001b[32m7\u001b[39m \u001b[38;5;28;01mfrom\u001b[39;00m\u001b[38;5;250m \u001b[39m\u001b[34;01m.\u001b[39;00m\u001b[34;01mtools\u001b[39;00m\u001b[38;5;250m \u001b[39m\u001b[38;5;28;01mimport\u001b[39;00m AddToDoTool, ViewToDoTool, ViewCompleteToDoTool, DeleteTool\n\u001b[32m     10\u001b[39m \u001b[38;5;28;01mclass\u001b[39;00m\u001b[38;5;250m \u001b[39m\u001b[34;01mDolmaryScheduleToolkit\u001b[39;00m(BaseToolkit):\n\u001b[32m     11\u001b[39m \u001b[38;5;250m    \u001b[39m\u001b[33;03m\"\"\"돌마리 운동회 스케쥴 관리를 위한 툴킷입니다\"\"\"\u001b[39;00m\n",
      "\u001b[36mFile \u001b[39m\u001b[32mc:\\PythonProject\\potenup_10\\10_agent_langchain\\dolmary_schedule_toolkit\\tools.py:49\u001b[39m\n\u001b[32m     45\u001b[39m         dol_complete_schedule = \u001b[33m\"\u001b[39m\u001b[38;5;130;01m\\n\u001b[39;00m\u001b[33m\"\u001b[39m.join(dol_complete_schedule)\n\u001b[32m     46\u001b[39m         \u001b[38;5;28;01mreturn\u001b[39;00m \u001b[33mf\u001b[39m\u001b[33m\"\u001b[39m\u001b[33m이미 완료한 스케쥴은 : \u001b[39m\u001b[38;5;132;01m{\u001b[39;00mdol_complete_schedule\u001b[38;5;132;01m}\u001b[39;00m\u001b[38;5;130;01m\\n\u001b[39;00m\u001b[33m입니다\u001b[39m\u001b[33m\"\u001b[39m\n\u001b[32m---> \u001b[39m\u001b[32m49\u001b[39m \u001b[38;5;28;43;01mclass\u001b[39;49;00m\u001b[38;5;250;43m \u001b[39;49m\u001b[34;43;01mDeleteTool\u001b[39;49;00m\u001b[43m(\u001b[49m\u001b[43mBaseTool\u001b[49m\u001b[43m)\u001b[49m\u001b[43m:\u001b[49m\n\u001b[32m     50\u001b[39m \u001b[43m    \u001b[49m\u001b[43mname\u001b[49m\u001b[43m \u001b[49m\u001b[43m:\u001b[49m\u001b[38;5;28;43mstr\u001b[39;49m\u001b[43m \u001b[49m\u001b[43m=\u001b[49m\u001b[43m \u001b[49m\u001b[33;43m\"\u001b[39;49m\u001b[33;43mdelete_todo\u001b[39;49m\u001b[33;43m\"\u001b[39;49m\n\u001b[32m     51\u001b[39m \u001b[43m    \u001b[49m\u001b[43mdescription\u001b[49m\u001b[43m \u001b[49m\u001b[43m=\u001b[49m\u001b[43m \u001b[49m\u001b[33;43m\"\u001b[39;49m\u001b[33;43m돌마리 스케쥴에 예정되었던 항목을 삭제합니다.\u001b[39;49m\u001b[33;43m\"\u001b[39;49m\n",
      "\u001b[36mFile \u001b[39m\u001b[32mc:\\PythonProject\\potenup_10\\.venv\\Lib\\site-packages\\pydantic\\_internal\\_model_construction.py:132\u001b[39m, in \u001b[36mModelMetaclass.__new__\u001b[39m\u001b[34m(mcs, cls_name, bases, namespace, __pydantic_generic_metadata__, __pydantic_reset_parent_namespace__, _create_model_module, **kwargs)\u001b[39m\n\u001b[32m    130\u001b[39m config_wrapper = ConfigWrapper.for_model(bases, namespace, raw_annotations, kwargs)\n\u001b[32m    131\u001b[39m namespace[\u001b[33m'\u001b[39m\u001b[33mmodel_config\u001b[39m\u001b[33m'\u001b[39m] = config_wrapper.config_dict\n\u001b[32m--> \u001b[39m\u001b[32m132\u001b[39m private_attributes = \u001b[43minspect_namespace\u001b[49m\u001b[43m(\u001b[49m\n\u001b[32m    133\u001b[39m \u001b[43m    \u001b[49m\u001b[43mnamespace\u001b[49m\u001b[43m,\u001b[49m\u001b[43m \u001b[49m\u001b[43mraw_annotations\u001b[49m\u001b[43m,\u001b[49m\u001b[43m \u001b[49m\u001b[43mconfig_wrapper\u001b[49m\u001b[43m.\u001b[49m\u001b[43mignored_types\u001b[49m\u001b[43m,\u001b[49m\u001b[43m \u001b[49m\u001b[43mclass_vars\u001b[49m\u001b[43m,\u001b[49m\u001b[43m \u001b[49m\u001b[43mbase_field_names\u001b[49m\n\u001b[32m    134\u001b[39m \u001b[43m\u001b[49m\u001b[43m)\u001b[49m\n\u001b[32m    135\u001b[39m \u001b[38;5;28;01mif\u001b[39;00m private_attributes \u001b[38;5;129;01mor\u001b[39;00m base_private_attributes:\n\u001b[32m    136\u001b[39m     original_model_post_init = get_model_post_init(namespace, bases)\n",
      "\u001b[36mFile \u001b[39m\u001b[32mc:\\PythonProject\\potenup_10\\.venv\\Lib\\site-packages\\pydantic\\_internal\\_model_construction.py:471\u001b[39m, in \u001b[36minspect_namespace\u001b[39m\u001b[34m(namespace, raw_annotations, ignored_types, base_class_vars, base_class_fields)\u001b[39m\n\u001b[32m    469\u001b[39m \u001b[38;5;28;01melif\u001b[39;00m var_name \u001b[38;5;129;01mnot\u001b[39;00m \u001b[38;5;129;01min\u001b[39;00m raw_annotations:\n\u001b[32m    470\u001b[39m     \u001b[38;5;28;01mif\u001b[39;00m var_name \u001b[38;5;129;01min\u001b[39;00m base_class_fields:\n\u001b[32m--> \u001b[39m\u001b[32m471\u001b[39m         \u001b[38;5;28;01mraise\u001b[39;00m PydanticUserError(\n\u001b[32m    472\u001b[39m             \u001b[33mf\u001b[39m\u001b[33m'\u001b[39m\u001b[33mField \u001b[39m\u001b[38;5;132;01m{\u001b[39;00mvar_name\u001b[38;5;132;01m!r}\u001b[39;00m\u001b[33m defined on a base class was overridden by a non-annotated attribute. \u001b[39m\u001b[33m'\u001b[39m\n\u001b[32m    473\u001b[39m             \u001b[33mf\u001b[39m\u001b[33m'\u001b[39m\u001b[33mAll field definitions, including overrides, require a type annotation.\u001b[39m\u001b[33m'\u001b[39m,\n\u001b[32m    474\u001b[39m             code=\u001b[33m'\u001b[39m\u001b[33mmodel-field-overridden\u001b[39m\u001b[33m'\u001b[39m,\n\u001b[32m    475\u001b[39m         )\n\u001b[32m    476\u001b[39m     \u001b[38;5;28;01melif\u001b[39;00m \u001b[38;5;28misinstance\u001b[39m(value, FieldInfo):\n\u001b[32m    477\u001b[39m         \u001b[38;5;28;01mraise\u001b[39;00m PydanticUserError(\n\u001b[32m    478\u001b[39m             \u001b[33mf\u001b[39m\u001b[33m'\u001b[39m\u001b[33mField \u001b[39m\u001b[38;5;132;01m{\u001b[39;00mvar_name\u001b[38;5;132;01m!r}\u001b[39;00m\u001b[33m requires a type annotation\u001b[39m\u001b[33m'\u001b[39m, code=\u001b[33m'\u001b[39m\u001b[33mmodel-field-missing-annotation\u001b[39m\u001b[33m'\u001b[39m\n\u001b[32m    479\u001b[39m         )\n",
      "\u001b[31mPydanticUserError\u001b[39m: Field 'description' defined on a base class was overridden by a non-annotated attribute. All field definitions, including overrides, require a type annotation.\n\nFor further information visit https://errors.pydantic.dev/2.12/u/model-field-overridden"
     ]
    }
   ],
   "source": [
    "from dolmary_schedule_toolkit import DolmaryScheduleToolkit"
   ]
  },
  {
   "cell_type": "code",
   "execution_count": null,
   "id": "0ca17891",
   "metadata": {},
   "outputs": [],
   "source": [
    "toolkits = DolmaryScheduleToolkit()\n",
    "tools = toolkits.get_tools()\n",
    "tools"
   ]
  },
  {
   "cell_type": "code",
   "execution_count": null,
   "id": "e3e78bcb",
   "metadata": {},
   "outputs": [],
   "source": [
    "model = ChatOpenAI(\n",
    "    model='gpt-4.1-mini',\n",
    "    temperature=0\n",
    ")\n",
    "\n",
    "prompt = ChatPromptTemplate.from_messages([\n",
    "        (\"system\", \"너는 돌마리 스케쥴을 관리하는 AI 비서야. 주어지는 도구를 잘 활용해서 사용자의 요청에 답하도록 해\"),\n",
    "        (\"placeholder\", \"{history}\"),\n",
    "        (\"human\", \"{question}\"),\n",
    "        (\"placeholder\", \"{agent_scratchpad}\")\n",
    "    ])\n",
    "\n",
    "agent = create_openai_tools_agent(\n",
    "    llm = model, \n",
    "    tools = tools,\n",
    "    prompt = prompt,\n",
    ")\n",
    "\n",
    "executor = AgentExecutor(\n",
    "    agent = agent,\n",
    "    tools = tools, \n",
    "    verbose= True\n",
    ")"
   ]
  },
  {
   "cell_type": "code",
   "execution_count": null,
   "id": "c1c23955",
   "metadata": {},
   "outputs": [],
   "source": [
    "from typing import Dict\n",
    "from langchain_core.chat_history import InMemoryChatMessageHistory\n",
    "from langchain_community.chat_message_histories import ChatMessageHistory\n",
    "from langchain_core.runnables.history import RunnableWithMessageHistory\n",
    "\n",
    "stores: Dict[str, InMemoryChatMessageHistory] = {}\n",
    "def get_store(session_id:str):\n",
    "    if session_id not in stores:\n",
    "        stores[session_id] = InMemoryChatMessageHistory()\n",
    "    return stores[session_id]\n",
    "\n",
    "agent_history = RunnableWithMessageHistory(\n",
    "    executor,\n",
    "    lambda session_id : get_store(session_id),\n",
    "    input_messages_key= \"question\",\n",
    "    history_messages_key=\"history\"\n",
    ")"
   ]
  },
  {
   "cell_type": "code",
   "execution_count": null,
   "id": "294195f0",
   "metadata": {},
   "outputs": [],
   "source": [
    "cfg = {\"configurable\":{\"session_id\":\"user-123\"}}\n",
    "agent_history.invoke({\n",
    "    \"question\" : \"오늘 돌마리 운동회 12시 30분에 파워댄스 일정 등록해줘\"\n",
    "},config = cfg)"
   ]
  },
  {
   "cell_type": "code",
   "execution_count": null,
   "id": "921af58e",
   "metadata": {},
   "outputs": [],
   "source": [
    "agent_history.invoke({\n",
    "    \"question\" : \"돌마리 스케쥴 전체 보여줘\"\n",
    "},config = cfg)"
   ]
  },
  {
   "cell_type": "code",
   "execution_count": null,
   "id": "c191594e",
   "metadata": {},
   "outputs": [],
   "source": []
  }
 ],
 "metadata": {
  "kernelspec": {
   "display_name": "potenup_10",
   "language": "python",
   "name": "python3"
  },
  "language_info": {
   "codemirror_mode": {
    "name": "ipython",
    "version": 3
   },
   "file_extension": ".py",
   "mimetype": "text/x-python",
   "name": "python",
   "nbconvert_exporter": "python",
   "pygments_lexer": "ipython3",
   "version": "3.11.0"
  }
 },
 "nbformat": 4,
 "nbformat_minor": 5
}
