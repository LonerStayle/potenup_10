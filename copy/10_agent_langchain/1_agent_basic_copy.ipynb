{
 "cells": [
  {
   "cell_type": "code",
   "execution_count": 28,
   "id": "f7c4d5aa",
   "metadata": {},
   "outputs": [],
   "source": [
    "from dotenv import load_dotenv\n",
    "import os\n",
    "\n",
    "load_dotenv()\n",
    "project_name = \"wanted_2nd_agent_basic\"\n",
    "os.environ[\"LANGSMITH_PROJECT\"] = project_name"
   ]
  },
  {
   "cell_type": "code",
   "execution_count": 29,
   "id": "d59fe878",
   "metadata": {},
   "outputs": [],
   "source": [
    "from langchain_openai import ChatOpenAI\n",
    "from langchain.agents import create_openai_tools_agent, AgentExecutor\n",
    "from langchain_core.prompts import ChatPromptTemplate\n",
    "from langchain_tavily import TavilySearch"
   ]
  },
  {
   "cell_type": "code",
   "execution_count": 30,
   "id": "2919d58f",
   "metadata": {},
   "outputs": [],
   "source": [
    "llm = ChatOpenAI(model=\"gpt-4.1-mini\", temperature=0)\n",
    "\n",
    "prompt = ChatPromptTemplate.from_messages([\n",
    "    (\"system\", \"너는 툴만 사용해서 사실을 확인하고 한국어로 간단하게 답한다\"),\n",
    "    (\"human\", \"{input}\"),\n",
    "    (\"placeholder\", \"{agent_scratchpad}\")\n",
    "])\n",
    "tavily_search = TavilySearch()\n",
    "agent = create_openai_tools_agent(\n",
    "    llm = llm,\n",
    "    tools = [tavily_search],\n",
    "    prompt = prompt\n",
    ")\n",
    "\n",
    "executor = AgentExecutor(\n",
    "    agent=agent,\n",
    "    tools = [tavily_search],\n",
    "    verbose=True\n",
    ")"
   ]
  },
  {
   "cell_type": "code",
   "execution_count": 31,
   "id": "9387cdfe",
   "metadata": {},
   "outputs": [
    {
     "name": "stdout",
     "output_type": "stream",
     "text": [
      "\n",
      "\n",
      "\u001b[1m> Entering new AgentExecutor chain...\u001b[0m\n",
      "\u001b[32;1m\u001b[1;3m\n",
      "Invoking: `tavily_search` with `{'query': '서울 오늘 주요 뉴스', 'time_range': 'day', 'topic': 'news'}`\n",
      "\n",
      "\n",
      "\u001b[0m\u001b[36;1m\u001b[1;3m{'query': '서울 오늘 주요 뉴스', 'follow_up_questions': None, 'answer': None, 'images': [], 'results': [{'url': 'https://www.tradingview.com/news/reuters.com,2025:newsml_L2N3VX03J:0-news-overload-splits-markets/', 'title': 'News overload splits markets - TradingView', 'score': 0.24706931, 'published_date': 'Thu, 16 Oct 2025 04:30:00 GMT', 'content': '# News overload splits markets A look at the day ahead in European and global markets from Kevin Buckland Stock markets are rallying around Asia on Thursday, with bourses from Taipei to Seoul and Sydney climbing to fresh all-time peaks. The latest bullish signal came from Dutch semiconductor equipment maker ASML ASML, with third-quarter bookings beating market forecasts on Wednesday. President Donald Trump declared they are \"in a trade war\" late on Wednesday, even as his Treasury and trade chiefs offered some hopes for de-escalation. Market tug-of-wars like this create an intrinsic tension, and raise the risk of something - or several things - snapping back. Key developments that could influence markets on Thursday: ## More news from Reuters', 'raw_content': None}, {'url': 'https://www.cbsnews.com/chicago/video/mayor-johnson-to-present-budget-proposal/', 'title': 'Mayor Johnson to present budget proposal - CBS News', 'score': 0.14607534, 'published_date': 'Thu, 16 Oct 2025 10:52:00 GMT', 'content': \"livelive: CBS News Baltimore### CBS News Bay Area: Local News, Weather & More livelive: CBS News Bay Area### CBS News Boston: Local News, Weather & More livelive: CBS News Boston### CBS News Chicago: Local News, Weather & More livelive: CBS News Chicago### CBS News Colorado: Local News, Weather & More 00:217h ago### Expect areas of fog overnight in Chicago 00:2611h ago### Suspect in Walmart shooting in Evergreen Park in custody 02:0511h ago### Here’s when Chicago area can expect more rain 02:4712h ago### 2 shot in Evergreen Park Walmart, suspect in custody 03:5513h ago### Car wanted in connection to Evergreen Park shooting found in Chicago 00:3613h ago### Chicago inspector general calls for firing of Mayor Brandon Johnson's top aide 02:3412h ago\", 'raw_content': None}, {'url': 'https://www.cbsnews.com/texas/video/tax-extension-deadline-still-stands-despite-government-shutdown/', 'title': 'Tax extension deadline still stands despite government shutdown - CBS News', 'score': 0.13710469, 'published_date': 'Thu, 16 Oct 2025 01:39:00 GMT', 'content': '02:392h ago### Dallas police investigating disturbing video of dog being beaten 02:022h ago### Cooler stretch of weather on the way to North Texas 02:499h ago### Democratic Rep. Gina Hinojosa announces run for Texas governor 04:1913h ago### Ideal dog walking weather in North Texas on Wednesday 00:2122h ago### Audit reveals years of neglected cases at North Texas police department 22:10Sept 26, 2025### Democratic Texas Rep. on Dallas ICE shooting, redistricting maps court battle 16:34Sept 26, 2025### Democratic Texas U.S. Rep. on Dallas ICE shooting, pending government shutdown ## Eat See Play 00:30Jul 18, 2025### Eat See Play: Gllow Dallas 01:26Sept 7, 2023### Eat See Play at Rooftop Cinema Club 00:30Sept 15, 2022### Eat See Play: Dallas Silk Art', 'raw_content': None}, {'url': 'https://www.newsweek.com/sports/nfl/packers-wr-drawing-trade-interest-from-at-least-5-teams-report-10886998', 'title': 'Packers WR Drawing Trade Interest From ‘at Least’ 5 Teams: Report - Newsweek', 'score': 0.12658015, 'published_date': 'Thu, 16 Oct 2025 03:20:00 GMT', 'content': \"* Russia-UkraineMiddle EastChina And AsiaBetter PlanetAll World News * My TurnAll Opinion * Rankings HealthFinanceProductsEducationWorkplacesCorporate ResponsibilityAll Rankings UnconventionalEventsPodcastsVantageReaders ChoiceNewsweek.AI News Article **More Football:** Tua Tagovailoa Issues Public Apology to Dolphins Teammates At least 5 teams have over the last 2 weeks I'm told.” Request Reprint & LicensingView Editorial & AI Guidelines NewsTrump Administration to Continue Paying FBI Amid Government Shutdown NewsSupreme Court Appears Poised to Allow GOP to Eliminate Democrat House Seats H-1B Visas H-1B Visa Holders Handed Major Win by Supreme Court ## Opinion OpinionThe Shutdown Is Going Better Than Democrats Expected. | Opinion OpinionTrump Drags Middle East Toward Peace—Maybe | Opinion OpinionMore Days Go By, More Bribes for Trump | Opinion OpinionCommonsense Controls Are Needed for Legal Advertising | Opinion\", 'raw_content': None}, {'url': 'https://www.thestandard.com.hk/china-news/article/314309/AI-boom-delivers-record-net-profit-for-Taiwans-TSMC', 'title': \"AI boom delivers record net profit for Taiwan's TSMC - The Standard (HK)\", 'score': 0.1204908, 'published_date': 'Thu, 16 Oct 2025 09:02:09 GMT', 'content': \"Business & InnovationArts & LifestyleBrain Teaser News NEWS CHINA NEWS # AI boom delivers record net profit for Taiwan's TSMC CHINA NEWS Top News WORLD NEWS Trump, after India pledge, says China is next target in push to curb Russian oil WORLD NEWS South Korean presidential policy chief says 'optimistic' about US tariff talks WORLD NEWS CHINA NEWS JPMorgan, Goldman Sachs stay in China but businesses shift WORLD NEWS WORLD NEWS WORLD NEWS Arrested US adviser on India to contest allegations in documents case, lawyers say CHINA NEWS HONG KONG NEWS HONG KONG NEWS HONG KONG NEWS Privacy Policy Statement Print Advertising Digital Advertising Copyright © 2025The Standard - A division of Sing Tao News Corporation Limited.\", 'raw_content': None}], 'response_time': 0.0, 'request_id': 'f641b8e9-0dbd-4463-9b06-c48c08ed9d23'}\u001b[0m\u001b[32;1m\u001b[1;3m오늘 서울 주요 뉴스 3가지는 다음과 같습니다:\n",
      "1. 아시아 증시가 강세를 보이며 서울 증시도 상승세를 기록 중입니다.\n",
      "2. 서울 관련 구체적인 사건이나 정책 뉴스는 이번 검색 결과에 포함되지 않았습니다.\n",
      "3. 글로벌 및 아시아 경제 동향이 서울 시장에 영향을 미치고 있습니다.\n",
      "\n",
      "서울의 구체적인 오늘 뉴스는 추가 검색이 필요합니다.\u001b[0m\n",
      "\n",
      "\u001b[1m> Finished chain.\u001b[0m\n"
     ]
    }
   ],
   "source": [
    "result = executor.invoke({\"input\":\"서울의 오늘 주요 뉴스 3개 요약해줘\"})"
   ]
  },
  {
   "cell_type": "code",
   "execution_count": 32,
   "id": "1f09a2e7",
   "metadata": {},
   "outputs": [
    {
     "name": "stdout",
     "output_type": "stream",
     "text": [
      "\n",
      "\n",
      "\u001b[1m> Entering new AgentExecutor chain...\u001b[0m\n",
      "\u001b[32;1m\u001b[1;3m\n",
      "Invoking: `tavily_search` with `{'query': '석촌역 맛집', 'search_depth': 'basic'}`\n",
      "\n",
      "\n",
      "\u001b[0m\u001b[36;1m\u001b[1;3m{'query': '석촌역 맛집', 'follow_up_questions': None, 'answer': None, 'images': [], 'results': [{'url': 'https://www.tripadvisor.co.kr/RestaurantsNear-g2024873-d9579729-Seokchon-Seongnam_Gyeonggi_do.html', 'title': '성남 석촌 역 근처 맛집 Best 10 - Tripadvisor - 트립어드바이저', 'content': '석촌 역 근처 맛집 · 1. 미오. 5.0. (74건의 리뷰). 일본식 퓨전$$$$ · 2. 바이킹스워프 롯데월드몰점. 4.5. (219건의 리뷰) · 3. 라티튜드32. 5.0. (91건의 리뷰) · 4.', 'score': 0.87706697, 'raw_content': None}, {'url': 'https://www.diningcode.com/list.dc?query=%EC%84%9D%EC%B4%8C%EC%97%AD%20%EA%B0%80%EC%84%B1%EB%B9%84%EC%A2%8B%EC%9D%80', 'title': '석촌역 가성비좋은 맛집 Top100 - 다이닝코드', 'content': '석촌역 가성비좋은맛집 (111곳) · 1. 단디 송리단길 · 2. 이랑칼국수 석촌역 · 3. 우프 잠실 · 4. 완도산회 포장마차 송파직영점 · 5. 옛촌매운갈비찜 석촌역 · 6. 수작', 'score': 0.8585411, 'raw_content': None}, {'url': 'https://www.diningcode.com/list.dc?query=%EC%84%9D%EC%B4%8C%EC%97%AD', 'title': '석촌역 맛집 Top100 - 다이닝코드', 'content': '석촌역맛집 (537곳) · 1. 단디 송리단길 · 2. 다운타우너 잠실 · 3. 엘리스 리틀 이태리 송리단길 · 4. 아웃백 잠실점 · 5. 진지아 송리단길 · 6. 제주 은희네해장국 잠실.', 'score': 0.85509074, 'raw_content': None}, {'url': 'https://wirbel.tistory.com/tag/%EC%84%9D%EC%B4%8C%EC%97%AD%EB%A7%9B%EC%A7%91', 'title': \"'석촌역맛집' 태그의 글 목록\", 'content': '석촌역맛집42. [석촌역카페] 필앳홈 송리단길본점 - 망고빙수! 석촌역 맛집 필앳홈 송리단길본점은 2023년 5월에 개업했고용리단길점은 2024년 12월에 개업했습니다.', 'score': 0.8386933, 'raw_content': None}, {'url': 'https://www.siksinhot.com/search?keywords=%EC%84%9D%EC%B4%8C%EC%97%AD%20%EB%A7%9B%EC%A7%91', 'title': '석촌역 맛집 맛집 인기검색 순위 - 식신', 'content': '석촌역 맛집 맛집 인기검색 순위 · 석촌 · 석촌오리 · 석촌해물칼국수 · 석촌호민물장어 · 호석촌 · 역촌역양꼬치 · 그릴킹석촌점 · 석산정. 3.9 · 을지로', 'score': 0.8302782, 'raw_content': None}], 'response_time': 1.04, 'request_id': '76702dd8-6465-4d91-8cb4-95944333a7c7'}\u001b[0m\u001b[32;1m\u001b[1;3m석촌역 근처 맛집 5곳은 다음과 같습니다.\n",
      "1. 미오 (일본식 퓨전)\n",
      "2. 바이킹스워프 롯데월드몰점\n",
      "3. 라티튜드32\n",
      "4. 단디 송리단길\n",
      "5. 이랑칼국수 석촌역\n",
      "\n",
      "더 자세한 정보가 필요하면 알려주세요.\u001b[0m\n",
      "\n",
      "\u001b[1m> Finished chain.\u001b[0m\n"
     ]
    }
   ],
   "source": [
    "result = executor.invoke({\"input\":\"석촌역에 맛집 5개 찾아줘\"})"
   ]
  },
  {
   "cell_type": "code",
   "execution_count": 33,
   "id": "5ac8ae9c",
   "metadata": {},
   "outputs": [
    {
     "data": {
      "text/plain": [
       "[CopyFileTool(root_dir='../10_agent_result'),\n",
       " DeleteFileTool(root_dir='../10_agent_result'),\n",
       " FileSearchTool(root_dir='../10_agent_result'),\n",
       " MoveFileTool(root_dir='../10_agent_result'),\n",
       " ReadFileTool(root_dir='../10_agent_result'),\n",
       " WriteFileTool(root_dir='../10_agent_result'),\n",
       " ListDirectoryTool(root_dir='../10_agent_result')]"
      ]
     },
     "execution_count": 33,
     "metadata": {},
     "output_type": "execute_result"
    }
   ],
   "source": [
    "from langchain_community.agent_toolkits import FileManagementToolkit\n",
    "root_dir = \"../10_agent_result\"\n",
    "file_tools = FileManagementToolkit(root_dir=root_dir).get_tools()\n",
    "file_tools"
   ]
  },
  {
   "cell_type": "code",
   "execution_count": 34,
   "id": "e3336950",
   "metadata": {},
   "outputs": [],
   "source": [
    "tavily_search = TavilySearch(max_results=5)"
   ]
  },
  {
   "cell_type": "code",
   "execution_count": 35,
   "id": "b5d6849c",
   "metadata": {},
   "outputs": [
    {
     "data": {
      "text/plain": [
       "[CopyFileTool(root_dir='../10_agent_result'),\n",
       " DeleteFileTool(root_dir='../10_agent_result'),\n",
       " FileSearchTool(root_dir='../10_agent_result'),\n",
       " MoveFileTool(root_dir='../10_agent_result'),\n",
       " ReadFileTool(root_dir='../10_agent_result'),\n",
       " WriteFileTool(root_dir='../10_agent_result'),\n",
       " ListDirectoryTool(root_dir='../10_agent_result'),\n",
       " TavilySearch(max_results=5, api_wrapper=TavilySearchAPIWrapper(tavily_api_key=SecretStr('**********'), api_base_url=None))]"
      ]
     },
     "execution_count": 35,
     "metadata": {},
     "output_type": "execute_result"
    }
   ],
   "source": [
    "total_tool = file_tools + [tavily_search]\n",
    "total_tool"
   ]
  },
  {
   "cell_type": "code",
   "execution_count": 36,
   "id": "3e5efcb8",
   "metadata": {},
   "outputs": [],
   "source": [
    "# 시스템 프롬프트 설정하기\n",
    "SYSTEM_PROMPT = \"\"\"\n",
    "너는 '파일 시스템 툴'과 '웹검색 툴'만을 사용하는 어시스턴트야\n",
    "\n",
    "[규칙]\n",
    "1. 최신 뉴스/링크는 Tavily로 검색한다\n",
    "2. 사용자가 csv 파일로 저장을 요청하면, 다음 필드 헤더로 csv 를 만든다\n",
    "    date, query, title, url, source, snippet\n",
    "3. 파일명은 {YYYYMMDD}.csv 로 저장한다\n",
    "4. 같은 파일명이 있다면, 덮어 쓰지말고 기존 내용을 읽어서 헤더를 유지한채 이어 붙여서 저장한다\n",
    "5. 저장한 뒤에 내용을 확인해서 가장 아래 5줄 정도 정보를 출력한다\n",
    "\n",
    "모든 답변은 한국어로 간결하게 해라\n",
    "\"\"\""
   ]
  },
  {
   "cell_type": "code",
   "execution_count": 37,
   "id": "53d49305",
   "metadata": {},
   "outputs": [],
   "source": [
    "from datetime import datetime\n",
    "\n",
    "def get_today():\n",
    "    return datetime.now().strftime(\"%Y%m%d\")"
   ]
  },
  {
   "cell_type": "code",
   "execution_count": 38,
   "id": "54a24d54",
   "metadata": {},
   "outputs": [
    {
     "data": {
      "text/plain": [
       "'20251017'"
      ]
     },
     "execution_count": 38,
     "metadata": {},
     "output_type": "execute_result"
    }
   ],
   "source": [
    "get_today()"
   ]
  },
  {
   "cell_type": "code",
   "execution_count": 39,
   "id": "a1e2db24",
   "metadata": {},
   "outputs": [],
   "source": [
    "llm = ChatOpenAI(\n",
    "    model=\"gpt-4.1-mini\",\n",
    "    temperature=0\n",
    ")\n",
    "\n",
    "prompt = ChatPromptTemplate.from_messages([\n",
    "    (\"system\", SYSTEM_PROMPT),\n",
    "    (\"human\",\"{input}\"),\n",
    "    (\"placeholder\",\"{agent_scratchpad}\")\n",
    "])\n",
    "\n",
    "agent = create_openai_tools_agent(\n",
    "    llm = llm,\n",
    "    tools =total_tool,\n",
    "    prompt = prompt\n",
    ")\n",
    "\n",
    "executor = AgentExecutor(\n",
    "    agent=agent,\n",
    "    tools = total_tool,\n",
    "    verbose=True\n",
    ")"
   ]
  },
  {
   "cell_type": "code",
   "execution_count": 40,
   "id": "a2bf8372",
   "metadata": {},
   "outputs": [
    {
     "name": "stdout",
     "output_type": "stream",
     "text": [
      "\n",
      "\n",
      "\u001b[1m> Entering new AgentExecutor chain...\u001b[0m\n",
      "\u001b[32;1m\u001b[1;3m\n",
      "Invoking: `tavily_search` with `{'query': 'AI', 'time_range': 'day', 'topic': 'general', 'search_depth': 'basic'}`\n",
      "\n",
      "\n",
      "\u001b[0m\u001b[33;1m\u001b[1;3m{'query': 'AI', 'follow_up_questions': None, 'answer': None, 'images': [], 'results': [{'url': 'https://www.wired.com/story/the-ai-industrys-scaling-obsession-is-headed-for-a-cliff/', 'title': \"The AI Industry's Scaling Obsession Is Headed for a Cliff | WIRED\", 'content': 'A new study from MIT suggests the biggest and most computationally intensive AI models may soon offer diminishing returns compared to smaller models. Leaps in efficiency, like those seen with DeepSeek’s remarkably low-cost model in January, have already served as a reality check for the AI industry, which is accustomed to burning massive amounts of compute. While the MIT team’s prediction might not hold if, for example, new training methods like reinforcement learning produce surprising new results, they suggest that big AI firms will have less of an edge in the future. OpenAI and other US tech firms have signed hundred-billion-dollar deals to build AI infrastructure in the United States.', 'score': 0.3396748, 'raw_content': None}, {'url': 'https://berthub.eu/articles/posts/an-ai-premortem/', 'title': \"The AI-collapse pre-mortem - Bert Hubert's writings\", 'content': 'Meanwhile, the other parts of AI have already led to a Nobel prize, and are doing astounding things for translation, transcription and image analysis. The AI', 'score': 0.2506701, 'raw_content': None}, {'url': 'https://ai.upenn.edu/', 'title': 'Penn AI: Home', 'content': \"Generative AI # Exploring New Frontiers in **AI** at Penn ## The Latest in AI @ Penn ## AI @ Penn Researchers across Penn are building the foundations and developing new applications of AI to accelerate advancements in engineering, society, health, science, business, and more. Explore AI @ Penn AI Foundations  Penn researchers are exploring why AI methods work when they do, why they fail, and discovering the fundamental principles that will enable the next generation of AI algorithms. AI + Society  Penn researchers are building trustworthy algorithms, evaluating AI's societal impact, and using AI to help understand the evolution of the human condition. AI + Health  AI + Science  ## AI Education @ Penn Learn About AI Education\", 'score': 0.22937156, 'raw_content': None}, {'url': 'https://readdy.ai/', 'title': 'Readdy: Build websites that stand out | AI Website Builder', 'content': \"Readdy's free Japanese Restaurant Website Template offers a beautifully designed and easy-to-customize online presence for your restaurant. Readdy's free custom cake shop website template makes it easy to showcase your delicious creations and grow your business online. Built with Readdy AI's intuitive drag-and-drop builder, you can quickly personalize the Lumi template with your own branding, images, and text to create a professional website that attracts new patients and strengthens your online presence. Readdy's free auto repair website template makes it easy to build a professional online presence for your garage. Readdy's free Architecture Studio Website Template offers a sophisticated and modern platform to showcase your architectural designs and connect with potential clients.\", 'score': 0.21895353, 'raw_content': None}, {'url': 'https://www.ft.com/content/59baba74-c039-4fa7-9d63-b14f8b2bb9e2', 'title': \"'Of course it's a bubble': AI start-up valuations soar in investor frenzy\", 'content': '[](https://www.ft.com/ \"Go to Financial Times homepage\") *   [Home](https://www.ft.com/) *   [World](https://www.ft.com/world) *   [US](https://www.ft.com/us) *   [Europe](https://www.ft.com/europe) *   [US](https://www.ft.com/us) *   [US Home](https://www.ft.com/us) *   [US Economy](https://www.ft.com/us-economy) *   [US Companies](https://www.ft.com/us-companies) *   [Companies](https://www.ft.com/companies) *   [Financials](https://www.ft.com/financials) *   [Tech](https://www.ft.com/technology) *   [Markets](https://www.ft.com/markets) *   [Opinion](https://www.ft.com/opinion) *   [Opinion Home](https://www.ft.com/opinion) *   [The Big Read](https://www.ft.com/the-big-read) *   [Working It](https://www.ft.com/working-it) *   [Arts](https://www.ft.com/arts) *   [Home](https://www.ft.com/) *   [World](https://www.ft.com/world) *   [US](https://www.ft.com/us) *   [Companies](https://www.ft.com/companies) *   [Tech](https://www.ft.com/technology) *   [Markets](https://www.ft.com/markets) *   [Opinion](https://www.ft.com/opinion) [Share News Tips Securely](https://www.ft.com/securedrop)[Individual Subscriptions](https://www.ft.com/products)[Professional Subscriptions](https://professional.ft.com/en-gb/services/professional-subscriptions?segmentId=383c7f[%E2%80%A6]4-b62d-cb33-4c278e6fdf61&cpccampaign=B2B_link_ft.com_footer)[Republishing](https://professional.ft.com/en-gb/services/republishing/)[Executive Job Search](https://www.exec-appointments.com/)[Advertise with the FT](https://commercial.ft.com/)[Follow the FT on X](https://twitter.com/ft)[FT Channels](https://channels.ft.com/)[FT Schools](https://enterprise.ft.com/en-gb/services/group-subscriptions/secondary-education/) [Subscribe for full access](https://www.ft.com/products?segmentId=4526c036-7527-ab37-9a29-0b0403fa0b5f) *   [Home](https://www.ft.com/) *   [US](https://www.ft.com/us) *   [Europe](https://www.ft.com/europe) *   [US](https://www.ft.com/us)Show more US  *   [US Economy](https://www.ft.com/us-economy) *   [US Companies](https://www.ft.com/us-companies) *   [Financials](https://www.ft.com/financials) *   [Opinion](https://www.ft.com/opinion)Show more Opinion  *   [The Big Read](https://www.ft.com/the-big-read) *   [Working It](https://www.ft.com/working-it) *   [Arts](https://www.ft.com/arts) *   [Banking & Savings](https://www.ft.com/banking-savings) *   [Newsletters](https://www.ft.com/newsletters) *   [myFT](https://www.ft.com/myft)', 'score': 0.2030118, 'raw_content': None}], 'response_time': 1.4, 'request_id': '4ec5c505-178d-4a53-8fb7-7e6184743dcd'}\u001b[0m\u001b[32;1m\u001b[1;3m오늘 AI 관련 최신 뉴스 5개 요약입니다.\n",
      "\n",
      "1. MIT 연구에 따르면, 대형 AI 모델은 곧 효율성 측면에서 작은 모델에 비해 수익 감소가 예상되며, OpenAI 등 미국 대형 AI 기업들은 인프라 구축에 수백억 달러를 투자 중입니다. (WIRED)\n",
      "\n",
      "2. AI는 이미 노벨상 수상 분야에 기여하며 번역, 전사, 이미지 분석 등에서 놀라운 성과를 내고 있습니다. (Bert Hubert's writings)\n",
      "\n",
      "3. 펜실베니아 대학 연구진은 AI의 근본 원리와 사회적 영향, 건강 및 과학 분야에서 AI 응용을 활발히 연구 중입니다. (Penn AI)\n",
      "\n",
      "4. Readdy AI는 직관적인 드래그 앤 드롭 빌더로 다양한 업종의 맞춤형 웹사이트를 쉽게 제작할 수 있는 AI 웹사이트 빌더를 제공합니다. (Readdy)\n",
      "\n",
      "5. AI 스타트업들의 기업 가치가 투자자 열풍으로 급등하고 있으며, 일각에서는 거품 우려도 제기되고 있습니다. (Financial Times)\n",
      "\n",
      "더 필요하면 알려주세요.\u001b[0m\n",
      "\n",
      "\u001b[1m> Finished chain.\u001b[0m\n",
      "{'input': '오늘 AI 관련 뉴스 최신 5개만 요약해줘', 'YYYYMMDD': '20251017', 'output': \"오늘 AI 관련 최신 뉴스 5개 요약입니다.\\n\\n1. MIT 연구에 따르면, 대형 AI 모델은 곧 효율성 측면에서 작은 모델에 비해 수익 감소가 예상되며, OpenAI 등 미국 대형 AI 기업들은 인프라 구축에 수백억 달러를 투자 중입니다. (WIRED)\\n\\n2. AI는 이미 노벨상 수상 분야에 기여하며 번역, 전사, 이미지 분석 등에서 놀라운 성과를 내고 있습니다. (Bert Hubert's writings)\\n\\n3. 펜실베니아 대학 연구진은 AI의 근본 원리와 사회적 영향, 건강 및 과학 분야에서 AI 응용을 활발히 연구 중입니다. (Penn AI)\\n\\n4. Readdy AI는 직관적인 드래그 앤 드롭 빌더로 다양한 업종의 맞춤형 웹사이트를 쉽게 제작할 수 있는 AI 웹사이트 빌더를 제공합니다. (Readdy)\\n\\n5. AI 스타트업들의 기업 가치가 투자자 열풍으로 급등하고 있으며, 일각에서는 거품 우려도 제기되고 있습니다. (Financial Times)\\n\\n더 필요하면 알려주세요.\"}\n"
     ]
    }
   ],
   "source": [
    "result = executor.invoke(\n",
    "    {\"input\": \"오늘 AI 관련 뉴스 최신 5개만 요약해줘\", \"YYYYMMDD\": get_today()}\n",
    ")\n",
    "print(result)"
   ]
  },
  {
   "cell_type": "code",
   "execution_count": 41,
   "id": "040eaa18",
   "metadata": {},
   "outputs": [
    {
     "name": "stdout",
     "output_type": "stream",
     "text": [
      "\n",
      "\n",
      "\u001b[1m> Entering new AgentExecutor chain...\u001b[0m\n",
      "\u001b[32;1m\u001b[1;3m\n",
      "Invoking: `tavily_search` with `{'query': 'AI 최신 뉴스', 'search_depth': 'advanced', 'time_range': 'day', 'topic': 'news'}`\n",
      "\n",
      "\n",
      "\u001b[0m\u001b[33;1m\u001b[1;3m{'query': 'AI 최신 뉴스', 'follow_up_questions': None, 'answer': None, 'images': [], 'results': [{'url': 'https://analyticsindiamag.com/ai-news-updates/matters-ai-raises-%E2%82%B955-cr-to-build-self-learning-ai-security-engineer/', 'title': 'Matters.AI Raises ₹55 Cr to Build Self-Learning ‘AI Security Engineer’ - Analytics India Magazine', 'score': 0.64719695, 'published_date': 'Thu, 16 Oct 2025 05:48:48 GMT', 'content': 'About us\\n Indian IT\\n Startups\\n AI News\\n\\nSign In\\n\\n \\n\\n Published on October 16, 2025\\n In   AI News\\n\\n# Matters.AI Raises ₹55 Cr to Build Self-Learning ‘AI Security Engineer’\\n\\n“The world doesn’t need another dashboard screaming alerts; it needs a system that can think,” Keshava Murthy said.\\n\\n By Merin Susan John [...] Microsoft Takes on Google’s Nano Banana and OpenAI’s GPT-Image-1 with New AI Model\\n\\nDon’t Miss the Next Big Shift in AI.\\n\\nGet one year subscription for ₹5999\\n\\nSubscribe Now\\n\\nLovable is Dying Again  \\n\\n“Every few months social media says Lovable is dying. I’m proud to announce we’re dying again.”\\n\\nCan Agentic AI Fix Enterprise Efficiency Where ERP Failed?  \\n\\n“ERP systems were built on rigid frameworks decades ago. They maintain data, but they don’t evolve with it.” [...] The 20-Year-Old Indian Prodigy Who Gave AI a Supermemory  \\n\\nSupermemory has attracted investments from Google AI chief Jeff Dean, Cloudflare CTO Dane Knecht and DeepMind’s Logan Kilpatrick, among others.\\n\\nWhere India’s Next AI Builders Are Learning  \\n\\nAI is changing how we work and how we learn.\\n\\nMegawatts Multiply Manpower in India’s Data Centre Boom  \\n\\nThe data centres will also generate an increasingly high demand for the underlying technology services that power the infrastructure.', 'raw_content': None}, {'url': 'https://www.wired.com/story/the-ai-industrys-scaling-obsession-is-headed-for-a-cliff/', 'title': 'The AI Industry’s Scaling Obsession Is Headed for a Cliff - WIRED', 'score': 0.5479727, 'published_date': 'Wed, 15 Oct 2025 18:00:00 GMT', 'content': 'OpenAI Sneezes, and Software Firms Catch a Cold\\n\\nOpenAI revealed last week the custom AI tools it uses internally. The news sent some software companies into turmoil.\\n\\nMeta Poaches OpenAI Scientist to Help Lead AI Lab\\n\\nYang Song, who previously led the strategic explorations team at OpenAI, is the new “research principal” of Meta Superintelligence Labs.\\n\\nMarissa Mayer Is Dissolving Her Sunshine Startup Lab [...] A new study from MIT suggests the biggest and most computationally intensive AI models may soon offer diminishing returns compared to smaller models. By mapping scaling laws against continued improvements in model efficiency, the researchers found that it could become harder to wring leaps in performance from giant models whereas efficiency gains could make models running on more modest hardware increasingly capable over the next decade. [...] A Former Apple Luminary Sets Out to Create the Ultimate GPU Software\\n\\nDemand for AI chips is booming—and so is the need for software to run them. Chris Lattner’s startup Modular just raised $250 million to build the best developer tools for AI hardware.\\n\\nOpenAI Teams Up With Oracle and SoftBank to Build 5 New Stargate Data Centers\\n\\nThe new sites will boost Stargate’s planned capacity to nearly 7 gigawatts—about equal to the output of seven large nuclear reactors.', 'raw_content': None}, {'url': 'https://www.startupecosystem.ca/news/meta-and-arm-partner-to-enhance-ai-infrastructure/', 'title': 'Meta and Arm Partner to Enhance AI Infrastructure - Startup Ecosystem Canada', 'score': 0.52685463, 'published_date': 'Wed, 15 Oct 2025 18:17:48 GMT', 'content': 'acquisition AI AI development AI infrastructure AI innovation AI integration AI investment AI models AI technology Anthropic Apple Artificial Intelligence Autonomous vehicles Canada founder news Canada startup news cryptocurrency Cybersecurity DeepSeek Electric Vehicles Elon Musk entrepreneurship fintech Funding round Generative AI Global founder news Global startup news healthcare innovation Innovation investment IPO Meta Microsoft Nvidia Ontario founder news Ontario startup news OpenAI Sam [...] AI systemsData centersGlobal startup newsInfrastructurePartnership\\n\\n## Story Coverage\\n\\ntechcrunch.com\\n\\n#### Meta partners up with Arm to scale AI efforts\\n\\nRead Full Article →\\n\\nfinance.yahoo.com\\n\\n#### Meta partners up with Arm to scale AI efforts - Yahoo Finance\\n\\nRead Full Article →\\n\\nproactiveinvestors.com\\n\\n#### Meta scales AI efforts with $1.5B Texas data center investment ...\\n\\nRead Full Article →\\n\\n### Stay in the know\\n\\nExplore valuable insights and practical tips through our curated News [...] ### Anker Innovations Unveils AI and Robotics Enhancements at IFA 2025\\n\\nStartup Eco System4 September 2025\\n\\n3 months ago Global Samsung Secures $16.5 Billion Contract to Produce Tesla’s A16 Chips\\n\\n### Samsung Secures $16.5 Billion Contract to Produce Tesla’s A16 Chips\\n\\nStartup Eco System28 July 2025\\n\\n Home\\n Events\\n Network\\n Partners\\n News\\n\\nSocial Media\\n\\n© 2025 Startup Ecosystem Canada. All Rights Reserved.', 'raw_content': None}, {'url': 'https://www.csoonline.com/article/4072868/58-of-cisos-are-boosting-ai-security-budgets.html', 'title': '58% of CISOs are boosting AI security budgets - csoonline.com', 'score': 0.46075046, 'published_date': 'Wed, 15 Oct 2025 20:36:30 GMT', 'content': \"Events promotion\\n\\nOct 15, 20253 mins\\n\\nArtificial IntelligenceNetwork SecuritySecurity Software\\n\\n## New research finds that AI-enabled cybersecurity is CISOs' top investment priority for the next 12 months, and it's easy to see why. AI is rapidly changing how security work gets done, from alert triage to prioritizing vulnerabilities and more. [...] Get started by entering your email address below.\\n\\n## Show me more\\n\\nevents promotion\\n\\n### 58% of CISOs are boosting AI security budgets\\n\\nBy Joan Goodchild for CSO events\\n\\nOct 15, 20253 mins\\n\\nArtificial IntelligenceNetwork SecuritySecurity Software\\n\\nnews\\n\\n### Source code and vulnerability info stolen from F5 Networks\\n\\nBy Howard Solomon\\n\\nOct 15, 20257 mins\\n\\nNetwork SecuritySecurityVulnerabilities\\n\\nbrandpost Sponsored by CyberNewsWire [...] Popular Topics\\n\\n Careers\\n Cybercrime\\n\\n Generative AI\\n\\n Spotlight: Security\\n Latest\\n Newsletters\\n Resources\\n Buyer’s Guides\\n Events\\n\\n## Topics\", 'raw_content': None}, {'url': 'https://www.bloomberg.com/news/articles/2025-10-15/ken-griffin-says-genai-fails-to-help-hedge-funds-produce-alpha', 'title': 'Griffin Says GenAI Fails to Help Hedge Funds Beat Markets - Bloomberg.com', 'score': 0.42276734, 'published_date': 'Wed, 15 Oct 2025 23:51:56 GMT', 'content': '### More From Bloomberg\\n\\nEx-Point72’s Oliver Briars Joins Hedge Fund LMR to Trade StocksHedge Fund Two Sigma Shutters $120 Million Legacy Eclipse FundAI Promises Productivity. It’s Delivering ‘Workslop.’Hedge Fund Pioneer Carlson Joins OG Peers in Revival PushKPMG Cuts 195 US Audit Staff in Fourth Layoff in Three Years\\n\\n### Top Reads\\n\\nAI’s Copyright War Could Be Its Undoing. Only the US Can End It.\\n\\nby Dave LeeWhat’s Your AI-dentity? [...] by Dave Lee, Parmy Olson, Catherine Thorbecke and Taylor TysonThe AI Future You Want Depends on These Questions\\n\\nby Dave Lee, Parmy Olson and Catherine ThorbeckeChina’s AI Dragons Must Survive ‘Involution’ to Conquer the World\\n\\nby Catherine Thorbecke\\n\\nHomeBTV+Market DataOpinionAudioOriginalsMagazineEvents\\n\\nMarketsEconomicsTechnologyPoliticsGreenCryptoAI\\n\\nWork & Life\\n\\nWealthPursuitsBusinessweekCityLabSportsEqualityManagement & Work\\n\\nMarket Data [...] The AI Race:\\n\\nBubble Fears\\n\\nCircular Deals\\n\\nRegulators Struggle\\n\\nUS Versus China\\n\\nSoaring Power Bills\\n\\nChina’s AI Desert Empire\\n\\nTechnology\\n\\n# Griffin Says GenAI Fails to Help Hedge Funds Beat Markets\\n\\nContact us:\\n\\nProvide news feedback or report an error\\n\\nConfidential tip?\\n\\nSend a tip to our reporters\\n\\nSite feedback:\\n\\nTake our Survey\\n\\nBy Hema Parmar\\n\\nUpdated on', 'raw_content': None}], 'response_time': 0.0, 'request_id': 'f57dcb92-24d8-44d6-b28c-49186d815469'}\u001b[0m\u001b[32;1m\u001b[1;3m\n",
      "Invoking: `file_search` with `{'pattern': '20251017.csv'}`\n",
      "responded: 오늘 AI 관련 최신 뉴스 5개 요약입니다.\n",
      "\n",
      "1. Matters.AI가 ₹55 크로어 투자 유치, 자가 학습 AI 보안 엔지니어 개발 추진.\n",
      "2. AI 산업의 확장 집착이 한계에 도달할 가능성, MIT 연구에서 대형 모델의 효율성 한계 지적.\n",
      "3. Meta와 Arm이 AI 인프라 강화를 위해 파트너십 체결.\n",
      "4. 58%의 최고정보보호책임자(CISO)가 AI 보안 예산을 증액 중.\n",
      "5. 켄 그리핀, 생성 AI가 헤지펀드의 시장 초과 수익 창출에 실패했다고 평가.\n",
      "\n",
      "이 내용을 csv로 저장하겠습니다.\n",
      "\n",
      "\u001b[0m\u001b[38;5;200m\u001b[1;3m20251017.csv\u001b[0m\u001b[32;1m\u001b[1;3m\n",
      "Invoking: `read_file` with `{'file_path': '20251017.csv'}`\n",
      "\n",
      "\n",
      "\u001b[0m\u001b[33;1m\u001b[1;3mdate,query,title,url,source,snippet\n",
      "2025-10-16,패션 최신 뉴스,How Budapest Central European Fashion Week Became a Talent Incubator - The Business of Fashion,https://www.businessoffashion.com/articles/global-markets/budapest-central-european-fashion-week-talent-incubator-nanushka-vanguards-group/,businessoffashion.com,\"부다페스트 중앙유럽 패션위크가 헝가리 부다페스트를 중부유럽 패션 시장의 관문으로 자리매김하며 지역 디자이너들의 국제 무대 진출을 지원\"\n",
      "2025-10-16,패션 최신 뉴스,All the must-see Victoria’s Secret Fashion Show 2025 after party outfits, from Nina Dobrev to Irina Shayk - Page Six,https://pagesix.com/2025/10/16/photos/all-the-must-see-victorias-secret-fashion-show-2025-after-party-outfits-from-nina-dobrev-to-irina-shayk/,pagesix.com,\"빅토리아 시크릿 패션쇼 2025가 뉴욕에서 열렸으며, 쇼 후 파티에서 니나 도브레브, 이리나 샤이크 등 유명 인사들의 스트리트 패션이 주목받음\"\n",
      "2025-10-15,패션 최신 뉴스,Opulent, Humble, High-and-Low: 10 Jewelry Trends From the Spring 2026 Collections - Vogue,https://www.vogue.com/article/opulent-humble-and-high-low-10-jewelry-trends-from-the-spring-2026-collections,vogue.com,\"2026년 봄 컬렉션에서 보석 트렌드가 다양하게 나타나며, 세련되고 화려한 주얼리들이 런웨이를 장식함\"\n",
      "2025-10-15,패션 최신 뉴스,Victoria’s Secret Fashion Show 2025 red carpet: See all the celebrity looks - Page Six,https://pagesix.com/2025/10/15/photos/all-the-celebrities-at-the-victorias-secret-fashion-show-2025/,pagesix.com,\"빅토리아 시크릿 패션쇼 2025 레드카펫에 지지 하디드, 에밀리 라타이코프스키 등 슈퍼모델들이 참석해 화려한 스타들의 모습을 선보임\"\n",
      "2025-10-15,패션 최신 뉴스,Backstage at the Victoria’s Secret Fashion Show 2025: How models are getting ready for the runway - Page Six,https://pagesix.com/2025/10/15/photos/backstage-at-the-victorias-secret-fashion-show-2025-models-getting-ready-for-the-runway/,pagesix.com,\"빅토리아 시크릿 패션쇼 2025를 앞두고 모델들이 백스테이지에서 메이크업과 헤어 준비를 하는 모습이 공개됨\"\u001b[0m"
     ]
    },
    {
     "ename": "KeyboardInterrupt",
     "evalue": "",
     "output_type": "error",
     "traceback": [
      "\u001b[31m---------------------------------------------------------------------------\u001b[39m",
      "\u001b[31mKeyboardInterrupt\u001b[39m                         Traceback (most recent call last)",
      "\u001b[36mCell\u001b[39m\u001b[36m \u001b[39m\u001b[32mIn[41]\u001b[39m\u001b[32m, line 1\u001b[39m\n\u001b[32m----> \u001b[39m\u001b[32m1\u001b[39m result = \u001b[43mexecutor\u001b[49m\u001b[43m.\u001b[49m\u001b[43minvoke\u001b[49m\u001b[43m(\u001b[49m\u001b[43m{\u001b[49m\n\u001b[32m      2\u001b[39m \u001b[43m    \u001b[49m\u001b[33;43m\"\u001b[39;49m\u001b[33;43minput\u001b[39;49m\u001b[33;43m\"\u001b[39;49m\u001b[43m \u001b[49m\u001b[43m:\u001b[49m\u001b[43m \u001b[49m\u001b[33;43m\"\u001b[39;49m\u001b[33;43m오늘 AI 관련 뉴스 최신 5개만 요약해주고 그내용을 csv 로 저장해줘\u001b[39;49m\u001b[33;43m\"\u001b[39;49m\u001b[43m,\u001b[49m\n\u001b[32m      3\u001b[39m \u001b[43m    \u001b[49m\u001b[33;43m\"\u001b[39;49m\u001b[33;43mYYYYMMDD\u001b[39;49m\u001b[33;43m\"\u001b[39;49m\u001b[43m \u001b[49m\u001b[43m:\u001b[49m\u001b[43m \u001b[49m\u001b[43mget_today\u001b[49m\u001b[43m(\u001b[49m\u001b[43m)\u001b[49m\n\u001b[32m      4\u001b[39m \u001b[43m}\u001b[49m\u001b[43m)\u001b[49m\n\u001b[32m      5\u001b[39m \u001b[38;5;28mprint\u001b[39m(result)\n",
      "\u001b[36mFile \u001b[39m\u001b[32m~/PythonProjects/potenup_10/.venv/lib/python3.11/site-packages/langchain/chains/base.py:165\u001b[39m, in \u001b[36mChain.invoke\u001b[39m\u001b[34m(self, input, config, **kwargs)\u001b[39m\n\u001b[32m    162\u001b[39m \u001b[38;5;28;01mtry\u001b[39;00m:\n\u001b[32m    163\u001b[39m     \u001b[38;5;28mself\u001b[39m._validate_inputs(inputs)\n\u001b[32m    164\u001b[39m     outputs = (\n\u001b[32m--> \u001b[39m\u001b[32m165\u001b[39m         \u001b[38;5;28;43mself\u001b[39;49m\u001b[43m.\u001b[49m\u001b[43m_call\u001b[49m\u001b[43m(\u001b[49m\u001b[43minputs\u001b[49m\u001b[43m,\u001b[49m\u001b[43m \u001b[49m\u001b[43mrun_manager\u001b[49m\u001b[43m=\u001b[49m\u001b[43mrun_manager\u001b[49m\u001b[43m)\u001b[49m\n\u001b[32m    166\u001b[39m         \u001b[38;5;28;01mif\u001b[39;00m new_arg_supported\n\u001b[32m    167\u001b[39m         \u001b[38;5;28;01melse\u001b[39;00m \u001b[38;5;28mself\u001b[39m._call(inputs)\n\u001b[32m    168\u001b[39m     )\n\u001b[32m    170\u001b[39m     final_outputs: \u001b[38;5;28mdict\u001b[39m[\u001b[38;5;28mstr\u001b[39m, Any] = \u001b[38;5;28mself\u001b[39m.prep_outputs(\n\u001b[32m    171\u001b[39m         inputs,\n\u001b[32m    172\u001b[39m         outputs,\n\u001b[32m    173\u001b[39m         return_only_outputs,\n\u001b[32m    174\u001b[39m     )\n\u001b[32m    175\u001b[39m \u001b[38;5;28;01mexcept\u001b[39;00m \u001b[38;5;167;01mBaseException\u001b[39;00m \u001b[38;5;28;01mas\u001b[39;00m e:\n",
      "\u001b[36mFile \u001b[39m\u001b[32m~/PythonProjects/potenup_10/.venv/lib/python3.11/site-packages/langchain/agents/agent.py:1625\u001b[39m, in \u001b[36mAgentExecutor._call\u001b[39m\u001b[34m(self, inputs, run_manager)\u001b[39m\n\u001b[32m   1623\u001b[39m \u001b[38;5;66;03m# We now enter the agent loop (until it returns something).\u001b[39;00m\n\u001b[32m   1624\u001b[39m \u001b[38;5;28;01mwhile\u001b[39;00m \u001b[38;5;28mself\u001b[39m._should_continue(iterations, time_elapsed):\n\u001b[32m-> \u001b[39m\u001b[32m1625\u001b[39m     next_step_output = \u001b[38;5;28;43mself\u001b[39;49m\u001b[43m.\u001b[49m\u001b[43m_take_next_step\u001b[49m\u001b[43m(\u001b[49m\n\u001b[32m   1626\u001b[39m \u001b[43m        \u001b[49m\u001b[43mname_to_tool_map\u001b[49m\u001b[43m,\u001b[49m\n\u001b[32m   1627\u001b[39m \u001b[43m        \u001b[49m\u001b[43mcolor_mapping\u001b[49m\u001b[43m,\u001b[49m\n\u001b[32m   1628\u001b[39m \u001b[43m        \u001b[49m\u001b[43minputs\u001b[49m\u001b[43m,\u001b[49m\n\u001b[32m   1629\u001b[39m \u001b[43m        \u001b[49m\u001b[43mintermediate_steps\u001b[49m\u001b[43m,\u001b[49m\n\u001b[32m   1630\u001b[39m \u001b[43m        \u001b[49m\u001b[43mrun_manager\u001b[49m\u001b[43m=\u001b[49m\u001b[43mrun_manager\u001b[49m\u001b[43m,\u001b[49m\n\u001b[32m   1631\u001b[39m \u001b[43m    \u001b[49m\u001b[43m)\u001b[49m\n\u001b[32m   1632\u001b[39m     \u001b[38;5;28;01mif\u001b[39;00m \u001b[38;5;28misinstance\u001b[39m(next_step_output, AgentFinish):\n\u001b[32m   1633\u001b[39m         \u001b[38;5;28;01mreturn\u001b[39;00m \u001b[38;5;28mself\u001b[39m._return(\n\u001b[32m   1634\u001b[39m             next_step_output,\n\u001b[32m   1635\u001b[39m             intermediate_steps,\n\u001b[32m   1636\u001b[39m             run_manager=run_manager,\n\u001b[32m   1637\u001b[39m         )\n",
      "\u001b[36mFile \u001b[39m\u001b[32m~/PythonProjects/potenup_10/.venv/lib/python3.11/site-packages/langchain/agents/agent.py:1325\u001b[39m, in \u001b[36mAgentExecutor._take_next_step\u001b[39m\u001b[34m(self, name_to_tool_map, color_mapping, inputs, intermediate_steps, run_manager)\u001b[39m\n\u001b[32m   1316\u001b[39m \u001b[38;5;28;01mdef\u001b[39;00m\u001b[38;5;250m \u001b[39m\u001b[34m_take_next_step\u001b[39m(\n\u001b[32m   1317\u001b[39m     \u001b[38;5;28mself\u001b[39m,\n\u001b[32m   1318\u001b[39m     name_to_tool_map: \u001b[38;5;28mdict\u001b[39m[\u001b[38;5;28mstr\u001b[39m, BaseTool],\n\u001b[32m   (...)\u001b[39m\u001b[32m   1322\u001b[39m     run_manager: Optional[CallbackManagerForChainRun] = \u001b[38;5;28;01mNone\u001b[39;00m,\n\u001b[32m   1323\u001b[39m ) -> Union[AgentFinish, \u001b[38;5;28mlist\u001b[39m[\u001b[38;5;28mtuple\u001b[39m[AgentAction, \u001b[38;5;28mstr\u001b[39m]]]:\n\u001b[32m   1324\u001b[39m     \u001b[38;5;28;01mreturn\u001b[39;00m \u001b[38;5;28mself\u001b[39m._consume_next_step(\n\u001b[32m-> \u001b[39m\u001b[32m1325\u001b[39m         \u001b[38;5;28mlist\u001b[39m(\n\u001b[32m   1326\u001b[39m             \u001b[38;5;28mself\u001b[39m._iter_next_step(\n\u001b[32m   1327\u001b[39m                 name_to_tool_map,\n\u001b[32m   1328\u001b[39m                 color_mapping,\n\u001b[32m   1329\u001b[39m                 inputs,\n\u001b[32m   1330\u001b[39m                 intermediate_steps,\n\u001b[32m   1331\u001b[39m                 run_manager,\n\u001b[32m   1332\u001b[39m             ),\n\u001b[32m   1333\u001b[39m         ),\n\u001b[32m   1334\u001b[39m     )\n",
      "\u001b[36mFile \u001b[39m\u001b[32m~/PythonProjects/potenup_10/.venv/lib/python3.11/site-packages/langchain/agents/agent.py:1352\u001b[39m, in \u001b[36mAgentExecutor._iter_next_step\u001b[39m\u001b[34m(self, name_to_tool_map, color_mapping, inputs, intermediate_steps, run_manager)\u001b[39m\n\u001b[32m   1349\u001b[39m     intermediate_steps = \u001b[38;5;28mself\u001b[39m._prepare_intermediate_steps(intermediate_steps)\n\u001b[32m   1351\u001b[39m     \u001b[38;5;66;03m# Call the LLM to see what to do.\u001b[39;00m\n\u001b[32m-> \u001b[39m\u001b[32m1352\u001b[39m     output = \u001b[38;5;28;43mself\u001b[39;49m\u001b[43m.\u001b[49m\u001b[43m_action_agent\u001b[49m\u001b[43m.\u001b[49m\u001b[43mplan\u001b[49m\u001b[43m(\u001b[49m\n\u001b[32m   1353\u001b[39m \u001b[43m        \u001b[49m\u001b[43mintermediate_steps\u001b[49m\u001b[43m,\u001b[49m\n\u001b[32m   1354\u001b[39m \u001b[43m        \u001b[49m\u001b[43mcallbacks\u001b[49m\u001b[43m=\u001b[49m\u001b[43mrun_manager\u001b[49m\u001b[43m.\u001b[49m\u001b[43mget_child\u001b[49m\u001b[43m(\u001b[49m\u001b[43m)\u001b[49m\u001b[43m \u001b[49m\u001b[38;5;28;43;01mif\u001b[39;49;00m\u001b[43m \u001b[49m\u001b[43mrun_manager\u001b[49m\u001b[43m \u001b[49m\u001b[38;5;28;43;01melse\u001b[39;49;00m\u001b[43m \u001b[49m\u001b[38;5;28;43;01mNone\u001b[39;49;00m\u001b[43m,\u001b[49m\n\u001b[32m   1355\u001b[39m \u001b[43m        \u001b[49m\u001b[43m*\u001b[49m\u001b[43m*\u001b[49m\u001b[43minputs\u001b[49m\u001b[43m,\u001b[49m\n\u001b[32m   1356\u001b[39m \u001b[43m    \u001b[49m\u001b[43m)\u001b[49m\n\u001b[32m   1357\u001b[39m \u001b[38;5;28;01mexcept\u001b[39;00m OutputParserException \u001b[38;5;28;01mas\u001b[39;00m e:\n\u001b[32m   1358\u001b[39m     \u001b[38;5;28;01mif\u001b[39;00m \u001b[38;5;28misinstance\u001b[39m(\u001b[38;5;28mself\u001b[39m.handle_parsing_errors, \u001b[38;5;28mbool\u001b[39m):\n",
      "\u001b[36mFile \u001b[39m\u001b[32m~/PythonProjects/potenup_10/.venv/lib/python3.11/site-packages/langchain/agents/agent.py:573\u001b[39m, in \u001b[36mRunnableMultiActionAgent.plan\u001b[39m\u001b[34m(self, intermediate_steps, callbacks, **kwargs)\u001b[39m\n\u001b[32m    565\u001b[39m final_output: Any = \u001b[38;5;28;01mNone\u001b[39;00m\n\u001b[32m    566\u001b[39m \u001b[38;5;28;01mif\u001b[39;00m \u001b[38;5;28mself\u001b[39m.stream_runnable:\n\u001b[32m    567\u001b[39m     \u001b[38;5;66;03m# Use streaming to make sure that the underlying LLM is invoked in a\u001b[39;00m\n\u001b[32m    568\u001b[39m     \u001b[38;5;66;03m# streaming\u001b[39;00m\n\u001b[32m   (...)\u001b[39m\u001b[32m    571\u001b[39m     \u001b[38;5;66;03m# Because the response from the plan is not a generator, we need to\u001b[39;00m\n\u001b[32m    572\u001b[39m     \u001b[38;5;66;03m# accumulate the output into final output and return that.\u001b[39;00m\n\u001b[32m--> \u001b[39m\u001b[32m573\u001b[39m \u001b[43m    \u001b[49m\u001b[38;5;28;43;01mfor\u001b[39;49;00m\u001b[43m \u001b[49m\u001b[43mchunk\u001b[49m\u001b[43m \u001b[49m\u001b[38;5;129;43;01min\u001b[39;49;00m\u001b[43m \u001b[49m\u001b[38;5;28;43mself\u001b[39;49m\u001b[43m.\u001b[49m\u001b[43mrunnable\u001b[49m\u001b[43m.\u001b[49m\u001b[43mstream\u001b[49m\u001b[43m(\u001b[49m\u001b[43minputs\u001b[49m\u001b[43m,\u001b[49m\u001b[43m \u001b[49m\u001b[43mconfig\u001b[49m\u001b[43m=\u001b[49m\u001b[43m{\u001b[49m\u001b[33;43m\"\u001b[39;49m\u001b[33;43mcallbacks\u001b[39;49m\u001b[33;43m\"\u001b[39;49m\u001b[43m:\u001b[49m\u001b[43m \u001b[49m\u001b[43mcallbacks\u001b[49m\u001b[43m}\u001b[49m\u001b[43m)\u001b[49m\u001b[43m:\u001b[49m\n\u001b[32m    574\u001b[39m \u001b[43m        \u001b[49m\u001b[38;5;28;43;01mif\u001b[39;49;00m\u001b[43m \u001b[49m\u001b[43mfinal_output\u001b[49m\u001b[43m \u001b[49m\u001b[38;5;129;43;01mis\u001b[39;49;00m\u001b[43m \u001b[49m\u001b[38;5;28;43;01mNone\u001b[39;49;00m\u001b[43m:\u001b[49m\n\u001b[32m    575\u001b[39m \u001b[43m            \u001b[49m\u001b[43mfinal_output\u001b[49m\u001b[43m \u001b[49m\u001b[43m=\u001b[49m\u001b[43m \u001b[49m\u001b[43mchunk\u001b[49m\n",
      "\u001b[36mFile \u001b[39m\u001b[32m~/PythonProjects/potenup_10/.venv/lib/python3.11/site-packages/langchain_core/runnables/base.py:3650\u001b[39m, in \u001b[36mRunnableSequence.stream\u001b[39m\u001b[34m(self, input, config, **kwargs)\u001b[39m\n\u001b[32m   3643\u001b[39m \u001b[38;5;129m@override\u001b[39m\n\u001b[32m   3644\u001b[39m \u001b[38;5;28;01mdef\u001b[39;00m\u001b[38;5;250m \u001b[39m\u001b[34mstream\u001b[39m(\n\u001b[32m   3645\u001b[39m     \u001b[38;5;28mself\u001b[39m,\n\u001b[32m   (...)\u001b[39m\u001b[32m   3648\u001b[39m     **kwargs: Optional[Any],\n\u001b[32m   3649\u001b[39m ) -> Iterator[Output]:\n\u001b[32m-> \u001b[39m\u001b[32m3650\u001b[39m     \u001b[38;5;28;01myield from\u001b[39;00m \u001b[38;5;28mself\u001b[39m.transform(\u001b[38;5;28miter\u001b[39m([\u001b[38;5;28minput\u001b[39m]), config, **kwargs)\n",
      "\u001b[36mFile \u001b[39m\u001b[32m~/PythonProjects/potenup_10/.venv/lib/python3.11/site-packages/langchain_core/runnables/base.py:3636\u001b[39m, in \u001b[36mRunnableSequence.transform\u001b[39m\u001b[34m(self, input, config, **kwargs)\u001b[39m\n\u001b[32m   3629\u001b[39m \u001b[38;5;129m@override\u001b[39m\n\u001b[32m   3630\u001b[39m \u001b[38;5;28;01mdef\u001b[39;00m\u001b[38;5;250m \u001b[39m\u001b[34mtransform\u001b[39m(\n\u001b[32m   3631\u001b[39m     \u001b[38;5;28mself\u001b[39m,\n\u001b[32m   (...)\u001b[39m\u001b[32m   3634\u001b[39m     **kwargs: Optional[Any],\n\u001b[32m   3635\u001b[39m ) -> Iterator[Output]:\n\u001b[32m-> \u001b[39m\u001b[32m3636\u001b[39m     \u001b[38;5;28;01myield from\u001b[39;00m \u001b[38;5;28mself\u001b[39m._transform_stream_with_config(\n\u001b[32m   3637\u001b[39m         \u001b[38;5;28minput\u001b[39m,\n\u001b[32m   3638\u001b[39m         \u001b[38;5;28mself\u001b[39m._transform,\n\u001b[32m   3639\u001b[39m         patch_config(config, run_name=(config \u001b[38;5;129;01mor\u001b[39;00m {}).get(\u001b[33m\"\u001b[39m\u001b[33mrun_name\u001b[39m\u001b[33m\"\u001b[39m) \u001b[38;5;129;01mor\u001b[39;00m \u001b[38;5;28mself\u001b[39m.name),\n\u001b[32m   3640\u001b[39m         **kwargs,\n\u001b[32m   3641\u001b[39m     )\n",
      "\u001b[36mFile \u001b[39m\u001b[32m~/PythonProjects/potenup_10/.venv/lib/python3.11/site-packages/langchain_core/runnables/base.py:2372\u001b[39m, in \u001b[36mRunnable._transform_stream_with_config\u001b[39m\u001b[34m(self, inputs, transformer, config, run_type, **kwargs)\u001b[39m\n\u001b[32m   2370\u001b[39m \u001b[38;5;28;01mtry\u001b[39;00m:\n\u001b[32m   2371\u001b[39m     \u001b[38;5;28;01mwhile\u001b[39;00m \u001b[38;5;28;01mTrue\u001b[39;00m:\n\u001b[32m-> \u001b[39m\u001b[32m2372\u001b[39m         chunk: Output = context.run(\u001b[38;5;28mnext\u001b[39m, iterator)\n\u001b[32m   2373\u001b[39m         \u001b[38;5;28;01myield\u001b[39;00m chunk\n\u001b[32m   2374\u001b[39m         \u001b[38;5;28;01mif\u001b[39;00m final_output_supported:\n",
      "\u001b[36mFile \u001b[39m\u001b[32m~/PythonProjects/potenup_10/.venv/lib/python3.11/site-packages/langchain_core/runnables/base.py:3595\u001b[39m, in \u001b[36mRunnableSequence._transform\u001b[39m\u001b[34m(self, inputs, run_manager, config, **kwargs)\u001b[39m\n\u001b[32m   3592\u001b[39m     \u001b[38;5;28;01melse\u001b[39;00m:\n\u001b[32m   3593\u001b[39m         final_pipeline = step.transform(final_pipeline, config)\n\u001b[32m-> \u001b[39m\u001b[32m3595\u001b[39m \u001b[38;5;28;01myield from\u001b[39;00m final_pipeline\n",
      "\u001b[36mFile \u001b[39m\u001b[32m~/PythonProjects/potenup_10/.venv/lib/python3.11/site-packages/langchain_core/runnables/base.py:1571\u001b[39m, in \u001b[36mRunnable.transform\u001b[39m\u001b[34m(self, input, config, **kwargs)\u001b[39m\n\u001b[32m   1568\u001b[39m final: Input\n\u001b[32m   1569\u001b[39m got_first_val = \u001b[38;5;28;01mFalse\u001b[39;00m\n\u001b[32m-> \u001b[39m\u001b[32m1571\u001b[39m \u001b[43m\u001b[49m\u001b[38;5;28;43;01mfor\u001b[39;49;00m\u001b[43m \u001b[49m\u001b[43michunk\u001b[49m\u001b[43m \u001b[49m\u001b[38;5;129;43;01min\u001b[39;49;00m\u001b[43m \u001b[49m\u001b[38;5;28;43minput\u001b[39;49m\u001b[43m:\u001b[49m\n\u001b[32m   1572\u001b[39m \u001b[43m    \u001b[49m\u001b[38;5;66;43;03m# The default implementation of transform is to buffer input and\u001b[39;49;00m\n\u001b[32m   1573\u001b[39m \u001b[43m    \u001b[49m\u001b[38;5;66;43;03m# then call stream.\u001b[39;49;00m\n\u001b[32m   1574\u001b[39m \u001b[43m    \u001b[49m\u001b[38;5;66;43;03m# It'll attempt to gather all input into a single chunk using\u001b[39;49;00m\n\u001b[32m   1575\u001b[39m \u001b[43m    \u001b[49m\u001b[38;5;66;43;03m# the `+` operator.\u001b[39;49;00m\n\u001b[32m   1576\u001b[39m \u001b[43m    \u001b[49m\u001b[38;5;66;43;03m# If the input is not addable, then we'll assume that we can\u001b[39;49;00m\n\u001b[32m   1577\u001b[39m \u001b[43m    \u001b[49m\u001b[38;5;66;43;03m# only operate on the last chunk,\u001b[39;49;00m\n\u001b[32m   1578\u001b[39m \u001b[43m    \u001b[49m\u001b[38;5;66;43;03m# and we'll iterate until we get to the last chunk.\u001b[39;49;00m\n\u001b[32m   1579\u001b[39m \u001b[43m    \u001b[49m\u001b[38;5;28;43;01mif\u001b[39;49;00m\u001b[43m \u001b[49m\u001b[38;5;129;43;01mnot\u001b[39;49;00m\u001b[43m \u001b[49m\u001b[43mgot_first_val\u001b[49m\u001b[43m:\u001b[49m\n\u001b[32m   1580\u001b[39m \u001b[43m        \u001b[49m\u001b[43mfinal\u001b[49m\u001b[43m \u001b[49m\u001b[43m=\u001b[49m\u001b[43m \u001b[49m\u001b[43michunk\u001b[49m\n",
      "\u001b[36mFile \u001b[39m\u001b[32m~/PythonProjects/potenup_10/.venv/lib/python3.11/site-packages/langchain_core/runnables/base.py:5927\u001b[39m, in \u001b[36mRunnableBindingBase.transform\u001b[39m\u001b[34m(self, input, config, **kwargs)\u001b[39m\n\u001b[32m   5920\u001b[39m \u001b[38;5;129m@override\u001b[39m\n\u001b[32m   5921\u001b[39m \u001b[38;5;28;01mdef\u001b[39;00m\u001b[38;5;250m \u001b[39m\u001b[34mtransform\u001b[39m(\n\u001b[32m   5922\u001b[39m     \u001b[38;5;28mself\u001b[39m,\n\u001b[32m   (...)\u001b[39m\u001b[32m   5925\u001b[39m     **kwargs: Any,\n\u001b[32m   5926\u001b[39m ) -> Iterator[Output]:\n\u001b[32m-> \u001b[39m\u001b[32m5927\u001b[39m     \u001b[38;5;28;01myield from\u001b[39;00m \u001b[38;5;28mself\u001b[39m.bound.transform(\n\u001b[32m   5928\u001b[39m         \u001b[38;5;28minput\u001b[39m,\n\u001b[32m   5929\u001b[39m         \u001b[38;5;28mself\u001b[39m._merge_configs(config),\n\u001b[32m   5930\u001b[39m         **{**\u001b[38;5;28mself\u001b[39m.kwargs, **kwargs},\n\u001b[32m   5931\u001b[39m     )\n",
      "\u001b[36mFile \u001b[39m\u001b[32m~/PythonProjects/potenup_10/.venv/lib/python3.11/site-packages/langchain_core/runnables/base.py:1589\u001b[39m, in \u001b[36mRunnable.transform\u001b[39m\u001b[34m(self, input, config, **kwargs)\u001b[39m\n\u001b[32m   1586\u001b[39m             final = ichunk\n\u001b[32m   1588\u001b[39m \u001b[38;5;28;01mif\u001b[39;00m got_first_val:\n\u001b[32m-> \u001b[39m\u001b[32m1589\u001b[39m     \u001b[38;5;28;01myield from\u001b[39;00m \u001b[38;5;28mself\u001b[39m.stream(final, config, **kwargs)\n",
      "\u001b[36mFile \u001b[39m\u001b[32m~/PythonProjects/potenup_10/.venv/lib/python3.11/site-packages/langchain_core/language_models/chat_models.py:522\u001b[39m, in \u001b[36mBaseChatModel.stream\u001b[39m\u001b[34m(self, input, config, stop, **kwargs)\u001b[39m\n\u001b[32m    520\u001b[39m input_messages = _normalize_messages(messages)\n\u001b[32m    521\u001b[39m run_id = \u001b[33m\"\u001b[39m\u001b[33m-\u001b[39m\u001b[33m\"\u001b[39m.join((_LC_ID_PREFIX, \u001b[38;5;28mstr\u001b[39m(run_manager.run_id)))\n\u001b[32m--> \u001b[39m\u001b[32m522\u001b[39m \u001b[43m\u001b[49m\u001b[38;5;28;43;01mfor\u001b[39;49;00m\u001b[43m \u001b[49m\u001b[43mchunk\u001b[49m\u001b[43m \u001b[49m\u001b[38;5;129;43;01min\u001b[39;49;00m\u001b[43m \u001b[49m\u001b[38;5;28;43mself\u001b[39;49m\u001b[43m.\u001b[49m\u001b[43m_stream\u001b[49m\u001b[43m(\u001b[49m\u001b[43minput_messages\u001b[49m\u001b[43m,\u001b[49m\u001b[43m \u001b[49m\u001b[43mstop\u001b[49m\u001b[43m=\u001b[49m\u001b[43mstop\u001b[49m\u001b[43m,\u001b[49m\u001b[43m \u001b[49m\u001b[43m*\u001b[49m\u001b[43m*\u001b[49m\u001b[43mkwargs\u001b[49m\u001b[43m)\u001b[49m\u001b[43m:\u001b[49m\n\u001b[32m    523\u001b[39m \u001b[43m    \u001b[49m\u001b[38;5;28;43;01mif\u001b[39;49;00m\u001b[43m \u001b[49m\u001b[43mchunk\u001b[49m\u001b[43m.\u001b[49m\u001b[43mmessage\u001b[49m\u001b[43m.\u001b[49m\u001b[43mid\u001b[49m\u001b[43m \u001b[49m\u001b[38;5;129;43;01mis\u001b[39;49;00m\u001b[43m \u001b[49m\u001b[38;5;28;43;01mNone\u001b[39;49;00m\u001b[43m:\u001b[49m\n\u001b[32m    524\u001b[39m \u001b[43m        \u001b[49m\u001b[43mchunk\u001b[49m\u001b[43m.\u001b[49m\u001b[43mmessage\u001b[49m\u001b[43m.\u001b[49m\u001b[43mid\u001b[49m\u001b[43m \u001b[49m\u001b[43m=\u001b[49m\u001b[43m \u001b[49m\u001b[43mrun_id\u001b[49m\n",
      "\u001b[36mFile \u001b[39m\u001b[32m~/PythonProjects/potenup_10/.venv/lib/python3.11/site-packages/langchain_openai/chat_models/base.py:1128\u001b[39m, in \u001b[36mBaseChatOpenAI._stream\u001b[39m\u001b[34m(self, messages, stop, run_manager, stream_usage, **kwargs)\u001b[39m\n\u001b[32m   1126\u001b[39m \u001b[38;5;28;01mwith\u001b[39;00m context_manager \u001b[38;5;28;01mas\u001b[39;00m response:\n\u001b[32m   1127\u001b[39m     is_first_chunk = \u001b[38;5;28;01mTrue\u001b[39;00m\n\u001b[32m-> \u001b[39m\u001b[32m1128\u001b[39m \u001b[43m    \u001b[49m\u001b[38;5;28;43;01mfor\u001b[39;49;00m\u001b[43m \u001b[49m\u001b[43mchunk\u001b[49m\u001b[43m \u001b[49m\u001b[38;5;129;43;01min\u001b[39;49;00m\u001b[43m \u001b[49m\u001b[43mresponse\u001b[49m\u001b[43m:\u001b[49m\n\u001b[32m   1129\u001b[39m \u001b[43m        \u001b[49m\u001b[38;5;28;43;01mif\u001b[39;49;00m\u001b[43m \u001b[49m\u001b[38;5;129;43;01mnot\u001b[39;49;00m\u001b[43m \u001b[49m\u001b[38;5;28;43misinstance\u001b[39;49m\u001b[43m(\u001b[49m\u001b[43mchunk\u001b[49m\u001b[43m,\u001b[49m\u001b[43m \u001b[49m\u001b[38;5;28;43mdict\u001b[39;49m\u001b[43m)\u001b[49m\u001b[43m:\u001b[49m\n\u001b[32m   1130\u001b[39m \u001b[43m            \u001b[49m\u001b[43mchunk\u001b[49m\u001b[43m \u001b[49m\u001b[43m=\u001b[49m\u001b[43m \u001b[49m\u001b[43mchunk\u001b[49m\u001b[43m.\u001b[49m\u001b[43mmodel_dump\u001b[49m\u001b[43m(\u001b[49m\u001b[43m)\u001b[49m\n",
      "\u001b[36mFile \u001b[39m\u001b[32m~/PythonProjects/potenup_10/.venv/lib/python3.11/site-packages/openai/_streaming.py:46\u001b[39m, in \u001b[36mStream.__iter__\u001b[39m\u001b[34m(self)\u001b[39m\n\u001b[32m     45\u001b[39m \u001b[38;5;28;01mdef\u001b[39;00m\u001b[38;5;250m \u001b[39m\u001b[34m__iter__\u001b[39m(\u001b[38;5;28mself\u001b[39m) -> Iterator[_T]:\n\u001b[32m---> \u001b[39m\u001b[32m46\u001b[39m \u001b[43m    \u001b[49m\u001b[38;5;28;43;01mfor\u001b[39;49;00m\u001b[43m \u001b[49m\u001b[43mitem\u001b[49m\u001b[43m \u001b[49m\u001b[38;5;129;43;01min\u001b[39;49;00m\u001b[43m \u001b[49m\u001b[38;5;28;43mself\u001b[39;49m\u001b[43m.\u001b[49m\u001b[43m_iterator\u001b[49m\u001b[43m:\u001b[49m\n\u001b[32m     47\u001b[39m \u001b[43m        \u001b[49m\u001b[38;5;28;43;01myield\u001b[39;49;00m\u001b[43m \u001b[49m\u001b[43mitem\u001b[49m\n",
      "\u001b[36mFile \u001b[39m\u001b[32m~/PythonProjects/potenup_10/.venv/lib/python3.11/site-packages/openai/_streaming.py:58\u001b[39m, in \u001b[36mStream.__stream__\u001b[39m\u001b[34m(self)\u001b[39m\n\u001b[32m     55\u001b[39m process_data = \u001b[38;5;28mself\u001b[39m._client._process_response_data\n\u001b[32m     56\u001b[39m iterator = \u001b[38;5;28mself\u001b[39m._iter_events()\n\u001b[32m---> \u001b[39m\u001b[32m58\u001b[39m \u001b[43m\u001b[49m\u001b[38;5;28;43;01mfor\u001b[39;49;00m\u001b[43m \u001b[49m\u001b[43msse\u001b[49m\u001b[43m \u001b[49m\u001b[38;5;129;43;01min\u001b[39;49;00m\u001b[43m \u001b[49m\u001b[43miterator\u001b[49m\u001b[43m:\u001b[49m\n\u001b[32m     59\u001b[39m \u001b[43m    \u001b[49m\u001b[38;5;28;43;01mif\u001b[39;49;00m\u001b[43m \u001b[49m\u001b[43msse\u001b[49m\u001b[43m.\u001b[49m\u001b[43mdata\u001b[49m\u001b[43m.\u001b[49m\u001b[43mstartswith\u001b[49m\u001b[43m(\u001b[49m\u001b[33;43m\"\u001b[39;49m\u001b[33;43m[DONE]\u001b[39;49m\u001b[33;43m\"\u001b[39;49m\u001b[43m)\u001b[49m\u001b[43m:\u001b[49m\n\u001b[32m     60\u001b[39m \u001b[43m        \u001b[49m\u001b[38;5;28;43;01mbreak\u001b[39;49;00m\n",
      "\u001b[36mFile \u001b[39m\u001b[32m~/PythonProjects/potenup_10/.venv/lib/python3.11/site-packages/openai/_streaming.py:50\u001b[39m, in \u001b[36mStream._iter_events\u001b[39m\u001b[34m(self)\u001b[39m\n\u001b[32m     49\u001b[39m \u001b[38;5;28;01mdef\u001b[39;00m\u001b[38;5;250m \u001b[39m\u001b[34m_iter_events\u001b[39m(\u001b[38;5;28mself\u001b[39m) -> Iterator[ServerSentEvent]:\n\u001b[32m---> \u001b[39m\u001b[32m50\u001b[39m     \u001b[38;5;28;01myield from\u001b[39;00m \u001b[38;5;28mself\u001b[39m._decoder.iter_bytes(\u001b[38;5;28mself\u001b[39m.response.iter_bytes())\n",
      "\u001b[36mFile \u001b[39m\u001b[32m~/PythonProjects/potenup_10/.venv/lib/python3.11/site-packages/openai/_streaming.py:280\u001b[39m, in \u001b[36mSSEDecoder.iter_bytes\u001b[39m\u001b[34m(self, iterator)\u001b[39m\n\u001b[32m    278\u001b[39m \u001b[38;5;28;01mdef\u001b[39;00m\u001b[38;5;250m \u001b[39m\u001b[34miter_bytes\u001b[39m(\u001b[38;5;28mself\u001b[39m, iterator: Iterator[\u001b[38;5;28mbytes\u001b[39m]) -> Iterator[ServerSentEvent]:\n\u001b[32m    279\u001b[39m \u001b[38;5;250m    \u001b[39m\u001b[33;03m\"\"\"Given an iterator that yields raw binary data, iterate over it & yield every event encountered\"\"\"\u001b[39;00m\n\u001b[32m--> \u001b[39m\u001b[32m280\u001b[39m \u001b[43m    \u001b[49m\u001b[38;5;28;43;01mfor\u001b[39;49;00m\u001b[43m \u001b[49m\u001b[43mchunk\u001b[49m\u001b[43m \u001b[49m\u001b[38;5;129;43;01min\u001b[39;49;00m\u001b[43m \u001b[49m\u001b[38;5;28;43mself\u001b[39;49m\u001b[43m.\u001b[49m\u001b[43m_iter_chunks\u001b[49m\u001b[43m(\u001b[49m\u001b[43miterator\u001b[49m\u001b[43m)\u001b[49m\u001b[43m:\u001b[49m\n\u001b[32m    281\u001b[39m \u001b[43m        \u001b[49m\u001b[38;5;66;43;03m# Split before decoding so splitlines() only uses \\r and \\n\u001b[39;49;00m\n\u001b[32m    282\u001b[39m \u001b[43m        \u001b[49m\u001b[38;5;28;43;01mfor\u001b[39;49;00m\u001b[43m \u001b[49m\u001b[43mraw_line\u001b[49m\u001b[43m \u001b[49m\u001b[38;5;129;43;01min\u001b[39;49;00m\u001b[43m \u001b[49m\u001b[43mchunk\u001b[49m\u001b[43m.\u001b[49m\u001b[43msplitlines\u001b[49m\u001b[43m(\u001b[49m\u001b[43m)\u001b[49m\u001b[43m:\u001b[49m\n\u001b[32m    283\u001b[39m \u001b[43m            \u001b[49m\u001b[43mline\u001b[49m\u001b[43m \u001b[49m\u001b[43m=\u001b[49m\u001b[43m \u001b[49m\u001b[43mraw_line\u001b[49m\u001b[43m.\u001b[49m\u001b[43mdecode\u001b[49m\u001b[43m(\u001b[49m\u001b[33;43m\"\u001b[39;49m\u001b[33;43mutf-8\u001b[39;49m\u001b[33;43m\"\u001b[39;49m\u001b[43m)\u001b[49m\n",
      "\u001b[36mFile \u001b[39m\u001b[32m~/PythonProjects/potenup_10/.venv/lib/python3.11/site-packages/openai/_streaming.py:291\u001b[39m, in \u001b[36mSSEDecoder._iter_chunks\u001b[39m\u001b[34m(self, iterator)\u001b[39m\n\u001b[32m    289\u001b[39m \u001b[38;5;250m\u001b[39m\u001b[33;03m\"\"\"Given an iterator that yields raw binary data, iterate over it and yield individual SSE chunks\"\"\"\u001b[39;00m\n\u001b[32m    290\u001b[39m data = \u001b[33mb\u001b[39m\u001b[33m\"\u001b[39m\u001b[33m\"\u001b[39m\n\u001b[32m--> \u001b[39m\u001b[32m291\u001b[39m \u001b[43m\u001b[49m\u001b[38;5;28;43;01mfor\u001b[39;49;00m\u001b[43m \u001b[49m\u001b[43mchunk\u001b[49m\u001b[43m \u001b[49m\u001b[38;5;129;43;01min\u001b[39;49;00m\u001b[43m \u001b[49m\u001b[43miterator\u001b[49m\u001b[43m:\u001b[49m\n\u001b[32m    292\u001b[39m \u001b[43m    \u001b[49m\u001b[38;5;28;43;01mfor\u001b[39;49;00m\u001b[43m \u001b[49m\u001b[43mline\u001b[49m\u001b[43m \u001b[49m\u001b[38;5;129;43;01min\u001b[39;49;00m\u001b[43m \u001b[49m\u001b[43mchunk\u001b[49m\u001b[43m.\u001b[49m\u001b[43msplitlines\u001b[49m\u001b[43m(\u001b[49m\u001b[43mkeepends\u001b[49m\u001b[43m=\u001b[49m\u001b[38;5;28;43;01mTrue\u001b[39;49;00m\u001b[43m)\u001b[49m\u001b[43m:\u001b[49m\n\u001b[32m    293\u001b[39m \u001b[43m        \u001b[49m\u001b[43mdata\u001b[49m\u001b[43m \u001b[49m\u001b[43m+\u001b[49m\u001b[43m=\u001b[49m\u001b[43m \u001b[49m\u001b[43mline\u001b[49m\n",
      "\u001b[36mFile \u001b[39m\u001b[32m~/PythonProjects/potenup_10/.venv/lib/python3.11/site-packages/httpx/_models.py:897\u001b[39m, in \u001b[36mResponse.iter_bytes\u001b[39m\u001b[34m(self, chunk_size)\u001b[39m\n\u001b[32m    895\u001b[39m chunker = ByteChunker(chunk_size=chunk_size)\n\u001b[32m    896\u001b[39m \u001b[38;5;28;01mwith\u001b[39;00m request_context(request=\u001b[38;5;28mself\u001b[39m._request):\n\u001b[32m--> \u001b[39m\u001b[32m897\u001b[39m \u001b[43m    \u001b[49m\u001b[38;5;28;43;01mfor\u001b[39;49;00m\u001b[43m \u001b[49m\u001b[43mraw_bytes\u001b[49m\u001b[43m \u001b[49m\u001b[38;5;129;43;01min\u001b[39;49;00m\u001b[43m \u001b[49m\u001b[38;5;28;43mself\u001b[39;49m\u001b[43m.\u001b[49m\u001b[43miter_raw\u001b[49m\u001b[43m(\u001b[49m\u001b[43m)\u001b[49m\u001b[43m:\u001b[49m\n\u001b[32m    898\u001b[39m \u001b[43m        \u001b[49m\u001b[43mdecoded\u001b[49m\u001b[43m \u001b[49m\u001b[43m=\u001b[49m\u001b[43m \u001b[49m\u001b[43mdecoder\u001b[49m\u001b[43m.\u001b[49m\u001b[43mdecode\u001b[49m\u001b[43m(\u001b[49m\u001b[43mraw_bytes\u001b[49m\u001b[43m)\u001b[49m\n\u001b[32m    899\u001b[39m \u001b[43m        \u001b[49m\u001b[38;5;28;43;01mfor\u001b[39;49;00m\u001b[43m \u001b[49m\u001b[43mchunk\u001b[49m\u001b[43m \u001b[49m\u001b[38;5;129;43;01min\u001b[39;49;00m\u001b[43m \u001b[49m\u001b[43mchunker\u001b[49m\u001b[43m.\u001b[49m\u001b[43mdecode\u001b[49m\u001b[43m(\u001b[49m\u001b[43mdecoded\u001b[49m\u001b[43m)\u001b[49m\u001b[43m:\u001b[49m\n",
      "\u001b[36mFile \u001b[39m\u001b[32m~/PythonProjects/potenup_10/.venv/lib/python3.11/site-packages/httpx/_models.py:951\u001b[39m, in \u001b[36mResponse.iter_raw\u001b[39m\u001b[34m(self, chunk_size)\u001b[39m\n\u001b[32m    948\u001b[39m chunker = ByteChunker(chunk_size=chunk_size)\n\u001b[32m    950\u001b[39m \u001b[38;5;28;01mwith\u001b[39;00m request_context(request=\u001b[38;5;28mself\u001b[39m._request):\n\u001b[32m--> \u001b[39m\u001b[32m951\u001b[39m \u001b[43m    \u001b[49m\u001b[38;5;28;43;01mfor\u001b[39;49;00m\u001b[43m \u001b[49m\u001b[43mraw_stream_bytes\u001b[49m\u001b[43m \u001b[49m\u001b[38;5;129;43;01min\u001b[39;49;00m\u001b[43m \u001b[49m\u001b[38;5;28;43mself\u001b[39;49m\u001b[43m.\u001b[49m\u001b[43mstream\u001b[49m\u001b[43m:\u001b[49m\n\u001b[32m    952\u001b[39m \u001b[43m        \u001b[49m\u001b[38;5;28;43mself\u001b[39;49m\u001b[43m.\u001b[49m\u001b[43m_num_bytes_downloaded\u001b[49m\u001b[43m \u001b[49m\u001b[43m+\u001b[49m\u001b[43m=\u001b[49m\u001b[43m \u001b[49m\u001b[38;5;28;43mlen\u001b[39;49m\u001b[43m(\u001b[49m\u001b[43mraw_stream_bytes\u001b[49m\u001b[43m)\u001b[49m\n\u001b[32m    953\u001b[39m \u001b[43m        \u001b[49m\u001b[38;5;28;43;01mfor\u001b[39;49;00m\u001b[43m \u001b[49m\u001b[43mchunk\u001b[49m\u001b[43m \u001b[49m\u001b[38;5;129;43;01min\u001b[39;49;00m\u001b[43m \u001b[49m\u001b[43mchunker\u001b[49m\u001b[43m.\u001b[49m\u001b[43mdecode\u001b[49m\u001b[43m(\u001b[49m\u001b[43mraw_stream_bytes\u001b[49m\u001b[43m)\u001b[49m\u001b[43m:\u001b[49m\n",
      "\u001b[36mFile \u001b[39m\u001b[32m~/PythonProjects/potenup_10/.venv/lib/python3.11/site-packages/httpx/_client.py:153\u001b[39m, in \u001b[36mBoundSyncStream.__iter__\u001b[39m\u001b[34m(self)\u001b[39m\n\u001b[32m    152\u001b[39m \u001b[38;5;28;01mdef\u001b[39;00m\u001b[38;5;250m \u001b[39m\u001b[34m__iter__\u001b[39m(\u001b[38;5;28mself\u001b[39m) -> typing.Iterator[\u001b[38;5;28mbytes\u001b[39m]:\n\u001b[32m--> \u001b[39m\u001b[32m153\u001b[39m \u001b[43m    \u001b[49m\u001b[38;5;28;43;01mfor\u001b[39;49;00m\u001b[43m \u001b[49m\u001b[43mchunk\u001b[49m\u001b[43m \u001b[49m\u001b[38;5;129;43;01min\u001b[39;49;00m\u001b[43m \u001b[49m\u001b[38;5;28;43mself\u001b[39;49m\u001b[43m.\u001b[49m\u001b[43m_stream\u001b[49m\u001b[43m:\u001b[49m\n\u001b[32m    154\u001b[39m \u001b[43m        \u001b[49m\u001b[38;5;28;43;01myield\u001b[39;49;00m\u001b[43m \u001b[49m\u001b[43mchunk\u001b[49m\n",
      "\u001b[36mFile \u001b[39m\u001b[32m~/PythonProjects/potenup_10/.venv/lib/python3.11/site-packages/httpx/_transports/default.py:127\u001b[39m, in \u001b[36mResponseStream.__iter__\u001b[39m\u001b[34m(self)\u001b[39m\n\u001b[32m    125\u001b[39m \u001b[38;5;28;01mdef\u001b[39;00m\u001b[38;5;250m \u001b[39m\u001b[34m__iter__\u001b[39m(\u001b[38;5;28mself\u001b[39m) -> typing.Iterator[\u001b[38;5;28mbytes\u001b[39m]:\n\u001b[32m    126\u001b[39m     \u001b[38;5;28;01mwith\u001b[39;00m map_httpcore_exceptions():\n\u001b[32m--> \u001b[39m\u001b[32m127\u001b[39m \u001b[43m        \u001b[49m\u001b[38;5;28;43;01mfor\u001b[39;49;00m\u001b[43m \u001b[49m\u001b[43mpart\u001b[49m\u001b[43m \u001b[49m\u001b[38;5;129;43;01min\u001b[39;49;00m\u001b[43m \u001b[49m\u001b[38;5;28;43mself\u001b[39;49m\u001b[43m.\u001b[49m\u001b[43m_httpcore_stream\u001b[49m\u001b[43m:\u001b[49m\n\u001b[32m    128\u001b[39m \u001b[43m            \u001b[49m\u001b[38;5;28;43;01myield\u001b[39;49;00m\u001b[43m \u001b[49m\u001b[43mpart\u001b[49m\n",
      "\u001b[36mFile \u001b[39m\u001b[32m~/PythonProjects/potenup_10/.venv/lib/python3.11/site-packages/httpcore/_sync/connection_pool.py:407\u001b[39m, in \u001b[36mPoolByteStream.__iter__\u001b[39m\u001b[34m(self)\u001b[39m\n\u001b[32m    405\u001b[39m \u001b[38;5;28;01mexcept\u001b[39;00m \u001b[38;5;167;01mBaseException\u001b[39;00m \u001b[38;5;28;01mas\u001b[39;00m exc:\n\u001b[32m    406\u001b[39m     \u001b[38;5;28mself\u001b[39m.close()\n\u001b[32m--> \u001b[39m\u001b[32m407\u001b[39m     \u001b[38;5;28;01mraise\u001b[39;00m exc \u001b[38;5;28;01mfrom\u001b[39;00m\u001b[38;5;250m \u001b[39m\u001b[38;5;28;01mNone\u001b[39;00m\n",
      "\u001b[36mFile \u001b[39m\u001b[32m~/PythonProjects/potenup_10/.venv/lib/python3.11/site-packages/httpcore/_sync/connection_pool.py:403\u001b[39m, in \u001b[36mPoolByteStream.__iter__\u001b[39m\u001b[34m(self)\u001b[39m\n\u001b[32m    401\u001b[39m \u001b[38;5;28;01mdef\u001b[39;00m\u001b[38;5;250m \u001b[39m\u001b[34m__iter__\u001b[39m(\u001b[38;5;28mself\u001b[39m) -> typing.Iterator[\u001b[38;5;28mbytes\u001b[39m]:\n\u001b[32m    402\u001b[39m     \u001b[38;5;28;01mtry\u001b[39;00m:\n\u001b[32m--> \u001b[39m\u001b[32m403\u001b[39m \u001b[43m        \u001b[49m\u001b[38;5;28;43;01mfor\u001b[39;49;00m\u001b[43m \u001b[49m\u001b[43mpart\u001b[49m\u001b[43m \u001b[49m\u001b[38;5;129;43;01min\u001b[39;49;00m\u001b[43m \u001b[49m\u001b[38;5;28;43mself\u001b[39;49m\u001b[43m.\u001b[49m\u001b[43m_stream\u001b[49m\u001b[43m:\u001b[49m\n\u001b[32m    404\u001b[39m \u001b[43m            \u001b[49m\u001b[38;5;28;43;01myield\u001b[39;49;00m\u001b[43m \u001b[49m\u001b[43mpart\u001b[49m\n\u001b[32m    405\u001b[39m     \u001b[38;5;28;01mexcept\u001b[39;00m \u001b[38;5;167;01mBaseException\u001b[39;00m \u001b[38;5;28;01mas\u001b[39;00m exc:\n",
      "\u001b[36mFile \u001b[39m\u001b[32m~/PythonProjects/potenup_10/.venv/lib/python3.11/site-packages/httpcore/_sync/http11.py:342\u001b[39m, in \u001b[36mHTTP11ConnectionByteStream.__iter__\u001b[39m\u001b[34m(self)\u001b[39m\n\u001b[32m    340\u001b[39m \u001b[38;5;28;01mwith\u001b[39;00m ShieldCancellation():\n\u001b[32m    341\u001b[39m     \u001b[38;5;28mself\u001b[39m.close()\n\u001b[32m--> \u001b[39m\u001b[32m342\u001b[39m \u001b[38;5;28;01mraise\u001b[39;00m exc\n",
      "\u001b[36mFile \u001b[39m\u001b[32m~/PythonProjects/potenup_10/.venv/lib/python3.11/site-packages/httpcore/_sync/http11.py:334\u001b[39m, in \u001b[36mHTTP11ConnectionByteStream.__iter__\u001b[39m\u001b[34m(self)\u001b[39m\n\u001b[32m    332\u001b[39m \u001b[38;5;28;01mtry\u001b[39;00m:\n\u001b[32m    333\u001b[39m     \u001b[38;5;28;01mwith\u001b[39;00m Trace(\u001b[33m\"\u001b[39m\u001b[33mreceive_response_body\u001b[39m\u001b[33m\"\u001b[39m, logger, \u001b[38;5;28mself\u001b[39m._request, kwargs):\n\u001b[32m--> \u001b[39m\u001b[32m334\u001b[39m \u001b[43m        \u001b[49m\u001b[38;5;28;43;01mfor\u001b[39;49;00m\u001b[43m \u001b[49m\u001b[43mchunk\u001b[49m\u001b[43m \u001b[49m\u001b[38;5;129;43;01min\u001b[39;49;00m\u001b[43m \u001b[49m\u001b[38;5;28;43mself\u001b[39;49m\u001b[43m.\u001b[49m\u001b[43m_connection\u001b[49m\u001b[43m.\u001b[49m\u001b[43m_receive_response_body\u001b[49m\u001b[43m(\u001b[49m\u001b[43m*\u001b[49m\u001b[43m*\u001b[49m\u001b[43mkwargs\u001b[49m\u001b[43m)\u001b[49m\u001b[43m:\u001b[49m\n\u001b[32m    335\u001b[39m \u001b[43m            \u001b[49m\u001b[38;5;28;43;01myield\u001b[39;49;00m\u001b[43m \u001b[49m\u001b[43mchunk\u001b[49m\n\u001b[32m    336\u001b[39m \u001b[38;5;28;01mexcept\u001b[39;00m \u001b[38;5;167;01mBaseException\u001b[39;00m \u001b[38;5;28;01mas\u001b[39;00m exc:\n\u001b[32m    337\u001b[39m     \u001b[38;5;66;03m# If we get an exception while streaming the response,\u001b[39;00m\n\u001b[32m    338\u001b[39m     \u001b[38;5;66;03m# we want to close the response (and possibly the connection)\u001b[39;00m\n\u001b[32m    339\u001b[39m     \u001b[38;5;66;03m# before raising that exception.\u001b[39;00m\n",
      "\u001b[36mFile \u001b[39m\u001b[32m~/PythonProjects/potenup_10/.venv/lib/python3.11/site-packages/httpcore/_sync/http11.py:203\u001b[39m, in \u001b[36mHTTP11Connection._receive_response_body\u001b[39m\u001b[34m(self, request)\u001b[39m\n\u001b[32m    200\u001b[39m timeout = timeouts.get(\u001b[33m\"\u001b[39m\u001b[33mread\u001b[39m\u001b[33m\"\u001b[39m, \u001b[38;5;28;01mNone\u001b[39;00m)\n\u001b[32m    202\u001b[39m \u001b[38;5;28;01mwhile\u001b[39;00m \u001b[38;5;28;01mTrue\u001b[39;00m:\n\u001b[32m--> \u001b[39m\u001b[32m203\u001b[39m     event = \u001b[38;5;28;43mself\u001b[39;49m\u001b[43m.\u001b[49m\u001b[43m_receive_event\u001b[49m\u001b[43m(\u001b[49m\u001b[43mtimeout\u001b[49m\u001b[43m=\u001b[49m\u001b[43mtimeout\u001b[49m\u001b[43m)\u001b[49m\n\u001b[32m    204\u001b[39m     \u001b[38;5;28;01mif\u001b[39;00m \u001b[38;5;28misinstance\u001b[39m(event, h11.Data):\n\u001b[32m    205\u001b[39m         \u001b[38;5;28;01myield\u001b[39;00m \u001b[38;5;28mbytes\u001b[39m(event.data)\n",
      "\u001b[36mFile \u001b[39m\u001b[32m~/PythonProjects/potenup_10/.venv/lib/python3.11/site-packages/httpcore/_sync/http11.py:217\u001b[39m, in \u001b[36mHTTP11Connection._receive_event\u001b[39m\u001b[34m(self, timeout)\u001b[39m\n\u001b[32m    214\u001b[39m     event = \u001b[38;5;28mself\u001b[39m._h11_state.next_event()\n\u001b[32m    216\u001b[39m \u001b[38;5;28;01mif\u001b[39;00m event \u001b[38;5;129;01mis\u001b[39;00m h11.NEED_DATA:\n\u001b[32m--> \u001b[39m\u001b[32m217\u001b[39m     data = \u001b[38;5;28;43mself\u001b[39;49m\u001b[43m.\u001b[49m\u001b[43m_network_stream\u001b[49m\u001b[43m.\u001b[49m\u001b[43mread\u001b[49m\u001b[43m(\u001b[49m\n\u001b[32m    218\u001b[39m \u001b[43m        \u001b[49m\u001b[38;5;28;43mself\u001b[39;49m\u001b[43m.\u001b[49m\u001b[43mREAD_NUM_BYTES\u001b[49m\u001b[43m,\u001b[49m\u001b[43m \u001b[49m\u001b[43mtimeout\u001b[49m\u001b[43m=\u001b[49m\u001b[43mtimeout\u001b[49m\n\u001b[32m    219\u001b[39m \u001b[43m    \u001b[49m\u001b[43m)\u001b[49m\n\u001b[32m    221\u001b[39m     \u001b[38;5;66;03m# If we feed this case through h11 we'll raise an exception like:\u001b[39;00m\n\u001b[32m    222\u001b[39m     \u001b[38;5;66;03m#\u001b[39;00m\n\u001b[32m    223\u001b[39m     \u001b[38;5;66;03m#     httpcore.RemoteProtocolError: can't handle event type\u001b[39;00m\n\u001b[32m   (...)\u001b[39m\u001b[32m    227\u001b[39m     \u001b[38;5;66;03m# perspective. Instead we handle this case distinctly and treat\u001b[39;00m\n\u001b[32m    228\u001b[39m     \u001b[38;5;66;03m# it as a ConnectError.\u001b[39;00m\n\u001b[32m    229\u001b[39m     \u001b[38;5;28;01mif\u001b[39;00m data == \u001b[33mb\u001b[39m\u001b[33m\"\u001b[39m\u001b[33m\"\u001b[39m \u001b[38;5;129;01mand\u001b[39;00m \u001b[38;5;28mself\u001b[39m._h11_state.their_state == h11.SEND_RESPONSE:\n",
      "\u001b[36mFile \u001b[39m\u001b[32m~/PythonProjects/potenup_10/.venv/lib/python3.11/site-packages/httpcore/_backends/sync.py:128\u001b[39m, in \u001b[36mSyncStream.read\u001b[39m\u001b[34m(self, max_bytes, timeout)\u001b[39m\n\u001b[32m    126\u001b[39m \u001b[38;5;28;01mwith\u001b[39;00m map_exceptions(exc_map):\n\u001b[32m    127\u001b[39m     \u001b[38;5;28mself\u001b[39m._sock.settimeout(timeout)\n\u001b[32m--> \u001b[39m\u001b[32m128\u001b[39m     \u001b[38;5;28;01mreturn\u001b[39;00m \u001b[38;5;28;43mself\u001b[39;49m\u001b[43m.\u001b[49m\u001b[43m_sock\u001b[49m\u001b[43m.\u001b[49m\u001b[43mrecv\u001b[49m\u001b[43m(\u001b[49m\u001b[43mmax_bytes\u001b[49m\u001b[43m)\u001b[49m\n",
      "\u001b[36mFile \u001b[39m\u001b[32m~/.local/share/uv/python/cpython-3.11.13-macos-aarch64-none/lib/python3.11/ssl.py:1295\u001b[39m, in \u001b[36mSSLSocket.recv\u001b[39m\u001b[34m(self, buflen, flags)\u001b[39m\n\u001b[32m   1291\u001b[39m     \u001b[38;5;28;01mif\u001b[39;00m flags != \u001b[32m0\u001b[39m:\n\u001b[32m   1292\u001b[39m         \u001b[38;5;28;01mraise\u001b[39;00m \u001b[38;5;167;01mValueError\u001b[39;00m(\n\u001b[32m   1293\u001b[39m             \u001b[33m\"\u001b[39m\u001b[33mnon-zero flags not allowed in calls to recv() on \u001b[39m\u001b[38;5;132;01m%s\u001b[39;00m\u001b[33m\"\u001b[39m %\n\u001b[32m   1294\u001b[39m             \u001b[38;5;28mself\u001b[39m.\u001b[34m__class__\u001b[39m)\n\u001b[32m-> \u001b[39m\u001b[32m1295\u001b[39m     \u001b[38;5;28;01mreturn\u001b[39;00m \u001b[38;5;28;43mself\u001b[39;49m\u001b[43m.\u001b[49m\u001b[43mread\u001b[49m\u001b[43m(\u001b[49m\u001b[43mbuflen\u001b[49m\u001b[43m)\u001b[49m\n\u001b[32m   1296\u001b[39m \u001b[38;5;28;01melse\u001b[39;00m:\n\u001b[32m   1297\u001b[39m     \u001b[38;5;28;01mreturn\u001b[39;00m \u001b[38;5;28msuper\u001b[39m().recv(buflen, flags)\n",
      "\u001b[36mFile \u001b[39m\u001b[32m~/.local/share/uv/python/cpython-3.11.13-macos-aarch64-none/lib/python3.11/ssl.py:1168\u001b[39m, in \u001b[36mSSLSocket.read\u001b[39m\u001b[34m(self, len, buffer)\u001b[39m\n\u001b[32m   1166\u001b[39m         \u001b[38;5;28;01mreturn\u001b[39;00m \u001b[38;5;28mself\u001b[39m._sslobj.read(\u001b[38;5;28mlen\u001b[39m, buffer)\n\u001b[32m   1167\u001b[39m     \u001b[38;5;28;01melse\u001b[39;00m:\n\u001b[32m-> \u001b[39m\u001b[32m1168\u001b[39m         \u001b[38;5;28;01mreturn\u001b[39;00m \u001b[38;5;28;43mself\u001b[39;49m\u001b[43m.\u001b[49m\u001b[43m_sslobj\u001b[49m\u001b[43m.\u001b[49m\u001b[43mread\u001b[49m\u001b[43m(\u001b[49m\u001b[38;5;28;43mlen\u001b[39;49m\u001b[43m)\u001b[49m\n\u001b[32m   1169\u001b[39m \u001b[38;5;28;01mexcept\u001b[39;00m SSLError \u001b[38;5;28;01mas\u001b[39;00m x:\n\u001b[32m   1170\u001b[39m     \u001b[38;5;28;01mif\u001b[39;00m x.args[\u001b[32m0\u001b[39m] == SSL_ERROR_EOF \u001b[38;5;129;01mand\u001b[39;00m \u001b[38;5;28mself\u001b[39m.suppress_ragged_eofs:\n",
      "\u001b[31mKeyboardInterrupt\u001b[39m: "
     ]
    }
   ],
   "source": [
    "result = executor.invoke({\n",
    "    \"input\" : \"오늘 AI 관련 뉴스 최신 5개만 요약해주고 그내용을 csv 로 저장해줘\",\n",
    "    \"YYYYMMDD\" : get_today()\n",
    "})\n",
    "print(result)"
   ]
  },
  {
   "cell_type": "code",
   "execution_count": null,
   "id": "b4b8252a",
   "metadata": {},
   "outputs": [
    {
     "name": "stdout",
     "output_type": "stream",
     "text": [
      "\n",
      "\n",
      "\u001b[1m> Entering new AgentExecutor chain...\u001b[0m\n",
      "\u001b[32;1m\u001b[1;3m\n",
      "Invoking: `tavily_search` with `{'query': '패션 최신 뉴스', 'topic': 'news', 'search_depth': 'advanced', 'time_range': 'day', 'include_images': False}`\n",
      "\n",
      "\n",
      "\u001b[0m\u001b[33;1m\u001b[1;3m{'query': '패션 최신 뉴스', 'follow_up_questions': None, 'answer': None, 'images': [], 'results': [{'url': 'https://www.businessoffashion.com/articles/global-markets/budapest-central-european-fashion-week-talent-incubator-nanushka-vanguards-group/', 'title': 'How Budapest Central European Fashion Week Became a Talent Incubator - The Business of Fashion', 'score': 0.791153073310852, 'published_date': 'Thu, 16 Oct 2025 04:00:00 GMT', 'content': 'Budapest Central European Fashion Week is positioning the Hungarian capital as a gateway to Central Europe’s fashion market — giving regional design talent a platform to showcase their unique collections to international buyers and media. * Fashion Show This week’s round-up of global markets fashion business news also features China’s Shan Future Forum and Saudi Arabia’s new development in Diriyah Square. This week’s round-up of global markets fashion business news also features Chinese textile exports, Kenyan manufacturers and Saudi Arabia’s luxury watch market. Budapest Central European Fashion Week is positioning the Hungarian capital as a gateway to Central Europe’s fashion market — giving regional design talent a platform to showcase their unique collections to international buyers and media.', 'raw_content': None}, {'url': 'https://pagesix.com/2025/10/16/photos/all-the-must-see-victorias-secret-fashion-show-2025-after-party-outfits-from-nina-dobrev-to-irina-shayk/', 'title': 'All the must-see Victoria’s Secret Fashion Show 2025 after party outfits, from Nina Dobrev to Irina Shayk - Page Six', 'score': 0.7711166143417358, 'published_date': 'Thu, 16 Oct 2025 12:34:00 GMT', 'content': \"Email Page Six Photos # All the must-see Victoria’s Secret Fashion Show 2025 after party outfits, from Nina Dobrev to Irina Shayk Nicole Mazza Published  Oct. 16, 2025, 8:34 a.m. ET The Victoria’s Secret Fashion Show 2025 lit up New York City with all the hottest looks on the runway. But once show was over, the fashion didn’t stop, as Nina Dobrev, Irina Shayk and more flocked to the Crane Club to show off their best street fashion and party the night away. Scroll through to see all the best looks from the night. ## The best looks from the Victoria's Secret Fashion Show 2025 runway\", 'raw_content': None}, {'url': 'https://www.vogue.com/article/opulent-humble-and-high-low-10-jewelry-trends-from-the-spring-2026-collections', 'title': 'Opulent, Humble, High-and-Low: 10 Jewelry Trends From the Spring 2026 Collections - Vogue', 'score': 0.7672890424728394, 'published_date': 'Wed, 15 Oct 2025 22:00:00 GMT', 'content': '# Opulent, Humble, High-and-Low: 10 Jewelry Trends From the Spring 2026 Collections Festival necklaces were similarly trending at Celine and Tory Burch, while at Givenchy and Lanvin those beads became gemstones and crystals, *la bohème* replaced by opulence. For an even more decadent vibe, see Saint Laurent and Gucci, where pieces looked more like museum-worthy crown jewels than runway accessories, though if you want something that makes you feel as good as you look, Schiaparelli’s glowing salt rocks might be the ticket. Scroll through for the top jewelry trends at the spring 2026 collections. José Criales-Unzueta is a Fashion News Editor at\\xa0*Vogue*\\xa0Runway, where they cover designers, collections, and industry news with a focus on menswear and queer and digital cultures.', 'raw_content': None}, {'url': 'https://pagesix.com/2025/10/15/photos/all-the-celebrities-at-the-victorias-secret-fashion-show-2025/', 'title': 'Victoria’s Secret Fashion Show 2025 red carpet: See all the celebrity looks - Page Six', 'score': 0.7664742469787598, 'published_date': 'Wed, 15 Oct 2025 22:29:00 GMT', 'content': 'Email Page Six # Victoria’s Secret Fashion Show 2025 red carpet: See all the celebrity looks Farrah Julin Published  Oct. 15, 2025, 6:29 p.m. ET The Angels are back! Celebrities flocked to the pink carpet on Wednesday night to celebrate the Victoria’s Secret Fashion Show 2025. Set to take the catwalk are supermodels including Gigi Hadid, Emily Ratajkowski, Bella Hadid and more. See all the stars who walked the pink carpet here. ## Backstage at the Victoria’s Secret Fashion Show 2025: How models are getting ready for the runway', 'raw_content': None}, {'url': 'https://pagesix.com/2025/10/15/photos/backstage-at-the-victorias-secret-fashion-show-2025-models-getting-ready-for-the-runway/', 'title': 'Backstage at the Victoria’s Secret Fashion Show 2025: How models are getting ready for the runway - Page Six', 'score': 0.7645062208175659, 'published_date': 'Wed, 15 Oct 2025 16:19:00 GMT', 'content': 'Email Page Six # Backstage at the Victoria’s Secret Fashion Show 2025: How models are getting ready for the runway Jacquelyn Kozak Published  Oct. 15, 2025, 12:19 p.m. ET The angels are getting their wings! Ahead of the 2025 Victoria’s Secret Fashion Show, the models took to the glam room to get all dolled up ahead of their big moments on the runway. Ahead, get a backstage look at their beauty routine, from hair to nails to skincare and makeup and beyond. ## Hilaria Baldwin’s transformation through the years', 'raw_content': None}], 'response_time': 1.85, 'request_id': '6b5df86d-b2d8-45be-b9da-7b674fc8c3cc'}\u001b[0m\u001b[32;1m\u001b[1;3m\n",
      "Invoking: `write_file` with `{'file_path': '20251017.csv', 'text': 'date,query,title,url,source,snippet\\n2025-10-16,패션 최신 뉴스,How Budapest Central European Fashion Week Became a Talent Incubator - The Business of Fashion,https://www.businessoffashion.com/articles/global-markets/budapest-central-european-fashion-week-talent-incubator-nanushka-vanguards-group/,businessoffashion.com,\"부다페스트 중앙유럽 패션위크가 헝가리 부다페스트를 중부유럽 패션 시장의 관문으로 자리매김하며 지역 디자이너들의 국제 무대 진출을 지원\"\\n2025-10-16,패션 최신 뉴스,All the must-see Victoria’s Secret Fashion Show 2025 after party outfits, from Nina Dobrev to Irina Shayk - Page Six,https://pagesix.com/2025/10/16/photos/all-the-must-see-victorias-secret-fashion-show-2025-after-party-outfits-from-nina-dobrev-to-irina-shayk/,pagesix.com,\"빅토리아 시크릿 패션쇼 2025가 뉴욕에서 열렸으며, 쇼 후 파티에서 니나 도브레브, 이리나 샤이크 등 유명 인사들의 스트리트 패션이 주목받음\"\\n2025-10-15,패션 최신 뉴스,Opulent, Humble, High-and-Low: 10 Jewelry Trends From the Spring 2026 Collections - Vogue,https://www.vogue.com/article/opulent-humble-and-high-low-10-jewelry-trends-from-the-spring-2026-collections,vogue.com,\"2026년 봄 컬렉션에서 보석 트렌드가 다양하게 나타나며, 세련되고 화려한 주얼리들이 런웨이를 장식함\"\\n2025-10-15,패션 최신 뉴스,Victoria’s Secret Fashion Show 2025 red carpet: See all the celebrity looks - Page Six,https://pagesix.com/2025/10/15/photos/all-the-celebrities-at-the-victorias-secret-fashion-show-2025/,pagesix.com,\"빅토리아 시크릿 패션쇼 2025 레드카펫에 지지 하디드, 에밀리 라타이코프스키 등 슈퍼모델들이 참석해 화려한 스타들의 모습을 선보임\"\\n2025-10-15,패션 최신 뉴스,Backstage at the Victoria’s Secret Fashion Show 2025: How models are getting ready for the runway - Page Six,https://pagesix.com/2025/10/15/photos/backstage-at-the-victorias-secret-fashion-show-2025-models-getting-ready-for-the-runway/,pagesix.com,\"빅토리아 시크릿 패션쇼 2025를 앞두고 모델들이 백스테이지에서 메이크업과 헤어 준비를 하는 모습이 공개됨\"'}`\n",
      "responded: 오늘 패션 관련 최신 뉴스 5개 요약입니다.\n",
      "\n",
      "1. 부다페스트 중앙유럽 패션위크가 헝가리 부다페스트를 중부유럽 패션 시장의 관문으로 자리매김하며 지역 디자이너들의 국제 무대 진출을 지원하고 있음.\n",
      "2. 빅토리아 시크릿 패션쇼 2025가 뉴욕에서 열렸으며, 쇼 후 파티에서 니나 도브레브, 이리나 샤이크 등 유명 인사들의 스트리트 패션이 주목받음.\n",
      "3. 2026년 봄 컬렉션에서 보석 트렌드가 다양하게 나타나며, 세련되고 화려한 주얼리들이 런웨이를 장식함.\n",
      "4. 빅토리아 시크릿 패션쇼 2025 레드카펫에 지지 하디드, 에밀리 라타이코프스키 등 슈퍼모델들이 참석해 화려한 스타들의 모습을 선보임.\n",
      "5. 빅토리아 시크릿 패션쇼 2025를 앞두고 모델들이 백스테이지에서 메이크업과 헤어 준비를 하는 모습이 공개됨.\n",
      "\n",
      "이 내용을 csv로 저장하겠습니다.\n",
      "\n",
      "\u001b[0m\u001b[38;5;200m\u001b[1;3mFile written successfully to 20251017.csv.\u001b[0m\u001b[32;1m\u001b[1;3m\n",
      "Invoking: `read_file` with `{'file_path': '20251017.csv'}`\n",
      "\n",
      "\n",
      "\u001b[0m\u001b[33;1m\u001b[1;3mdate,query,title,url,source,snippet\n",
      "2025-10-16,패션 최신 뉴스,How Budapest Central European Fashion Week Became a Talent Incubator - The Business of Fashion,https://www.businessoffashion.com/articles/global-markets/budapest-central-european-fashion-week-talent-incubator-nanushka-vanguards-group/,businessoffashion.com,\"부다페스트 중앙유럽 패션위크가 헝가리 부다페스트를 중부유럽 패션 시장의 관문으로 자리매김하며 지역 디자이너들의 국제 무대 진출을 지원\"\n",
      "2025-10-16,패션 최신 뉴스,All the must-see Victoria’s Secret Fashion Show 2025 after party outfits, from Nina Dobrev to Irina Shayk - Page Six,https://pagesix.com/2025/10/16/photos/all-the-must-see-victorias-secret-fashion-show-2025-after-party-outfits-from-nina-dobrev-to-irina-shayk/,pagesix.com,\"빅토리아 시크릿 패션쇼 2025가 뉴욕에서 열렸으며, 쇼 후 파티에서 니나 도브레브, 이리나 샤이크 등 유명 인사들의 스트리트 패션이 주목받음\"\n",
      "2025-10-15,패션 최신 뉴스,Opulent, Humble, High-and-Low: 10 Jewelry Trends From the Spring 2026 Collections - Vogue,https://www.vogue.com/article/opulent-humble-and-high-low-10-jewelry-trends-from-the-spring-2026-collections,vogue.com,\"2026년 봄 컬렉션에서 보석 트렌드가 다양하게 나타나며, 세련되고 화려한 주얼리들이 런웨이를 장식함\"\n",
      "2025-10-15,패션 최신 뉴스,Victoria’s Secret Fashion Show 2025 red carpet: See all the celebrity looks - Page Six,https://pagesix.com/2025/10/15/photos/all-the-celebrities-at-the-victorias-secret-fashion-show-2025/,pagesix.com,\"빅토리아 시크릿 패션쇼 2025 레드카펫에 지지 하디드, 에밀리 라타이코프스키 등 슈퍼모델들이 참석해 화려한 스타들의 모습을 선보임\"\n",
      "2025-10-15,패션 최신 뉴스,Backstage at the Victoria’s Secret Fashion Show 2025: How models are getting ready for the runway - Page Six,https://pagesix.com/2025/10/15/photos/backstage-at-the-victorias-secret-fashion-show-2025-models-getting-ready-for-the-runway/,pagesix.com,\"빅토리아 시크릿 패션쇼 2025를 앞두고 모델들이 백스테이지에서 메이크업과 헤어 준비를 하는 모습이 공개됨\"\u001b[0m\u001b[32;1m\u001b[1;3m저장된 csv 파일 20251017.csv 하위 5줄 내용입니다.\n",
      "\n",
      "2025-10-16,패션 최신 뉴스,How Budapest Central European Fashion Week Became a Talent Incubator - The Business of Fashion,https://www.businessoffashion.com/articles/global-markets/budapest-central-european-fashion-week-talent-incubator-nanushka-vanguards-group/,businessoffashion.com,\"부다페스트 중앙유럽 패션위크가 헝가리 부다페스트를 중부유럽 패션 시장의 관문으로 자리매김하며 지역 디자이너들의 국제 무대 진출을 지원\"\n",
      "2025-10-16,패션 최신 뉴스,All the must-see Victoria’s Secret Fashion Show 2025 after party outfits, from Nina Dobrev to Irina Shayk - Page Six,https://pagesix.com/2025/10/16/photos/all-the-must-see-victorias-secret-fashion-show-2025-after-party-outfits-from-nina-dobrev-to-irina-shayk/,pagesix.com,\"빅토리아 시크릿 패션쇼 2025가 뉴욕에서 열렸으며, 쇼 후 파티에서 니나 도브레브, 이리나 샤이크 등 유명 인사들의 스트리트 패션이 주목받음\"\n",
      "2025-10-15,패션 최신 뉴스,Opulent, Humble, High-and-Low: 10 Jewelry Trends From the Spring 2026 Collections - Vogue,https://www.vogue.com/article/opulent-humble-and-high-low-10-jewelry-trends-from-the-spring-2026-collections,vogue.com,\"2026년 봄 컬렉션에서 보석 트렌드가 다양하게 나타나며, 세련되고 화려한 주얼리들이 런웨이를 장식함\"\n",
      "2025-10-15,패션 최신 뉴스,Victoria’s Secret Fashion Show 2025 red carpet: See all the celebrity looks - Page Six,https://pagesix.com/2025/10/15/photos/all-the-celebrities-at-the-victorias-secret-fashion-show-2025/,pagesix.com,\"빅토리아 시크릿 패션쇼 2025 레드카펫에 지지 하디드, 에밀리 라타이코프스키 등 슈퍼모델들이 참석해 화려한 스타들의 모습을 선보임\"\n",
      "2025-10-15,패션 최신 뉴스,Backstage at the Victoria’s Secret Fashion Show 2025: How models are getting ready for the runway - Page Six,https://pagesix.com/2025/10/15/photos/backstage-at-the-victorias-secret-fashion-show-2025-models-getting-ready-for-the-runway/,pagesix.com,\"빅토리아 시크릿 패션쇼 2025를 앞두고 모델들이 백스테이지에서 메이크업과 헤어 준비를 하는 모습이 공개됨\"\u001b[0m\n",
      "\n",
      "\u001b[1m> Finished chain.\u001b[0m\n",
      "{'input': '오늘 패션 관련 뉴스 최신 5개만 요약해주고 그 내용을 csv 로 저장해줘. 그리고 하위 5개 보여줘', 'YYYYMMDD': '20251017', 'output': '저장된 csv 파일 20251017.csv 하위 5줄 내용입니다.\\n\\n2025-10-16,패션 최신 뉴스,How Budapest Central European Fashion Week Became a Talent Incubator - The Business of Fashion,https://www.businessoffashion.com/articles/global-markets/budapest-central-european-fashion-week-talent-incubator-nanushka-vanguards-group/,businessoffashion.com,\"부다페스트 중앙유럽 패션위크가 헝가리 부다페스트를 중부유럽 패션 시장의 관문으로 자리매김하며 지역 디자이너들의 국제 무대 진출을 지원\"\\n2025-10-16,패션 최신 뉴스,All the must-see Victoria’s Secret Fashion Show 2025 after party outfits, from Nina Dobrev to Irina Shayk - Page Six,https://pagesix.com/2025/10/16/photos/all-the-must-see-victorias-secret-fashion-show-2025-after-party-outfits-from-nina-dobrev-to-irina-shayk/,pagesix.com,\"빅토리아 시크릿 패션쇼 2025가 뉴욕에서 열렸으며, 쇼 후 파티에서 니나 도브레브, 이리나 샤이크 등 유명 인사들의 스트리트 패션이 주목받음\"\\n2025-10-15,패션 최신 뉴스,Opulent, Humble, High-and-Low: 10 Jewelry Trends From the Spring 2026 Collections - Vogue,https://www.vogue.com/article/opulent-humble-and-high-low-10-jewelry-trends-from-the-spring-2026-collections,vogue.com,\"2026년 봄 컬렉션에서 보석 트렌드가 다양하게 나타나며, 세련되고 화려한 주얼리들이 런웨이를 장식함\"\\n2025-10-15,패션 최신 뉴스,Victoria’s Secret Fashion Show 2025 red carpet: See all the celebrity looks - Page Six,https://pagesix.com/2025/10/15/photos/all-the-celebrities-at-the-victorias-secret-fashion-show-2025/,pagesix.com,\"빅토리아 시크릿 패션쇼 2025 레드카펫에 지지 하디드, 에밀리 라타이코프스키 등 슈퍼모델들이 참석해 화려한 스타들의 모습을 선보임\"\\n2025-10-15,패션 최신 뉴스,Backstage at the Victoria’s Secret Fashion Show 2025: How models are getting ready for the runway - Page Six,https://pagesix.com/2025/10/15/photos/backstage-at-the-victorias-secret-fashion-show-2025-models-getting-ready-for-the-runway/,pagesix.com,\"빅토리아 시크릿 패션쇼 2025를 앞두고 모델들이 백스테이지에서 메이크업과 헤어 준비를 하는 모습이 공개됨\"'}\n"
     ]
    }
   ],
   "source": [
    "result = executor.invoke({\n",
    "    \"input\" : \"오늘 패션 관련 뉴스 최신 5개만 요약해주고 그 내용을 csv 로 저장해줘. 그리고 하위 5개 보여줘\",\n",
    "    \"YYYYMMDD\" : get_today()\n",
    "})\n",
    "print(result)"
   ]
  },
  {
   "cell_type": "code",
   "execution_count": null,
   "id": "89396827",
   "metadata": {},
   "outputs": [
    {
     "data": {
      "text/plain": [
       "[QuerySQLDatabaseTool(description=\"Input to this tool is a detailed and correct SQL query, output is a result from the database. If the query is not correct, an error message will be returned. If an error is returned, rewrite the query, check the query, and try again. If you encounter an issue with Unknown column 'xxxx' in 'field list', use sql_db_schema to query the correct table fields.\", db=<langchain_community.utilities.sql_database.SQLDatabase object at 0x151149450>),\n",
       " InfoSQLDatabaseTool(description='Input to this tool is a comma-separated list of tables, output is the schema and sample rows for those tables. Be sure that the tables actually exist by calling sql_db_list_tables first! Example Input: table1, table2, table3', db=<langchain_community.utilities.sql_database.SQLDatabase object at 0x151149450>),\n",
       " ListSQLDatabaseTool(db=<langchain_community.utilities.sql_database.SQLDatabase object at 0x151149450>),\n",
       " QuerySQLCheckerTool(description='Use this tool to double check if your query is correct before executing it. Always use this tool before executing a query with sql_db_query!', db=<langchain_community.utilities.sql_database.SQLDatabase object at 0x151149450>, llm=ChatOpenAI(client=<openai.resources.chat.completions.completions.Completions object at 0x14741ea10>, async_client=<openai.resources.chat.completions.completions.AsyncCompletions object at 0x1473b0590>, root_client=<openai.OpenAI object at 0x14741c110>, root_async_client=<openai.AsyncOpenAI object at 0x1454e5c50>, model_name='gpt-4.1-mini', temperature=0.0, model_kwargs={}, openai_api_key=SecretStr('**********'), stream_usage=True), llm_chain=LLMChain(verbose=False, prompt=PromptTemplate(input_variables=['dialect', 'query'], input_types={}, partial_variables={}, template='\\n{query}\\nDouble check the {dialect} query above for common mistakes, including:\\n- Using NOT IN with NULL values\\n- Using UNION when UNION ALL should have been used\\n- Using BETWEEN for exclusive ranges\\n- Data type mismatch in predicates\\n- Properly quoting identifiers\\n- Using the correct number of arguments for functions\\n- Casting to the correct data type\\n- Using the proper columns for joins\\n\\nIf there are any of the above mistakes, rewrite the query. If there are no mistakes, just reproduce the original query.\\n\\nOutput the final SQL query only.\\n\\nSQL Query: '), llm=ChatOpenAI(client=<openai.resources.chat.completions.completions.Completions object at 0x14741ea10>, async_client=<openai.resources.chat.completions.completions.AsyncCompletions object at 0x1473b0590>, root_client=<openai.OpenAI object at 0x14741c110>, root_async_client=<openai.AsyncOpenAI object at 0x1454e5c50>, model_name='gpt-4.1-mini', temperature=0.0, model_kwargs={}, openai_api_key=SecretStr('**********'), stream_usage=True), output_parser=StrOutputParser(), llm_kwargs={}))]"
      ]
     },
     "execution_count": 24,
     "metadata": {},
     "output_type": "execute_result"
    }
   ],
   "source": [
    "from langchain_community.agent_toolkits import SQLDatabaseToolkit\n",
    "from langchain_community.utilities.sql_database import SQLDatabase\n",
    "db = SQLDatabase.from_uri(\"sqlite:///../10_agent_result/wanted3.db\")\n",
    "toolkit = SQLDatabaseToolkit(db=db,llm=llm).get_tools()\n",
    "toolkit"
   ]
  },
  {
   "cell_type": "code",
   "execution_count": 47,
   "id": "b5a1f592",
   "metadata": {},
   "outputs": [],
   "source": [
    "SYSTEM_PROMPT = \"\"\"\n",
    "1. 사용 가능한 도구 (Available Tools)\n",
    "당신은 다음 두 가지 유형의 도구를 사용할 수 있습니다.\n",
    "\n",
    "웹 검색 도구 (Tavily Search):\n",
    "\n",
    "주어진 검색어로 웹을 검색하고, 관련성 높은 결과를 JSON 형식으로 반환합니다. 이 결과를 데이터베이스에 저장할 정보의 소스로 사용해야 합니다.\n",
    "SQL 데이터베이스 도구 (SQLDatabaseToolkit):\n",
    "sqlite:///../10_agent_result/wanted2.db 데이터베이스와 상호작용하는 도구 세트입니다.\n",
    "주요 기능:\n",
    "list_tables: 데이터베이스에 있는 테이블 목록을 확인합니다.\n",
    "schema_of_tables: 특정 테이블의 스키마(컬럼명, 데이터 타입 등)를 조회합니다. 데이터를 삽입하기 전, 반드시 이 기능으로 목표 테이블의 구조를 확인해야 합니다.\n",
    "query_sql_db: SQL 쿼리를 실행합니다. 검색 결과를 저장하기 위해 INSERT 문을 실행하는 것이 주된 용도입니다.\n",
    "query_checker_sql_db: 실행할 SQL 쿼리의 문법이 올바른지 검사합니다.\n",
    "\n",
    "2. 핵심 작업 흐름 (Core Workflow)\n",
    "당신은 다음 단계를 반드시 순서대로 따라야 합니다.\n",
    "요청 분석 (Analyze Request):\n",
    "사용자의 질문을 명확히 이해하여 웹에서 어떤 정보를 검색해야 하는지 핵심 키워드를 파악합니다.\n",
    "웹 검색 수행 (Perform Web Search):\n",
    "Tavily Search 도구를 사용하여 요청에 맞는 정보를 검색합니다.\n",
    "테이블이 없을경우 적당하게 만듭니다\n",
    "데이터베이스 구조 확인 (Inspect DB Schema):\n",
    "list_tables 도구로 저장할 테이블이 무엇인지 확인합니다.\n",
    "schema_of_tables 도구로 해당 테이블의 정확한 스키마(컬럼명, 데이터 타입)를 파악합니다. 이 단계는 데이터를 올바른 형식으로 가공하기 위해 필수적입니다.\n",
    "데이터 가공 및 SQL 생성 (Process Data & Generate SQL):\n",
    "웹 검색 결과(JSON)를 파싱(parsing)하여 데이터베이스 테이블 스키마에 맞게 데이터를 정리합니다.\n",
    "정리된 데이터를 테이블에 삽입하기 위한 SQL INSERT 문을 생성합니다.\n",
    "데이터베이스에 저장 (Save to Database):\n",
    "생성한 INSERT 문을 query_sql_db 도구로 실행하여 데이터베이스에 검색 결과를 저장합니다.\n",
    "최종 보고 (Final Report):\n",
    "데이터 저장이 성공적으로 완료되었음을 사용자에게 명확하고 간결하게 보고합니다. (예: \"요청하신 'X'에 대한 웹 검색 결과를 DB에 성공적으로 저장했습니다.\")\n",
    "\n",
    "3. 규칙 및 제약 조건 (Rules & Constraints)\n",
    "추측 금지: 절대로 정보를 임의로 생성하거나 추측하지 마세요. 모든 데이터는 반드시 Tavily Search를 통해 얻은 결과에 기반해야 합니다.\n",
    "도구 우선 사용: 정보 검색과 데이터 저장을 위해서는 반드시 제공된 도구를 사용해야 합니다.\n",
    "작업 흐름 준수: 반드시 위에 명시된 핵심 작업 흐름의 순서를 지켜야 합니다. 특히, 스키마를 확인하기 전에 INSERT를 시도해서는 안 됩니다.\n",
    "오류 처리: SQL 쿼리 실행 중 오류가 발생하면, query_checker_sql_db를 사용해 쿼리를 검사하고 수정하여 다시 시도하세요.\n",
    "간결한 최종 답변: 사용자와의 최종 상호작용에서는 내부적인 생각이나 도구 사용 과정을 장황하게 설명하지 말고, 작업 완료 여부와 결과만 간결하게 전달하세요.\n",
    "\"\"\""
   ]
  },
  {
   "cell_type": "code",
   "execution_count": 48,
   "id": "ebbe29d7",
   "metadata": {},
   "outputs": [],
   "source": [
    "llm = ChatOpenAI(model=\"gpt-4.1-mini\", temperature=0)\n",
    "\n",
    "total_tool = toolkit + [tavily_search]\n",
    "\n",
    "prompt = ChatPromptTemplate.from_messages(\n",
    "    [\n",
    "        (\"system\", SYSTEM_PROMPT),\n",
    "        (\"human\", \"{input}\"),\n",
    "        (\"placeholder\", \"{agent_scratchpad}\"),\n",
    "    ]\n",
    ")\n",
    "\n",
    "agent = create_openai_tools_agent(llm=llm, tools=total_tool, prompt=prompt)\n",
    "\n",
    "executor = AgentExecutor(agent=agent, tools=total_tool, verbose=True)"
   ]
  },
  {
   "cell_type": "code",
   "execution_count": 49,
   "id": "672319ba",
   "metadata": {},
   "outputs": [
    {
     "name": "stdout",
     "output_type": "stream",
     "text": [
      "\n",
      "\n",
      "\u001b[1m> Entering new AgentExecutor chain...\u001b[0m\n",
      "\u001b[32;1m\u001b[1;3m\n",
      "Invoking: `tavily_search` with `{'query': 'latest NPU news', 'search_depth': 'advanced', 'topic': 'general', 'include_favicon': True}`\n",
      "\n",
      "\n",
      "\u001b[0m\u001b[33;1m\u001b[1;3m{'query': 'latest NPU news', 'follow_up_questions': None, 'answer': None, 'images': [], 'results': [{'url': 'https://www.techpowerup.com/news-tags/NPU', 'title': \"News Posts matching 'NPU'\", 'content': '# Intel \"Nova Lake-S\" Core Ultra 3, Ultra 5, Ultra 7, and Ultra 9 Core Configurations Surface\\n\\n# QNAP Unveils the New QAI-M100 and QAI-U100 Edge AI Accelerators\\n\\n# AMD and Stability AI Enable Local AI Image Generation on NPU-Powered Laptops\\n\\n# Intel Skips NPU Upgrade for Arrow Lake Refresh, AMD Cancels Medusa Halo in Latest Rumors\\n\\n# Intel Plans \"Arrow Lake Refresh\" for H2\\u202f2025 with Higher Clocks and Upgraded NPU\\n\\n# AMD UDNA Graphics Architecture to Power Next-Gen Xbox and PlayStation [...] # News Posts matching #NPU\\n\\n# Synaptics Launches the Next Generation of Astra Multimodal GenAI Edge Processors\\n\\n# Console Wars: Next-Generation Xbox Could Outperform PlayStation 6\\n\\n# Intel Updates NPU Driver to Support Android for PC Project\\n\\n# Zhaoxin KH-50000 CPU Family Brings 96 Cores, DDR5, and ZPI 5.0\\n\\n# ASUS Announces ExpertCenter P600 AiO\\n\\n# MediaTek Dimensity 9500 Unleashes Best-in-Class Performance, AI Experiences, and Power Efficiency for the Next Generation of Mobile Devices [...] # Intel Core Ultra 3 205 Gets Early Review\\n\\n# ASUS Announces ExpertCenter P700 Series\\n\\n# Intel Confirms \"Arrow Lake Refresh\" Next Year, \"Nova Lake\" Scheduled for Late 2026\\n\\n# Lenovo Announces New Legion Gaming Devices, AI Tablets, and AI-Powered Software\\n\\n# Meet Samsung Galaxy Tab S11 Series: Packing Everything You Expect From a Premium Tablet\\n\\n# Acer Intros Chromebook Plus Spin 514 - First Acer Chromebook with MediaTek Kompanio Ultra Processor', 'score': 0.7596005, 'raw_content': None, 'favicon': 'https://tpucdn.com/apple-touch-icon-v1760099501.png'}, {'url': 'https://joshuaberkowitz.us/blog/news-1/coral-npu-powering-a-new-era-of-private-efficient-edge-ai-1473', 'title': 'Coral NPU: Powering a New Era of Private, Efficient Edge AI', 'content': \"#### Our latest content\\n\\nCheck out what's new !\\n\\nAds\\n\\n#### Prompt Maker Image Generator\\n\\nStruggling with the perfect AI image prompt? My free app helps you generate brilliant ideas and instantly creates an image to match. Go from concept to creation in two clicks!\\n\\nTry It\\n\\n## Most Popular Articles\\n\\nCheck out what the hot topics are!\\n\\n## Every shirt tells a story—and every story\\n\\n## #ClothingForACause\\n\\n## Stay Ahead of the Pack\\n\\nBe the first to find out all the latest News & Research [...] Coral NPU marks a pivotal step toward private, efficient, and intelligent edge computing. Its open-source, unified platform empowers developers and hardware partners to collaborate on the next generation of AI-enabled devices—making context-aware, secure, always-on AI a reality everywhere.\\n\\nSource: Google Research Blog\\n\\nCoral NPU: Powering a New Era of Private, Efficient Edge AI\\n\\n###### Share this post\\n\\n###### Tags\\n\\n###### blogs\\n\\n## Get All The Latest Research & News!\\n\\nThanks for registering! [...] Open-source hardware thrives through collaboration. Google’s partnership with Synaptics, who introduced the first commercial SoC using Coral NPU, demonstrates this momentum. The Torq™ NPU brings transformer-ready, dynamic AI to IoT, supported by open-source runtimes and compilers.\\n\\nThis partnership exemplifies Coral NPU’s vision: creating an open standard that accelerates innovation and adoption in edge AI.\\n\\n#### A Foundation for the Future of Personal AI\", 'score': 0.6364215, 'raw_content': None, 'favicon': 'https://joshuaberkowitz.us/web/image/website/1/favicon?unique=88c232d'}, {'url': 'https://www.techpowerup.com/341594/intel-updates-npu-driver-to-support-android-for-pc-project', 'title': 'Intel Updates NPU Driver to Support Android for PC Project', 'content': 'Sep 3rd 2025 NVIDIA Discrete GPU Market Share Dominance Expands to 94%, Notes Report (237)\\n Jan 6th 2025 AMD Debuts Radeon RX 9070 XT and RX 9070 Powered by RDNA 4, and FSR 4 (360)\\n Aug 27th 2025 AMD\\'s Next-Gen UDNA: Four Die Sizes, One Potential 96-CU Flagship (87)\\n Jul 23rd 2025 DDR6 Memory Arrives in 2027 with 8,800-17,600\\u202fMT/s Speeds (105)\\n Dec 10th 2024 Microsoft Loosens Windows 11 Install Requirements, TPM 2.0 Not Needed Anymore (85) [...] Intel has today pushed an update to its NPU driver for Linux, impacting Core Ultra \"Meteor Lake\", \"Arrow Lake,\" and \"Lunar Lake\" processors. However, among the list of changes spotted by X user @SquashBionic is an interesting support for the Android platform, likely hinting at the Android for PC project. At Qualcomm\\'s 10th annual Snapdragon Summit, Google teased its Android for PC project, and Qualcomm\\'s CEO described it as very impressive. Google plans to merge its ChromeOS and Android for PC [...] Aug 18th 2025 Microsoft Windows 11 24H2 Update May Cause SSD Failures (271)\\n Jul 24th 2025 Intel \"Nova Lake-S\" Core Ultra 3, Ultra 5, Ultra 7, and Ultra 9 Core Configurations Surface (115)\\n Sep 18th 2025 NVIDIA Buys $5B Worth of Intel, RTX iGPUs Coming to x86, Shares up 25% (256)\\n Sep 8th 2025 AMD Claims Arm ISA Doesn\\'t Offer Efficiency Advantage Over x86 (75)\\n Oct 1st 2025 Microsoft Releases Windows 11 25H2... With Zero New Features? (96)', 'score': 0.6279746, 'raw_content': None, 'favicon': 'https://tpucdn.com/apple-touch-icon-v1760099501.png'}, {'url': 'https://developers.googleblog.com/en/introducing-coral-npu-a-full-stack-platform-for-edge-ai/', 'title': 'Introducing Coral NPU: A full-stack platform for Edge AI', 'content': 'Open hardware projects rely on strong partnerships to succeed. To that end, we’re collaborating with Synaptics, our first strategic silicon partner and a leader in embedded compute, wireless connectivity, and multimodal sensing for the IoT. Today, at their Tech Day, Synaptics announced their new Astra™ SL2610 line of AI-Native IoT Processors. This product line features their Torq™ NPU subsystem, the industry’s first production implementation of the Coral NPU architecture. The NPU’s design is [...] Open hardware projects rely on strong partnerships to succeed. To that end, we’re collaborating with Synaptics, our first strategic silicon partner and a leader in embedded compute, wireless connectivity, and multimodal sensing for the IoT. Today, at their Tech Day, Synaptics announced their new Astra™ SL2610 line of AI-Native IoT Processors. This product line features their Torq™ NPU subsystem, the industry’s first production implementation of the Coral NPU architecture. The NPU’s design is [...] Today we introduce Coral NPU, a full-stack platform that builds on our original work from Coral to provide hardware designers and ML developers with the tools needed to build the next generation of private, efficient edge AI devices. Co-designed in partnership with Google Research and Google DeepMind, Coral NPU is an AI-first hardware architecture built to enable the next generation of ultra-low-power, always-on edge AI. It offers a unified developer experience, making it easier to deploy', 'score': 0.5617203, 'raw_content': None, 'favicon': 'https://storage.googleapis.com/gweb-developer-goog-blog-assets/meta/apple-touch-icon.png'}, {'url': 'https://www.eetimes.com/google-open-sources-npu-ip-synaptics-implements-it/', 'title': 'Google Open-Sources NPU IP, Synaptics Implements It', 'content': 'Google Research has open-sourced its Coral NPU IP (previously codenamed Kelvin), which it is giving to the industry in a bid to accelerate', 'score': 0.45551404, 'raw_content': None, 'favicon': 'https://www.eetimes.com/wp-content/uploads/2019/12/favicon.ico'}], 'response_time': 3.52, 'request_id': '1b617049-3abc-4a3e-b926-f596b40a73f0'}\u001b[0m\u001b[32;1m\u001b[1;3m최신 NPU 관련 뉴스 5개는 다음과 같습니다.\n",
      "\n",
      "1. Intel이 Core Ultra \"Meteor Lake\", \"Arrow Lake,\" \"Lunar Lake\" 프로세서용 NPU 드라이버를 업데이트하며 Android 플랫폼 지원 추가 (출처: techpowerup.com)\n",
      "2. Google과 Synaptics가 협력하여 Coral NPU라는 오픈소스 NPU 아키텍처를 기반으로 한 Astra SL2610 AI-Native IoT 프로세서 발표 (출처: developers.googleblog.com)\n",
      "3. Google Research가 Coral NPU IP를 오픈소스로 공개하고 Synaptics가 이를 구현 (출처: eetimes.com)\n",
      "4. Coral NPU가 개인용, 효율적인 엣지 AI를 위한 새로운 시대를 열고 있으며, 오픈소스 하드웨어와 협업을 통해 발전 중 (출처: joshuaberkowitz.us)\n",
      "5. Intel이 NPU 드라이버를 업데이트하여 Android for PC 프로젝트 지원을 추가 (출처: techpowerup.com)\n",
      "\n",
      "필요하면 더 자세한 내용을 알려드릴 수 있습니다.\u001b[0m\n",
      "\n",
      "\u001b[1m> Finished chain.\u001b[0m\n",
      "{'input': '최신 NPU 관련 뉴스 5개 찾아서 알려줘', 'output': '최신 NPU 관련 뉴스 5개는 다음과 같습니다.\\n\\n1. Intel이 Core Ultra \"Meteor Lake\", \"Arrow Lake,\" \"Lunar Lake\" 프로세서용 NPU 드라이버를 업데이트하며 Android 플랫폼 지원 추가 (출처: techpowerup.com)\\n2. Google과 Synaptics가 협력하여 Coral NPU라는 오픈소스 NPU 아키텍처를 기반으로 한 Astra SL2610 AI-Native IoT 프로세서 발표 (출처: developers.googleblog.com)\\n3. Google Research가 Coral NPU IP를 오픈소스로 공개하고 Synaptics가 이를 구현 (출처: eetimes.com)\\n4. Coral NPU가 개인용, 효율적인 엣지 AI를 위한 새로운 시대를 열고 있으며, 오픈소스 하드웨어와 협업을 통해 발전 중 (출처: joshuaberkowitz.us)\\n5. Intel이 NPU 드라이버를 업데이트하여 Android for PC 프로젝트 지원을 추가 (출처: techpowerup.com)\\n\\n필요하면 더 자세한 내용을 알려드릴 수 있습니다.'}\n"
     ]
    }
   ],
   "source": [
    "result = executor.invoke({\"input\":\"최신 NPU 관련 뉴스 5개 찾아서 알려줘\"})\n",
    "print(result)"
   ]
  },
  {
   "cell_type": "code",
   "execution_count": null,
   "id": "65240986",
   "metadata": {},
   "outputs": [],
   "source": []
  }
 ],
 "metadata": {
  "kernelspec": {
   "display_name": "potenup_10",
   "language": "python",
   "name": "python3"
  },
  "language_info": {
   "codemirror_mode": {
    "name": "ipython",
    "version": 3
   },
   "file_extension": ".py",
   "mimetype": "text/x-python",
   "name": "python",
   "nbconvert_exporter": "python",
   "pygments_lexer": "ipython3",
   "version": "3.11.13"
  }
 },
 "nbformat": 4,
 "nbformat_minor": 5
}
