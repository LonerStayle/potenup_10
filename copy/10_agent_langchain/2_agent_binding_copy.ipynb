{
 "cells": [
  {
   "cell_type": "code",
   "execution_count": null,
   "id": "d71c9f82",
   "metadata": {},
   "outputs": [],
   "source": [
    "from dotenv import load_ditenv\n",
    "load_ditenv()\n",
    "\n",
    "from langchain_core.tools import tool\n",
    "\n"
   ]
  }
 ],
 "metadata": {
  "kernelspec": {
   "display_name": "potenup_10",
   "language": "python",
   "name": "python3"
  },
  "language_info": {
   "name": "python",
   "version": "3.11.13"
  }
 },
 "nbformat": 4,
 "nbformat_minor": 5
}
