{
 "cells": [
  {
   "cell_type": "markdown",
   "id": "239e3f20",
   "metadata": {},
   "source": [
    "### 파이썬 데코레이터\n",
    "- 함수나 메서드를 감싸서(wrap) 그 동작을 확장하거나 수정할 수 있는 문법\n",
    "- 로깅,권한 검사, 추가 기능 -> 전체 다바꾸지 않고 쉽게 기능을 추가"
   ]
  },
  {
   "cell_type": "code",
   "execution_count": 19,
   "id": "382f9213",
   "metadata": {},
   "outputs": [
    {
     "data": {
      "text/plain": [
       "'안녕하세요 이진섭님'"
      ]
     },
     "execution_count": 19,
     "metadata": {},
     "output_type": "execute_result"
    }
   ],
   "source": [
    "def greet(name):\n",
    "    return f\"안녕하세요 {name}님\"\n",
    "\n",
    "greet(\"이진섭\")"
   ]
  },
  {
   "cell_type": "code",
   "execution_count": 20,
   "id": "bba2d074",
   "metadata": {},
   "outputs": [
    {
     "name": "stdout",
     "output_type": "stream",
     "text": [
      "안녕하세요 황화인님\n"
     ]
    }
   ],
   "source": [
    "say = greet\n",
    "print(say(\"황화인\"))"
   ]
  },
  {
   "cell_type": "code",
   "execution_count": 21,
   "id": "a941bb97",
   "metadata": {},
   "outputs": [],
   "source": [
    "def call_func(func,arg):\n",
    "    return func(arg)"
   ]
  },
  {
   "cell_type": "code",
   "execution_count": 22,
   "id": "57f684ee",
   "metadata": {},
   "outputs": [
    {
     "data": {
      "text/plain": [
       "'안녕하세요 장찬영님'"
      ]
     },
     "execution_count": 22,
     "metadata": {},
     "output_type": "execute_result"
    }
   ],
   "source": [
    "call_func(greet,\"장찬영\")"
   ]
  },
  {
   "cell_type": "code",
   "execution_count": 23,
   "id": "9ad463e0",
   "metadata": {},
   "outputs": [],
   "source": [
    "def my_decorator(func):\n",
    "    def wrappter():\n",
    "        print(\"함수 실행전\")\n",
    "        func()\n",
    "        print(\"함수 실행 후\")\n",
    "    return wrappter"
   ]
  },
  {
   "cell_type": "code",
   "execution_count": 24,
   "id": "24180b85",
   "metadata": {},
   "outputs": [
    {
     "name": "stdout",
     "output_type": "stream",
     "text": [
      "함수 실행전\n",
      "안녕하세요\n",
      "함수 실행 후\n"
     ]
    }
   ],
   "source": [
    "@my_decorator\n",
    "def say_hello():\n",
    "    print(\"안녕하세요\")\n",
    "say_hello()"
   ]
  },
  {
   "cell_type": "code",
   "execution_count": 25,
   "id": "0a701ab0",
   "metadata": {},
   "outputs": [],
   "source": [
    "def my_decorator(func):\n",
    "    def wrapper(*args, **kwargs):\n",
    "        print(\"함수 실행전\")\n",
    "        result = func(*args, **kwargs)\n",
    "        print(\"함수 실행 후\")\n",
    "        return result\n",
    "    return wrapper"
   ]
  },
  {
   "cell_type": "code",
   "execution_count": 26,
   "id": "9c71a3a5",
   "metadata": {},
   "outputs": [],
   "source": [
    "@my_decorator\n",
    "def hello_custom(name, greeting = \"반가워요\"):\n",
    "    print(name,\"님\",greeting)"
   ]
  },
  {
   "cell_type": "code",
   "execution_count": 27,
   "id": "434d194c",
   "metadata": {},
   "outputs": [
    {
     "name": "stdout",
     "output_type": "stream",
     "text": [
      "함수 실행전\n",
      "이진섭 님 반가워요\n",
      "함수 실행 후\n"
     ]
    }
   ],
   "source": [
    "hello_custom(\"이진섭\")"
   ]
  },
  {
   "cell_type": "code",
   "execution_count": null,
   "id": "432e1d39",
   "metadata": {},
   "outputs": [],
   "source": []
  }
 ],
 "metadata": {
  "kernelspec": {
   "display_name": "potenup_10",
   "language": "python",
   "name": "python3"
  },
  "language_info": {
   "codemirror_mode": {
    "name": "ipython",
    "version": 3
   },
   "file_extension": ".py",
   "mimetype": "text/x-python",
   "name": "python",
   "nbconvert_exporter": "python",
   "pygments_lexer": "ipython3",
   "version": "3.11.13"
  }
 },
 "nbformat": 4,
 "nbformat_minor": 5
}
