{
 "cells": [
  {
   "cell_type": "markdown",
   "id": "c4f40033",
   "metadata": {},
   "source": [
    "#### 랭스미스 추적 설정"
   ]
  },
  {
   "cell_type": "code",
   "execution_count": 1,
   "id": "e1787fc6",
   "metadata": {},
   "outputs": [],
   "source": [
    "from dotenv import load_dotenv\n",
    "load_dotenv()\n",
    "\n",
    "import os\n",
    "project_name=\"default\"\n",
    "os.environ[\"LANGSMITH_PROJECT\"] = project_name\n"
   ]
  },
  {
   "cell_type": "markdown",
   "id": "9e8aedf4",
   "metadata": {},
   "source": [
    "#### 연결 확인"
   ]
  },
  {
   "cell_type": "code",
   "execution_count": 2,
   "id": "ff8801c8",
   "metadata": {},
   "outputs": [],
   "source": [
    "from langchain_openai import ChatOpenAI\n",
    "model = ChatOpenAI(\n",
    "    temperature=0.7,\n",
    "    model = \"gpt-4.1-mini\",\n",
    "    verbose=True\n",
    ")"
   ]
  },
  {
   "cell_type": "code",
   "execution_count": 3,
   "id": "0bad28f5",
   "metadata": {},
   "outputs": [],
   "source": [
    "question = \"일년에 한국에 오는 관광객 수는?\""
   ]
  },
  {
   "cell_type": "code",
   "execution_count": 4,
   "id": "0f542bcc",
   "metadata": {},
   "outputs": [],
   "source": [
    "ai_message = model.invoke(question)"
   ]
  },
  {
   "cell_type": "code",
   "execution_count": 5,
   "id": "a435b274",
   "metadata": {},
   "outputs": [
    {
     "name": "stdout",
     "output_type": "stream",
     "text": [
      "2023년 기준으로, 한국을 방문하는 연간 관광객 수는 약 2,500만 명에서 3,000만 명 사이로 추정됩니다. 다만, 코로나19 팬데믹 이전인 2019년에는 약 1,750만 명의 외국인 관광객이 한국을 방문한 것으로 집계되었습니다. 팬데믹 이후 관광객 수가 점차 회복되고 있는 추세입니다.\n",
      "\n",
      "보다 정확한 최신 통계는 한국관광공사(KTO)나 통계청 등의 공식 자료를 참고하시는 것을 권장드립니다.\n"
     ]
    }
   ],
   "source": [
    "print(ai_message.content)"
   ]
  },
  {
   "cell_type": "code",
   "execution_count": 6,
   "id": "42819299",
   "metadata": {},
   "outputs": [
    {
     "data": {
      "text/plain": [
       "{'token_usage': {'completion_tokens': 125,\n",
       "  'prompt_tokens': 17,\n",
       "  'total_tokens': 142,\n",
       "  'completion_tokens_details': {'accepted_prediction_tokens': 0,\n",
       "   'audio_tokens': 0,\n",
       "   'reasoning_tokens': 0,\n",
       "   'rejected_prediction_tokens': 0},\n",
       "  'prompt_tokens_details': {'audio_tokens': 0, 'cached_tokens': 0}},\n",
       " 'model_name': 'gpt-4.1-mini-2025-04-14',\n",
       " 'system_fingerprint': 'fp_4fce0778af',\n",
       " 'id': 'chatcmpl-CLRMpK0EHO9CqaWUV01A75X46QpLJ',\n",
       " 'service_tier': 'default',\n",
       " 'finish_reason': 'stop',\n",
       " 'logprobs': None}"
      ]
     },
     "execution_count": 6,
     "metadata": {},
     "output_type": "execute_result"
    }
   ],
   "source": [
    "ai_message.response_metadata"
   ]
  },
  {
   "cell_type": "markdown",
   "id": "f70ef73f",
   "metadata": {},
   "source": [
    "#### 스트리밍 출력"
   ]
  },
  {
   "cell_type": "code",
   "execution_count": 7,
   "id": "30e56894",
   "metadata": {},
   "outputs": [
    {
     "name": "stdout",
     "output_type": "stream",
     "text": [
      "2023년 기준으로, 한국을 방문하는 연간 관광객 수는 약 2,000만 명 내외로 추정됩니다. 다만, 코로나19 팬데믹 이전인 2019년에는 약 1,750만 명 이상의 외국인 관광객이 한국을 방문했으며, 팬데믹 이후 관광객 수가 점차 회복되고 있는 추세입니다. 정확한 최신 수치는 한국관광공사나 관련 정부 기관의 공식 통계를 참고하는 것이 좋습니다."
     ]
    }
   ],
   "source": [
    "answer = model.stream(question)\n",
    "for token in answer:\n",
    "    print(token.content, end=\"\",flush=True)"
   ]
  },
  {
   "cell_type": "code",
   "execution_count": null,
   "id": "851f80e2",
   "metadata": {},
   "outputs": [],
   "source": []
  }
 ],
 "metadata": {
  "kernelspec": {
   "display_name": "potenup_10",
   "language": "python",
   "name": "python3"
  },
  "language_info": {
   "codemirror_mode": {
    "name": "ipython",
    "version": 3
   },
   "file_extension": ".py",
   "mimetype": "text/x-python",
   "name": "python",
   "nbconvert_exporter": "python",
   "pygments_lexer": "ipython3",
   "version": "3.11.13"
  }
 },
 "nbformat": 4,
 "nbformat_minor": 5
}
