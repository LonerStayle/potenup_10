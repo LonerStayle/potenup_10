{
 "cells": [
  {
   "cell_type": "markdown",
   "id": "3d44f9de",
   "metadata": {},
   "source": [
    "#### 1.LCEL 의 기본 구조를 배워봅시다.\n",
    "\n",
    "1. 프롬프트 템플릿\n",
    "2. 모델\n",
    "3. 출력 형태"
   ]
  },
  {
   "cell_type": "code",
   "execution_count": 14,
   "id": "01474ded",
   "metadata": {},
   "outputs": [],
   "source": [
    "from dotenv import load_dotenv\n",
    "load_dotenv()\n",
    "\n",
    "import os \n",
    "project_name = \"default\"\n",
    "os.environ[\"LANGSMITH_PROJECT\"] = project_name"
   ]
  },
  {
   "cell_type": "markdown",
   "id": "6211edd2",
   "metadata": {},
   "source": [
    "#### 1. 프롬프트 템플릿 설정하기"
   ]
  },
  {
   "cell_type": "code",
   "execution_count": 15,
   "id": "061301c2",
   "metadata": {},
   "outputs": [
    {
     "data": {
      "text/plain": [
       "PromptTemplate(input_variables=['year'], input_types={}, partial_variables={}, template='최근 {year}년 동안 한국에 오는 관광객 수는?')"
      ]
     },
     "execution_count": 15,
     "metadata": {},
     "output_type": "execute_result"
    }
   ],
   "source": [
    "from langchain_core.prompts import PromptTemplate\n",
    "\n",
    "template = \"최근 {year}년 동안 한국에 오는 관광객 수는?\"\n",
    "prompt_template = PromptTemplate.from_template(template)\n",
    "prompt_template"
   ]
  },
  {
   "cell_type": "code",
   "execution_count": 16,
   "id": "0bb01292",
   "metadata": {},
   "outputs": [
    {
     "data": {
      "text/plain": [
       "'최근 5년 동안 한국에 오는 관광객 수는?'"
      ]
     },
     "execution_count": 16,
     "metadata": {},
     "output_type": "execute_result"
    }
   ],
   "source": [
    "prompt_template.format(year = 5)"
   ]
  },
  {
   "cell_type": "markdown",
   "id": "8f7022b7",
   "metadata": {},
   "source": [
    "#### 2. 모델 선택하기"
   ]
  },
  {
   "cell_type": "code",
   "execution_count": null,
   "id": "64cf215a",
   "metadata": {},
   "outputs": [],
   "source": [
    "from langchain_openai import ChatOpenAI\n",
    "model = ChatOpenAI(\n",
    "    temperature=0.1,\n",
    "    model = \"gpt-4.1-mini\",\n",
    "    verbose = True\n",
    ")"
   ]
  },
  {
   "cell_type": "code",
   "execution_count": 19,
   "id": "5d2dbefe",
   "metadata": {},
   "outputs": [
    {
     "data": {
      "text/plain": [
       "PromptTemplate(input_variables=['year'], input_types={}, partial_variables={}, template='최근 {year}년 동안 한국에 오는 관광객 수는?')\n",
       "| ChatOpenAI(client=<openai.resources.chat.completions.completions.Completions object at 0x12ff68050>, async_client=<openai.resources.chat.completions.completions.AsyncCompletions object at 0x12f8ec050>, root_client=<openai.OpenAI object at 0x12ff1f410>, root_async_client=<openai.AsyncOpenAI object at 0x12fe9b090>, model_name='gpt-4.1-mini', temperature=0.1, model_kwargs={}, openai_api_key=SecretStr('**********'))"
      ]
     },
     "execution_count": 19,
     "metadata": {},
     "output_type": "execute_result"
    }
   ],
   "source": [
    "chain = prompt_template | model\n",
    "chain"
   ]
  },
  {
   "cell_type": "code",
   "execution_count": 20,
   "id": "38224f80",
   "metadata": {},
   "outputs": [
    {
     "name": "stdout",
     "output_type": "stream",
     "text": [
      "최근 3년 동안 한국에 방문한 관광객 수에 대해 알려드리겠습니다. 다만, 2020년부터 시작된 코로나19 팬데믹으로 인해 관광객 수가 크게 감소한 점을 참고해 주세요.\n",
      "\n",
      "- **2021년**: 약 1,300,000명 (약 130만 명)  \n",
      "- **2022년**: 약 2,500,000명 (약 250만 명)  \n",
      "- **2023년**: 약 10,000,000명 (약 1,000만 명) 예상 또는 잠정치\n",
      "\n",
      "2023년은 방역 완화와 국제 여행 재개로 관광객 수가 크게 회복된 해입니다. 정확한 최신 통계는 한국관광공사나 통계청 공식 자료를 참고하시는 것이 좋습니다. 필요하시면 더 구체적인 연도별, 국가별 관광객 수 데이터도 제공해 드릴 수 있습니다.\n"
     ]
    }
   ],
   "source": [
    "input = {\"year\":3}\n",
    "answer = chain.invoke(input)\n",
    "print(answer.content)"
   ]
  },
  {
   "cell_type": "code",
   "execution_count": 21,
   "id": "64e18fe0",
   "metadata": {},
   "outputs": [
    {
     "data": {
      "text/plain": [
       "AIMessage(content='최근 3년 동안 한국에 방문한 관광객 수에 대해 알려드리겠습니다. 다만, 2020년부터 시작된 코로나19 팬데믹으로 인해 관광객 수가 크게 감소한 점을 참고해 주세요.\\n\\n- **2021년**: 약 1,300,000명 (약 130만 명)  \\n- **2022년**: 약 2,500,000명 (약 250만 명)  \\n- **2023년**: 약 10,000,000명 (약 1,000만 명) 예상 또는 잠정치\\n\\n2023년은 방역 완화와 국제 여행 재개로 관광객 수가 크게 회복된 해입니다. 정확한 최신 통계는 한국관광공사나 통계청 공식 자료를 참고하시는 것이 좋습니다. 필요하시면 더 구체적인 연도별, 국가별 관광객 수 데이터도 제공해 드릴 수 있습니다.', additional_kwargs={'refusal': None}, response_metadata={'token_usage': {'completion_tokens': 201, 'prompt_tokens': 20, 'total_tokens': 221, 'completion_tokens_details': {'accepted_prediction_tokens': 0, 'audio_tokens': 0, 'reasoning_tokens': 0, 'rejected_prediction_tokens': 0}, 'prompt_tokens_details': {'audio_tokens': 0, 'cached_tokens': 0}}, 'model_name': 'gpt-4.1-mini-2025-04-14', 'system_fingerprint': 'fp_4fce0778af', 'id': 'chatcmpl-CLRWR36CatIZqD5pF2YzgswdLQg8E', 'service_tier': 'default', 'finish_reason': 'stop', 'logprobs': None}, id='run--0facdf2b-e44d-4b6f-a63e-fb63d343e596-0', usage_metadata={'input_tokens': 20, 'output_tokens': 201, 'total_tokens': 221, 'input_token_details': {'audio': 0, 'cache_read': 0}, 'output_token_details': {'audio': 0, 'reasoning': 0}})"
      ]
     },
     "execution_count": 21,
     "metadata": {},
     "output_type": "execute_result"
    }
   ],
   "source": [
    "answer"
   ]
  },
  {
   "cell_type": "markdown",
   "id": "f2358f5f",
   "metadata": {},
   "source": [
    "#### 3. 출력 양식 정해보기\n",
    "- Stroutputparser\n",
    "- jsonoutputparser\n",
    "- pydanticoutputparser\n",
    "- commaseperateputparser"
   ]
  },
  {
   "cell_type": "code",
   "execution_count": 22,
   "id": "42aea9fa",
   "metadata": {},
   "outputs": [
    {
     "name": "stdout",
     "output_type": "stream",
     "text": [
      "최근 2년 동안 한국을 방문한 관광객 수에 대한 최신 통계는 2022년과 2023년 데이터를 참고해야 합니다. \n",
      "\n",
      "- 2022년: 코로나19 팬데믹 이후 방역 완화와 국제 여행 재개로 인해 관광객 수가 회복세를 보였습니다. 한국관광공사에 따르면 2022년 한국을 방문한 외국인 관광객 수는 약 1,000만 명 수준이었습니다.\n",
      "- 2023년: 2023년에는 여행 수요가 더욱 증가하여, 한국을 방문한 관광객 수가 2,000만 명 이상으로 추정됩니다.\n",
      "\n",
      "정확한 최신 수치는 한국관광공사(KTO)나 통계청의 공식 발표 자료를 참고하는 것이 좋습니다. 필요하시면 구체적인 연도별 통계 자료를 찾아드릴 수 있습니다.\n"
     ]
    }
   ],
   "source": [
    "from langchain_core.output_parsers import StrOutputParser\n",
    "\n",
    "outputparser = StrOutputParser()\n",
    "chain = prompt_template | model | outputparser\n",
    "\n",
    "input ={\"year\":2}\n",
    "answer = chain.invoke(input)\n",
    "print(answer)"
   ]
  },
  {
   "cell_type": "markdown",
   "id": "0f651f00",
   "metadata": {},
   "source": [
    "# 실습\n",
    "- 각자 알아서 질문 주제 정하고\n",
    "- 프롬프트 템플릿을 좀 더 자세하게 작성해보기"
   ]
  },
  {
   "cell_type": "code",
   "execution_count": 24,
   "id": "6caa02d6",
   "metadata": {},
   "outputs": [
    {
     "name": "stdout",
     "output_type": "stream",
     "text": [
      "- 개발 로드맵:  \n",
      "1) AI 기초 이해  \n",
      " - 선형대수, 확률통계, 미적분 복습  \n",
      " - 머신러닝 기본 개념 (지도학습, 비지도학습, 강화학습)  \n",
      "2) 프로그래밍 및 라이브러리 익히기  \n",
      " - Python 숙련 (기존 백엔드 경험 활용)  \n",
      " - 주요 라이브러리: NumPy, Pandas, Matplotlib, Scikit-learn  \n",
      "3) 딥러닝 심화  \n",
      " - 신경망 기본 구조 이해  \n",
      " - TensorFlow, PyTorch 프레임워크 학습  \n",
      " - CNN, RNN, Transformer 등 주요 모델 구조 학습  \n",
      "4) 데이터 처리 및 실습  \n",
      " - 데이터 전처리, EDA(탐색적 데이터 분석)  \n",
      " - Kaggle 등에서 프로젝트 경험 쌓기  \n",
      "5) AI 서비스 개발 및 배포  \n",
      " - 모델 서빙, API 개발 (Flask, FastAPI)  \n",
      " - 클라우드(AWS, GCP) 활용 및 MLOps 기본 이해  \n",
      "6) 최신 연구 및 트렌드 팔로우  \n",
      " - 논문 읽기, AI 커뮤니티 참여  \n",
      "\n",
      "- 개발 지문:  \n",
      "백엔드 개발자로서 이미 갖춘 프로그래밍 능력과 시스템 설계 경험은 AI 개발자로 전환하는 데 큰 강점입니다. 우선 수학적 기초를 다지고, Python과 AI 관련 라이브러리를 익히면서 머신러닝과 딥러닝의 기본 개념을 체계적으로 학습하세요. 이후에는 실제 데이터를 다루고 모델을 구현하는 프로젝트를 통해 실무 감각을 키우는 것이 중요합니다. AI 모델을 서비스에 통합하는 과정에서는 기존 백엔드 경험이 큰 도움이 될 것입니다. 꾸준한 실습과 최신 기술 동향 파악을 병행하면 AI 개발자로서의 역량을 빠르게 확장할 수 있습니다.  \n",
      "\n",
      "- 직무 전환 가능 시기:  \n",
      "기본적인 AI 이론과 실습을 3~6개월간 집중적으로 학습하고, 프로젝트 경험을 3개월 이상 쌓으면 초기 AI 개발자 역할로 전환이 가능합니다. 총 6~9개월 내외가 현실적인 목표입니다.  \n",
      "\n",
      "- 오늘 해야할 일:  \n",
      "- 선형대수와 확률통계 기초 개념 복습 시작 (온라인 강의 또는 교재 활용)  \n",
      "- Python 기반 머신러닝 입문 강의 첫 강 수강  \n",
      "- Kaggle 가입 및 초급 데이터셋 탐색해보기\n"
     ]
    }
   ],
   "source": [
    "# 템플릿을 좀 더 자세하게 설정해보기 - 1 \n",
    "template = \"\"\"\n",
    "당신은 AI 시니어 개발자입니다.\n",
    "AI 직무 변환자를 위해 로드맵 자료를 만들어주세요\n",
    "주어진 상황에 맞게 개발 지문을 작성해주세요\n",
    "양식은 [FORMAT]을 참고하여 작성해주세요\n",
    "\n",
    "#상황:\n",
    "{situation}\n",
    "\n",
    "#FORMAT:\n",
    "- 개발 로드맵:\n",
    "- 개발 지문:\n",
    "- 직무 전환 가능 시기:\n",
    "- 오늘 해야할 일:\n",
    "\"\"\"\n",
    "prompt = PromptTemplate.from_template(template)\n",
    "dev_chain = prompt | model | outputparser\n",
    "answer = dev_chain.invoke({\"situation\": \"원래 백엔드 개발자였다가 AI 개발자로 직무 전환중입니다. 어떤 공부를 해야할까요?\"})\n",
    "print(answer)\n"
   ]
  },
  {
   "cell_type": "code",
   "execution_count": null,
   "id": "16fec4fc",
   "metadata": {},
   "outputs": [],
   "source": []
  }
 ],
 "metadata": {
  "kernelspec": {
   "display_name": "potenup_10",
   "language": "python",
   "name": "python3"
  },
  "language_info": {
   "codemirror_mode": {
    "name": "ipython",
    "version": 3
   },
   "file_extension": ".py",
   "mimetype": "text/x-python",
   "name": "python",
   "nbconvert_exporter": "python",
   "pygments_lexer": "ipython3",
   "version": "3.11.13"
  }
 },
 "nbformat": 4,
 "nbformat_minor": 5
}
