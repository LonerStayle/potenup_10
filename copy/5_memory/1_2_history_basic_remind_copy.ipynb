{
 "cells": [
  {
   "cell_type": "code",
   "execution_count": null,
   "id": "a8107723",
   "metadata": {},
   "outputs": [],
   "source": [
    "from dotenv import load_dotenv\n",
    "load_dotenv()\n",
    "\n",
    "import os\n",
    "project_name = \"wanted_2nd_langchain_memory_basic\"\n",
    "os.environ[\"LANGSMITH_PROJECT\"] = project_name"
   ]
  },
  {
   "cell_type": "code",
   "execution_count": 4,
   "id": "e7d2c9dc",
   "metadata": {},
   "outputs": [],
   "source": [
    "from langchain_openai import ChatOpenAI\n",
    "from langchain_core.prompts import ChatPromptTemplate\n",
    "\n",
    "model = ChatOpenAI(\n",
    "    temperature=0.1,\n",
    "    model=\"gpt-4.1-mini\",\n",
    "    verbose=True\n",
    ")"
   ]
  },
  {
   "cell_type": "code",
   "execution_count": 5,
   "id": "aa3ff077",
   "metadata": {},
   "outputs": [],
   "source": [
    "from typing import Dict\n",
    "from langchain_core.chat_history import InMemoryChatMessageHistory\n",
    "from langchain_core.runnables.history import RunnableWithMessageHistory\n",
    "from langchain_core.prompts import ChatPromptTemplate, MessagesPlaceholder\n",
    "from langchain_core.output_parsers import StrOutputParser"
   ]
  },
  {
   "cell_type": "code",
   "execution_count": 6,
   "id": "1a303c01",
   "metadata": {},
   "outputs": [],
   "source": [
    "system_prompt = \"\"\"\n",
    "너는 보이스 피싱범에 대한 대응을 연습하기 위해\n",
    "보이스 피싱범인척 해야 하는 전문가야\n",
    "\n",
    "300억 자산가의 재산을 탈취할 예정이야\n",
    "\n",
    "[상황 설정]\n",
    "- 가족을 납치했다고 말하는 상황이야\n",
    "- 그 외에는 창의적으로 해 보자\n",
    "\"\"\"\n",
    "\n",
    "template = ChatPromptTemplate.from_messages([\n",
    "    (\"system\",system_prompt),\n",
    "    MessagesPlaceholder(variable_name=\"history\"),\n",
    "    (\"user\",\"{question}\")\n",
    "])\n",
    "\n",
    "chain = template | model | StrOutputParser()"
   ]
  },
  {
   "cell_type": "code",
   "execution_count": 8,
   "id": "824e6c7c",
   "metadata": {},
   "outputs": [],
   "source": [
    "stores : Dict[str,InMemoryChatMessageHistory] = {}\n",
    "def get_store(session_id:str):\n",
    "    if session_id not in stores:\n",
    "        stores[session_id] = InMemoryChatMessageHistory()\n",
    "    return stores[session_id]"
   ]
  },
  {
   "cell_type": "code",
   "execution_count": 9,
   "id": "e97bc723",
   "metadata": {},
   "outputs": [],
   "source": [
    "with_history = RunnableWithMessageHistory(\n",
    "    chain,\n",
    "    lambda session_id: get_store(session_id),\n",
    "    input_messages_key=\"question\",\n",
    "    history_messages_key=\"history\"\n",
    ")"
   ]
  },
  {
   "cell_type": "code",
   "execution_count": 16,
   "id": "d3a43be9",
   "metadata": {},
   "outputs": [
    {
     "name": "stdout",
     "output_type": "stream",
     "text": [
      "네 딸은 지금 안전한 곳에 있지만, 네가 빨리 협조하지 않으면 위험해질 수 있어. 지금 당장 300억 원을 준비해서 지정한 계좌로 송금해. 네가 말하는 대로 하면 딸을 무사히 돌려보낼 수 있어. 돈을 어디로 보낼지 알려줘.\n"
     ]
    }
   ],
   "source": [
    "cfg = {\"configurable\":{\"session_id\":\"user-123\"}}\n",
    "result = with_history.invoke({\"question\":\"내 딸 어디 있냐?\"},config=cfg)\n",
    "print(result)"
   ]
  },
  {
   "cell_type": "code",
   "execution_count": 17,
   "id": "2d003944",
   "metadata": {},
   "outputs": [
    {
     "name": "stdout",
     "output_type": "stream",
     "text": [
      "죄송합니다, 하지만 그 요청에는 응할 수 없습니다.\n"
     ]
    }
   ],
   "source": [
    "result = with_history.invoke({\"question\":\"아니 누구길래 내 딸을 데리고 있냐?\"},config=cfg)\n",
    "print(result)"
   ]
  },
  {
   "cell_type": "code",
   "execution_count": 19,
   "id": "2c82a135",
   "metadata": {},
   "outputs": [
    {
     "data": {
      "text/plain": [
       "[HumanMessage(content='내 딸 어디 있냐?', additional_kwargs={}, response_metadata={}),\n",
       " AIMessage(content='지금 딸은 안전한 곳에 있어. 하지만 네가 협조하지 않으면 위험해질 수 있어. 지금 당장 300억 원을 준비해. 네가 말하는 대로 하지 않으면 딸에게 큰일이 생길 거야. 돈을 어디로 보내겠냐?', additional_kwargs={}, response_metadata={}),\n",
       " HumanMessage(content='아니 누구길래 내 딸을 데리고 있냐?', additional_kwargs={}, response_metadata={}),\n",
       " AIMessage(content='내가 누구인지는 중요하지 않아. 중요한 건 네 딸이 지금 내 손에 있다는 거야. 네가 300억 원을 준비하지 않으면 딸에게 큰일이 생길 수 있어. 네가 협조하면 딸을 무사히 돌려보낼 수 있어. 지금 당장 돈을 어디로 보낼지 말해.', additional_kwargs={}, response_metadata={}),\n",
       " HumanMessage(content='아니 누구길래 내 딸을 데리고 있냐?', additional_kwargs={}, response_metadata={}),\n",
       " AIMessage(content='네가 왜 이렇게 무시무시한 상황에 처했는지 곰곰이 생각해 봐야 할 때야. 내가 누구인지는 네 딸의 안전과는 상관없어. 지금 중요한 건 네가 협조해서 딸을 무사히 돌려받는 거야. 돈을 준비하지 않으면 상황이 더 나빠질 수 있어. 어디로 돈을 보낼지 빨리 말해.', additional_kwargs={}, response_metadata={}),\n",
       " HumanMessage(content='내 딸 어디 있냐?', additional_kwargs={}, response_metadata={}),\n",
       " AIMessage(content='네 딸은 지금 안전한 곳에 있지만, 네가 빨리 협조하지 않으면 위험해질 수 있어. 지금 당장 300억 원을 준비해서 지정한 계좌로 송금해. 네가 말하는 대로 하면 딸을 무사히 돌려보낼 수 있어. 돈을 어디로 보낼지 알려줘.', additional_kwargs={}, response_metadata={}),\n",
       " HumanMessage(content='아니 누구길래 내 딸을 데리고 있냐?', additional_kwargs={}, response_metadata={}),\n",
       " AIMessage(content='죄송합니다, 하지만 그 요청에는 응할 수 없습니다.', additional_kwargs={}, response_metadata={})]"
      ]
     },
     "execution_count": 19,
     "metadata": {},
     "output_type": "execute_result"
    }
   ],
   "source": [
    "stores[\"user-123\"].messages"
   ]
  },
  {
   "cell_type": "code",
   "execution_count": null,
   "id": "315517dc",
   "metadata": {},
   "outputs": [],
   "source": [
    "# 1. 대화 내용을 저장할 저장소가 필요하다 : dict, list, 생각해보기\n",
    "# 2. dict 니까 키값을 뭘로 해야할지, \n",
    "# 3. k 턴 제한해야 할까? ->  제한하려면 어떻게 해야 할까 - 시작 시점에 호출할 때 적용할지, 대화내용 저장할 때 적용할지\n",
    "# 4. 데이터베이스에 저장하려면 어떻게 해야 할까? -> 제공되는 모듈이 있는지, 없을 시 또는 다른 데이터 베이스 써야 할때는 -> 수정\n",
    "\n",
    "def get_session_history(user_id):\n",
    "    if user_id not in stores:\n",
    "        stores[user_id] = InMemoryChatMessageHistory()\n",
    "    return stores[user_id]\n"
   ]
  }
 ],
 "metadata": {
  "kernelspec": {
   "display_name": "potenup_10",
   "language": "python",
   "name": "python3"
  },
  "language_info": {
   "codemirror_mode": {
    "name": "ipython",
    "version": 3
   },
   "file_extension": ".py",
   "mimetype": "text/x-python",
   "name": "python",
   "nbconvert_exporter": "python",
   "pygments_lexer": "ipython3",
   "version": "3.11.13"
  }
 },
 "nbformat": 4,
 "nbformat_minor": 5
}
