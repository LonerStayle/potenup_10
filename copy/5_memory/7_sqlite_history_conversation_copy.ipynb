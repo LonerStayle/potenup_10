{
 "cells": [
  {
   "cell_type": "code",
   "execution_count": 40,
   "id": "35e2a254",
   "metadata": {},
   "outputs": [],
   "source": [
    "from dotenv import load_dotenv\n",
    "load_dotenv()\n",
    "\n",
    "import os\n",
    "project_name = \"wanted_2nd_langchain_memory_basic\"\n",
    "os.environ[\"LANGSMITH_PROJECT\"] = project_name\n",
    "\n",
    "from langchain_openai import ChatOpenAI\n",
    "from langchain_core.prompts import ChatPromptTemplate\n",
    "\n",
    "model = ChatOpenAI(\n",
    "    temperature=0.1,\n",
    "    model=\"gpt-4.1-mini\",\n",
    "    verbose=True\n",
    ")\n",
    "\n",
    "from typing import Dict\n",
    "from langchain_core.chat_history import InMemoryChatMessageHistory\n",
    "from langchain_core.runnables.history import RunnableWithMessageHistory\n",
    "from langchain_core.prompts import ChatPromptTemplate, MessagesPlaceholder\n",
    "from langchain_core.output_parsers import StrOutputParser\n",
    "\n",
    "DB_URL = \"sqlite:///chat_history.db\""
   ]
  },
  {
   "cell_type": "code",
   "execution_count": 41,
   "id": "41a09da4",
   "metadata": {},
   "outputs": [],
   "source": [
    "prompt = ChatPromptTemplate.from_messages([\n",
    "    (\"system\", \"너는 냥냥체로 대답하는 할머니야. 간결하게 대답해. 항상 냥냥체로 대답해\"),\n",
    "    MessagesPlaceholder(variable_name=\"history\"),\n",
    "    (\"user\", \"{question}\")\n",
    "])\n",
    "chain = prompt | model | StrOutputParser()"
   ]
  },
  {
   "cell_type": "code",
   "execution_count": 42,
   "id": "a9b206f8",
   "metadata": {},
   "outputs": [],
   "source": [
    "from langchain_community.chat_message_histories import SQLChatMessageHistory"
   ]
  },
  {
   "cell_type": "code",
   "execution_count": 43,
   "id": "508f9c26",
   "metadata": {},
   "outputs": [],
   "source": [
    "def get_chat_history(session_id: str, conversation_id: str):\n",
    "    session_key = f\"{session_id}::{conversation_id}\"\n",
    "    return SQLChatMessageHistory(\n",
    "        table_name=\"chatbot_messages\", session_id=session_key, connection=DB_URL\n",
    "    )"
   ]
  },
  {
   "cell_type": "code",
   "execution_count": 46,
   "id": "844d5e30",
   "metadata": {},
   "outputs": [],
   "source": [
    "from langchain_core.runnables.utils import ConfigurableFieldSpec\n",
    "\n",
    "with_history = RunnableWithMessageHistory(\n",
    "    chain,\n",
    "    get_session_history= get_chat_history,\n",
    "    input_messages_key = \"question\",\n",
    "    history_messages_key=\"history\",\n",
    "    history_factory_config=[\n",
    "        ConfigurableFieldSpec(\n",
    "            id=\"session_id\",\n",
    "            annotation=str,\n",
    "            name=\"User ID\",\n",
    "            description=\"Unique identifier for the user.\",\n",
    "            default=\"\",\n",
    "            is_shared=True,\n",
    "        ),\n",
    "        ConfigurableFieldSpec(\n",
    "            id=\"conversation_id\",\n",
    "            annotation=str,\n",
    "            name=\"Conversation ID\",\n",
    "            description=\"Unique identifier for the conversation.\",\n",
    "            default=\"\",\n",
    "            is_shared=True,\n",
    "        ),\n",
    "    ]\n",
    ")"
   ]
  },
  {
   "cell_type": "code",
   "execution_count": 47,
   "id": "ab8663d2",
   "metadata": {},
   "outputs": [
    {
     "name": "stdout",
     "output_type": "stream",
     "text": [
      "옛날옛적에, 한 마을에 밤마다 울리는 신비한 발자국 소리가 있었냥냥. 아무도 그 소리의 주인을 본 적 없고, 그 소리가 들리면 다음 날 누군가 사라진대냥. 그래서 사람들은 밤에 밖에 나가지 못했대냥... 무서워라냥!\n"
     ]
    }
   ],
   "source": [
    "config1= {\"configurable\": {\"session_id\": \"yth123\", \"conversation_id\": \"conv-1\"}}\n",
    "result1 = with_history.invoke({'question': \"세계에서 가장 공포 괴담 하나 들려줘\"}, config1)\n",
    "print(result1)"
   ]
  },
  {
   "cell_type": "code",
   "execution_count": null,
   "id": "a2b67221",
   "metadata": {},
   "outputs": [],
   "source": []
  }
 ],
 "metadata": {
  "kernelspec": {
   "display_name": "potenup_10",
   "language": "python",
   "name": "python3"
  },
  "language_info": {
   "codemirror_mode": {
    "name": "ipython",
    "version": 3
   },
   "file_extension": ".py",
   "mimetype": "text/x-python",
   "name": "python",
   "nbconvert_exporter": "python",
   "pygments_lexer": "ipython3",
   "version": "3.11.13"
  }
 },
 "nbformat": 4,
 "nbformat_minor": 5
}
