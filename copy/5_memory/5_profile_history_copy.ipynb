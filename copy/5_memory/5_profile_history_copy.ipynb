{
 "cells": [
  {
   "cell_type": "code",
   "execution_count": 3,
   "id": "257e9a4e",
   "metadata": {},
   "outputs": [],
   "source": [
    "from dotenv import load_dotenv\n",
    "load_dotenv()\n",
    "\n",
    "import os\n",
    "project_name = \"wanted_2nd_langchain_memory_basic\"\n",
    "os.environ[\"LANGSMITH_PROJECT\"] = project_name"
   ]
  },
  {
   "cell_type": "code",
   "execution_count": 4,
   "id": "f0b426e8",
   "metadata": {},
   "outputs": [],
   "source": [
    "from langchain_openai import ChatOpenAI\n",
    "from langchain_core.prompts import ChatPromptTemplate\n",
    "\n",
    "model = ChatOpenAI(\n",
    "    temperature=0.1,\n",
    "    model=\"gpt-4.1-mini\",\n",
    "    verbose=True\n",
    ")"
   ]
  },
  {
   "cell_type": "code",
   "execution_count": 2,
   "id": "6012ff78",
   "metadata": {},
   "outputs": [],
   "source": [
    "from typing import Dict\n",
    "from langchain_core.chat_history import InMemoryChatMessageHistory\n",
    "from langchain_core.runnables.history import RunnableWithMessageHistory\n",
    "from langchain_core.prompts import ChatPromptTemplate, MessagesPlaceholder\n",
    "from langchain_core.output_parsers import StrOutputParser"
   ]
  },
  {
   "cell_type": "code",
   "execution_count": null,
   "id": "91eadae3",
   "metadata": {},
   "outputs": [],
   "source": [
    "profiles: Dict[str, str] = {}\n",
    "\n",
    "def get_profile(session_id: str) -> dict:\n",
    "    return profiles.setdefault(session_id, {\"name\": None, \"tone\": \"neutral\"})"
   ]
  },
  {
   "cell_type": "code",
   "execution_count": null,
   "id": "b964bef9",
   "metadata": {},
   "outputs": [],
   "source": []
  },
  {
   "cell_type": "code",
   "execution_count": null,
   "id": "37b270c4",
   "metadata": {},
   "outputs": [],
   "source": [
    "def update_profile_from_text(session_id:str,text:str):\n",
    "    profile = get_profile(session_id)\n",
    "    if \"제 이름은\" in text:\n",
    "        profile['name'] = '이진섭'"
   ]
  },
  {
   "cell_type": "code",
   "execution_count": 24,
   "id": "1433ce64",
   "metadata": {},
   "outputs": [],
   "source": [
    "from typing import Dict,Optional\n",
    "from pydantic import BaseModel\n",
    "class Profile(BaseModel):\n",
    "    name : Optional[str] = None\n",
    "    age : Optional[int] = None\n",
    "    gender : Optional[str] = None\n",
    "    \n",
    "profiles : Dict[str, Profile] = {}"
   ]
  },
  {
   "cell_type": "code",
   "execution_count": 25,
   "id": "29aa5779",
   "metadata": {},
   "outputs": [],
   "source": [
    "def get_profile(session_id: str) -> Profile:\n",
    "    return profiles.setdefault(session_id, Profile())"
   ]
  },
  {
   "cell_type": "code",
   "execution_count": 26,
   "id": "0c5e2f76",
   "metadata": {},
   "outputs": [],
   "source": [
    "def update_profile_from_text(session_id: str, text: str):\n",
    "    profile = get_profile(session_id)\n",
    "\n",
    "    if \"내이름은\" in text:\n",
    "        # 아주 단순 파싱 (실제로는 정규식이나 LLM 활용 가능)\n",
    "        name = text.split(\"내이름은\")[-1].split()[0]\n",
    "        profile.name = name\n",
    "\n",
    "    if \"나이가\" in text:\n",
    "        age_part = text.split(\"나이가\")[-1].split()[0]\n",
    "        if age_part.isdigit():\n",
    "            profile.age = int(age_part)\n",
    "\n",
    "    if \"남자\" in text:\n",
    "        profile.gender = \"male\"\n",
    "    elif \"여자\" in text:\n",
    "        profile.gender = \"female\"\n",
    "\n",
    "    return profile"
   ]
  },
  {
   "cell_type": "code",
   "execution_count": null,
   "id": "0cba4fe8",
   "metadata": {},
   "outputs": [
    {
     "name": "stdout",
     "output_type": "stream",
     "text": [
      "name='윤택한' age=28 gender='male'\n"
     ]
    }
   ],
   "source": [
    "text = \"안녕하세요 챗봇님, 내이름은 윤택한 나이가 28, 남자에요\"\n",
    "print(update_profile_from_text(\"sess1\", text))\n"
   ]
  },
  {
   "cell_type": "code",
   "execution_count": null,
   "id": "627863ef",
   "metadata": {},
   "outputs": [],
   "source": []
  }
 ],
 "metadata": {
  "kernelspec": {
   "display_name": "potenup_10",
   "language": "python",
   "name": "python3"
  },
  "language_info": {
   "codemirror_mode": {
    "name": "ipython",
    "version": 3
   },
   "file_extension": ".py",
   "mimetype": "text/x-python",
   "name": "python",
   "nbconvert_exporter": "python",
   "pygments_lexer": "ipython3",
   "version": "3.11.13"
  }
 },
 "nbformat": 4,
 "nbformat_minor": 5
}
