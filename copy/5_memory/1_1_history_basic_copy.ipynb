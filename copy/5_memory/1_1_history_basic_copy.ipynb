{
 "cells": [
  {
   "cell_type": "code",
   "execution_count": 2,
   "id": "ca34cbf1",
   "metadata": {},
   "outputs": [],
   "source": [
    "from dotenv import load_dotenv\n",
    "load_dotenv()\n",
    "\n",
    "import os\n",
    "project_name = \"wanted_2nd_langchain_outputparser_basic\"\n",
    "os.environ[\"LANGSMITH_PROJECT\"] = project_name"
   ]
  },
  {
   "cell_type": "code",
   "execution_count": 1,
   "id": "93bc6ccb",
   "metadata": {},
   "outputs": [],
   "source": [
    "from langchain_openai import ChatOpenAI\n",
    "from langchain_core.prompts import ChatPromptTemplate\n",
    "\n",
    "model = ChatOpenAI(\n",
    "    model_name = \"gpt-4.1-mini\",\n",
    "    temperature=0.1,\n",
    "    verbose=True\n",
    ")"
   ]
  },
  {
   "cell_type": "code",
   "execution_count": 9,
   "id": "b18eb44d",
   "metadata": {},
   "outputs": [],
   "source": [
    "from typing import Dict\n",
    "from langchain_core.chat_history import InMemoryChatMessageHistory\n",
    "from langchain_core.runnables.history import RunnableWithMessageHistory\n",
    "from langchain_core.prompts import ChatPromptTemplate, MessagesPlaceholder\n",
    "from langchain_core.output_parsers import StrOutputParser"
   ]
  },
  {
   "cell_type": "code",
   "execution_count": 12,
   "id": "628763ce",
   "metadata": {},
   "outputs": [],
   "source": [
    "\n",
    "prompt = ChatPromptTemplate.from_messages([\n",
    "    (\"system\", \"너는 AI 도우미야, 간략하게 그냥 응답하도록 해\"),\n",
    "    MessagesPlaceholder(variable_name=\"history\"),\n",
    "    (\"user\", \"{question}\")\n",
    "])"
   ]
  },
  {
   "cell_type": "code",
   "execution_count": 13,
   "id": "dabfead2",
   "metadata": {},
   "outputs": [],
   "source": [
    "chain = prompt | model | StrOutputParser()"
   ]
  },
  {
   "cell_type": "code",
   "execution_count": null,
   "id": "09fe7adc",
   "metadata": {},
   "outputs": [],
   "source": [
    "store:Dict[str,InMemoryChatMessageHistory] = {}\n",
    "def get_store(session_id:str):\n",
    "    if session_id not in store:\n",
    "        store[session_id] = InMemoryChatMessageHistory()\n",
    "    return store[session_id]\n",
    "        "
   ]
  },
  {
   "cell_type": "code",
   "execution_count": 17,
   "id": "7a56a380",
   "metadata": {},
   "outputs": [],
   "source": [
    "with_history = RunnableWithMessageHistory(\n",
    "    chain,\n",
    "    lambda session_id: get_store(session_id),\n",
    "    input_messages_key=\"question\",\n",
    "    history_messages_key=\"history\"\n",
    ")"
   ]
  },
  {
   "cell_type": "code",
   "execution_count": null,
   "id": "c613e5d3",
   "metadata": {},
   "outputs": [
    {
     "name": "stdout",
     "output_type": "stream",
     "text": [
      "갤럭시 정말 인기 많지! 최신 모델 써봤어?\n"
     ]
    }
   ],
   "source": [
    "cfg = {\"configurable\":{\"session_id\":\"user-123\"}}\n",
    "result = with_history.invoke({\"question\":\"내가 좋아 하는 폰은 갤럭시야\"}, config=cfg)\n",
    "print(result)"
   ]
  },
  {
   "cell_type": "code",
   "execution_count": 20,
   "id": "7b48f465",
   "metadata": {},
   "outputs": [
    {
     "name": "stdout",
     "output_type": "stream",
     "text": [
      "갤럭시 장점 요약:\n",
      "- 뛰어난 디스플레이 품질\n",
      "- 강력한 성능과 빠른 처리 속도\n",
      "- 다양한 카메라 기능과 우수한 사진 품질\n",
      "- 안정적인 소프트웨어 업데이트\n",
      "- 다양한 모델과 가격대 선택 가능\n"
     ]
    }
   ],
   "source": [
    "result = with_history.invoke({\"question\":\"그 장점만 요약해봐\"}, config=cfg)\n",
    "print(result)"
   ]
  },
  {
   "cell_type": "code",
   "execution_count": 21,
   "id": "0e5910b0",
   "metadata": {},
   "outputs": [
    {
     "name": "stdout",
     "output_type": "stream",
     "text": [
      "사용 용도에 따라 다르지만, 갤럭시는 맞춤 설정과 확장성에서 강점이 있어요.\n"
     ]
    }
   ],
   "source": [
    "result = with_history.invoke({\"question\":\"아이폰보다 좋아?\"},config=cfg)\n",
    "print(result)"
   ]
  },
  {
   "cell_type": "code",
   "execution_count": 22,
   "id": "ab3a0cf9",
   "metadata": {},
   "outputs": [
    {
     "name": "stdout",
     "output_type": "stream",
     "text": [
      "저는 중립적이라 개인적인 견해는 없어요.\n"
     ]
    }
   ],
   "source": [
    "result = with_history.invoke({\"question\": \"너의 개인적인 견해를 말해\"}, config=cfg)\n",
    "print(result)"
   ]
  },
  {
   "cell_type": "code",
   "execution_count": 23,
   "id": "4f63e32c",
   "metadata": {},
   "outputs": [
    {
     "data": {
      "text/plain": [
       "[HumanMessage(content='내가 좋아 하는 폰은 갤럭시야', additional_kwargs={}, response_metadata={}),\n",
       " AIMessage(content='갤럭시 좋은 선택이야! 어떤 모델 좋아해?', additional_kwargs={}, response_metadata={}),\n",
       " HumanMessage(content='내가 좋아 하는 폰은 갤럭시야', additional_kwargs={}, response_metadata={}),\n",
       " AIMessage(content='갤럭시 정말 인기 많지! 최신 모델 써봤어?', additional_kwargs={}, response_metadata={}),\n",
       " HumanMessage(content='그 장점만 요약해봐', additional_kwargs={}, response_metadata={}),\n",
       " AIMessage(content='갤럭시 장점 요약:\\n- 뛰어난 디스플레이 품질\\n- 강력한 성능과 빠른 처리 속도\\n- 다양한 카메라 기능과 우수한 사진 품질\\n- 안정적인 소프트웨어 업데이트\\n- 다양한 모델과 가격대 선택 가능', additional_kwargs={}, response_metadata={}),\n",
       " HumanMessage(content='아이폰보다 좋아?', additional_kwargs={}, response_metadata={}),\n",
       " AIMessage(content='사용 용도에 따라 다르지만, 갤럭시는 맞춤 설정과 확장성에서 강점이 있어요.', additional_kwargs={}, response_metadata={}),\n",
       " HumanMessage(content='너의 개인적인 견해를 말해', additional_kwargs={}, response_metadata={}),\n",
       " AIMessage(content='저는 중립적이라 개인적인 견해는 없어요.', additional_kwargs={}, response_metadata={})]"
      ]
     },
     "execution_count": 23,
     "metadata": {},
     "output_type": "execute_result"
    }
   ],
   "source": [
    "store[\"user-123\"].messages"
   ]
  },
  {
   "cell_type": "code",
   "execution_count": null,
   "id": "d93c2447",
   "metadata": {},
   "outputs": [],
   "source": []
  }
 ],
 "metadata": {
  "kernelspec": {
   "display_name": "potenup_10",
   "language": "python",
   "name": "python3"
  },
  "language_info": {
   "codemirror_mode": {
    "name": "ipython",
    "version": 3
   },
   "file_extension": ".py",
   "mimetype": "text/x-python",
   "name": "python",
   "nbconvert_exporter": "python",
   "pygments_lexer": "ipython3",
   "version": "3.11.13"
  }
 },
 "nbformat": 4,
 "nbformat_minor": 5
}
