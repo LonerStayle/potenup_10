{
 "cells": [
  {
   "cell_type": "code",
   "execution_count": null,
   "id": "cd4090ba",
   "metadata": {},
   "outputs": [],
   "source": [
    "from dotenv import load_dotenv\n",
    "\n",
    "load_dotenv()\n",
    "\n",
    "import os\n",
    "\n",
    "project_name = \"wanted_2nd_langchain_outputparser_basic\"\n",
    "os.environ[\"LANGSMITH_PROJECT\"] = project_name"
   ]
  },
  {
   "cell_type": "code",
   "execution_count": null,
   "id": "46941407",
   "metadata": {},
   "outputs": [],
   "source": [
    "from langchain_openai import ChatOpenAI\n",
    "from langchain_core.prompts import ChatPromptTemplate\n",
    "\n",
    "model = ChatOpenAI(temperature=0.1, model_name=\"gpt-4.1-mini\", verbose=True)"
   ]
  },
  {
   "cell_type": "code",
   "execution_count": 3,
   "id": "78de953f",
   "metadata": {},
   "outputs": [
    {
     "data": {
      "text/plain": [
       "PydanticOutputParser(pydantic_object=<class '__main__.ReviewSummary'>)"
      ]
     },
     "execution_count": 3,
     "metadata": {},
     "output_type": "execute_result"
    }
   ],
   "source": [
    "from pydantic import BaseModel, Field, ValidationError\n",
    "from langchain_core.output_parsers import PydanticOutputParser\n",
    "\n",
    "\n",
    "class ReviewSummary(BaseModel):\n",
    "    title: str\n",
    "    bullets: list[str] = Field(description=\"주요 리뷰 사항\", min_items=3, max_items=5)\n",
    "    tone: str = Field(description=\"리뷰에 대한 평가\")\n",
    "\n",
    "\n",
    "parser = PydanticOutputParser(pydantic_object=ReviewSummary)\n",
    "parser"
   ]
  },
  {
   "cell_type": "code",
   "execution_count": 4,
   "id": "5710f175",
   "metadata": {},
   "outputs": [
    {
     "data": {
      "text/plain": [
       "'The output should be formatted as a JSON instance that conforms to the JSON schema below.\\n\\nAs an example, for the schema {\"properties\": {\"foo\": {\"title\": \"Foo\", \"description\": \"a list of strings\", \"type\": \"array\", \"items\": {\"type\": \"string\"}}}, \"required\": [\"foo\"]}\\nthe object {\"foo\": [\"bar\", \"baz\"]} is a well-formatted instance of the schema. The object {\"properties\": {\"foo\": [\"bar\", \"baz\"]}} is not well-formatted.\\n\\nHere is the output schema:\\n```\\n{\"properties\": {\"title\": {\"title\": \"Title\", \"type\": \"string\"}, \"bullets\": {\"description\": \"주요 리뷰 사항\", \"items\": {\"type\": \"string\"}, \"maxItems\": 5, \"minItems\": 3, \"title\": \"Bullets\", \"type\": \"array\"}, \"tone\": {\"description\": \"리뷰에 대한 평가\", \"title\": \"Tone\", \"type\": \"string\"}}, \"required\": [\"title\", \"bullets\", \"tone\"]}\\n```'"
      ]
     },
     "execution_count": 4,
     "metadata": {},
     "output_type": "execute_result"
    }
   ],
   "source": [
    "fmt = parser.get_format_instructions()\n",
    "fmt"
   ]
  },
  {
   "cell_type": "code",
   "execution_count": null,
   "id": "d1547b99",
   "metadata": {},
   "outputs": [],
   "source": [
    "prompt = ChatPromptTemplate.from_messages(\n",
    "    [\n",
    "        (\"system\", \"JSON으로만 출력. \\n\\n양식: {fmt}\"),\n",
    "        (\"user\", \"다음 텍스트를 의사 결정용으로 요약:\\n\\n{text}\"),\n",
    "    ]\n",
    ").partial(fmt=fmt)"
   ]
  },
  {
   "cell_type": "code",
   "execution_count": 6,
   "id": "503f6365",
   "metadata": {},
   "outputs": [
    {
     "data": {
      "text/plain": [
       "ChatPromptTemplate(input_variables=['text'], input_types={}, partial_variables={'fmt': 'The output should be formatted as a JSON instance that conforms to the JSON schema below.\\n\\nAs an example, for the schema {\"properties\": {\"foo\": {\"title\": \"Foo\", \"description\": \"a list of strings\", \"type\": \"array\", \"items\": {\"type\": \"string\"}}}, \"required\": [\"foo\"]}\\nthe object {\"foo\": [\"bar\", \"baz\"]} is a well-formatted instance of the schema. The object {\"properties\": {\"foo\": [\"bar\", \"baz\"]}} is not well-formatted.\\n\\nHere is the output schema:\\n```\\n{\"properties\": {\"title\": {\"title\": \"Title\", \"type\": \"string\"}, \"bullets\": {\"description\": \"주요 리뷰 사항\", \"items\": {\"type\": \"string\"}, \"maxItems\": 5, \"minItems\": 3, \"title\": \"Bullets\", \"type\": \"array\"}, \"tone\": {\"description\": \"리뷰에 대한 평가\", \"title\": \"Tone\", \"type\": \"string\"}}, \"required\": [\"title\", \"bullets\", \"tone\"]}\\n```'}, messages=[SystemMessagePromptTemplate(prompt=PromptTemplate(input_variables=['fmt'], input_types={}, partial_variables={}, template='JSON으로만 출력. \\n\\n양식: {fmt}'), additional_kwargs={}), HumanMessagePromptTemplate(prompt=PromptTemplate(input_variables=['text'], input_types={}, partial_variables={}, template='다음 텍스트를 의사 결정용으로 요약:\\n\\n{text}'), additional_kwargs={})])"
      ]
     },
     "execution_count": 6,
     "metadata": {},
     "output_type": "execute_result"
    }
   ],
   "source": [
    "prompt"
   ]
  },
  {
   "cell_type": "code",
   "execution_count": 8,
   "id": "8255d54e",
   "metadata": {},
   "outputs": [],
   "source": [
    "chain = prompt | model | parser\n",
    "text = \"\"\"\n",
    "버튼 하나로 부드럽고 쫀쫀한 거품\n",
    "\n",
    "디자인&컬러 깔끔하고 간편한 조작으로 사용하기는 쉽네요.\n",
    "거품기 부품 스프링까지 쉽게 분리되어 세척이 간편하고 위생적이다.\n",
    "우유는 눈금선까지 넣을 경우 100ml 사용된다.\n",
    "\n",
    "사실 밀크프로더 사용 경험이 없어서 많이 설레였는데,\n",
    "정말 단순.\n",
    "중앙 버튼을 1초 누르면 따뜻한 거품,\n",
    "3초 누르면 차가운 거품을 만들 수 있어요.\n",
    "\n",
    "거품 만들기 시작을 누른 후에 자동 정지는 없고 적당한 선에서 다시 시작 버튼을 눌러줘야 되네요.\n",
    "\n",
    "설명서가 초간단이라서 조금 아쉽네요.\n",
    "시작 누르고 몇 초 후 정지를 눌러야 할지 반복적인 사용으로 터득해야 할 것 같네요.\n",
    "거품은 쫀쫀하고 실키해요~bb\n",
    "\n",
    "라떼고 자동 머신에서 카푸치노 만들어 마시다가\n",
    "직접 만들었더니 조금 번거롭지만\n",
    "요 이쁜놈 장식품되지 않게 자주 사용해보고\n",
    "좋은 TIP 터득하면 한 달 후기 써볼까?\n",
    "생각 중...\n",
    "\n",
    "타브랜드에 비해 가격은 좀 비싸지만\n",
    "성능이 중요하지!\n",
    "디자인도 이쁨!\n",
    "\n",
    "별 한 개 뺀 것은,\n",
    "사용방법 설명이 자세하지 않고,\n",
    "택배 걸 포장이 비닐이라서 안전 배송에 염려 됨.\n",
    "\n",
    "가성비 성능에 비해 비싸요\n",
    "성능 기대 이상 뛰어났어요\n",
    "조작 편리성 조작이 직관적이에요\n",
    "\"\"\""
   ]
  },
  {
   "cell_type": "code",
   "execution_count": null,
   "id": "33a84bc4",
   "metadata": {},
   "outputs": [],
   "source": [
    "result = chain.invoke({\"text\": text})"
   ]
  },
  {
   "cell_type": "code",
   "execution_count": 10,
   "id": "32bddc9c",
   "metadata": {},
   "outputs": [
    {
     "data": {
      "text/plain": [
       "'간편한 조작과 뛰어난 거품 품질의 밀크프로더 리뷰'"
      ]
     },
     "execution_count": 10,
     "metadata": {},
     "output_type": "execute_result"
    }
   ],
   "source": [
    "result.title"
   ]
  },
  {
   "cell_type": "code",
   "execution_count": 11,
   "id": "93438043",
   "metadata": {},
   "outputs": [
    {
     "name": "stdout",
     "output_type": "stream",
     "text": [
      "<class '__main__.ReviewSummary'>\n"
     ]
    }
   ],
   "source": [
    "print(type(result))"
   ]
  },
  {
   "cell_type": "code",
   "execution_count": 12,
   "id": "576fe93a",
   "metadata": {},
   "outputs": [
    {
     "data": {
      "text/plain": [
       "{'title': '간편한 조작과 뛰어난 거품 품질의 밀크프로더 리뷰',\n",
       " 'bullets': ['버튼 하나로 부드럽고 쫀쫀한 거품을 쉽게 만들 수 있음',\n",
       "  '깔끔한 디자인과 간편한 조작, 부품 분리가 쉬워 세척과 위생 관리가 편리함',\n",
       "  '자동 정지 기능이 없어 사용법 숙지가 필요하며 설명서가 다소 부족함',\n",
       "  '가격은 다소 높지만 성능과 디자인 면에서 만족스러움',\n",
       "  '포장 방식이 비닐로 되어 있어 배송 안전성에 대한 우려가 있음'],\n",
       " 'tone': '긍정적'}"
      ]
     },
     "execution_count": 12,
     "metadata": {},
     "output_type": "execute_result"
    }
   ],
   "source": [
    "result.model_dump()"
   ]
  },
  {
   "cell_type": "code",
   "execution_count": 13,
   "id": "7435980f",
   "metadata": {},
   "outputs": [
    {
     "name": "stdout",
     "output_type": "stream",
     "text": [
      "title='간편한 조작과 뛰어난 거품 품질의 밀크프로더 리뷰' bullets=['버튼 하나로 부드럽고 쫀쫀한 거품을 쉽게 만들 수 있음', '깔끔한 디자인과 간편한 조작, 부품 분리가 쉬워 세척과 위생 관리가 용이함', '자동 정지 기능이 없어 사용법 숙지가 필요하며 설명서가 다소 부족함', '가격은 다소 높지만 성능과 디자인 면에서 만족스러움', '포장 방식이 비닐로 되어 있어 배송 안전성에 대한 우려가 있음'] tone='긍정적'\n"
     ]
    }
   ],
   "source": [
    "try:\n",
    "    result = chain.invoke({\"text\": text})\n",
    "    print(result)\n",
    "except ValidationError as e:\n",
    "    print(\"ValidationError:\", e)"
   ]
  },
  {
   "cell_type": "code",
   "execution_count": null,
   "id": "fabc8722",
   "metadata": {},
   "outputs": [],
   "source": []
  }
 ],
 "metadata": {
  "kernelspec": {
   "display_name": "potenup_10",
   "language": "python",
   "name": "python3"
  },
  "language_info": {
   "codemirror_mode": {
    "name": "ipython",
    "version": 3
   },
   "file_extension": ".py",
   "mimetype": "text/x-python",
   "name": "python",
   "nbconvert_exporter": "python",
   "pygments_lexer": "ipython3",
   "version": "3.11.13"
  }
 },
 "nbformat": 4,
 "nbformat_minor": 5
}
