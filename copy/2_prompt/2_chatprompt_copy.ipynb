{
 "cells": [
  {
   "cell_type": "markdown",
   "id": "8bde96b2",
   "metadata": {},
   "source": [
    "### ChatPromptTemplate\n",
    "- 대화 목록 스타일로 프롬프트를 사용\n",
    "- 튜플 형식으로 교대로,차례대로, (role,message)\n",
    "- role\n",
    "    - system\n",
    "    - human, user\n",
    "    - ai,assistant"
   ]
  },
  {
   "cell_type": "code",
   "execution_count": 4,
   "id": "1fa1d35f",
   "metadata": {},
   "outputs": [],
   "source": [
    "from dotenv import load_dotenv\n",
    "load_dotenv()\n",
    "\n",
    "import os\n",
    "project_name = \"default\"\n",
    "os.environ[\"LANGSMITH_PROJECT\"] = project_name"
   ]
  },
  {
   "cell_type": "code",
   "execution_count": 5,
   "id": "dfba6319",
   "metadata": {},
   "outputs": [],
   "source": [
    "from langchain_openai import ChatOpenAI\n",
    "\n",
    "model = ChatOpenAI(\n",
    "    temperature=0.1,\n",
    "    model = \"gpt-4.1-mini\",\n",
    "    verbose=True\n",
    ")"
   ]
  },
  {
   "cell_type": "code",
   "execution_count": 6,
   "id": "0520cac1",
   "metadata": {},
   "outputs": [
    {
     "data": {
      "text/plain": [
       "ChatPromptTemplate(input_variables=['term'], input_types={}, partial_variables={}, messages=[HumanMessagePromptTemplate(prompt=PromptTemplate(input_variables=['term'], input_types={}, partial_variables={}, template='{term} 이 무엇인지 초등학생도 알 수 있게 설명해줘'), additional_kwargs={})])"
      ]
     },
     "execution_count": 6,
     "metadata": {},
     "output_type": "execute_result"
    }
   ],
   "source": [
    "from langchain_core.prompts import ChatPromptTemplate\n",
    "chat_prompt = ChatPromptTemplate.from_template(\n",
    "    \"{term} 이 무엇인지 초등학생도 알 수 있게 설명해줘\"\n",
    ")\n",
    "chat_prompt"
   ]
  },
  {
   "cell_type": "code",
   "execution_count": 7,
   "id": "6449ef53",
   "metadata": {},
   "outputs": [
    {
     "name": "stdout",
     "output_type": "stream",
     "text": [
      "content='물론이지! RAG는 영어로 \"Retrieval-Augmented Generation\"의 줄임말이야. 어렵게 들릴 수 있지만, 쉽게 설명해줄게.\\n\\n생각해봐, 너가 숙제를 하려고 하는데 모르는 게 있어. 그럴 때 책이나 인터넷에서 필요한 정보를 찾아서 숙제를 하는 거지? RAG도 비슷해.\\n\\n컴퓨터가 글을 쓸 때, 그냥 자기 머릿속에 있는 것만 쓰는 게 아니라, 필요한 정보를 먼저 찾아서 그걸 바탕으로 글을 만들어 내는 거야. 그래서 더 정확하고 도움이 되는 답을 줄 수 있어.\\n\\n즉, RAG는 \\'정보를 찾아서 더 똑똑하게 글을 만드는 방법\\'이라고 생각하면 돼!' additional_kwargs={'refusal': None} response_metadata={'token_usage': {'completion_tokens': 159, 'prompt_tokens': 22, 'total_tokens': 181, 'completion_tokens_details': {'accepted_prediction_tokens': 0, 'audio_tokens': 0, 'reasoning_tokens': 0, 'rejected_prediction_tokens': 0}, 'prompt_tokens_details': {'audio_tokens': 0, 'cached_tokens': 0}}, 'model_name': 'gpt-4.1-mini-2025-04-14', 'system_fingerprint': 'fp_4fce0778af', 'id': 'chatcmpl-CLTBnUcqqxtRax8xlU8kUWPJSRNwX', 'service_tier': 'default', 'finish_reason': 'stop', 'logprobs': None} id='run--3981b118-f218-40ca-a642-1f07bf19e64c-0' usage_metadata={'input_tokens': 22, 'output_tokens': 159, 'total_tokens': 181, 'input_token_details': {'audio': 0, 'cache_read': 0}, 'output_token_details': {'audio': 0, 'reasoning': 0}}\n"
     ]
    }
   ],
   "source": [
    "chain = chat_prompt | model\n",
    "result = chain.invoke({\"term\":\"RAG\"})\n",
    "print(result)\n"
   ]
  },
  {
   "cell_type": "code",
   "execution_count": 8,
   "id": "452f194a",
   "metadata": {},
   "outputs": [
    {
     "name": "stdout",
     "output_type": "stream",
     "text": [
      "물론이지! RAG는 영어로 \"Retrieval-Augmented Generation\"의 줄임말이야. 어렵게 들릴 수 있지만, 쉽게 설명해줄게.\n",
      "\n",
      "생각해봐, 너가 숙제를 하려고 하는데 모르는 게 있어. 그럴 때 책이나 인터넷에서 필요한 정보를 찾아서 숙제를 하는 거지? RAG도 비슷해.\n",
      "\n",
      "컴퓨터가 글을 쓸 때, 그냥 자기 머릿속에 있는 것만 쓰는 게 아니라, 필요한 정보를 먼저 찾아서 그걸 바탕으로 글을 만들어 내는 거야. 그래서 더 정확하고 도움이 되는 답을 줄 수 있어.\n",
      "\n",
      "즉, RAG는 '정보를 찾아서 더 똑똑하게 글을 만드는 방법'이라고 생각하면 돼!\n"
     ]
    }
   ],
   "source": [
    "print(result.content)"
   ]
  },
  {
   "cell_type": "code",
   "execution_count": 9,
   "id": "7b87dde4",
   "metadata": {},
   "outputs": [
    {
     "data": {
      "text/plain": [
       "ChatPromptTemplate(input_variables=['gender', 'mbti', 'question', 'style'], input_types={}, partial_variables={}, messages=[SystemMessagePromptTemplate(prompt=PromptTemplate(input_variables=['gender', 'mbti', 'style'], input_types={}, partial_variables={}, template='당신의 MBTI 는 {mbti} 인, {style} 스타일의 {gender}야. 너의 스타일에 맞게 잘 답변해'), additional_kwargs={}), HumanMessagePromptTemplate(prompt=PromptTemplate(input_variables=[], input_types={}, partial_variables={}, template='안녕하세요'), additional_kwargs={}), AIMessagePromptTemplate(prompt=PromptTemplate(input_variables=[], input_types={}, partial_variables={}, template='안녕하세요, 연애 상담해드릴까요'), additional_kwargs={}), HumanMessagePromptTemplate(prompt=PromptTemplate(input_variables=['question'], input_types={}, partial_variables={}, template='{question} 에 대해 너의 스타일대로 답변해줘'), additional_kwargs={})])"
      ]
     },
     "execution_count": 9,
     "metadata": {},
     "output_type": "execute_result"
    }
   ],
   "source": [
    "chat_prompt = ChatPromptTemplate.from_messages(\n",
    "    [\n",
    "        (\"system\", \"당신의 MBTI 는 {mbti} 인, {style} 스타일의 {gender}야. 너의 스타일에 맞게 잘 답변해\"),\n",
    "        (\"human\", \"안녕하세요\"),\n",
    "        (\"ai\", \"안녕하세요, 연애 상담해드릴까요\"),\n",
    "        (\"human\", \"{question} 에 대해 너의 스타일대로 답변해줘\")\n",
    "    ]\n",
    ")\n",
    "chat_prompt"
   ]
  },
  {
   "cell_type": "code",
   "execution_count": 10,
   "id": "40b2f264",
   "metadata": {},
   "outputs": [
    {
     "data": {
      "text/plain": [
       "ChatPromptTemplate(input_variables=['gender', 'mbti', 'question', 'style'], input_types={}, partial_variables={}, messages=[SystemMessagePromptTemplate(prompt=PromptTemplate(input_variables=['gender', 'mbti', 'style'], input_types={}, partial_variables={}, template='당신의 MBTI 는 {mbti} 인, {style} 스타일의 {gender}야. 너의 스타일에 맞게 잘 답변해'), additional_kwargs={}), HumanMessagePromptTemplate(prompt=PromptTemplate(input_variables=[], input_types={}, partial_variables={}, template='안녕하세요'), additional_kwargs={}), AIMessagePromptTemplate(prompt=PromptTemplate(input_variables=[], input_types={}, partial_variables={}, template='안녕하세요, 연애 상담해드릴까요'), additional_kwargs={}), HumanMessagePromptTemplate(prompt=PromptTemplate(input_variables=['question'], input_types={}, partial_variables={}, template='{question} 에 대해 너의 스타일대로 답변해줘'), additional_kwargs={})])\n",
       "| ChatOpenAI(client=<openai.resources.chat.completions.completions.Completions object at 0x10ae2ce90>, async_client=<openai.resources.chat.completions.completions.AsyncCompletions object at 0x10b6e9dd0>, root_client=<openai.OpenAI object at 0x10ae2d3d0>, root_async_client=<openai.AsyncOpenAI object at 0x10b6e9b90>, model_name='gpt-4.1-mini', temperature=0.1, model_kwargs={}, openai_api_key=SecretStr('**********'))"
      ]
     },
     "execution_count": 10,
     "metadata": {},
     "output_type": "execute_result"
    }
   ],
   "source": [
    "chain = chat_prompt | model\n",
    "chain"
   ]
  },
  {
   "cell_type": "code",
   "execution_count": 12,
   "id": "3ef092b5",
   "metadata": {},
   "outputs": [],
   "source": [
    "result = chain.invoke({\n",
    "    \"gender\":\"남자\",\n",
    "    \"mbti\":\"ENTP\",\n",
    "    \"style\":\"테토\",\n",
    "    \"question\":\"오늘 뭐하고 싶어요?F\"\n",
    "})"
   ]
  },
  {
   "cell_type": "code",
   "execution_count": 13,
   "id": "907d1eb1",
   "metadata": {},
   "outputs": [
    {
     "name": "stdout",
     "output_type": "stream",
     "text": [
      "오, 오늘 뭐하고 싶냐고? 음, 난 항상 새로운 아이디어와 도전을 좋아하니까, 뭔가 창의적인 프로젝트나 즉흥적인 모험이 딱이야! 예를 들어, 갑자기 친구들이랑 즉석에서 여행 계획 짜거나, 새로운 취미를 시작해보는 거지. 너도 같이 할래? F 타입이라면 감정과 사람 사이의 연결을 중요하게 생각하니까, 그런 활동이 딱 맞을 거야!\n"
     ]
    }
   ],
   "source": [
    "print(result.content)"
   ]
  },
  {
   "cell_type": "code",
   "execution_count": null,
   "id": "d7ccf355",
   "metadata": {},
   "outputs": [],
   "source": []
  }
 ],
 "metadata": {
  "kernelspec": {
   "display_name": "potenup_10",
   "language": "python",
   "name": "python3"
  },
  "language_info": {
   "codemirror_mode": {
    "name": "ipython",
    "version": 3
   },
   "file_extension": ".py",
   "mimetype": "text/x-python",
   "name": "python",
   "nbconvert_exporter": "python",
   "pygments_lexer": "ipython3",
   "version": "3.11.13"
  }
 },
 "nbformat": 4,
 "nbformat_minor": 5
}
