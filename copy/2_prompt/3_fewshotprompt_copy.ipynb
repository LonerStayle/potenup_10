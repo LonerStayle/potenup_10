{
 "cells": [
  {
   "cell_type": "code",
   "execution_count": 6,
   "id": "6537e9ed",
   "metadata": {},
   "outputs": [],
   "source": [
    "from dotenv import load_dotenv\n",
    "load_dotenv()\n",
    "\n",
    "import os\n",
    "project_name = \"default\"\n",
    "os.environ[\"LANGSMITH_PROJECT\"] = project_name"
   ]
  },
  {
   "cell_type": "code",
   "execution_count": 7,
   "id": "4ea4caaf",
   "metadata": {},
   "outputs": [],
   "source": [
    "from langchain_openai import ChatOpenAI\n",
    "model = ChatOpenAI(\n",
    "    temperature=0.1,\n",
    "    model=\"gpt-4.1-mini\",\n",
    "    verbose=True\n",
    ")"
   ]
  },
  {
   "cell_type": "code",
   "execution_count": 8,
   "id": "cb651c69",
   "metadata": {},
   "outputs": [],
   "source": [
    "from langchain_core.prompts.few_shot import FewShotPromptTemplate\n",
    "from langchain_core.prompts import PromptTemplate"
   ]
  },
  {
   "cell_type": "code",
   "execution_count": 9,
   "id": "55b2e921",
   "metadata": {},
   "outputs": [],
   "source": [
    "examples = [\n",
    "    {\"question\":\"안녕하세요\", \"answer\":\"잘지내나\"},\n",
    "    {\"question\":\"맛잇게 먹어\", \"answer\":\"마이 무라\"},\n",
    "    {\"question\":\"지금 뭐하고 있어?\", \"answer\":\"지금 뭐하노?\"},\n",
    "    {\"question\":\"지금 뭐라고 하는거야?\", \"answer\":\"쿼라카노\"},\n",
    "]"
   ]
  },
  {
   "cell_type": "code",
   "execution_count": 10,
   "id": "63ec0fdf",
   "metadata": {},
   "outputs": [
    {
     "data": {
      "text/plain": [
       "PromptTemplate(input_variables=['answer', 'question'], input_types={}, partial_variables={}, template='\\n    [질문 내용]\\n    {question} 을/를 경상도 사투리로 어떻게 말하나요?\\n\\n    [사투리]\\n    {answer}\\n    ')"
      ]
     },
     "execution_count": 10,
     "metadata": {},
     "output_type": "execute_result"
    }
   ],
   "source": [
    "example_prompt = PromptTemplate.from_template(\n",
    "    \"\"\"\n",
    "    [질문 내용]\n",
    "    {question} 을/를 경상도 사투리로 어떻게 말하나요?\n",
    "    \n",
    "    [사투리]\n",
    "    {answer}\n",
    "    \"\"\"\n",
    ")\n",
    "example_prompt"
   ]
  },
  {
   "cell_type": "code",
   "execution_count": 11,
   "id": "57c9b909",
   "metadata": {},
   "outputs": [],
   "source": [
    "prompt_template = FewShotPromptTemplate(\n",
    "    examples = examples,\n",
    "    example_prompt = example_prompt,\n",
    "    suffix = \"\"\"질문 내용:\n",
    "    {question}\\n\n",
    "    \n",
    "    사투리 : \n",
    "    \"\"\",\n",
    "    input_variables=[\"question\"]\n",
    ")"
   ]
  },
  {
   "cell_type": "code",
   "execution_count": 12,
   "id": "14f31ef6",
   "metadata": {},
   "outputs": [
    {
     "name": "stdout",
     "output_type": "stream",
     "text": [
      "\n",
      "    [질문 내용]\n",
      "    안녕하세요 을/를 경상도 사투리로 어떻게 말하나요?\n",
      "\n",
      "    [사투리]\n",
      "    잘지내나\n",
      "    \n",
      "\n",
      "\n",
      "    [질문 내용]\n",
      "    맛잇게 먹어 을/를 경상도 사투리로 어떻게 말하나요?\n",
      "\n",
      "    [사투리]\n",
      "    마이 무라\n",
      "    \n",
      "\n",
      "\n",
      "    [질문 내용]\n",
      "    지금 뭐하고 있어? 을/를 경상도 사투리로 어떻게 말하나요?\n",
      "\n",
      "    [사투리]\n",
      "    지금 뭐하노?\n",
      "    \n",
      "\n",
      "\n",
      "    [질문 내용]\n",
      "    지금 뭐라고 하는거야? 을/를 경상도 사투리로 어떻게 말하나요?\n",
      "\n",
      "    [사투리]\n",
      "    쿼라카노\n",
      "    \n",
      "\n",
      "질문 내용:\n",
      "    안녕하세요 지금 뭐하고 있어요?\n",
      "\n",
      "\n",
      "    사투리 : \n",
      "    \n"
     ]
    }
   ],
   "source": [
    "question = \"안녕하세요 지금 뭐하고 있어요?\"\n",
    "q_prompt = prompt_template.format(question=question)\n",
    "print(q_prompt)"
   ]
  },
  {
   "cell_type": "code",
   "execution_count": 14,
   "id": "2c7b889a",
   "metadata": {},
   "outputs": [
    {
     "name": "stdout",
     "output_type": "stream",
     "text": [
      "안녕하세요 지금 뭐하고 있어요?  \n",
      "경상도 사투리:  \n",
      "잘 있나? 지금 뭐하노?\n"
     ]
    }
   ],
   "source": [
    "question = \"안녕하세요 지금 뭐하고 있어요?\"\n",
    "\n",
    "chain = prompt_template | model\n",
    "result = chain.invoke({'question' : question})\n",
    "print(result.content)"
   ]
  },
  {
   "cell_type": "code",
   "execution_count": null,
   "id": "31a2eb4c",
   "metadata": {},
   "outputs": [],
   "source": []
  }
 ],
 "metadata": {
  "kernelspec": {
   "display_name": "potenup_10",
   "language": "python",
   "name": "python3"
  },
  "language_info": {
   "codemirror_mode": {
    "name": "ipython",
    "version": 3
   },
   "file_extension": ".py",
   "mimetype": "text/x-python",
   "name": "python",
   "nbconvert_exporter": "python",
   "pygments_lexer": "ipython3",
   "version": "3.11.13"
  }
 },
 "nbformat": 4,
 "nbformat_minor": 5
}
