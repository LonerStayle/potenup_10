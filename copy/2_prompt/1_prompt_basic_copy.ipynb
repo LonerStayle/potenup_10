{
 "cells": [
  {
   "cell_type": "code",
   "execution_count": 1,
   "id": "07426859",
   "metadata": {},
   "outputs": [],
   "source": [
    "from dotenv import load_dotenv\n",
    "load_dotenv()\n",
    "import os\n",
    "project_name = \"default\"\n",
    "os.environ[\"LANGSMITH_PROJECT\"] = project_name"
   ]
  },
  {
   "cell_type": "code",
   "execution_count": 2,
   "id": "dfe78488",
   "metadata": {},
   "outputs": [],
   "source": [
    "from langchain_openai import ChatOpenAI\n",
    "model = ChatOpenAI(\n",
    "    temperature=0.1,\n",
    "    model = \"gpt-4.1-mini\",\n",
    "    verbose=True\n",
    ")"
   ]
  },
  {
   "cell_type": "code",
   "execution_count": 3,
   "id": "b2d699bd",
   "metadata": {},
   "outputs": [
    {
     "data": {
      "text/plain": [
       "PromptTemplate(input_variables=['field', 'year'], input_types={}, partial_variables={}, template='\\n최근 {year}년 간 {field} 분야의 기술 발전에 대해서 알려줘\\n')"
      ]
     },
     "execution_count": 3,
     "metadata": {},
     "output_type": "execute_result"
    }
   ],
   "source": [
    "from langchain_core.prompts import PromptTemplate\n",
    "template = \"\"\"\n",
    "최근 {year}년 간 {field} 분야의 기술 발전에 대해서 알려줘\n",
    "\"\"\"\n",
    "prompt_template = PromptTemplate.from_template(template)\n",
    "prompt_template\n"
   ]
  },
  {
   "cell_type": "code",
   "execution_count": 5,
   "id": "8d859a7c",
   "metadata": {},
   "outputs": [
    {
     "data": {
      "text/plain": [
       "AIMessage(content='최근 3년 간(2021년~2024년) AI 분야에서는 여러 중요한 기술 발전과 혁신이 이루어졌습니다. 주요 트렌드와 발전 내용을 요약하면 다음과 같습니다.\\n\\n1. **대규모 언어 모델(LLM)의 발전**\\n   - OpenAI의 GPT-3(2020년 출시) 이후, GPT-4(2023년 출시) 등 더욱 정교하고 강력한 대규모 언어 모델이 등장했습니다.\\n   - 이러한 모델들은 자연어 이해, 생성, 번역, 요약, 코드 작성 등 다양한 작업에서 뛰어난 성능을 보이며, 챗봇, 가상 비서, 콘텐츠 생성 등 실생활 응용이 확대되고 있습니다.\\n   - 멀티모달 모델(예: 텍스트와 이미지를 동시에 처리하는 모델)도 발전하여, 텍스트와 이미지, 음성 등을 통합해 이해하고 생성하는 능력이 향상되었습니다.\\n\\n2. **생성형 AI(Generative AI)의 확산**\\n   - 텍스트뿐 아니라 이미지, 음악, 영상 생성 AI가 크게 발전했습니다.\\n   - 대표적으로 OpenAI의 DALL·E 2, Stability AI의 Stable Diffusion, Google의 Imagen 등이 있으며, 이들은 고품질의 이미지를 텍스트 설명만으로 생성할 수 있습니다.\\n   - 생성형 AI는 디자인, 예술, 게임, 광고 등 다양한 산업에서 활용도가 급증하고 있습니다.\\n\\n3. **AI의 효율성 및 친환경성 개선**\\n   - 대규모 모델의 높은 연산 비용과 에너지 소비 문제를 해결하기 위해, 경량화 모델, 지식 증류, 효율적인 학습 알고리즘 등이 활발히 연구되고 있습니다.\\n   - 하드웨어 측면에서도 AI 전용 칩과 가속기가 발전하여, AI 연산의 속도와 효율이 크게 향상되었습니다.\\n\\n4. **AI 윤리 및 규제 강화**\\n   - AI의 사회적 영향이 커지면서, 공정성, 투명성, 프라이버시 보호, 편향성 문제에 대한 관심과 연구가 증가했습니다.\\n   - 여러 국가와 국제기구에서 AI 규제와 가이드라인을 마련하고 있으며, 책임 있는 AI 개발과 사용을 위한 정책이 강화되고 있습니다.\\n\\n5. **자율 시스템과 로보틱스**\\n   - 자율주행차, 드론, 로봇 분야에서 AI 기술이 크게 발전했습니다.\\n   - 센서 융합, 강화학습, 시뮬레이션 기반 학습 등이 발전하며, 실제 환경에서의 자율성과 안정성이 향상되고 있습니다.\\n\\n6. **AI와 다른 기술의 융합**\\n   - AI와 클라우드 컴퓨팅, 엣지 컴퓨팅, 5G/6G 통신 기술의 결합으로 실시간 AI 서비스가 가능해졌습니다.\\n   - 의료, 금융, 제조업 등 다양한 산업에서 AI가 핵심 기술로 자리잡으며 디지털 전환을 가속화하고 있습니다.\\n\\n요약하자면, 최근 3년간 AI는 대규모 언어 모델과 생성형 AI의 비약적 발전, 효율성 개선, 윤리적 고려 강화, 자율 시스템 고도화, 그리고 다양한 산업과의 융합을 통해 빠르게 진화하고 있습니다.', additional_kwargs={'refusal': None}, response_metadata={'token_usage': {'completion_tokens': 712, 'prompt_tokens': 23, 'total_tokens': 735, 'completion_tokens_details': {'accepted_prediction_tokens': 0, 'audio_tokens': 0, 'reasoning_tokens': 0, 'rejected_prediction_tokens': 0}, 'prompt_tokens_details': {'audio_tokens': 0, 'cached_tokens': 0}}, 'model_name': 'gpt-4.1-mini-2025-04-14', 'system_fingerprint': 'fp_6d7dcc9a98', 'id': 'chatcmpl-CLSnlxzFK95jNPTvVwf3CjDIRIiEi', 'service_tier': 'default', 'finish_reason': 'stop', 'logprobs': None}, id='run--4013ba7d-6d9a-444a-8fce-600efdbbf170-0', usage_metadata={'input_tokens': 23, 'output_tokens': 712, 'total_tokens': 735, 'input_token_details': {'audio': 0, 'cache_read': 0}, 'output_token_details': {'audio': 0, 'reasoning': 0}})"
      ]
     },
     "execution_count": 5,
     "metadata": {},
     "output_type": "execute_result"
    }
   ],
   "source": [
    "chain = prompt_template | model\n",
    "result = chain.invoke({\"year\":3,\"field\":\"AI\"})\n",
    "result"
   ]
  },
  {
   "cell_type": "code",
   "execution_count": null,
   "id": "653fde50",
   "metadata": {},
   "outputs": [
    {
     "data": {
      "text/plain": [
       "PromptTemplate(input_variables=['year'], input_types={}, partial_variables={'field': 'AI'}, template='\\n최근 {year}년 간 {field} 분야의 기술 발전에 대해서 알려줘\\n')"
      ]
     },
     "execution_count": 14,
     "metadata": {},
     "output_type": "execute_result"
    }
   ],
   "source": [
    "prompt_template_fixed = PromptTemplate(\n",
    "    template=template,\n",
    "    #input_variables 필수 require를 명시적으로 설정\n",
    "    input_variables=[\"year\"],\n",
    "    #partial_variables은 고정\n",
    "    partial_variables={\n",
    "        \"field\":\"AI\"\n",
    "    }\n",
    ")\n",
    "prompt_template_fixed"
   ]
  },
  {
   "cell_type": "code",
   "execution_count": 16,
   "id": "5de0567a",
   "metadata": {},
   "outputs": [
    {
     "name": "stdout",
     "output_type": "stream",
     "text": [
      "최근 3년 간(2021년~2024년) AI 분야에서는 여러 중요한 기술 발전과 혁신이 이루어졌습니다. 주요 트렌드와 발전 내용을 요약하면 다음과 같습니다.\n",
      "\n",
      "1. **대규모 언어 모델(LLM)의 발전**\n",
      "   - OpenAI의 GPT-3(2020년 출시) 이후, GPT-4(2023년 출시) 등 더욱 정교하고 강력한 대규모 언어 모델이 등장했습니다.\n",
      "   - 이러한 모델들은 자연어 이해, 생성, 번역, 요약, 코드 작성 등 다양한 작업에서 뛰어난 성능을 보이며, 챗봇, 가상 비서, 콘텐츠 생성 등 실생활 응용이 확대되었습니다.\n",
      "   - 멀티모달 모델(예: 텍스트와 이미지 입력을 동시에 처리하는 모델)도 활발히 연구되고 있습니다.\n",
      "\n",
      "2. **멀티모달 AI**\n",
      "   - 텍스트, 이미지, 음성, 비디오 등 다양한 형태의 데이터를 동시에 처리하는 AI 모델이 발전했습니다.\n",
      "   - 예를 들어, OpenAI의 DALL·E 2, Google의 Imagen 등 텍스트 설명을 기반으로 고해상도 이미지를 생성하는 모델이 상용화되었습니다.\n",
      "   - 멀티모달 AI는 의료 영상 분석, 자율주행, 로봇공학 등 다양한 분야에 적용되고 있습니다.\n",
      "\n",
      "3. **자연어 처리(NLP)와 생성 AI의 상용화 확대**\n",
      "   - 생성 AI(Generative AI)가 콘텐츠 제작, 마케팅, 교육, 게임 등 산업 전반에 빠르게 도입되고 있습니다.\n",
      "   - AI 기반 자동 번역, 요약, 질의응답 시스템이 고도화되어 기업과 개인의 생산성을 크게 향상시키고 있습니다.\n",
      "\n",
      "4. **AI 윤리 및 규제 강화**\n",
      "   - AI의 사회적 영향이 커지면서, 공정성, 투명성, 프라이버시 보호, 편향성 문제에 대한 관심과 연구가 증가했습니다.\n",
      "   - 각국 정부와 국제기구에서 AI 규제와 가이드라인을 마련하는 움직임이 활발해졌습니다.\n",
      "\n",
      "5. **자율주행 및 로봇공학**\n",
      "   - 자율주행차 기술이 더욱 성숙해지고, 일부 지역에서는 제한적 상용화가 진행 중입니다.\n",
      "   - 로봇의 인지능력과 상호작용 능력이 향상되어 물류, 제조, 서비스 분야에서 활용도가 높아지고 있습니다.\n",
      "\n",
      "6. **AI 하드웨어 및 효율성 개선**\n",
      "   - AI 모델의 크기와 복잡성이 증가함에 따라, 효율적인 연산을 위한 전용 AI 칩과 하드웨어가 발전했습니다.\n",
      "   - 모델 경량화, 지식 증류, 양자화 등 기술로 AI의 에너지 효율과 실시간 처리 능력이 개선되고 있습니다.\n",
      "\n",
      "7. **강화학습과 자가학습 기술 발전**\n",
      "   - 강화학습을 활용한 복잡한 문제 해결 능력이 향상되었으며, 자가학습(self-supervised learning) 기법이 대규모 데이터에서 효과적으로 활용되고 있습니다.\n",
      "   - 게임, 로봇 제어, 금융 등 다양한 분야에서 성과를 내고 있습니다.\n",
      "\n",
      "요약하면, 최근 3년간 AI는 대규모 언어 모델과 멀티모달 AI의 급격한 발전을 중심으로, 상용화 확대와 윤리적 고려가 병행되면서 산업과 사회 전반에 깊숙이 통합되고 있습니다.\n"
     ]
    }
   ],
   "source": [
    "fixed_chain = prompt_template_fixed | model\n",
    "result = fixed_chain.invoke({\"year\":3})\n",
    "print(result.content)"
   ]
  },
  {
   "cell_type": "markdown",
   "id": "a79b36e1",
   "metadata": {},
   "source": [
    "### Partial variable 좀 더 해보기"
   ]
  },
  {
   "cell_type": "code",
   "execution_count": 18,
   "id": "bb5b12a1",
   "metadata": {},
   "outputs": [],
   "source": [
    "from datetime import datetime"
   ]
  },
  {
   "cell_type": "code",
   "execution_count": 22,
   "id": "a7f7eb61",
   "metadata": {},
   "outputs": [
    {
     "data": {
      "text/plain": [
       "'2025/09/30 20:36'"
      ]
     },
     "execution_count": 22,
     "metadata": {},
     "output_type": "execute_result"
    }
   ],
   "source": [
    "datetime.now().strftime(\"%Y/%m/%d %H:%M\")"
   ]
  },
  {
   "cell_type": "code",
   "execution_count": 23,
   "id": "878412aa",
   "metadata": {},
   "outputs": [],
   "source": [
    "def get_today():\n",
    "    return datetime.now().strftime(\"%Y/%m/%d %H:%M\")"
   ]
  },
  {
   "cell_type": "code",
   "execution_count": 25,
   "id": "cb7271fe",
   "metadata": {},
   "outputs": [],
   "source": [
    "template = \"현재 시간은 {today} 입니다. 이 시간대에 사람들이 가장 많이 하는 활동을 {number} 가지 알려주세요\"\n",
    "prompt_template = PromptTemplate(\n",
    "    template=template,\n",
    "    input_variables=[\"number\"],\n",
    "    partial_variables={\n",
    "        \"today\":get_today\n",
    "    }\n",
    ")"
   ]
  },
  {
   "cell_type": "code",
   "execution_count": 26,
   "id": "aecde7a0",
   "metadata": {},
   "outputs": [
    {
     "data": {
      "text/plain": [
       "PromptTemplate(input_variables=['number'], input_types={}, partial_variables={'today': <function get_today at 0x1230ca020>}, template='현재 시간은 {today} 입니다. 이 시간대에 사람들이 가장 많이 하는 활동을 {number} 가지 알려주세요')"
      ]
     },
     "execution_count": 26,
     "metadata": {},
     "output_type": "execute_result"
    }
   ],
   "source": [
    "prompt_template"
   ]
  },
  {
   "cell_type": "code",
   "execution_count": 27,
   "id": "96d92fad",
   "metadata": {},
   "outputs": [
    {
     "name": "stdout",
     "output_type": "stream",
     "text": [
      "2025년 9월 30일 오후 8시 39분(20:39) 시간대에 사람들이 가장 많이 하는 활동 3가지는 다음과 같습니다:\n",
      "\n",
      "1. **저녁 식사 또는 간식 시간**  \n",
      "   많은 사람들이 저녁 식사를 하거나 간단한 간식을 즐기며 하루를 마무리하는 시간입니다.\n",
      "\n",
      "2. **휴식 및 여가 활동**  \n",
      "   퇴근 후나 학교가 끝난 후 TV 시청, 영화 감상, 독서, 게임, 인터넷 서핑 등으로 휴식을 취하는 경우가 많습니다.\n",
      "\n",
      "3. **가족 및 친구와의 시간 보내기**  \n",
      "   가족과 대화를 나누거나 친구와 연락하며 하루 동안 있었던 일을 공유하는 시간이기도 합니다.\n",
      "\n",
      "이 시간대는 개인의 생활 패턴이나 문화, 지역에 따라 다소 차이가 있을 수 있습니다.\n"
     ]
    }
   ],
   "source": [
    "chain = prompt_template | model \n",
    "result = chain.invoke({\"number\":3})\n",
    "print(result.content)"
   ]
  },
  {
   "cell_type": "markdown",
   "id": "2a9f7ce7",
   "metadata": {},
   "source": [
    "#### 프롬프트 템플릿 저장 및 로드"
   ]
  },
  {
   "cell_type": "code",
   "execution_count": 43,
   "id": "684f316d",
   "metadata": {},
   "outputs": [],
   "source": [
    "# 예\n",
    "template = \"현재 시간은 {today} 입니다.  활동을 {number}가지 알려주세요\"\n",
    "prompt_template = PromptTemplate(\n",
    "    template=template\n",
    ")"
   ]
  },
  {
   "cell_type": "code",
   "execution_count": null,
   "id": "0a4ef95b",
   "metadata": {},
   "outputs": [],
   "source": [
    "prompt_template.save(\"best_template_copy.yaml\")"
   ]
  },
  {
   "cell_type": "code",
   "execution_count": 47,
   "id": "500420fc",
   "metadata": {},
   "outputs": [],
   "source": [
    "import yaml\n",
    "encoding=\"utf-8\"\n",
    "with open('best_template_copy.yaml','r',encoding=encoding) as f:\n",
    "    config = yaml.safe_load(f)"
   ]
  },
  {
   "cell_type": "code",
   "execution_count": 48,
   "id": "085a7f9d",
   "metadata": {},
   "outputs": [
    {
     "data": {
      "text/plain": [
       "{'_type': 'prompt',\n",
       " 'input_variables': ['number', 'today'],\n",
       " 'metadata': None,\n",
       " 'name': None,\n",
       " 'optional_variables': [],\n",
       " 'output_parser': None,\n",
       " 'partial_variables': {},\n",
       " 'tags': None,\n",
       " 'template': '현재 시간은 {today} 입니다.  활동을 {number}가지 알려주세요',\n",
       " 'template_format': 'f-string',\n",
       " 'validate_template': False}"
      ]
     },
     "execution_count": 48,
     "metadata": {},
     "output_type": "execute_result"
    }
   ],
   "source": [
    "config"
   ]
  },
  {
   "cell_type": "code",
   "execution_count": 49,
   "id": "62009c2e",
   "metadata": {},
   "outputs": [
    {
     "data": {
      "text/plain": [
       "PromptTemplate(input_variables=['number', 'today'], input_types={}, partial_variables={}, template='현재 시간은 {today} 입니다.  활동을 {number}가지 알려주세요')"
      ]
     },
     "execution_count": 49,
     "metadata": {},
     "output_type": "execute_result"
    }
   ],
   "source": [
    "from langchain_core.prompts import loading\n",
    "load_prompt = loading.load_prompt_from_config(config)\n",
    "load_prompt"
   ]
  },
  {
   "cell_type": "code",
   "execution_count": null,
   "id": "552ece79",
   "metadata": {},
   "outputs": [],
   "source": []
  }
 ],
 "metadata": {
  "kernelspec": {
   "display_name": "potenup_10",
   "language": "python",
   "name": "python3"
  },
  "language_info": {
   "codemirror_mode": {
    "name": "ipython",
    "version": 3
   },
   "file_extension": ".py",
   "mimetype": "text/x-python",
   "name": "python",
   "nbconvert_exporter": "python",
   "pygments_lexer": "ipython3",
   "version": "3.11.13"
  }
 },
 "nbformat": 4,
 "nbformat_minor": 5
}
