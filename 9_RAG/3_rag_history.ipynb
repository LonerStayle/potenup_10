{
 "cells": [
  {
   "cell_type": "code",
   "execution_count": null,
   "id": "83165782",
   "metadata": {},
   "outputs": [],
   "source": [
    "from langchain_core.prompts import ChatPromptTemplate, MessagesPlaceholder\n",
    "from dotenv import load_dotenv\n",
    "load_dotenv()\n",
    "\n",
    "from langchain_chroma import Chroma\n",
    "from langchain.embeddings import OpenAIEmbeddings\n",
    "from langchain_core.runnables import  RunnableLambda\n",
    "from langchain_core.prompts import ChatPromptTemplate\n",
    "from langchain_core.output_parsers import StrOutputParser\n",
    "rag_prompt_with_history = ChatPromptTemplate.from_messages(\n",
    "    [\n",
    "        (\"system\", \"\"\"주어진 Context만 근거로 간결하고 정확하게 답하도록 해라.\n",
    "         \n",
    "         [Context]\n",
    "         {context}\"\"\"),\n",
    "        MessagesPlaceholder(variable_name=\"chat_history\"),\n",
    "        (\"human\", \"{question}\"),\n",
    "    ]\n",
    ")\n"
   ]
  },
  {
   "cell_type": "code",
   "execution_count": 28,
   "id": "d6d6ec36",
   "metadata": {},
   "outputs": [],
   "source": [
    "embeddings = OpenAIEmbeddings(model=\"text-embedding-3-small\")\n",
    "collection_name = \"samsung2025\"\n",
    "vectorstore = Chroma(\n",
    "    embedding_function= embeddings,\n",
    "    persist_directory=\"../7_vectorstore/samsung_2025_db\",\n",
    "    collection_name=collection_name\n",
    ")\n"
   ]
  },
  {
   "cell_type": "code",
   "execution_count": 29,
   "id": "fdaf220f",
   "metadata": {},
   "outputs": [
    {
     "data": {
      "text/plain": [
       "[Document(id='7ef39294-b0e0-4bf5-8386-abb0aa455d04', metadata={'total_pages': 87, 'source': '../data/Samsung_Electronics_Sustainability_Report_2025_KOR.pdf', 'trapped': '/False', 'page_label': '5', 'moddate': '2025-09-04T16:51:11+09:00', 'creationdate': '2025-07-10T16:11:16+09:00', 'page': 4, 'producer': 'Adobe PDF Library 15.0', 'creator': 'Adobe InDesign 15.1 (Macintosh)'}, page_content='삼성전자 지속가능경영보고서 2025\\n05\\nOur Company AppendixFacts & Figures PrinciplePlanet People\\n회사소개\\nAbout Us\\n삼성전자주식회사(이하 삼성전자)는 인재와 기술을 기반으로 최고의 제품과 서비스를 창출함으로써 인류사회에 기여하는 글로벌 초일류 기업을 지향합니다. 이를 위해 삼성전자가 지켜나갈 약속인 5가지 경영원칙 을 세부원칙과 \\n행동지침으로 구체화하고, 삼성전자 임직원이 지켜야 할 행동규범 으로 제정하여 모든 경영활동의 기준으로 삼고 있습니다. 앞으로도 삼성전자는 조직문화에 5가지 핵심가치 를 내재화하여 지속적으로 성장해갈 것입니다.\\n사업부문 및 글로벌 네트워크 소개\\n삼성전자는 제품 특성에 따라 DX(Device eXperience)와 DS(Device Solutions) 2개 부문으로 나뉘어 독립적으로 운영되고 있습니다. DX부문은 스마트폰, 네트워크 시스템, 컴퓨터, TV, 냉장고, 세탁기, 에어컨, 의료기기 등 완제품을 \\n생산·판매하고 있으며, DS부문은 메모리 사업, Foundry 사업, System LSI 사업으로 구성되어 DRAM, NAND Flash, 모바일AP 등의 반도체 부품을 생산·판매합니다. 삼성전자는 2024년 말 기준 전 세계에 240개의 생산거점, \\n판매거점, R&D 센터, 디자인 센터 등을 보유하고 있습니다.\\n매출\\n174조 8,877억 원\\n영업이익\\n12조 4,399억 원\\n네트워크\\nMobile eXperience 영상디스플레이\\n생활가전 의료기기\\n주요 사업부\\nDevice eXperience\\nDX DS\\nDevice Solutions\\n※ 상기 매출과 영업이익은 2024년 실적 기준이며, SDC, Harman의 실적은 제외된 것입니다.\\n1) 내부관리 기준에 따른 지역구분   2) 판매법인, 지점 등   3) 물류법인, IP 오피스 등   4) 당사 제품 생산용 부품을 공급하는 기업\\n임직원 262,647명 연구개발비 35.0조 원운영국가 76개국협력회사\\n4)\\n 2,503개\\n지역총괄\\n1)'),\n",
       " Document(id='78bf6904-252f-4032-890c-19677fa40d87', metadata={'moddate': '2025-09-04T16:51:11+09:00', 'page': 3, 'page_label': '4', 'producer': 'Adobe PDF Library 15.0', 'creator': 'Adobe InDesign 15.1 (Macintosh)', 'creationdate': '2025-07-10T16:11:16+09:00', 'total_pages': 87, 'trapped': '/False', 'source': '../data/Samsung_Electronics_Sustainability_Report_2025_KOR.pdf'}, page_content=\"삼성전자 지속가능경영보고서 2025\\n04\\nOur Company AppendixFacts & Figures PrinciplePlanet People\\n주주, 고객, 협력회사, 그리고 임직원 여러분,\\n2024년은 글로벌 지정학적 리스크와 AI 기술의 성장 등 급격한 산업의 \\n변화를 겪은 한 해였습니다. 산업계 전반에 걸친 경쟁은 한층 더 \\n치열해지고 있으며, 새로운 기술은 사업 전반에 큰 변화를 요구하고 \\n있습니다. \\n삼성전자는 이러한 환경에서도 전년 대비 16%의 매출 증가와 5배에 \\n달하는 영업이익을 기록했습니다. 전략적 시설투자와 연구개발 강화 등 \\n지속 성장의 기반을 다지는 데에도 집중했습니다.\\n다양한 분야의 이해관계자 여러분께서 삼성전자의 이러한 노력을 \\n인정하고 성원해 주신 결과, 삼성전자의 브랜드 가치는 인터브랜드 평가 \\n기준 사상 첫 1,000억 달러를 돌파하며 5년 연속 글로벌 5위로 평가 \\n받았습니다. 진심으로 감사드립니다.\\n급변하는 경영 환경과 사회∙경제적 리스크에 대응하기 위한 확실한 \\n해법은 기본에 충실한 경영과 지속가능한 성장 기반 마련에 있습니다. \\n삼성전자는 이러한 믿음을 바탕으로 사업경쟁력과 기술혁신의 원동력을 \\n제고하기 위해 사회 전반에서 다양한 활동을 지속하고 있습니다.\\n환경 분야에 대해 먼저 말씀드립니다. 삼성전자는 2022년 9월 발표한 '新\\n환경경영전략'을 기반으로 탄소중립 달성, 자원순환 극대화, 그리고 기술 \\n혁신을 통한 환경 난제 해결을 위해 노력하고 있습니다.\\nDX(Device eXperience)부문은 2030년 탄소중립 달성을 목표로 2024\\n년 말 기준 전체 에너지의 93.4%가 재생에너지로 전환되었고, 대표 \\n제품 모델에는 고효율 에너지 기술을 적용해 2019년 대비 평균 31.5%\\n의 소비전력을 절감했습니다. 제품에 사용되는 플라스틱 부품의 31%에 \\n재활용 소재를 적용하는 성과를 이뤘습니다.\\nDS(Device Solutions)부문은 2050년 탄소중립 달성을 목표로\"),\n",
       " Document(id='6fb5644d-ad60-4b13-ad4a-562338f89793', metadata={'producer': 'Adobe PDF Library 15.0', 'moddate': '2025-09-04T16:51:11+09:00', 'page_label': '3', 'page': 2, 'trapped': '/False', 'creator': 'Adobe InDesign 15.1 (Macintosh)', 'creationdate': '2025-07-10T16:11:16+09:00', 'source': '../data/Samsung_Electronics_Sustainability_Report_2025_KOR.pdf', 'total_pages': 87}, page_content='삼성전자 지속가능경영보고서 2025\\n03\\nOur Company AppendixFacts & Figures PrinciplePlanet People\\nOur Company\\nCEO 메시지\\n회사소개\\n기업 지배구조\\n중대성 평가\\n이해관계자 소통\\n04\\n05\\n06\\n07\\n09'),\n",
       " Document(id='85aba90c-8f1e-4322-9238-ee5a9b5aa4e7', metadata={'producer': 'Adobe PDF Library 15.0', 'trapped': '/False', 'moddate': '2025-09-04T16:51:11+09:00', 'creationdate': '2025-07-10T16:11:16+09:00', 'page': 83, 'total_pages': 87, 'page_label': '84', 'source': '../data/Samsung_Electronics_Sustainability_Report_2025_KOR.pdf', 'creator': 'Adobe InDesign 15.1 (Macintosh)'}, page_content='삼성전자 지속가능경영보고서 2025\\n84\\n코드 공시 항목 참고 페이지 및 답변\\n제품 안전 TC-HW-230a.1 제품의 정보보안 관련 리스크를 발견하고 이를 개선하는 방법 설명\\n삼성전자는 개인정보보호팀장, 정보보호센터장이 개인정보보호 운영위원회와 보안현안협의회를 통해 컨트롤 타워 역할을  \\n수행합니다. 개인정보보호 3대원칙과 사이버 보안 4대 방향성을 수립하여 이에 맞는 첨단 보안 기술을 개발하고 제품에  \\n적용합니다. 삼성전자 개인정보 보호와 보안 현황은 지속가능경영 보고서 P.53- 54를 참조하십시오.\\n다양성과 포용 TC-HW-330a.1 (1) 경영진과 (2) 기술진, (3) 그 외 임직원의 성별 비율과 인종∙민족별 비율 삼성전자는 경영진과 기술진 그 외 임직원의 성별 비율을 공개하고 있습니다. 그 외 자세한 임직원 현황은 지속가능경영보고서 \\np.64-65를 참조하십시오.\\n제품 수명주기 관리 TC-HW-410a.1 IEC 62474 국제표준 신고 물질을 포함하고 있는 제품의 매출액 기준 비율\\n삼성전자는 글로벌 규정(EU RoHS, REACH, TSCA 등)을 준수하고, 국내외 환경 기준을 반영하여 사내 규칙을 제정하여\\n엄격하게 관리하고 있습니다. 또한 제품에 사용되는 모든 부품과 원재료에 대해 철저한 사전검사와 사후관리 체계를 운영하고\\n있습니다. 삼성전자의 유해물질 관리 현황은 지속가능경영보고서 P.20, 32-33, 29~30 및 지속가능경영웹사이트에 공개된  \\n제품환경관리물질 운영규칙 을 참조하십시오.\\nTC-HW-410a.2 EPEAT 등록 기준이나 이와 동등한 수준의 기준을 충족하는 제품의 매출액 기준 비율\\n1)\\n· 컴퓨터: 85.5%\\n· 휴대전화: 85.3%\\n· 태블릿: 36.7%\\n· 디스플레이: 32.0%\\nTC-HW-410a.3 ENERGY STAR\\n®\\n 기준을 충족하는 제품의 매출액 기준 비율\\n1)\\n· 오디오: 60.6%\\n· 컴퓨터: 100%\\n· 태블릿: 61.6%\\nTC-HW-410a.4 회수된 폐전자제품의 중량과 재활용률'),\n",
       " Document(id='a9bd516f-28d1-4a29-98d8-6b8b6de5df3d', metadata={'total_pages': 87, 'creator': 'Adobe InDesign 15.1 (Macintosh)', 'producer': 'Adobe PDF Library 15.0', 'creationdate': '2025-07-10T16:11:16+09:00', 'page_label': '76', 'moddate': '2025-09-04T16:51:11+09:00', 'page': 75, 'source': '../data/Samsung_Electronics_Sustainability_Report_2025_KOR.pdf', 'trapped': '/False'}, page_content='삼성전자 지속가능경영보고서 2025\\n76\\n독립된 인증인의 인증보고서\\nOur Company AppendixFacts & Figures PrinciplePlanet People'),\n",
       " Document(id='c6c61f5d-0717-4264-9a09-a0f6aaf22c2e', metadata={'producer': 'Adobe PDF Library 15.0', 'creator': 'Adobe InDesign 15.1 (Macintosh)', 'source': '../data/Samsung_Electronics_Sustainability_Report_2025_KOR.pdf', 'moddate': '2025-09-04T16:51:11+09:00', 'creationdate': '2025-07-10T16:11:16+09:00', 'trapped': '/False', 'page_label': '54', 'total_pages': 87, 'page': 53}, page_content='삼성전자 지속가능경영보고서 2025\\n54\\nBespoke AI 로봇청소기 보안 인증 획득\\n2024년에는 Bespoke AI 스팀 로봇청소기가 KISA 개인정보보호중심설계\\n(PbD, Privacy by Design) 인증과 KISA IoT 보안 인증 중 최고 수준인 \\n스탠다드 유형의 보안 인증을 획득하였습니다. \\n활동\\n개인정보보호 교육\\n모든 임직원은 매년 개인정보 보호 교육을 필수적으로 이수하여야 하며, \\n업무상 개인정보를 취급하는 직원은 매년 해 당 업무에 특화된 별도의 \\n개인정보보호 교육을 이수하고 있습니다. \\n국제 보안 인증\\n삼성전자는 자체 정보자산을 보호 할 뿐만 아니라 고객에게 정보유출 \\n시도로부터 안전한 환경과 서비스를 제공하기 위해 노력하며, 이 \\n과정에서 경영시스템, 주요 제품, 솔루션, 인프라에 대한 국제 보안 인증을 \\n취득하고 있습니다.\\n책임있는 광고\\n삼성전자는 모바일과 스마트허브 기기를 통해 직접 집행하는 광고에 대해 \\n엄격한 개인정보보호정책을 적용합니다. 맞춤형 광고 집행 시 사용자별로 \\n랜덤하게 생성된 별도의 ID를 사용하여 정보를 처리하며, 해 당 ID는 \\n사용자의 선택에 따라 초기화가 가능합니다. 이 경우 기존 ID로 수집된 \\n모든 사용자 정보의 이용이 즉시 중지됩니다.\\n삼성전자는 사용자가 모바일과 스마트허브 기기에서 맞춤형 광고 관련 \\n개인정보 수집 동의여부를 자 유롭게 선택할 수 있도록 설정 옵 션을 \\n제공합니다. 사용자는 언 제든지 본인의 기기 설정에서 해 당 옵션을 \\n거부하거나 해제 할 수 있으며, 맞춤형  광고를 거부할 경 우 사용자와 \\n무관한 일반적인 광고가 노출 됩니다. 또한 맞춤형 광고 집 행을 위해 \\n개인정보를 수집하거나 이용하는 경우에는 그 목적을 사용자에게 명확히 \\n알리고 사전에 동의를 받고 있습니다.\\n반도체 기술 보안\\n삼성전자는 반도체 핵심기술을 회사를 넘어 국가와 고객의 차원에서도 \\n필수적으로 관리해야할 대상으로 인식합니다. 삼성전자 반도체의 주요 \\n기술은 산업기술보호법\\n1)\\n과 첨단전략산업법\\n2)'),\n",
       " Document(id='ccd3daa5-577e-494c-a610-81b94a7c6af4', metadata={'total_pages': 87, 'moddate': '2025-09-04T16:51:11+09:00', 'creationdate': '2025-07-10T16:11:16+09:00', 'source': '../data/Samsung_Electronics_Sustainability_Report_2025_KOR.pdf', 'creator': 'Adobe InDesign 15.1 (Macintosh)', 'page': 60, 'trapped': '/False', 'page_label': '61', 'producer': 'Adobe PDF Library 15.0'}, page_content='삼성전자 지속가능경영보고서 2025\\n61\\nFacts & Figures \\n경제성과\\n사회성과\\n환경성과  \\n사업부문별 환경성과 \\n62\\n63\\n68\\n72\\nOur Company AppendixFacts & Figures PrinciplePlanet People'),\n",
       " Document(id='8a977cdf-b903-4eae-9ff4-02f985ffdd2b', metadata={'creationdate': '2025-07-10T16:11:16+09:00', 'creator': 'Adobe InDesign 15.1 (Macintosh)', 'page_label': '77', 'total_pages': 87, 'trapped': '/False', 'moddate': '2025-09-04T16:51:11+09:00', 'source': '../data/Samsung_Electronics_Sustainability_Report_2025_KOR.pdf', 'producer': 'Adobe PDF Library 15.0', 'page': 76}, page_content='삼성전자 지속가능경영보고서 2025\\n77\\nScope 1, 2 온실가스 배출량 검증 의견서\\nOur Company AppendixFacts & Figures PrinciplePlanet People'),\n",
       " Document(id='18e28df6-78b8-4228-8eb6-fc76e6c781b0', metadata={'creator': 'Adobe InDesign 15.1 (Macintosh)', 'source': '../data/Samsung_Electronics_Sustainability_Report_2025_KOR.pdf', 'producer': 'Adobe PDF Library 15.0', 'creationdate': '2025-07-10T16:11:16+09:00', 'page_label': '56', 'trapped': '/False', 'total_pages': 87, 'page': 55, 'moddate': '2025-09-04T16:51:11+09:00'}, page_content='접근이 제한된 콘텐츠나 앱은 보호자가 설정한 비 밀번호 입력 시에만 \\n사용 가능합니다. 2025년 6월 기준 아동 계정 서비스는 한국, 미국, 중국, \\n유럽(32개국), 중남미(5개국), 중동·아프리카(15개국) 등 55개 국가에서 \\n지원하고 있습니다.\\n1) 연락처 관리 기능은 일부 워치 모델에 한해 지원 중\\n제품 품질 확보\\n삼성전자는 제품 생애주기 전 단계에 걸쳐 품질 보증체계를 운영합니다.\\n최고수준의 품질확보를 위해 모든 업무와 프로세스에 대하여 문서화된 \\n표준을 적용하며, 부품 협력회사를 대상으로 품질 관련 상시 점 검과 \\n보완을 진행하고 있습니다.\\n개발단계\\n삼성전자는 고객 요구사 항에 부합하는 신제품을 구 현·검증하기 위해 \\n개발단계별로 성능, 신 뢰성, 안전성 등을 평가하며, 모 든 평가 항목을 \\n충족한 제품만 시장에 출하하는 고객만족(CS, Customer Satisfaction) \\n인증제도를 운영합니다. 신제품 개발시 PLM (Product Lifecycle \\nManagement) 시스템으로 신제품 개발 계획 단계부터 과거 실패사례와 \\n문제점을 관리하여 동일한 문제점이 재발하지 않도록 예방합니다. 또한 \\n신기술과 기능에 대해 새로운 검증 기법으로 내구 신 뢰성과 실사용 \\n테스트를 실시하여 고객 요구 품질을 달성해야만 생산이 승인됩니다. \\n구매단계\\n협력회사가 생산·납품하는 부품에 대해서는 S QCI(Supplier Quality \\nControl Innovation) 제도를 통해 품질을 관리합니다. 품질사고와 \\n유해물질 발생, 품질평가 등급 부진 등의 상 황 발생 시 협력회사 \\n품질경고체계에 기반하여 물량 조정, 거래 중지 등의 페널티를 적용하고 \\n있습니다. \\n제조단계\\n삼성전자는 ISO 9001 인증기업으로서 국제품질경영시스템을 기반으로 \\n운영되며 국내외 제조사업장 대상 자체 내부 점 검을 매년 진행합니다. \\nDX부문은 삼성전자품질대상(S QA, Samsung Electronics Q uality'),\n",
       " Document(id='b5cdf238-3f8b-448f-bdfd-f719f58c356f', metadata={'creationdate': '2025-07-10T16:11:16+09:00', 'page_label': '34', 'total_pages': 87, 'page': 33, 'source': '../data/Samsung_Electronics_Sustainability_Report_2025_KOR.pdf', 'producer': 'Adobe PDF Library 15.0', 'creator': 'Adobe InDesign 15.1 (Macintosh)', 'moddate': '2025-09-04T16:51:11+09:00', 'trapped': '/False'}, page_content='삼성전자 지속가능경영보고서 2025\\n34\\n임직원\\n공급망\\n사회공헌\\n개인정보보호와 보안\\n제품 품질과 안전\\n35\\n45\\n51\\n53\\n55\\nPeople\\n사회적 책임을 다하며 미래로 함께 나아갑니다.\\nOur Company AppendixFacts & Figures PrinciplePlanet People')]"
      ]
     },
     "execution_count": 29,
     "metadata": {},
     "output_type": "execute_result"
    }
   ],
   "source": [
    "ret_similarity = vectorstore.as_retriever(\n",
    "    search_type=\"similarity\",\n",
    "    search_kwargs={\"k\":10}\n",
    ")\n",
    "ret_similarity.invoke(\"삼성전자\")"
   ]
  },
  {
   "cell_type": "code",
   "execution_count": 30,
   "id": "be0e12ea",
   "metadata": {},
   "outputs": [],
   "source": [
    "from langchain_community.cross_encoders.huggingface import HuggingFaceCrossEncoder\n",
    "from langchain.retrievers.document_compressors import CrossEncoderReranker\n",
    "\n",
    "model_name = \"cross-encoder/ms-marco-MiniLM-L6-v2\"\n",
    "max_length = 512\n",
    "hf_ce = HuggingFaceCrossEncoder(\n",
    "    model_name=model_name, model_kwargs={\"device\": \"cuda\", \"max_length\": max_length}\n",
    ")\n",
    "\n",
    "reranker = CrossEncoderReranker(\n",
    "    model=hf_ce, top_n=10\n",
    ")"
   ]
  },
  {
   "cell_type": "code",
   "execution_count": 31,
   "id": "306a3912",
   "metadata": {},
   "outputs": [],
   "source": [
    "from langchain.retrievers import ContextualCompressionRetriever\n",
    "com_retriever = ContextualCompressionRetriever(\n",
    "    base_compressor=reranker, base_retriever=ret_similarity\n",
    ")"
   ]
  },
  {
   "cell_type": "code",
   "execution_count": 32,
   "id": "834c9c06",
   "metadata": {},
   "outputs": [],
   "source": [
    "from langchain_community.document_transformers import LongContextReorder\n",
    "reorder = LongContextReorder()"
   ]
  },
  {
   "cell_type": "code",
   "execution_count": 33,
   "id": "cf08dc0b",
   "metadata": {},
   "outputs": [],
   "source": [
    "def format_docs(docs):\n",
    "    result = []\n",
    "    for item in docs:\n",
    "        result.append(item.page_content)\n",
    "    \n",
    "    return \"\\n\\n--\\n\\n\".join(result)"
   ]
  },
  {
   "cell_type": "code",
   "execution_count": 34,
   "id": "6fd5c012",
   "metadata": {},
   "outputs": [],
   "source": [
    "from langchain_openai import ChatOpenAI\n",
    "\n",
    "model = ChatOpenAI(model=\"gpt-4.1-mini\", temperature=0)\n",
    "parser = StrOutputParser()"
   ]
  },
  {
   "cell_type": "code",
   "execution_count": 35,
   "id": "4753d43c",
   "metadata": {},
   "outputs": [
    {
     "data": {
      "text/plain": [
       "ChatPromptTemplate(input_variables=['chat_history', 'context', 'question'], input_types={'chat_history': list[typing.Annotated[typing.Union[typing.Annotated[langchain_core.messages.ai.AIMessage, Tag(tag='ai')], typing.Annotated[langchain_core.messages.human.HumanMessage, Tag(tag='human')], typing.Annotated[langchain_core.messages.chat.ChatMessage, Tag(tag='chat')], typing.Annotated[langchain_core.messages.system.SystemMessage, Tag(tag='system')], typing.Annotated[langchain_core.messages.function.FunctionMessage, Tag(tag='function')], typing.Annotated[langchain_core.messages.tool.ToolMessage, Tag(tag='tool')], typing.Annotated[langchain_core.messages.ai.AIMessageChunk, Tag(tag='AIMessageChunk')], typing.Annotated[langchain_core.messages.human.HumanMessageChunk, Tag(tag='HumanMessageChunk')], typing.Annotated[langchain_core.messages.chat.ChatMessageChunk, Tag(tag='ChatMessageChunk')], typing.Annotated[langchain_core.messages.system.SystemMessageChunk, Tag(tag='SystemMessageChunk')], typing.Annotated[langchain_core.messages.function.FunctionMessageChunk, Tag(tag='FunctionMessageChunk')], typing.Annotated[langchain_core.messages.tool.ToolMessageChunk, Tag(tag='ToolMessageChunk')]], FieldInfo(annotation=NoneType, required=True, discriminator=Discriminator(discriminator=<function _get_type at 0x000001DD7296AC00>, custom_error_type=None, custom_error_message=None, custom_error_context=None))]]}, partial_variables={}, messages=[SystemMessagePromptTemplate(prompt=PromptTemplate(input_variables=['context'], input_types={}, partial_variables={}, template='주어진 Context만 근거로 간결하고 정확하게 답하도록 해라.\\n\\n         [Context]\\n         {context}'), additional_kwargs={}), MessagesPlaceholder(variable_name='chat_history'), HumanMessagePromptTemplate(prompt=PromptTemplate(input_variables=['question'], input_types={}, partial_variables={}, template='{question}'), additional_kwargs={})])\n",
       "| ChatOpenAI(client=<openai.resources.chat.completions.completions.Completions object at 0x000001DD81426FD0>, async_client=<openai.resources.chat.completions.completions.AsyncCompletions object at 0x000001DD81453B10>, root_client=<openai.OpenAI object at 0x000001DD853A2690>, root_async_client=<openai.AsyncOpenAI object at 0x000001DD81427BD0>, model_name='gpt-4.1-mini', temperature=0.0, model_kwargs={}, openai_api_key=SecretStr('**********'), stream_usage=True)\n",
       "| StrOutputParser()"
      ]
     },
     "execution_count": 35,
     "metadata": {},
     "output_type": "execute_result"
    }
   ],
   "source": [
    "\n",
    "chain = rag_prompt_with_history | model | parser \n",
    "chain"
   ]
  },
  {
   "cell_type": "code",
   "execution_count": 36,
   "id": "e97868c7",
   "metadata": {},
   "outputs": [],
   "source": [
    "retriever_chain = (\n",
    "    com_retriever\n",
    "    | RunnableLambda(lambda docs: reorder.transform_documents(docs))\n",
    "    | RunnableLambda(format_docs)\n",
    ")\n"
   ]
  },
  {
   "cell_type": "code",
   "execution_count": 37,
   "id": "5b9c404c",
   "metadata": {},
   "outputs": [
    {
     "data": {
      "text/plain": [
       "'삼성전자는 ‘함께가요 미래로! Enabling People’ 비전 아래, 교육 기회 확대와 청년 인재 육성에 집중하며, 2025년에는 삼성 청년SW·AI아카데미 교육 대상을 마이스터고 졸업생까지 확대할 계획입니다. 또한, 국내외 정부기관 및 단체와 협력해 미래세대 교육을 위한 다양한 사회공헌 프로그램을 운영할 예정이며, 지속가능경영과 기술혁신을 통해 탄소중립 달성 등 환경 목표도 추진하고 있습니다.'"
      ]
     },
     "execution_count": 37,
     "metadata": {},
     "output_type": "execute_result"
    }
   ],
   "source": [
    "from operator import itemgetter \n",
    "rag_chain =  (\n",
    "   {\n",
    "       \"context\": itemgetter(\"question\") | retriever_chain,\n",
    "       \"question\" : itemgetter(\"question\"),\n",
    "       \"chat_history\":itemgetter(\"chat_history\")\n",
    "   }\n",
    "   | chain \n",
    ") \n",
    "\n",
    "rag_chain.invoke({\n",
    "    \"question\":\"삼성의 미래 계획은 어떻게 되나요?\",\n",
    "    \"chat_history\":[]\n",
    "})"
   ]
  },
  {
   "cell_type": "code",
   "execution_count": 38,
   "id": "f4b8a42d",
   "metadata": {},
   "outputs": [],
   "source": [
    "from langchain.memory import ChatMessageHistory\n",
    "chat_history = ChatMessageHistory()"
   ]
  },
  {
   "cell_type": "code",
   "execution_count": 39,
   "id": "74d5d2b2",
   "metadata": {},
   "outputs": [
    {
     "name": "stdout",
     "output_type": "stream",
     "text": [
      "🧐 사용자: 삼성의 AI 전략은 뭐야?\n",
      "🤖 AI: 삼성의 AI 전략은 Bespoke AI 제품군(예: 패밀리허브 냉장고, 콤보 등)과 모바일 제품군에 삼성 녹스 볼트 보안 솔루션을 적용해 사용자가 쉽고 안전하게 AI HOME을 경험하도록 하는 것입니다. 또한, 2024년 '삼성 청년SW·AI아카데미'에 375억 원을 지원해 2,200명의 청년 소프트웨어 인재를 양성하고, 2025년에는 교육 기회를 마이스터고 졸업생까지 확대하는 등 AI 인재 육성에도 집중하고 있습니다.\n",
      "\n"
     ]
    }
   ],
   "source": [
    "question1 = \"삼성의 AI 전략은 뭐야?\"\n",
    "print(f\"🧐 사용자: {question1}\")\n",
    "\n",
    "response1 = rag_chain.invoke({\n",
    "    \"question\": question1,\n",
    "    \"chat_history\": chat_history.messages\n",
    "})\n",
    "chat_history.add_user_message(question1)\n",
    "chat_history.add_ai_message(response1)\n",
    "print(f\"🤖 AI: {response1}\\n\")\n"
   ]
  },
  {
   "cell_type": "code",
   "execution_count": 40,
   "id": "56e6c3c8",
   "metadata": {},
   "outputs": [
    {
     "name": "stdout",
     "output_type": "stream",
     "text": [
      "🧐 사용자: 반도체 쪽은 어때?\n",
      "🤖 AI: 반도체 분야에서 삼성은 반도체 제품의 전과정 평가(LCA)를 국제표준에 따라 정립하고, PCF(Product Carbon Footprint) 자동화 시스템을 운영해 제품 단위 탄소배출량을 투명하게 관리합니다. 또한, 반도체 기후 컨소시엄(SCC) 활동을 통해 업계 전반의 Scope 3 배출량 산정방법론 표준화와 감축을 주도하며, 협력회사의 온실가스 관리 역량 강화와 감축 목표 수립을 지원하는 등 기후변화 대응과 탄소 감축에 적극적으로 나서고 있습니다.\n"
     ]
    }
   ],
   "source": [
    "question2 = \"반도체 쪽은 어때?\"\n",
    "print(f\"🧐 사용자: {question2}\")\n",
    "response2 = rag_chain.invoke({\n",
    "    \"question\": question2,\n",
    "    \"chat_history\": chat_history.messages # 이전 대화가 담긴 기록 전달\n",
    "})\n",
    "chat_history.add_user_message(question2)\n",
    "chat_history.add_ai_message(response2)\n",
    "print(f\"🤖 AI: {response2}\")"
   ]
  },
  {
   "cell_type": "code",
   "execution_count": 41,
   "id": "bdb5e26e",
   "metadata": {},
   "outputs": [
    {
     "name": "stdout",
     "output_type": "stream",
     "text": [
      "🧐 사용자: 내가 물어본 첫번째 질문이 뭐였나요?\n",
      "🤖 AI: 삼성의 AI 전략은 뭐야?\n"
     ]
    }
   ],
   "source": [
    "question3 = \"내가 물어본 첫번째 질문이 뭐였나요?\"\n",
    "print(f\"🧐 사용자: {question3}\")\n",
    "response3 = rag_chain.invoke({\n",
    "    \"question\": question3,\n",
    "    \"chat_history\": chat_history.messages # 이전 대화가 담긴 기록 전달\n",
    "})\n",
    "chat_history.add_user_message(question3)\n",
    "chat_history.add_ai_message(response3)\n",
    "print(f\"🤖 AI: {response3}\")"
   ]
  },
  {
   "cell_type": "code",
   "execution_count": 42,
   "id": "71df7a17",
   "metadata": {},
   "outputs": [
    {
     "name": "stdout",
     "output_type": "stream",
     "text": [
      "Human: 삼성의 AI 전략은 뭐야?\n",
      "AI: 삼성의 AI 전략은 Bespoke AI 제품군(예: 패밀리허브 냉장고, 콤보 등)과 모바일 제품군에 삼성 녹스 볼트 보안 솔루션을 적용해 사용자가 쉽고 안전하게 AI HOME을 경험하도록 하는 것입니다. 또한, 2024년 '삼성 청년SW·AI아카데미'에 375억 원을 지원해 2,200명의 청년 소프트웨어 인재를 양성하고, 2025년에는 교육 기회를 마이스터고 졸업생까지 확대하는 등 AI 인재 육성에도 집중하고 있습니다.\n",
      "Human: 반도체 쪽은 어때?\n",
      "AI: 반도체 분야에서 삼성은 반도체 제품의 전과정 평가(LCA)를 국제표준에 따라 정립하고, PCF(Product Carbon Footprint) 자동화 시스템을 운영해 제품 단위 탄소배출량을 투명하게 관리합니다. 또한, 반도체 기후 컨소시엄(SCC) 활동을 통해 업계 전반의 Scope 3 배출량 산정방법론 표준화와 감축을 주도하며, 협력회사의 온실가스 관리 역량 강화와 감축 목표 수립을 지원하는 등 기후변화 대응과 탄소 감축에 적극적으로 나서고 있습니다.\n",
      "Human: 내가 물어본 첫번째 질문이 뭐였나요?\n",
      "AI: 삼성의 AI 전략은 뭐야?\n"
     ]
    }
   ],
   "source": [
    "print(chat_history)"
   ]
  }
 ],
 "metadata": {
  "kernelspec": {
   "display_name": "potenup_10",
   "language": "python",
   "name": "python3"
  },
  "language_info": {
   "codemirror_mode": {
    "name": "ipython",
    "version": 3
   },
   "file_extension": ".py",
   "mimetype": "text/x-python",
   "name": "python",
   "nbconvert_exporter": "python",
   "pygments_lexer": "ipython3",
   "version": "3.11.0"
  }
 },
 "nbformat": 4,
 "nbformat_minor": 5
}
