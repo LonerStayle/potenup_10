{
 "cells": [
  {
   "cell_type": "code",
   "execution_count": 2,
   "id": "7d9545fa",
   "metadata": {},
   "outputs": [],
   "source": [
    "from langchain_community.document_loaders import PyPDFLoader\n",
    "from langchain_text_splitters import RecursiveCharacterTextSplitter\n",
    "from langchain_openai import OpenAIEmbeddings, ChatOpenAI\n",
    "from langchain_community.vectorstores import Chroma\n",
    "from langchain_core.runnables import RunnablePassthrough, RunnableLambda\n",
    "from langchain_core.prompts import ChatPromptTemplate\n",
    "from langchain_core.output_parsers import StrOutputParser"
   ]
  },
  {
   "cell_type": "markdown",
   "id": "9050b324",
   "metadata": {},
   "source": [
    "### 1. 문서 로드"
   ]
  },
  {
   "cell_type": "code",
   "execution_count": 3,
   "id": "4afec07a",
   "metadata": {},
   "outputs": [
    {
     "name": "stdout",
     "output_type": "stream",
     "text": [
      "문서로드중\n"
     ]
    }
   ],
   "source": [
    "file_path = \"../0_data/Sustainability_report_2024_kr.pdf\"\n",
    "\n",
    "print(\"문서로드중\")\n",
    "loader = PyPDFLoader(file_path)\n",
    "docs = loader.load()"
   ]
  },
  {
   "cell_type": "code",
   "execution_count": 4,
   "id": "dfc1d121",
   "metadata": {},
   "outputs": [
    {
     "data": {
      "text/plain": [
       "83"
      ]
     },
     "execution_count": 4,
     "metadata": {},
     "output_type": "execute_result"
    }
   ],
   "source": [
    "len(docs)"
   ]
  },
  {
   "cell_type": "code",
   "execution_count": 5,
   "id": "af88030c",
   "metadata": {},
   "outputs": [
    {
     "data": {
      "text/plain": [
       "Document(metadata={'producer': 'Adobe PDF Library 15.0', 'creator': 'Adobe InDesign 15.1 (Macintosh)', 'creationdate': '2024-11-25T11:10:32+09:00', 'moddate': '2024-11-25T11:10:46+09:00', 'trapped': '/False', 'source': '../0_data/Sustainability_report_2024_kr.pdf', 'total_pages': 83, 'page': 1, 'page_label': '2'}, page_content='A Journey Towards  \\na Sustainable Future\\n삼성전자 지속가능경영보고서 2024\\nCEO 메시지\\n회사 소개\\n이해관계자 소통\\nOur Company\\n04\\n05\\n06\\n준법과 윤리경영\\nPrinciple\\n53\\n중대성 평가\\nMateriality Assessment\\n08\\n임직원\\n공급망\\n사회공헌\\n개인정보보호/보안\\n고객의 안전/품질\\nPeople\\n31\\n39\\n45\\n48\\n50\\n경제성과\\n사회성과\\n환경성과\\n지역별 수자원 현황   \\n사업부문별 환경성과\\nFacts & Figures\\n56\\n57\\n62\\n65\\n66\\n독립된 인증인의 인증보고서\\nScope 1, 2 온실가스 배출량 검증 의견서\\nScope 3 온실가스 배출량 검증 의견서\\nGRI Index\\nTCFD 대조표\\nSASB 대조표\\n전사차원의 기후변화 대응 협력 활동\\nAbout This Report\\nAppendix\\n70\\n71\\n72\\n74\\n77\\n79\\n81\\n82\\n[DX부문] \\n추진체계 및 주요성과\\n기후변화\\n자원순환\\n수자원 및 오염물질\\n[DS부문]  \\n추진체계 및 주요성과 \\n기후변화\\n수자원\\n폐기물\\n오염물질\\nPlanet\\n12\\n13\\n15\\n17\\n19\\n20\\n23\\n26\\n28\\n삼성전자 지속가능경영보고서 2024 02Our Company AppendixMateriality Assessment Facts & Figures PrinciplePlanet People')"
      ]
     },
     "execution_count": 5,
     "metadata": {},
     "output_type": "execute_result"
    }
   ],
   "source": [
    "docs[:10][1]"
   ]
  },
  {
   "cell_type": "markdown",
   "id": "2bdc76bf",
   "metadata": {},
   "source": [
    "### 2. 텍스트 스플리터(청킹)"
   ]
  },
  {
   "cell_type": "code",
   "execution_count": 6,
   "id": "8a7c0743",
   "metadata": {},
   "outputs": [
    {
     "name": "stdout",
     "output_type": "stream",
     "text": [
      "207 전체 잘린 chunk 사이즈\n"
     ]
    }
   ],
   "source": [
    "splitter = RecursiveCharacterTextSplitter(\n",
    "    chunk_size = 1000,\n",
    "    chunk_overlap=100,\n",
    "    separators=[\"\\n\\n\", \"\\n\", \" \", \"\"]\n",
    ")\n",
    "\n",
    "chunks = splitter.split_documents(docs)\n",
    "print(len(chunks), \"전체 잘린 chunk 사이즈\")"
   ]
  },
  {
   "cell_type": "code",
   "execution_count": 7,
   "id": "fd3f4123",
   "metadata": {},
   "outputs": [
    {
     "name": "stdout",
     "output_type": "stream",
     "text": [
      "· 업종 간 협력\n",
      "·  기후 대응을 포함한  \n",
      "UN SDGs에 대한 기여\n",
      "·  투명하고 신속한 정보 공개\n",
      "·  기업 간담회\n",
      "·  NGO 미팅\n",
      "·  이해관계자 포럼\n",
      "·  시민사회 - 경영진 간담회\n",
      "·  노동인권 이해관계자 워크샵\n",
      "·  지속가능경영 웹사이트\n",
      "· 산업협회\n",
      "·  글로벌 NGO 대상 의견 수렴\n",
      "·  RBA\n",
      "1)\n",
      ", RMI\n",
      "2)\n",
      ", BSR\n",
      "3)\n",
      " 활동\n",
      "1) Responsible Business Alliance\n",
      "2) Responsible Minerals Initiative\n",
      "3) Business for Social Responsibility\n",
      "·  UNGC\n",
      "1)\n",
      "·  ACEC\n",
      "2)\n",
      ", SCC\n",
      "3)\n",
      " 활동\n",
      "1) United Nations Global Compact\n",
      "2) Asia Clean Energy Coalition\n",
      "3) Semiconductor Climate Consortium\n",
      "정부 ·  간접 경제효과(투자, 고용 등 파생효과)\n",
      "·  공정거래\n",
      "·  안전·보건\n",
      "·  컴플라이언스\n",
      "·  기업윤리\n",
      "·  정책 간담회\n",
      "·  국회\n",
      "·  정책수립 공청회\n",
      "·  정책자문기구\n",
      "·  지속가능경영 웹사이트\n",
      "·  정부와 협업하여 중소기업 지원 프로그램 운영 ·  정부와 협업하여 벤처투자 창구 설립·운영\n",
      "언론 ·  주요 제품/사업 실적 및 전략\n",
      "·  투자, R&D, M&A,  \n",
      "신사업 등 미래 성장 전략 \n",
      "·  탄소중립 등 ESG 추진 성과\n",
      "·  인/노사, 환경안전, 특허,  \n",
      "제품·서비스 품질 등\n",
      "·  보도자료\n",
      "·  지속가능경영 웹사이트\n",
      "·  삼성전자 반도체 뉴스룸\n",
      "·  삼성전자 뉴스룸\n",
      "· 미디어 간담회\n",
      "·  글로벌 IT 전시회·신제품 발표 취재지원\n",
      "·  미디어데이 개최\n",
      "·  기자회견\n",
      "·  인터뷰\n",
      "·  기획홍보\n",
      " Our Company\n"
     ]
    }
   ],
   "source": [
    "print(chunks[10].page_content)"
   ]
  },
  {
   "cell_type": "markdown",
   "id": "238ed07a",
   "metadata": {},
   "source": [
    "### 3. 임베딩 생성 chromadb 저장"
   ]
  },
  {
   "cell_type": "code",
   "execution_count": 8,
   "id": "3f0d6ce3",
   "metadata": {},
   "outputs": [
    {
     "name": "stdout",
     "output_type": "stream",
     "text": [
      "벡터 저장소 저장 완료\n"
     ]
    }
   ],
   "source": [
    "db_path = \"../7_vectorstore/chromadb_rag_basic\"\n",
    "\n",
    "embedding = OpenAIEmbeddings(model=\"text-embedding-3-small\")\n",
    "\n",
    "vectorstore = Chroma.from_documents(\n",
    "    documents=chunks,\n",
    "    embedding=embedding,\n",
    "    persist_directory=db_path,\n",
    "    collection_name=\"samsung_2024\"\n",
    ")\n",
    "print(\"벡터 저장소 저장 완료\")"
   ]
  },
  {
   "cell_type": "markdown",
   "id": "3a8f266d",
   "metadata": {},
   "source": [
    "### 4. 검색기 구성(retriever)"
   ]
  },
  {
   "cell_type": "code",
   "execution_count": 9,
   "id": "5399ade6",
   "metadata": {},
   "outputs": [
    {
     "data": {
      "text/plain": [
       "[Document(metadata={'page': 3, 'producer': 'Adobe PDF Library 15.0', 'trapped': '/False', 'page_label': '4', 'total_pages': 83, 'creator': 'Adobe InDesign 15.1 (Macintosh)', 'moddate': '2024-11-25T11:10:46+09:00', 'source': '../0_data/Sustainability_report_2024_kr.pdf', 'creationdate': '2024-11-25T11:10:32+09:00'}, page_content='삼성전자 지속가능경영보고서 2024\\n04\\nOur Company AppendixMateriality Assessment Facts & Figures PrinciplePlanet People\\nCEO 메시지\\nMessage from \\nOur CEO\\n주주, 고객, 협력회사, 그리고 임직원 여러분,\\n2023년은 고금리와 인플레이션, 지정학적 이슈 등 매우 불확실한 \\n거시경제 환경과 함께, 메모리 산업 부진과 다양한 제품군에서의 경쟁 \\n심화로 삼성전자에게 매우 어려운 한 해였습니다. 이토록 대내외적으로 \\n어려운 환경에서도 지속 성장의 기반 마련을 위해 역대 최고 수준의 28.3\\n조원을 연구개발에 투자하고, 53.1조원 수준의 전략적 시설투자로 기술 \\n리더십을 강화하며 중장기 수요에 미리 대응할 수 있었던 것은 삼성전자를 \\n아껴주시는 이해관계자 여러분의 관심과 격려 덕분입니다. 다시 한 번 \\n깊이 감사 드립니다.\\n급격한 변화를 겪고 있는 경제 상황에 맞춰, 기업의 지속가능경영 \\n분야에서도 많은 변화가 일어나고 있습니다. 특히 기업의 지속가능경영 \\n활동 정보 공개는 글로벌 비재무정보 공시 제도의 확산에 맞춰, 새로운 \\n국면을 맞고 있습니다. 국제회계기준재단(IFRS Foundation)이 2023년 \\n6월 지속가능성 지표를 확정한 것을 시작으로, EU의 지속가능성 보고지침\\n(CSRD)과 미국 증권거래위원회(SEC) 기후공시 기준 역시 세부 내용을 \\n순차적으로 확정하며 ESG 정보의 의무 공시 시대가 열리고 있습니다.\\n이와 함께, EU 탄소국경조정제도(CBAM)와 EU 배터리규제 등을 통한 \\n환경규제 역시 지속 강화되는 추세이고, 독일에서는 공급망의 인권과 \\n근로환경 관리를 의무화하는 공급망실사법이 2023년 발효되었으며, \\n2024년 5월 EU 공급망 실사지침(CSDDD)이 확정되는 등 인권 분야에 \\n대한 관심 또한 지속 고조되고 있습니다. \\n삼성전자는 이러한 추세에 맞춰 지속가능한 미래를 위한 노력을 계속해'),\n",
       " Document(metadata={'creator': 'Adobe InDesign 15.1 (Macintosh)', 'producer': 'Adobe PDF Library 15.0', 'page': 3, 'total_pages': 83, 'trapped': '/False', 'moddate': '2024-11-25T11:10:46+09:00', 'page_label': '4', 'source': '../0_data/Sustainability_report_2024_kr.pdf', 'creationdate': '2024-11-25T11:10:32+09:00'}, page_content='삼성전자 지속가능경영보고서 2024\\n04\\nOur Company AppendixMateriality Assessment Facts & Figures PrinciplePlanet People\\nCEO 메시지\\nMessage from \\nOur CEO\\n주주, 고객, 협력회사, 그리고 임직원 여러분,\\n2023년은 고금리와 인플레이션, 지정학적 이슈 등 매우 불확실한 \\n거시경제 환경과 함께, 메모리 산업 부진과 다양한 제품군에서의 경쟁 \\n심화로 삼성전자에게 매우 어려운 한 해였습니다. 이토록 대내외적으로 \\n어려운 환경에서도 지속 성장의 기반 마련을 위해 역대 최고 수준의 28.3\\n조원을 연구개발에 투자하고, 53.1조원 수준의 전략적 시설투자로 기술 \\n리더십을 강화하며 중장기 수요에 미리 대응할 수 있었던 것은 삼성전자를 \\n아껴주시는 이해관계자 여러분의 관심과 격려 덕분입니다. 다시 한 번 \\n깊이 감사 드립니다.\\n급격한 변화를 겪고 있는 경제 상황에 맞춰, 기업의 지속가능경영 \\n분야에서도 많은 변화가 일어나고 있습니다. 특히 기업의 지속가능경영 \\n활동 정보 공개는 글로벌 비재무정보 공시 제도의 확산에 맞춰, 새로운 \\n국면을 맞고 있습니다. 국제회계기준재단(IFRS Foundation)이 2023년 \\n6월 지속가능성 지표를 확정한 것을 시작으로, EU의 지속가능성 보고지침\\n(CSRD)과 미국 증권거래위원회(SEC) 기후공시 기준 역시 세부 내용을 \\n순차적으로 확정하며 ESG 정보의 의무 공시 시대가 열리고 있습니다.\\n이와 함께, EU 탄소국경조정제도(CBAM)와 EU 배터리규제 등을 통한 \\n환경규제 역시 지속 강화되는 추세이고, 독일에서는 공급망의 인권과 \\n근로환경 관리를 의무화하는 공급망실사법이 2023년 발효되었으며, \\n2024년 5월 EU 공급망 실사지침(CSDDD)이 확정되는 등 인권 분야에 \\n대한 관심 또한 지속 고조되고 있습니다. \\n삼성전자는 이러한 추세에 맞춰 지속가능한 미래를 위한 노력을 계속해'),\n",
       " Document(metadata={'source': '../0_data/Sustainability_report_2024_kr.pdf', 'page': 0, 'moddate': '2024-11-25T11:10:46+09:00', 'creationdate': '2024-11-25T11:10:32+09:00', 'total_pages': 83, 'trapped': '/False', 'producer': 'Adobe PDF Library 15.0', 'page_label': '1', 'creator': 'Adobe InDesign 15.1 (Macintosh)'}, page_content='A Journey Towards  \\na Sustainable Future\\n삼성전자 지속가능경영보고서 2024'),\n",
       " Document(metadata={'creator': 'Adobe InDesign 15.1 (Macintosh)', 'page_label': '1', 'moddate': '2024-11-25T11:10:46+09:00', 'producer': 'Adobe PDF Library 15.0', 'creationdate': '2024-11-25T11:10:32+09:00', 'trapped': '/False', 'page': 0, 'source': '../0_data/Sustainability_report_2024_kr.pdf', 'total_pages': 83}, page_content='A Journey Towards  \\na Sustainable Future\\n삼성전자 지속가능경영보고서 2024')]"
      ]
     },
     "execution_count": 9,
     "metadata": {},
     "output_type": "execute_result"
    }
   ],
   "source": [
    "retriever = vectorstore.as_retriever()\n",
    "result = retriever.invoke(\"이 보고서에서 2024년 주요 지속 가능 경영 목표가 무엇인가요?\")\n",
    "result"
   ]
  },
  {
   "cell_type": "code",
   "execution_count": 10,
   "id": "f6812c81",
   "metadata": {},
   "outputs": [
    {
     "name": "stdout",
     "output_type": "stream",
     "text": [
      "삼성전자 지속가능경영보고서 2024\n",
      "04\n",
      "Our Company AppendixMateria\n",
      "--------------------------------------------------\n",
      "삼성전자 지속가능경영보고서 2024\n",
      "04\n",
      "Our Company AppendixMateria\n",
      "--------------------------------------------------\n",
      "A Journey Towards  \n",
      "a Sustainable Future\n",
      "삼성전자 지속가능\n",
      "--------------------------------------------------\n",
      "A Journey Towards  \n",
      "a Sustainable Future\n",
      "삼성전자 지속가능\n",
      "--------------------------------------------------\n"
     ]
    }
   ],
   "source": [
    "for item in result:\n",
    "    print(item.page_content[:50])\n",
    "    print(\"-\"*50)"
   ]
  },
  {
   "cell_type": "markdown",
   "id": "83093712",
   "metadata": {},
   "source": [
    "### 5. 기본 체인 만들기"
   ]
  },
  {
   "cell_type": "code",
   "execution_count": 26,
   "id": "c05d9f03",
   "metadata": {},
   "outputs": [],
   "source": [
    "# 1. 프롬프트\n",
    "rag_prompt = ChatPromptTemplate.from_messages([\n",
    "    (\"system\", \"\"\"\n",
    "     주어진 컨텍스트만 근거로 간결하고 정확하게 대답해라\n",
    "     컨텍스트에 없으면 \"문서에 근거 없음\"이라고 말해라\n",
    "     \n",
    "     [컨텍스트]\n",
    "     {context}\n",
    "     \"\"\"),\n",
    "     (\"human\", \"{question}\")\n",
    "])\n",
    "\n",
    "# 2. 모델 선택\n",
    "model = ChatOpenAI(\n",
    "    model=\"gpt-4.1-mini\",\n",
    "    temperature=0\n",
    ")\n",
    "\n",
    "# 3. outputparser 선택\n",
    "outputparser = StrOutputParser()\n",
    "\n",
    "# 4. chain 생성\n",
    "chain = rag_prompt | model | outputparser"
   ]
  },
  {
   "cell_type": "markdown",
   "id": "3868a80b",
   "metadata": {},
   "source": [
    "### 6. RAG 체인 만들기"
   ]
  },
  {
   "cell_type": "code",
   "execution_count": 19,
   "id": "b1afc5d2",
   "metadata": {},
   "outputs": [],
   "source": [
    "# 문서 합치는 함수\n",
    "def format_docs(docs):\n",
    "    tmp_docs = []\n",
    "    for item in docs:\n",
    "        tmp_docs.append(item.page_content)\n",
    "    return \"\\n\\n---\\n\\n\".join(tmp_docs)"
   ]
  },
  {
   "cell_type": "code",
   "execution_count": 29,
   "id": "6ffc9352",
   "metadata": {},
   "outputs": [
    {
     "data": {
      "text/plain": [
       "{\n",
       "  context: RunnableLambda(lambda x: x)\n",
       "           | VectorStoreRetriever(tags=['Chroma', 'OpenAIEmbeddings'], vectorstore=<langchain_community.vectorstores.chroma.Chroma object at 0x0000021C58F89790>, search_kwargs={})\n",
       "           | RunnableLambda(format_docs),\n",
       "  question: RunnablePassthrough()\n",
       "}\n",
       "| ChatPromptTemplate(input_variables=['context', 'question'], input_types={}, partial_variables={}, messages=[SystemMessagePromptTemplate(prompt=PromptTemplate(input_variables=['context'], input_types={}, partial_variables={}, template='\\n     주어진 컨텍스트만 근거로 간결하고 정확하게 대답해라\\n     컨텍스트에 없으면 \"문서에 근거 없음\"이라고 말해라\\n\\n     [컨텍스트]\\n     {context}\\n     '), additional_kwargs={}), HumanMessagePromptTemplate(prompt=PromptTemplate(input_variables=['question'], input_types={}, partial_variables={}, template='{question}'), additional_kwargs={})])\n",
       "| ChatOpenAI(client=<openai.resources.chat.completions.completions.Completions object at 0x0000021C601A35D0>, async_client=<openai.resources.chat.completions.completions.AsyncCompletions object at 0x0000021C63784750>, root_client=<openai.OpenAI object at 0x0000021C5B4AEA10>, root_async_client=<openai.AsyncOpenAI object at 0x0000021C6366B050>, model_name='gpt-4.1-mini', temperature=0.0, model_kwargs={}, openai_api_key=SecretStr('**********'))\n",
       "| StrOutputParser()"
      ]
     },
     "execution_count": 29,
     "metadata": {},
     "output_type": "execute_result"
    }
   ],
   "source": [
    "# rag_chain 만들기\n",
    "rag_chain = (\n",
    "    {\"context\" : RunnableLambda(lambda x: x) | retriever | RunnableLambda(format_docs),\n",
    "    \"question\" : RunnablePassthrough()\n",
    "    }\n",
    "    | chain\n",
    ")\n",
    "rag_chain"
   ]
  },
  {
   "cell_type": "code",
   "execution_count": 30,
   "id": "c1e0219a",
   "metadata": {},
   "outputs": [
    {
     "name": "stdout",
     "output_type": "stream",
     "text": [
      "2024년 주요 목표는 다음과 같습니다:\n",
      "- DS부문 탄소중립(Scope 1, 2) 달성 목표\n",
      "- 모든 사업장 대상 폐기물 매립 제로 인증 최고 등급(플래티넘) 획득 목표\n",
      "- DS부문 국내 사업장 폐기물 재활용률 99.9% 달성 목표\n",
      "- DS 영향권 생태 현황도 구축 범위 확대 추진(평택, 천안, 온양)\n",
      "- DS부문 국내 사업장 취수량 증가 제로화\n",
      "- 근로자가 화학물질에 직접 노출되는 구간 검출률 제로화\n",
      "- 대기·수질오염물질 고효율 처리시설 및 오염물질 미사용 공정 개발\n"
     ]
    }
   ],
   "source": [
    "result = rag_chain.invoke(\n",
    "    \"2024년의 주요 목표는 무엇인가요?\"\n",
    ")\n",
    "print(result)"
   ]
  }
 ],
 "metadata": {
  "kernelspec": {
   "display_name": "2025_10_LLM",
   "language": "python",
   "name": "python3"
  },
  "language_info": {
   "codemirror_mode": {
    "name": "ipython",
    "version": 3
   },
   "file_extension": ".py",
   "mimetype": "text/x-python",
   "name": "python",
   "nbconvert_exporter": "python",
   "pygments_lexer": "ipython3",
   "version": "3.11.9"
  }
 },
 "nbformat": 4,
 "nbformat_minor": 5
}
