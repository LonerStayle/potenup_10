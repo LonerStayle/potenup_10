{
 "cells": [
  {
   "cell_type": "code",
   "execution_count": 59,
   "id": "fa06585f",
   "metadata": {},
   "outputs": [],
   "source": [
    "from dotenv import load_dotenv\n",
    "load_dotenv()\n",
    "\n",
    "from langchain_chroma import Chroma\n",
    "from langchain.embeddings import OpenAIEmbeddings\n",
    "from langchain_core.runnables import RunnablePassthrough, RunnableLambda\n",
    "from langchain_core.prompts import ChatPromptTemplate\n",
    "from langchain_core.output_parsers import StrOutputParser"
   ]
  },
  {
   "cell_type": "code",
   "execution_count": 60,
   "id": "82a75d09",
   "metadata": {},
   "outputs": [],
   "source": [
    "embeddings = OpenAIEmbeddings(model=\"text-embedding-3-small\")\n",
    "collection_name = \"samsung2025\"\n",
    "vectorstore = Chroma(\n",
    "    embedding_function= embeddings,\n",
    "    persist_directory=\"../7_vectorstore/samsung_2025_db\",\n",
    "    collection_name=collection_name\n",
    ")\n"
   ]
  },
  {
   "cell_type": "code",
   "execution_count": 61,
   "id": "2ed4093c",
   "metadata": {},
   "outputs": [
    {
     "data": {
      "text/plain": [
       "[Document(id='7ef39294-b0e0-4bf5-8386-abb0aa455d04', metadata={'trapped': '/False', 'page': 4, 'page_label': '5', 'producer': 'Adobe PDF Library 15.0', 'source': '../data/Samsung_Electronics_Sustainability_Report_2025_KOR.pdf', 'creationdate': '2025-07-10T16:11:16+09:00', 'creator': 'Adobe InDesign 15.1 (Macintosh)', 'moddate': '2025-09-04T16:51:11+09:00', 'total_pages': 87}, page_content='삼성전자 지속가능경영보고서 2025\\n05\\nOur Company AppendixFacts & Figures PrinciplePlanet People\\n회사소개\\nAbout Us\\n삼성전자주식회사(이하 삼성전자)는 인재와 기술을 기반으로 최고의 제품과 서비스를 창출함으로써 인류사회에 기여하는 글로벌 초일류 기업을 지향합니다. 이를 위해 삼성전자가 지켜나갈 약속인 5가지 경영원칙 을 세부원칙과 \\n행동지침으로 구체화하고, 삼성전자 임직원이 지켜야 할 행동규범 으로 제정하여 모든 경영활동의 기준으로 삼고 있습니다. 앞으로도 삼성전자는 조직문화에 5가지 핵심가치 를 내재화하여 지속적으로 성장해갈 것입니다.\\n사업부문 및 글로벌 네트워크 소개\\n삼성전자는 제품 특성에 따라 DX(Device eXperience)와 DS(Device Solutions) 2개 부문으로 나뉘어 독립적으로 운영되고 있습니다. DX부문은 스마트폰, 네트워크 시스템, 컴퓨터, TV, 냉장고, 세탁기, 에어컨, 의료기기 등 완제품을 \\n생산·판매하고 있으며, DS부문은 메모리 사업, Foundry 사업, System LSI 사업으로 구성되어 DRAM, NAND Flash, 모바일AP 등의 반도체 부품을 생산·판매합니다. 삼성전자는 2024년 말 기준 전 세계에 240개의 생산거점, \\n판매거점, R&D 센터, 디자인 센터 등을 보유하고 있습니다.\\n매출\\n174조 8,877억 원\\n영업이익\\n12조 4,399억 원\\n네트워크\\nMobile eXperience 영상디스플레이\\n생활가전 의료기기\\n주요 사업부\\nDevice eXperience\\nDX DS\\nDevice Solutions\\n※ 상기 매출과 영업이익은 2024년 실적 기준이며, SDC, Harman의 실적은 제외된 것입니다.\\n1) 내부관리 기준에 따른 지역구분   2) 판매법인, 지점 등   3) 물류법인, IP 오피스 등   4) 당사 제품 생산용 부품을 공급하는 기업\\n임직원 262,647명 연구개발비 35.0조 원운영국가 76개국협력회사\\n4)\\n 2,503개\\n지역총괄\\n1)'),\n",
       " Document(id='78bf6904-252f-4032-890c-19677fa40d87', metadata={'producer': 'Adobe PDF Library 15.0', 'trapped': '/False', 'creator': 'Adobe InDesign 15.1 (Macintosh)', 'source': '../data/Samsung_Electronics_Sustainability_Report_2025_KOR.pdf', 'moddate': '2025-09-04T16:51:11+09:00', 'page_label': '4', 'page': 3, 'creationdate': '2025-07-10T16:11:16+09:00', 'total_pages': 87}, page_content=\"삼성전자 지속가능경영보고서 2025\\n04\\nOur Company AppendixFacts & Figures PrinciplePlanet People\\n주주, 고객, 협력회사, 그리고 임직원 여러분,\\n2024년은 글로벌 지정학적 리스크와 AI 기술의 성장 등 급격한 산업의 \\n변화를 겪은 한 해였습니다. 산업계 전반에 걸친 경쟁은 한층 더 \\n치열해지고 있으며, 새로운 기술은 사업 전반에 큰 변화를 요구하고 \\n있습니다. \\n삼성전자는 이러한 환경에서도 전년 대비 16%의 매출 증가와 5배에 \\n달하는 영업이익을 기록했습니다. 전략적 시설투자와 연구개발 강화 등 \\n지속 성장의 기반을 다지는 데에도 집중했습니다.\\n다양한 분야의 이해관계자 여러분께서 삼성전자의 이러한 노력을 \\n인정하고 성원해 주신 결과, 삼성전자의 브랜드 가치는 인터브랜드 평가 \\n기준 사상 첫 1,000억 달러를 돌파하며 5년 연속 글로벌 5위로 평가 \\n받았습니다. 진심으로 감사드립니다.\\n급변하는 경영 환경과 사회∙경제적 리스크에 대응하기 위한 확실한 \\n해법은 기본에 충실한 경영과 지속가능한 성장 기반 마련에 있습니다. \\n삼성전자는 이러한 믿음을 바탕으로 사업경쟁력과 기술혁신의 원동력을 \\n제고하기 위해 사회 전반에서 다양한 활동을 지속하고 있습니다.\\n환경 분야에 대해 먼저 말씀드립니다. 삼성전자는 2022년 9월 발표한 '新\\n환경경영전략'을 기반으로 탄소중립 달성, 자원순환 극대화, 그리고 기술 \\n혁신을 통한 환경 난제 해결을 위해 노력하고 있습니다.\\nDX(Device eXperience)부문은 2030년 탄소중립 달성을 목표로 2024\\n년 말 기준 전체 에너지의 93.4%가 재생에너지로 전환되었고, 대표 \\n제품 모델에는 고효율 에너지 기술을 적용해 2019년 대비 평균 31.5%\\n의 소비전력을 절감했습니다. 제품에 사용되는 플라스틱 부품의 31%에 \\n재활용 소재를 적용하는 성과를 이뤘습니다.\\nDS(Device Solutions)부문은 2050년 탄소중립 달성을 목표로\"),\n",
       " Document(id='6fb5644d-ad60-4b13-ad4a-562338f89793', metadata={'page': 2, 'creator': 'Adobe InDesign 15.1 (Macintosh)', 'trapped': '/False', 'source': '../data/Samsung_Electronics_Sustainability_Report_2025_KOR.pdf', 'producer': 'Adobe PDF Library 15.0', 'creationdate': '2025-07-10T16:11:16+09:00', 'moddate': '2025-09-04T16:51:11+09:00', 'total_pages': 87, 'page_label': '3'}, page_content='삼성전자 지속가능경영보고서 2025\\n03\\nOur Company AppendixFacts & Figures PrinciplePlanet People\\nOur Company\\nCEO 메시지\\n회사소개\\n기업 지배구조\\n중대성 평가\\n이해관계자 소통\\n04\\n05\\n06\\n07\\n09'),\n",
       " Document(id='85aba90c-8f1e-4322-9238-ee5a9b5aa4e7', metadata={'creator': 'Adobe InDesign 15.1 (Macintosh)', 'page_label': '84', 'page': 83, 'trapped': '/False', 'creationdate': '2025-07-10T16:11:16+09:00', 'total_pages': 87, 'producer': 'Adobe PDF Library 15.0', 'moddate': '2025-09-04T16:51:11+09:00', 'source': '../data/Samsung_Electronics_Sustainability_Report_2025_KOR.pdf'}, page_content='삼성전자 지속가능경영보고서 2025\\n84\\n코드 공시 항목 참고 페이지 및 답변\\n제품 안전 TC-HW-230a.1 제품의 정보보안 관련 리스크를 발견하고 이를 개선하는 방법 설명\\n삼성전자는 개인정보보호팀장, 정보보호센터장이 개인정보보호 운영위원회와 보안현안협의회를 통해 컨트롤 타워 역할을  \\n수행합니다. 개인정보보호 3대원칙과 사이버 보안 4대 방향성을 수립하여 이에 맞는 첨단 보안 기술을 개발하고 제품에  \\n적용합니다. 삼성전자 개인정보 보호와 보안 현황은 지속가능경영 보고서 P.53- 54를 참조하십시오.\\n다양성과 포용 TC-HW-330a.1 (1) 경영진과 (2) 기술진, (3) 그 외 임직원의 성별 비율과 인종∙민족별 비율 삼성전자는 경영진과 기술진 그 외 임직원의 성별 비율을 공개하고 있습니다. 그 외 자세한 임직원 현황은 지속가능경영보고서 \\np.64-65를 참조하십시오.\\n제품 수명주기 관리 TC-HW-410a.1 IEC 62474 국제표준 신고 물질을 포함하고 있는 제품의 매출액 기준 비율\\n삼성전자는 글로벌 규정(EU RoHS, REACH, TSCA 등)을 준수하고, 국내외 환경 기준을 반영하여 사내 규칙을 제정하여\\n엄격하게 관리하고 있습니다. 또한 제품에 사용되는 모든 부품과 원재료에 대해 철저한 사전검사와 사후관리 체계를 운영하고\\n있습니다. 삼성전자의 유해물질 관리 현황은 지속가능경영보고서 P.20, 32-33, 29~30 및 지속가능경영웹사이트에 공개된  \\n제품환경관리물질 운영규칙 을 참조하십시오.\\nTC-HW-410a.2 EPEAT 등록 기준이나 이와 동등한 수준의 기준을 충족하는 제품의 매출액 기준 비율\\n1)\\n· 컴퓨터: 85.5%\\n· 휴대전화: 85.3%\\n· 태블릿: 36.7%\\n· 디스플레이: 32.0%\\nTC-HW-410a.3 ENERGY STAR\\n®\\n 기준을 충족하는 제품의 매출액 기준 비율\\n1)\\n· 오디오: 60.6%\\n· 컴퓨터: 100%\\n· 태블릿: 61.6%\\nTC-HW-410a.4 회수된 폐전자제품의 중량과 재활용률'),\n",
       " Document(id='a9bd516f-28d1-4a29-98d8-6b8b6de5df3d', metadata={'creator': 'Adobe InDesign 15.1 (Macintosh)', 'page': 75, 'trapped': '/False', 'source': '../data/Samsung_Electronics_Sustainability_Report_2025_KOR.pdf', 'moddate': '2025-09-04T16:51:11+09:00', 'page_label': '76', 'total_pages': 87, 'creationdate': '2025-07-10T16:11:16+09:00', 'producer': 'Adobe PDF Library 15.0'}, page_content='삼성전자 지속가능경영보고서 2025\\n76\\n독립된 인증인의 인증보고서\\nOur Company AppendixFacts & Figures PrinciplePlanet People'),\n",
       " Document(id='c6c61f5d-0717-4264-9a09-a0f6aaf22c2e', metadata={'trapped': '/False', 'creationdate': '2025-07-10T16:11:16+09:00', 'page': 53, 'producer': 'Adobe PDF Library 15.0', 'moddate': '2025-09-04T16:51:11+09:00', 'source': '../data/Samsung_Electronics_Sustainability_Report_2025_KOR.pdf', 'total_pages': 87, 'page_label': '54', 'creator': 'Adobe InDesign 15.1 (Macintosh)'}, page_content='삼성전자 지속가능경영보고서 2025\\n54\\nBespoke AI 로봇청소기 보안 인증 획득\\n2024년에는 Bespoke AI 스팀 로봇청소기가 KISA 개인정보보호중심설계\\n(PbD, Privacy by Design) 인증과 KISA IoT 보안 인증 중 최고 수준인 \\n스탠다드 유형의 보안 인증을 획득하였습니다. \\n활동\\n개인정보보호 교육\\n모든 임직원은 매년 개인정보 보호 교육을 필수적으로 이수하여야 하며, \\n업무상 개인정보를 취급하는 직원은 매년 해 당 업무에 특화된 별도의 \\n개인정보보호 교육을 이수하고 있습니다. \\n국제 보안 인증\\n삼성전자는 자체 정보자산을 보호 할 뿐만 아니라 고객에게 정보유출 \\n시도로부터 안전한 환경과 서비스를 제공하기 위해 노력하며, 이 \\n과정에서 경영시스템, 주요 제품, 솔루션, 인프라에 대한 국제 보안 인증을 \\n취득하고 있습니다.\\n책임있는 광고\\n삼성전자는 모바일과 스마트허브 기기를 통해 직접 집행하는 광고에 대해 \\n엄격한 개인정보보호정책을 적용합니다. 맞춤형 광고 집행 시 사용자별로 \\n랜덤하게 생성된 별도의 ID를 사용하여 정보를 처리하며, 해 당 ID는 \\n사용자의 선택에 따라 초기화가 가능합니다. 이 경우 기존 ID로 수집된 \\n모든 사용자 정보의 이용이 즉시 중지됩니다.\\n삼성전자는 사용자가 모바일과 스마트허브 기기에서 맞춤형 광고 관련 \\n개인정보 수집 동의여부를 자 유롭게 선택할 수 있도록 설정 옵 션을 \\n제공합니다. 사용자는 언 제든지 본인의 기기 설정에서 해 당 옵션을 \\n거부하거나 해제 할 수 있으며, 맞춤형  광고를 거부할 경 우 사용자와 \\n무관한 일반적인 광고가 노출 됩니다. 또한 맞춤형 광고 집 행을 위해 \\n개인정보를 수집하거나 이용하는 경우에는 그 목적을 사용자에게 명확히 \\n알리고 사전에 동의를 받고 있습니다.\\n반도체 기술 보안\\n삼성전자는 반도체 핵심기술을 회사를 넘어 국가와 고객의 차원에서도 \\n필수적으로 관리해야할 대상으로 인식합니다. 삼성전자 반도체의 주요 \\n기술은 산업기술보호법\\n1)\\n과 첨단전략산업법\\n2)'),\n",
       " Document(id='ccd3daa5-577e-494c-a610-81b94a7c6af4', metadata={'creationdate': '2025-07-10T16:11:16+09:00', 'total_pages': 87, 'producer': 'Adobe PDF Library 15.0', 'trapped': '/False', 'moddate': '2025-09-04T16:51:11+09:00', 'source': '../data/Samsung_Electronics_Sustainability_Report_2025_KOR.pdf', 'page': 60, 'creator': 'Adobe InDesign 15.1 (Macintosh)', 'page_label': '61'}, page_content='삼성전자 지속가능경영보고서 2025\\n61\\nFacts & Figures \\n경제성과\\n사회성과\\n환경성과  \\n사업부문별 환경성과 \\n62\\n63\\n68\\n72\\nOur Company AppendixFacts & Figures PrinciplePlanet People'),\n",
       " Document(id='8a977cdf-b903-4eae-9ff4-02f985ffdd2b', metadata={'moddate': '2025-09-04T16:51:11+09:00', 'source': '../data/Samsung_Electronics_Sustainability_Report_2025_KOR.pdf', 'page': 76, 'creator': 'Adobe InDesign 15.1 (Macintosh)', 'producer': 'Adobe PDF Library 15.0', 'creationdate': '2025-07-10T16:11:16+09:00', 'trapped': '/False', 'total_pages': 87, 'page_label': '77'}, page_content='삼성전자 지속가능경영보고서 2025\\n77\\nScope 1, 2 온실가스 배출량 검증 의견서\\nOur Company AppendixFacts & Figures PrinciplePlanet People'),\n",
       " Document(id='18e28df6-78b8-4228-8eb6-fc76e6c781b0', metadata={'creationdate': '2025-07-10T16:11:16+09:00', 'producer': 'Adobe PDF Library 15.0', 'trapped': '/False', 'total_pages': 87, 'page_label': '56', 'page': 55, 'source': '../data/Samsung_Electronics_Sustainability_Report_2025_KOR.pdf', 'moddate': '2025-09-04T16:51:11+09:00', 'creator': 'Adobe InDesign 15.1 (Macintosh)'}, page_content='접근이 제한된 콘텐츠나 앱은 보호자가 설정한 비 밀번호 입력 시에만 \\n사용 가능합니다. 2025년 6월 기준 아동 계정 서비스는 한국, 미국, 중국, \\n유럽(32개국), 중남미(5개국), 중동·아프리카(15개국) 등 55개 국가에서 \\n지원하고 있습니다.\\n1) 연락처 관리 기능은 일부 워치 모델에 한해 지원 중\\n제품 품질 확보\\n삼성전자는 제품 생애주기 전 단계에 걸쳐 품질 보증체계를 운영합니다.\\n최고수준의 품질확보를 위해 모든 업무와 프로세스에 대하여 문서화된 \\n표준을 적용하며, 부품 협력회사를 대상으로 품질 관련 상시 점 검과 \\n보완을 진행하고 있습니다.\\n개발단계\\n삼성전자는 고객 요구사 항에 부합하는 신제품을 구 현·검증하기 위해 \\n개발단계별로 성능, 신 뢰성, 안전성 등을 평가하며, 모 든 평가 항목을 \\n충족한 제품만 시장에 출하하는 고객만족(CS, Customer Satisfaction) \\n인증제도를 운영합니다. 신제품 개발시 PLM (Product Lifecycle \\nManagement) 시스템으로 신제품 개발 계획 단계부터 과거 실패사례와 \\n문제점을 관리하여 동일한 문제점이 재발하지 않도록 예방합니다. 또한 \\n신기술과 기능에 대해 새로운 검증 기법으로 내구 신 뢰성과 실사용 \\n테스트를 실시하여 고객 요구 품질을 달성해야만 생산이 승인됩니다. \\n구매단계\\n협력회사가 생산·납품하는 부품에 대해서는 S QCI(Supplier Quality \\nControl Innovation) 제도를 통해 품질을 관리합니다. 품질사고와 \\n유해물질 발생, 품질평가 등급 부진 등의 상 황 발생 시 협력회사 \\n품질경고체계에 기반하여 물량 조정, 거래 중지 등의 페널티를 적용하고 \\n있습니다. \\n제조단계\\n삼성전자는 ISO 9001 인증기업으로서 국제품질경영시스템을 기반으로 \\n운영되며 국내외 제조사업장 대상 자체 내부 점 검을 매년 진행합니다. \\nDX부문은 삼성전자품질대상(S QA, Samsung Electronics Q uality'),\n",
       " Document(id='b5cdf238-3f8b-448f-bdfd-f719f58c356f', metadata={'page': 33, 'source': '../data/Samsung_Electronics_Sustainability_Report_2025_KOR.pdf', 'total_pages': 87, 'creationdate': '2025-07-10T16:11:16+09:00', 'moddate': '2025-09-04T16:51:11+09:00', 'page_label': '34', 'creator': 'Adobe InDesign 15.1 (Macintosh)', 'producer': 'Adobe PDF Library 15.0', 'trapped': '/False'}, page_content='삼성전자 지속가능경영보고서 2025\\n34\\n임직원\\n공급망\\n사회공헌\\n개인정보보호와 보안\\n제품 품질과 안전\\n35\\n45\\n51\\n53\\n55\\nPeople\\n사회적 책임을 다하며 미래로 함께 나아갑니다.\\nOur Company AppendixFacts & Figures PrinciplePlanet People'),\n",
       " Document(id='3871f7b3-d7ad-4e72-9dd3-4c99be99840c', metadata={'moddate': '2025-09-04T16:51:11+09:00', 'trapped': '/False', 'page_label': '1', 'page': 0, 'creator': 'Adobe InDesign 15.1 (Macintosh)', 'total_pages': 87, 'producer': 'Adobe PDF Library 15.0', 'creationdate': '2025-07-10T16:11:16+09:00', 'source': '../data/Samsung_Electronics_Sustainability_Report_2025_KOR.pdf'}, page_content='삼성전자 지속가능경영보고서 2025\\nA Journey  Towards \\n a Sustainable Future\\nA Journey  Towards\\n a Sustainable Future'),\n",
       " Document(id='9efbd33c-3789-4f6c-b237-33efd4d6883e', metadata={'trapped': '/False', 'moddate': '2025-09-04T16:51:11+09:00', 'page': 77, 'source': '../data/Samsung_Electronics_Sustainability_Report_2025_KOR.pdf', 'producer': 'Adobe PDF Library 15.0', 'page_label': '78', 'creator': 'Adobe InDesign 15.1 (Macintosh)', 'total_pages': 87, 'creationdate': '2025-07-10T16:11:16+09:00'}, page_content='삼성전자 지속가능경영보고서 2025\\n78\\nScope 3 온실가스 배출량 검증 의견서\\nOur Company AppendixFacts & Figures PrinciplePlanet People'),\n",
       " Document(id='1547401b-cbd0-4e1f-bbae-60ee0144365b', metadata={'creationdate': '2025-07-10T16:11:16+09:00', 'creator': 'Adobe InDesign 15.1 (Macintosh)', 'total_pages': 87, 'page_label': '79', 'trapped': '/False', 'page': 78, 'producer': 'Adobe PDF Library 15.0', 'source': '../data/Samsung_Electronics_Sustainability_Report_2025_KOR.pdf', 'moddate': '2025-09-04T16:51:11+09:00'}, page_content='삼성전자 지속가능경영보고서 2025\\n79\\nScope 3 온실가스 배출량 검증 의견서\\nOur Company AppendixFacts & Figures PrinciplePlanet People'),\n",
       " Document(id='9f41cdc8-45c3-4eb3-8e76-981d0519954d', metadata={'total_pages': 87, 'trapped': '/False', 'creationdate': '2025-07-10T16:11:16+09:00', 'moddate': '2025-09-04T16:51:11+09:00', 'page': 3, 'creator': 'Adobe InDesign 15.1 (Macintosh)', 'source': '../data/Samsung_Electronics_Sustainability_Report_2025_KOR.pdf', 'producer': 'Adobe PDF Library 15.0', 'page_label': '4'}, page_content=\"사회공헌 분야에서는 2024년 '삼성 청년SW·AI아카데미'에 375억 원을 \\n지원해 2,200 명의 청년 소 프트웨어 인재를 양성했으며, 2025년에는 \\n마이스터고 졸업생에게까지 교육기회를 확대할 예정입니다. \\n또한 자립 준비 청년들의 주 거안정과 미래준비를 지원하는 '삼성 \\n희망디딤돌' 활동은 2024년에 충북과 대전센터를 신규로 개소하여 총 \\n14,362명을 지원하였으며, 2025년에는 인천센터를 추가로 설립하여 더 \\n많은 청년들을 지원할 예정입니다.\\n지난해에 이 어 올해 지속가능경영보고서도 글로벌 공시 규 제 \\n프레임워크에 맞춰 발 행됐 습니다. 2024년 한 해 동안 회사의  \\n지속가능경영 관리체계, 전략, 이 행 활동, 성과 등을 충실 히 담았으며, \\n지속가능경영 웹사이트와도 더욱 긴밀히 연계되도록 구성했습니다.\\n삼성전자는 불확실성의 시대에 재도 약의 기반을 다지기 위해 지속 \\n노력하고 있습니다. '인재와 기술을 바탕으로 최고의 제품과 서비스를 \\n창출하여 인류사회에 공헌한다'는 경영철학에 입각해 기술 리더십으로 \\n재도약의 기반을 다지고 새로운 영 역에서 미래 성장동력을 확보해 \\n나가겠습니다.\\n삼성전자는 이해관계자 여러분의 소중한 의견에 늘 귀를 기울이고 있으며, \\n앞으로도 지속가능한 성장 기반을 마련하는 데 최선을 다하겠습니다.\\n감사합니다.\\nCEO 메시지\\nMessage from Our CEO\\n삼성전자 주식회사  \\n대표이사 부회장 \\n전영현\"),\n",
       " Document(id='5b57dd62-8cf3-4513-9341-ecdb52ef01aa', metadata={'page_label': '86', 'producer': 'Adobe PDF Library 15.0', 'moddate': '2025-09-04T16:51:11+09:00', 'source': '../data/Samsung_Electronics_Sustainability_Report_2025_KOR.pdf', 'trapped': '/False', 'creator': 'Adobe InDesign 15.1 (Macintosh)', 'creationdate': '2025-07-10T16:11:16+09:00', 'total_pages': 87, 'page': 85}, page_content='삼성전자 지속가능경영보고서 2025\\n86\\n삼성전자주식회사는 경제·사회·환경적 가치 창출 성과를 다양한 이해관계자와 투명하게 소통하기 위해 2025년 열여덟 번째 지속가능경영보고서를 발간합니다.\\n작성 기준\\n본 보고서는 지속가능경영 보고 기준인 GRI(Global Reporting Initiative) \\nStandard 2021에 따라 작성했습니다. 또한 글로벌 지속가능경영 \\n표준과 이니셔티브인 UN SDGs(Sustainable Development Goals) \\n와 TCFD(Task Force on Climate -related Financial Disclosures), \\nSASB(Sustainability Accounting Standards Board)의 지표를 \\n반영했습니다.\\n보고 범위\\n국내와 해 외 모든 사업장과 공급망을 포함합니다. 재무성과는 K-IFRS \\n연결기준으로 작성했으며, 사업장 환경 성과는 국내 외 33개 생산 거점 \\n뿐만 아니라 판매/연구소 등을 포함 하여 수집한 데이터를 기준으로 \\n작성했습니다. 삼성전자의 본 점소재지는 경기도 수원시 영통구 삼성로 \\n129(매탄동)에 위치해 있습니다.\\n보고 기간\\n2024년 1월1일부터 2024년 12월 31일까지의 경제·사회·환경적 성과와 \\n활동을 담고 있으며, 일부 성과에 대해서는 2025년 6월 까지의 정보를 \\n포함하고 있습니다. 정량성과는 연도별 추이 분 석이 가능하도록 최근  \\n3개년 수치를 포함하고 있습니다.\\n보고 주기\\n매년(지난해 보고서 발간 시기: 2024년 6월)\\n보고서 인증\\n보고서 작성 프로세스와 게재된 정보에 대한 신뢰 확보를 위해 독립된 인증 \\n기관인 안진회계법인이 제3자 검증을 수 행했습니다. 검증기준은 ISAE \\n3000을 적용했습니다.\\n관련 정보\\n·  삼성전자주식회사 대표 웹사이트  \\nhttp://www.samsung.com/sec\\n·  삼성전자주식회사 지속가능경영 웹사이트   \\nhttp://www.samsung.com/sec/sustainability/main'),\n",
       " Document(id='cfbf373b-6fc9-4936-a7a4-5ff3f4b05a31', metadata={'moddate': '2025-09-04T16:51:11+09:00', 'page_label': '30', 'producer': 'Adobe PDF Library 15.0', 'creator': 'Adobe InDesign 15.1 (Macintosh)', 'creationdate': '2025-07-10T16:11:16+09:00', 'total_pages': 87, 'trapped': '/False', 'page': 29, 'source': '../data/Samsung_Electronics_Sustainability_Report_2025_KOR.pdf'}, page_content=\"삼성전자 화성사업장은 2023년 3월 국내 최초로 AWS 인증 최고 등급인  \\n'플래티넘' 등급을 획득 하였습니다. 2024년 1월 기 흥∙화성(통합), 평 택 \\n사업장, 2월 중국 시안사업장, 2024년 11월 천안·온양사업장(통합)이 추가로 \\n'플래티넘' 등급을 획득 하여 DS부문 국내 전 제조사업장이 ‘ 플래티넘’ \\n등급을 보유 중입니다.\\nAWS 수자원 인증 추진 \\n국내 사업장 용수 절감량 (단위: 천 톤)\\n2022 10,950\\n2023\\n2024\\n12,710\\n16,759\\n국내 사업장 용수 재이용량 (단위: 천 톤)\\n2022 85,284\\n2023\\n2024\\n92,657\\n101,106\\n(기흥, 화성, 평택, 천안, 온양사업장)\\n(기흥, 화성, 평택, 천안, 온양사업장)\\n(기흥, 화성, 평택, 천안, 온양사업장)\\nOur Company AppendixFacts & Figures PrinciplePlanet People\"),\n",
       " Document(id='38454103-9323-4ad6-9a86-744382714108', metadata={'page': 53, 'producer': 'Adobe PDF Library 15.0', 'moddate': '2025-09-04T16:51:11+09:00', 'total_pages': 87, 'creationdate': '2025-07-10T16:11:16+09:00', 'source': '../data/Samsung_Electronics_Sustainability_Report_2025_KOR.pdf', 'page_label': '54', 'trapped': '/False', 'creator': 'Adobe InDesign 15.1 (Macintosh)'}, page_content='보호하여 온디바이스(On-Device)에 안전하게 저장됩니다. 2025년부터\\n녹스 볼트가 모바일 제품군뿐만 아니라 Bespoke AI 패밀리허브 냉장고, \\nBespoke AI 콤보 등의 스크린 탑재 스마트 가전제품에도 적용되어 사용\\n자가 쉽고 안전하게 AI HOME을 경험하는 데 기여하고 있습니다.\\n모바일 보안 업데이트\\n삼성전자는 제품과 서비스를 대상으로 정기적으로 보안 업데이 트를 \\n실시합니다. 갤럭시 모바 일 기기의 보안 업데이 트 지원 기 간은 \\n최대 7년으로, 안드로이드 운영체제와 칩 셋 파 트너 외에도 전 세 계 \\n이동통신사업자와 협력하여 수 십억 대의 갤럭시 기기에 보안 패치 \\n업데이트를 진행합니다. 또한 모든 안드로이드 기기 대상의 보안 표준 \\n확립을 위해 보안 연구 커뮤니티 등 1,000여 개 이상의 파트너와 협력하고 \\n있습니다. \\n※  안드로이드 운영체제 업그레이드와 보안 업데이트의 사용 가능 여부·시기는 제품과 시장에 따라 \\n다를 수 있습니다.\\n금지된 광고 목록 \\n국제 보안 인증 획득내역 \\n삼성 녹스 보안원칙 \\n삼성전자 반도체 국가핵심기술 및 국가첨단전략기술 \\n과정명 대상자\\n개인정보보호 온라인 교육 모든 임직원(경영진, 계약직, 시간선택제 포함)\\n개인정보보호 책임자 교육 개인정보 취급 시스템 및 서비스 운영 부서의 보직장\\n개인정보 취급자 및 수탁사 \\n개인정보보호 교육\\n개인정보 취급 시스템 접근 권한 보유 임직원 및 \\n수탁사 업무 담당자\\n위치정보 취급자 교육 위치정보 취급 시스템 및 서비스 담당자\\n개인정보보호 교육\\nOur Company AppendixFacts & Figures PrinciplePlanet People'),\n",
       " Document(id='0e44c59a-3c70-45dd-bc41-fdbb0f8c50a2', metadata={'source': '../data/Samsung_Electronics_Sustainability_Report_2025_KOR.pdf', 'creator': 'Adobe InDesign 15.1 (Macintosh)', 'producer': 'Adobe PDF Library 15.0', 'moddate': '2025-09-04T16:51:11+09:00', 'page_label': '53', 'creationdate': '2025-07-10T16:11:16+09:00', 'trapped': '/False', 'page': 52, 'total_pages': 87}, page_content=\"삼성전자 지속가능경영보고서 2025\\n53\\n추진 방향\\n삼성전자는 개인정보를 최소한의 범위 내에서 투명하게 수집하고, 안전하게 처리하며, 사용자의 선택을 최우선으로 존중합니다. 또한 한발 앞서 잠재적인 \\n위험 요소를 사전에 식별하고 이에 맞는 첨단 보안 기술을 개발하여 제품에 적용합니다.\\n개인정보보호와 보안\\nPrivacy Protection & Security\\n개인정보보호 추진 체계 정보보호 추진 체계\\n‧  개인정보보호 전략 수립,  \\n정책 운영, 프로세스 구축\\n‧  개인정보 법률 자문과 지원\\n‧ 임직원 교육과 인식제고\\n‧  사업부·사업장 해외 정보보호 \\n총괄, 정보보호 거버넌스 구축 \\n‧ 글로벌 이상 징후 관리 체계 운영    \\n‧  개인정보 관련 주요 정책과  \\n보호 조치 의사결정\\n‧  제품·서비스, 사업부별 현안  \\n공유와 대책 협의\\n‧ 정보보호 관련 주요 정책과\\n   보호조치 협의 \\n ‧ 정보보호 현안, 이슈 공유와\\n   개선대책 협의\\n개인정보보호팀 정보보호센터개인정보보호 운영위원회 보안현안협의회\\n개인정보보호 3대 원칙 사이버 보안 4대 방향성\\n리스크 관리\\n정책\\n삼성전자는 글로벌 개인정보보호 정책을 수립하고 국가에 따라 다른 주요 \\n법과 제도를 반영해 지역별 상황에 적합한 정책을 운영하며, 임직원들의 \\n개인정보보호 실천을 강화하기 위하여 '개인정보보호 임직원 가이드라인'\\n과 '개인정보처리 위탁 가이드' 등 관련 가이드라인을 제공하고 있습니다. \\n또한 제품과 서비스의 기획부터 개발, 운영, 단종에 이르는 전 과정에서 \\n개인정보 리스크를 사전에 예방할 수 있도록 개인정보 법무관리 시스템\\n(Privacy Legal Management System)을 구축하였습니다.\\n삼성전자는 삼성 프라이버시   웹사이트에 개인정보 처리방침을 \\n투명하게 공개하고 있으며 사용자가 삼성 계정에 연결된 개인정보의 \\n열람, 삭제, 업데이트를 한 번에 처리할 수 있도록 지원합니다. 또한 제품별 \\n보안 업데이트 내용을 확인하고 보안 취약점 접수와 처리가 가능한 삼성\"),\n",
       " Document(id='e44c67ac-6b1b-4246-a095-aa8cbbf82537', metadata={'creationdate': '2025-07-10T16:11:16+09:00', 'trapped': '/False', 'producer': 'Adobe PDF Library 15.0', 'page_label': '57', 'page': 56, 'source': '../data/Samsung_Electronics_Sustainability_Report_2025_KOR.pdf', 'creator': 'Adobe InDesign 15.1 (Macintosh)', 'moddate': '2025-09-04T16:51:11+09:00', 'total_pages': 87}, page_content='삼성전자 지속가능경영보고서 2025\\n57\\n고객 서비스 \\n삼성전자는 최선의 서비스를 제공하여 고객 만족도를 극대화 하는 것을 \\n목표로 고객의 요구사항에 신속하고 효과적으로 대응합니다. 제품 서비스 \\n진행 현황을 실시간으로 관리할 수 있는 시스 템을 구축하였으며, 고객 \\n서비스 운영 체계에 AI 분석 기술을 접목하여 수리의 정확성과 신속성을 \\n높였습니다. \\n서비스 채널\\n삼성전자는 소비자의 제품 수리를 위해 2024년 말 기준, 217개 국가에서 \\n12,925개의 서비스 센터를 운영하고 있으며 이외에도 고객이 제품 관련 \\n의견을 제시 할 수 있는 다양한 상 담 채널을 운영합니다. 삼성 닷컴에 \\n각 채널별 사용 방법을 자세히 안내하고 있으며, 챗봇 상담, 원격 상담, \\n이메일 상 담, 전화 상 담, 수어 상 담 등 전문 상 담 채널을 통해 접 수된 \\n고객의 니 즈와 요구사 항은 사내 각  부문에 공 유하여 제품과 서비스 \\n개선에 활용합니다. \\n서비스 품질 향상\\n표준화된 서비스 제공을 위한 노력\\n삼성전자는 서비스 센터와 콜센터 운영가이드를 제 작하고 업 무표준 \\n시스템으로 국내외 전 사업장과 공유하여 표준화된 서비스를 제공합니다. \\n각 지역 사업장에서는 글로벌 가이드를 기반으로 시장 특 성에 맞게 \\n현지화한 매뉴얼로 교육을 실시합니다.\\n또한 정기적으로 서비스센터의 서비스 표준 적용 여부와 기술력, 수리 장비, \\n인프라, 자재관리, 재무 건전성 등을 평가합니다. 서비스센터 규모별로 개선 \\n목표를 수립하고 달성 정도에 따라 수수료 인상 또는 우수 센터 시상 등의 \\n인센티브를 제공하고 있습니다.\\n자가수리 \\n삼성전자는 고객의 수리 선택권을 확대하기 위하여 정품 부품, 수리 공구, \\n수리 매뉴얼을 제공하는 고객 자가수리 프 로그램을 운영합니다. 2021\\n년 7월 이후 판 매모델을 대상으로 자가수리를 지원하며 미 국에서는 \\n2022년부터, 한국, 유럽, 중남미 등에서는 2023년부터 고객 자가수리 \\n프로그램을 시행하였습니다. 매 뉴얼은 삼성전자서비스 웹사이트에서'),\n",
       " Document(id='69404cac-9624-456d-8d4f-714a7548932f', metadata={'moddate': '2025-09-04T16:51:11+09:00', 'page_label': '50', 'page': 49, 'total_pages': 87, 'creator': 'Adobe InDesign 15.1 (Macintosh)', 'trapped': '/False', 'creationdate': '2025-07-10T16:11:16+09:00', 'source': '../data/Samsung_Electronics_Sustainability_Report_2025_KOR.pdf', 'producer': 'Adobe PDF Library 15.0'}, page_content='삼성전자 지속가능경영보고서 2025\\n50\\n안전보건\\n삼성전자는 DX부문의 Global EHS실장, DS부문의 글로벌 제조&인프라 \\n총괄장인 CSO(Chief Safety Officer)를 중심으로 2030년까지 상주 \\n협력회사 안전보건 역량과 관리체계 강화라는 목표를 수립하였습니다. \\n이를 위해 외부인증 미취득 협력회사에게는 인증 취득을 위한 컨설팅과 \\n심사를 지원하며, 외 부인증을 취득한 협력회사에 게는 실행력 강화를 \\n위한 특별교육, 사후·갱신 심사를 위한 컨설팅 등을 지원할 계획입니다. \\n또한 협력회사 스스로 작업의 유해요인과 위험요인을 발굴하고 개선하여 \\n중대재해를 사전에 예방할 수 있도록 협력회사 위 험성 평가 전문인력 \\n양성과정을 운영하고 있습니다. ‘협력회사 환경안전포털’을 통해 협력회사 \\n근로자 들과 소통하고 있으며, 작업중지 연구회에서는 실효성 있는 \\n작업중지권 제도를 위한 개선 활동을 제안합니다.\\n협력회사 환경안전 리스크 관리 \\n안전보건 2024년 성과\\n481개 중점 협력회사 1,863명 위험성평가 취약회사  69개 \\nDX부문\\nDS부문\\n20개 과정  258,173명\\n총 3,552건\\n환경안전 정기진단\\n환경안전 교육\\n협력회사 환경안전포털 문의 접수\\n환경안전 사고예방 지원(컨설팅)\\n작업중지 연구회 대상\\n환경안전 교육 환경안전 사고예방 지원 \\n(컨설팅)\\n위험성평가 취약회사  152개 \\n3개 업종 33개사\\n상생협력\\n자금지원\\n삼성전자는 협력회사의 경쟁력 강화와 지속가능경영 기반 구축을 위하여 \\n다양한 자 금지원 프로그램을 운영합니다. 설비 투자와 기술 개발 등 \\n자금에 대해 최대 90억 원까지 저금리 대출을 지원하는 상생펀드를 운영 \\n중이며, 2024년에는 5대 은행과의 협약을 통한 1조 원 규모 ESG펀드를 \\n신규로 조성하여 중소 ·중견 기업 들이 환경안전 친화 시설과 설비에 \\n투자할 수 있도록 지원하였습니다.\\n반도체 기술 및 사업 컨설팅\\n반도체 교육지원  DS부문은 협력회사 임직원을 대상으로 500여 개의'),\n",
       " Document(id='3f6e6180-8a68-4367-b234-b79f750967a4', metadata={'page': 53, 'producer': 'Adobe PDF Library 15.0', 'creator': 'Adobe InDesign 15.1 (Macintosh)', 'moddate': '2025-09-04T16:51:11+09:00', 'trapped': '/False', 'source': '../data/Samsung_Electronics_Sustainability_Report_2025_KOR.pdf', 'creationdate': '2025-07-10T16:11:16+09:00', 'total_pages': 87, 'page_label': '54'}, page_content='필수적으로 관리해야할 대상으로 인식합니다. 삼성전자 반도체의 주요 \\n기술은 산업기술보호법\\n1)\\n과 첨단전략산업법\\n2)\\n에 따라 보호되며, 매년 정기 \\n감사로 보안 시스템의 유효성을 점검하여 보안사고를 예방합니다. 또한 \\n국가핵심기술 보안 관리 지침을 별도로 수립하고 임원급 관리 책임자를 \\n지정하여 기술적 보안 조치를 검토하며 국가핵심기술 처리 과정과 보호 \\n조치를 최종 승인합니다.\\n나아가 고객사 정보 보안을 철 저히 하기 위해 NDA(Non-Disclosure \\nAgreement)를 체결합니다. 제한된 담당자에게만 고객 정보 접근을 \\n허용하며, 메일 필터링 서비스(CPGS, Compliance Guide Service)를 \\n적용하여 고객사 관련 정보가 포함 된 이메일의 외부 발송을 자동으로 \\n차단합니다.\\n1) 산업기술의 유출방지 및 보호에 관한 법률  \\n2) 국가첨단전략산업 경쟁력 강화 및 보호에 관한 특별조치법\\n강력한 보안 환경\\n삼성 녹스(Samsung Knox) 플랫폼\\n삼성 녹스는 칩셋부터 운영체제(OS), 애플리 케이션까지 단계별 \\n보안 체계를 구 축하여 해 킹과 비인가 접근 을 차단할 수 있는 보안 \\n플랫폼입니다. 고객이 제품 내 저장한 정보는 부팅 순간부터 녹스 플랫폼 \\n내에 실시간으로 보호됩니다. 삼성 녹스는 스마트폰과 태블릿, 스마트\\nTV를 시 작으로 스마 트 가전, IoT, 5G 디 바이스 까지 삼성전자의 전 \\n제품군으로 확대되고 있습니다.\\n삼성 녹스 볼트(Samsung Knox Vault) 솔루션\\n삼성 녹스 볼트는 안드로이드 보안 취약점 을 이용한 공격으로부터 애\\n플리케이션과 사용자를 안전하게 보호할 수 있는 솔루션입니다. 갤럭시 \\nS25 시리즈에는 사용자의 개인화 데이터를 분 석하는 PDE(Personal \\nData Engine)을 최초 적용하였으며, PDE로 분석된 정보는 녹스 볼트로 \\n보호하여 온디바이스(On-Device)에 안전하게 저장됩니다. 2025년부터\\n녹스 볼트가 모바일 제품군뿐만 아니라 Bespoke AI 패밀리허브 냉장고,'),\n",
       " Document(id='85ceb096-a770-4cad-9f6f-3ae62ccd4ed4', metadata={'total_pages': 87, 'producer': 'Adobe PDF Library 15.0', 'page': 54, 'source': '../data/Samsung_Electronics_Sustainability_Report_2025_KOR.pdf', 'moddate': '2025-09-04T16:51:11+09:00', 'trapped': '/False', 'creationdate': '2025-07-10T16:11:16+09:00', 'creator': 'Adobe InDesign 15.1 (Macintosh)', 'page_label': '55'}, page_content='· 샘플 분석과 핵심 모듈 협력회사의 현장검증을 강화\\n· 신제품의 품질 확보를 위한 품질보증체계 보강\\n선행단계\\n상품화 단계\\n양산단계\\n  고객 중심\\n·  고객의 잠재적 요구사항까지 소중히 여기고 이를 제품에 \\n적극 반영함으로써 고객가치를 높여 나간다.\\n  프로 의식\\n·  무결점 품질 의식으로 품질은 내 손에서 완결한다는 \\n책임주의를 실천한다.\\n  기본 충실\\n·  품질은 우리의 양심이며 결코 타협의 대상이 아니므로 규칙과 \\n프로세스를 철저히 준수한다.\\n  명품 창조\\n·  매력적인 품질의 제품에만 삼성로고를 사용한다는 의지로 \\n명품 품질을 구현한다.\\n품질\\n품질 리스크 관리체계 \\n 수립·운영\\n서비스\\n글로벌 서비스체계  \\n구축·운영\\nVISION\\nTHEME\\n최고의 고객경험을 위한 완벽 품질·서비스 추구\\n추진 방향\\n삼성전자는 제품 기획단계에서부터 제품 품질과 고객 안전을 최우선으로 \\n고려하며, 제품 사용 중 문제가 발생 할 경 우 신속한 조치와 편리한 \\n서비스를 제공합니다. 또한 ‘최고의 고객경험을 위한 완벽 품질·서비스 \\n추구’라는 비전에 기반한 품질경영 행동강령을 선포하고 고객 중심 \\n경영을 실천합니다.\\n주기 월 1회\\n위원 CEO(위원장), CFO, CTO, 사업부장\\n간사 Global CS센터장\\n참석자 사업부 개발·제조·CS팀장, 생산기술연구소장 등\\n안건\\n· 주요 신모델 품질 리스크 점검\\n· 공정품질 현황 점검\\n· 출시 후 초기 시장품질 점검\\n품질혁신위원회\\nOur Company AppendixFacts & Figures PrinciplePlanet People\\n활동\\n제품 품질·안전 전문가 육성\\n삼성전자는 국내외 임직원의 품질에 대한 이해와 제품 안전성에 대한 \\n역량을 강화하고자 SE U(Samsung Electronics U niversity) 내 \\nCS 스 쿨의 교육 로드 맵을 바탕으로 제품 신 뢰성, FTA(Fault Tree \\nAnalysis) 분 석, F MEA(Failure Mode and E ffects Analysis)'),\n",
       " Document(id='b60ffce9-c346-426c-bf4c-01abf38bf19c', metadata={'producer': 'Adobe PDF Library 15.0', 'moddate': '2025-09-04T16:51:11+09:00', 'source': '../data/Samsung_Electronics_Sustainability_Report_2025_KOR.pdf', 'creator': 'Adobe InDesign 15.1 (Macintosh)', 'creationdate': '2025-07-10T16:11:16+09:00', 'page_label': '86', 'total_pages': 87, 'page': 85, 'trapped': '/False'}, page_content='·  삼성전자주식회사 지속가능경영 웹사이트   \\nhttp://www.samsung.com/sec/sustainability/main\\n·  삼성전자주식회사 IR 웹사이트   \\nhttp://www.samsung.com/sec/ir\\n·  삼성전자주식회사 뉴스룸   \\nhttp://news.samsung.com/kr   \\nhttp://news.samsung.com/global\\n담당 부서\\n· 삼성전자주식회사 지속가능경영추진센터\\n· 주소: 16677 경기도 수원시 영통구 삼성로 129(매탄동)\\n· 이메일: sustainability.sec@samsung.com\\n참고 자료\\n·  사업 보고서 \\n·  기업지배구조 보고서 \\n·  삼성전자 책임광물 관리 보고서 \\n·  행동규범 \\n·  행동규범 가이드라인 \\n미래 예측 진술 공지\\n삼성전자주식회사의 지속가능경영보고서에서 삼성전자의 지속가능경영 목표 및  전략과 관련된 \\n것을 포함하여 이 루어진 모 든 특정 내용은 관련법상 미래  예측 진술에 해 당할 수 있습니다. 이 \\n지속가능경영보고서에서는 향후 상황 및 지속가능경영 성과에 대한 삼성전자의 현재 견해를 반영하는 \\n미래 예측 진술이 포함되어 있습니다. 이와 같은 내용은 위험과 불확실성을 포함하고 있습니다.\\n어떠한 사실이 현 재 또는 과거 시점에만 국한되는 것 이 아니라 미래에도 유관한 경 우 미래 예측 \\n진술로 볼 수 있습니다. 예를 들어, 삼성전자의 전망, 지침, 그 외 특정 과거 혹은 현재의 사실과 직접적 \\n연관성이 있지 않은 정보 등을 포함합니다. 경우에 따라 \"may,\" \"will,\" \"could,\" \"should,\" \"forecasts,\" \\n\"expects, \" \"intends,\" \"plans,\" “aims to ”, “goals,” “trying to, ” \"anticipates, \" \"projects, \" \\n\"outlook,\" \"believes,\" \"estimates,\" \"predicts,\" \"potential,\" \"continue,\" \"preliminary,\" “추진”,'),\n",
       " Document(id='81ba9e30-59e0-4868-bdd9-5eb0de2fce96', metadata={'producer': 'Adobe PDF Library 15.0', 'moddate': '2025-09-04T16:51:11+09:00', 'creationdate': '2025-07-10T16:11:16+09:00', 'total_pages': 87, 'creator': 'Adobe InDesign 15.1 (Macintosh)', 'page_label': '86', 'page': 85, 'trapped': '/False', 'source': '../data/Samsung_Electronics_Sustainability_Report_2025_KOR.pdf'}, page_content='비록 삼성전자주식회사는 지속가능경영보고서의 미래 예측 진술이 시의성 있고 합리적인 정보, 가정 \\n및 믿음에 기반한다고 판단하지만, 이러한 미래 예측 진술(그리고 이를 이루는 정보, 가정 및 믿음)은 \\n다양한 요인, 리스크, 불확실성의 영향권에 있으므로 실제 결과가 경영진의 기대 및 계획과 상이하게 \\n나타날 수 있습니다.\\n미래 예측 진술은 어떠한 경우에도 해당 진술이 이 루어진 그 시점에 한하여 유관하며, 삼성전자는 \\n새로운 정보, 미래의 사건 등으로 인해 미래 예측 진술을 업데이트 할 의무를 지지 않습니다.\\nAbout This Report\\nOur Company AppendixFacts & Figures PrinciplePlanet People'),\n",
       " Document(id='73820edc-f889-41d9-b126-199bd11a8c96', metadata={'trapped': '/False', 'creationdate': '2025-07-10T16:11:16+09:00', 'moddate': '2025-09-04T16:51:11+09:00', 'page': 24, 'page_label': '25', 'producer': 'Adobe PDF Library 15.0', 'creator': 'Adobe InDesign 15.1 (Macintosh)', 'source': '../data/Samsung_Electronics_Sustainability_Report_2025_KOR.pdf', 'total_pages': 87}, page_content='·  삼성전자는 CF연합의 이사회와 실무그룹 구성원으로, 무탄소에너지 \\n국제 기술 표준과 인증 체계에 관한 논의에 참여하고 있습니다.\\n열 교환기\\nOur Company AppendixFacts & Figures PrinciplePlanet People'),\n",
       " Document(id='72af775e-9b2b-464b-aea8-7862ae8bedec', metadata={'page': 41, 'producer': 'Adobe PDF Library 15.0', 'moddate': '2025-09-04T16:51:11+09:00', 'trapped': '/False', 'source': '../data/Samsung_Electronics_Sustainability_Report_2025_KOR.pdf', 'total_pages': 87, 'page_label': '42', 'creator': 'Adobe InDesign 15.1 (Macintosh)', 'creationdate': '2025-07-10T16:11:16+09:00'}, page_content='여성비중\\n임원 4.2 6.5 7.4\\n간부 12.4 14.7 18.2\\n직무별 \\n여성비중\\n영업·마케팅 30.5 31.2 35.2\\n개발 16.7 17.5 19.7\\n여성 인력 비중\\n차세대 여성 리더 워크숍 \\nSEU 교육체계도 \\nDS University 교육체계도 \\n임금격차       영국   프랑스   브라질 \\n다양한 양성제도 제공\\n삼성전자는 계약직 포함 전 임직원에게 국내외 대학과 연계한 학술연수, \\nVisiting Researcher, 경영학 석사(MBA·EMBA) 등 다양한 외부 양성 \\n프로그램에 참여할 기회를 제공합니다. \\n기술역량 강화  현장의 기술 역량을 높이기 위해 1989년 반도체 사내 \\n기술대학으로 시작한 삼성전자공과대학교(SSIT, Samsung Institute of \\nTechnology)는 2001년 사내 대학으로서는 국내 최초로 정규 대학으로 \\n승인되었습니다. 외부 석학과 임직원으로 구성된 우수한 교수진을 통해 \\n공정, 설비, 인 프라 등 반도체와 디스플레이 분야의 정 규 학사과정을 \\n운영하고 있으며, 2025년 2월 기준 1,188명이 SSIT를 졸업했습니다. 또한 \\n사내기술대학원으로 성균관대학교 반도체디스플레이공학과와 DMC\\n1) \\n공학과를 개설해 차세대 기술 리더를 양성합니다. 2025년 2월 기준 석사 \\n942명, 박사 107명이 사내기술대학원을 졸업했습니다.\\n1) Digital Media Communication  \\n글로벌 인재 육성   글로벌화 흐름에 맞춰 1990년 도입한 ‘지역전문가’ \\n제도는 입사 3년차 이상 직원들을 대상으로 1년 동안 현지 언어와 문화를 \\n익히도록 지원하는 자율관리형 해외연수 프로그램입니다. 현재까지 이 \\n제도로 80여 개국, 3,602명의 지역전문가를 양성했습니다. 또한 2023\\n년부터 국내외 사업장의 우수 인력이 최대 2년간 상호 교환근무를 하는 \\nSTEP(Samsung Talent Exchange Program)제도를 운영하여 글로벌 \\n인재를 육성하고 있습니다.'),\n",
       " Document(id='c770927e-575a-493c-8200-63b2e4a8f31e', metadata={'total_pages': 87, 'page': 55, 'creationdate': '2025-07-10T16:11:16+09:00', 'page_label': '56', 'moddate': '2025-09-04T16:51:11+09:00', 'creator': 'Adobe InDesign 15.1 (Macintosh)', 'producer': 'Adobe PDF Library 15.0', 'source': '../data/Samsung_Electronics_Sustainability_Report_2025_KOR.pdf', 'trapped': '/False'}, page_content='삼성전자 지속가능경영보고서 2025\\n56\\n제품 안전성 확보\\n삼성전자는 제품 안전성 확보를 위해 통신 규격, 전자파 적합성(E MC, \\nElectro Magnetic Compatibility) 평가 등의 규격시험 자격을 취득한 \\n국제공인 시험소를 운영합니다. 또한 새롭게 제정되는 각 국의 규격에 \\n효과적으로 대응하기 위해 설비 투자를 확대하고 기술력을 확보합니다.\\n특히 제품 소 손 등 사고 발생 시 피 해가 확산되는 것을 방지하기 위해 \\n제품과 부품에 이중 안전 설계를 적용하며, 고객이 비정상적인 방법이나 \\n열악한 환경에서 사용하는 상황을 고려하여 안전성 검증을 실시합니다. \\n사고 발생 가능성이 높 은 큰 배터리, 전원공급장치, 충전기 등의 주요 \\n부품에 대해서는 별도의 안전성 집중 검사를 실시하고 있습니다.\\n아동 사용자의 안전한 제품 사용 지원\\n삼성전자는 아동 사용자의 안전을 위해 모바 일, 스마 트TV, 가전 등 \\n다양한 제품의 아동 보호 기능을 지원합니다. 모바일 기기 사용을 위한 \\n계정 생성 시 아동 사용자는 보호자가 설정한 기준에 따라 앱 다운로드, \\n인앱 결제, 웹 콘텐츠 사용 등이 제한됩니다. 또한 구글과의 협력을 통하여 \\n모바일 기기와 앱 사용 시간 관리 기능과 학교 일과 시간 동안 모바일 기기 \\n사용을 제한하는 스쿨타임(School Time) 기능, 보호자 승인 시에만 기기 \\n내 연락처 신규 등록이 가능한 연락처 관리 기능\\n1)\\n 을 지원합니다. \\n스마트TV 제품 사용 시 보호자가 T V 콘텐츠 시청 연령이나 등급에 \\n따라 콘텐츠 사용을 제한하거나 특정 채널, 앱에 대한 접근을 차단할 수 \\n있습니다. 특정 앱에 대한 접근을 제한하는 기능은 스마트TV뿐만 아니라 \\n스크린 화면이 탑재된 패밀리허브 냉장고 제품에서도 설정할 수 있으며, \\n접근이 제한된 콘텐츠나 앱은 보호자가 설정한 비 밀번호 입력 시에만 \\n사용 가능합니다. 2025년 6월 기준 아동 계정 서비스는 한국, 미국, 중국,'),\n",
       " Document(id='d742f46f-a272-4e6b-8960-5c6d0bb33654', metadata={'creator': 'Adobe InDesign 15.1 (Macintosh)', 'creationdate': '2025-07-10T16:11:16+09:00', 'page': 39, 'total_pages': 87, 'producer': 'Adobe PDF Library 15.0', 'page_label': '40', 'source': '../data/Samsung_Electronics_Sustainability_Report_2025_KOR.pdf', 'moddate': '2025-09-04T16:51:11+09:00', 'trapped': '/False'}, page_content='스타일에 맞춰 혜택을 받을 수 있는 선택적 복리후생 제도를 운영합니다.\\n‧ 이사회 산하 노사관계 자문그룹 설치\\n‧ 노동조합 공동교섭단과 교섭, 첫 단체 협약 체결(한국)\\n‧ 임금, 휴일 등을 포괄하는 임금협약 체결(한국)\\n‧  임금·단체협약 관련 잠정합의안 도출(한국)\\n‧  임금·단체협약 체결(한국)\\n2020\\n2021\\n2022\\n2024\\n2025\\n결사의 자유와 단체교섭 보장 성과\\n일생활 균형을 위한 제도\\n‧  생산거점 국가의 생활 임금을 산출하기 위한 BSR 협력 개시\\n‧  전 세계 20여 개 제조사업장 생산직 근로자 생활임금 격차 분석\\n‧  BSR 협업 생활임금 재산출과 미달 사업장 개선 계획 수립\\n‧  RBA 내 워킹그룹 참여와 국제기구 협업 검토\\n2018\\n2022\\n2023\\n2024\\n적절한 생활수준 보장 성과\\n자기계발을 위한 월중휴무제(국내) \\n월 필수근무를 충족할 경우, 급여일이 있는 주 금요일에 출근하지 \\n않고 자기계발과 재충전의 시간으로 활용할 수 있습니다.\\n일가정 양립을 위한 재택근무 \\n일가정의 양립을 위해 재택근무를 시행하고 있으며, 사전에 \\n계획된 일정에 맞추어 재택근무를 실시하여 업무 효율을 높이고 \\n있습니다.\\n임신·출산·육아 지원(국내) \\n삼성전자는 임직원이 임신 전체 기간 동안 근로시간 단축을 신청할 \\n수 있도록 하며, 고위험 임부에게는 임신 전체 기간 유급 근로시간 \\n단축을 제공합니다. 또한 유급 20일의 배우자 출산휴가와 유급 5\\n일의 난임휴가 제도를 운영하며, 유급 3일의 배우자 유·사산 휴가를 \\n제공하여 일가정 양립을 지원합니다. 이외에도 국내 최대 규모의 \\n어린이집을 운영하며 육아휴직 후 복직한 임직원을 대상으로 \\n리보딩 프로그램을 도입했습니다.\\n사내외 유연 근무공간(국내) \\n삼성전자의 사내외 유연 근무공간은 서울(서초사옥), 대구(ABL\\n타워), 분당(미래에셋플레이스) 등 사외 거점 오피스 3개소와 \\n디지털시티(수원), 미래기술캠퍼스(수원), 서울R&D캠퍼스(우면),'),\n",
       " Document(id='ac2521af-b4ef-4dc9-b12b-ec589b34a6c2', metadata={'source': '../data/Samsung_Electronics_Sustainability_Report_2025_KOR.pdf', 'moddate': '2025-09-04T16:51:11+09:00', 'page': 45, 'trapped': '/False', 'creator': 'Adobe InDesign 15.1 (Macintosh)', 'page_label': '46', 'producer': 'Adobe PDF Library 15.0', 'total_pages': 87, 'creationdate': '2025-07-10T16:11:16+09:00'}, page_content='정기적으로 모니터링하고 시스템으로 관리합니다.\\n하위 공급망 관리\\n지속적으로 증가하는 공급망 변동성과 불 확실성에 대응하기 위하여 삼성전자는 1 차 협력회사뿐 아니라 주요 \\n품목을 공급하는 하위 협력회사에 대한 정보 관리를 점진적으로 확대하고 있습니다. 시스템으로 주요 공급사와 \\n품목별 공급망 정보(Supply Tree)를 매핑하여 공급망 지도를 구성·운영하며, 실제 생산지 정보 등 수집한 정보를 \\n활용하여 다양한 공급망 이슈에 빠르게 대응합니다. \\n또한 하위 협력회사의 거래 기본 계약서 체결, 대금 지불 여건 개선, 노동인권 준수, 안전한 작업 환경 구축 지원 \\n등 공정한 거래문화 정착과 준법 경영 지원을 위해 협력회사 행동규범에 따라 1차 협력회사가 하위 협력회사를 \\n지원하고 관리합니다.\\n신규 협력회사 선정\\n삼성전자는 신규 협력회사 선정 시 구매, 품질, 환경안전, 노동인 권, 부 패방지, 재무현황의 6개 영 역별 사내 \\n전문가들이 서면 검토뿐만 아니라 별도의 현장 인터뷰와 설문조사를 실시하여 모 든 협력회사를 종합적으로 \\n평가합니다. 특히 채용 경로, 채용 수수료 지불, 근무시간, 기숙사 운영 방침 등을 노동인권 영역 내 필수 검토 \\n항목으로 선정하여 신규 협력회사 등록 단계부터 취약계층 근로자 보호 여부를 철저히 검증하고 있습니다. 2024년 \\nDX부문은 총 75개사, DS부문은 총 11개사를 신규 협력회사로 선정하였습니다.\\n협력회사 종합평가\\n삼성전자는 매년 전체 협력회사를 대상으로 협력회사 종합평가를 시행하여 협력회사의 역량 강화를 유도하며, \\n평가 결과는 차 년도 협력회사 운영 전략에 반영하고 있습니다. DX부문은 우 수 협력회사에 게 거래우선권 \\n인센티브를 부여하며, DS부문은 전년도 등급을 유지할 수 있는 인센티브를 제공합니다.\\n종합평가 기준에는 지속가능성이 포함되어 있습니다. 예를 들어 협력회사에서 아동근로자 채용, 강제노동 등 준법 \\n위반 사례 발생시 종합평가에 페널티를 부여하고, 이와 반대로 온실가스 감축 성과가 우수한 경우에는 가산점을'),\n",
       " Document(id='7948da81-9a52-493b-b683-9128bb38e705', metadata={'page': 5, 'page_label': '6', 'source': '../data/Samsung_Electronics_Sustainability_Report_2025_KOR.pdf', 'moddate': '2025-09-04T16:51:11+09:00', 'total_pages': 87, 'producer': 'Adobe PDF Library 15.0', 'creator': 'Adobe InDesign 15.1 (Macintosh)', 'creationdate': '2025-07-10T16:11:16+09:00', 'trapped': '/False'}, page_content='삼성전자 지속가능경영보고서 2025\\n06\\nOur Company AppendixFacts & Figures PrinciplePlanet People\\n주요 분야별 협의회 \\n환경     [DX부문] 환경안전 회의, ESG공시TF \\n[DS부문]  탄소감축위원회, 환경보전위원회,\\n재이용확대위원회 \\n사회     노동인권협의회, 개인정보보호 운영위원회, \\n보안현안협의회, 품질혁신위원회 등\\n기업 지배구조 \\nCorporate Governance\\n이사회 구성\\n삼성전자의 이사회는 주주총회에서 선임한 이사로 구성되며 회사 업무의 \\n중요사항을 결의합니다. 삼성전자는 DX, DS부문장과 주요 경영진이 \\n사내이사로 이사회에 참여하여 책임경영을 실천하고, 각 분야의 전문가인 \\n사외이사가 객관적인 시각으로 경영진을 견제하는 균형 잡힌 거버넌스 \\n체제를 마련하였습니다. 2025년 3월 말 기준 이사회는 사내이사 3인\\n(전영현, 노태문, 송재혁)과 사외이사 6인(신제윤, 김준성, 허은녕, 유명희, \\n조혜경, 이혁재)으로 구성되 어 있습니다. 이사회는 독립성과 투 명성 \\n제고를 위하여 이사회 의장을 대표이사와 분리해 신제윤 사 외이사를 \\n의장으로 선임하였습니다.\\n삼성전자는 이사 선임 시 전문분야, 성별, 국적 등의 다양성을 고려하고 \\n있습니다. 특히 사 외이사는 재 무, 법 률, IT(로 봇·AI·반도체), 리스크 \\n관리, 공공부문과 지속가능경영 분야 등에 관한 전문지 식이나 경험이 \\n풍부한 인물로 선정하며, 이를 위해 BSM(Board Skills Matrix) 을 \\n작성, 활용합니다. 또한 이사회의 성별 다양성이 균 형잡힌 의사결정 등 \\n이사회 활동에 미 치는 긍정적 영향을 고려하여 여성 사 외이사 2인을 \\n선임하였습니다.\\n지속가능경영 추진 체계\\n삼성전자의 지속가능경영 활동은 최 고 의사결정기구인 이사회가 \\n감독하고 있습니다.\\n삼성전자는 2021년 7월 지속가능경영을 추진하고 주주가치를 제고하기 \\n위해 기존의 거버넌스위원회를 확대 개편해 이사회 산하 지속가능경영')]"
      ]
     },
     "execution_count": 61,
     "metadata": {},
     "output_type": "execute_result"
    }
   ],
   "source": [
    "ret_similarity = vectorstore.as_retriever(\n",
    "    search_type=\"similarity\",\n",
    "    search_kwargs={\"k\":30}\n",
    ")\n",
    "ret_similarity.invoke(\"삼성전자\")"
   ]
  },
  {
   "cell_type": "code",
   "execution_count": 62,
   "id": "468eaad1",
   "metadata": {},
   "outputs": [],
   "source": [
    "from langchain_community.cross_encoders.huggingface import HuggingFaceCrossEncoder\n",
    "from langchain.retrievers.document_compressors import CrossEncoderReranker\n",
    "\n",
    "\n",
    "model_name = \"cross-encoder/ms-marco-MiniLM-L6-v2\"\n",
    "max_length = 512\n",
    "hf_ce = HuggingFaceCrossEncoder(\n",
    "    model_name=model_name, model_kwargs={\"device\": \"cuda\", \"max_length\": max_length}\n",
    ")\n",
    "\n",
    "reranker = CrossEncoderReranker(\n",
    "    model=hf_ce, top_n=10\n",
    ")"
   ]
  },
  {
   "cell_type": "code",
   "execution_count": 63,
   "id": "c6dec1a9",
   "metadata": {},
   "outputs": [
    {
     "data": {
      "text/plain": [
       "CrossEncoderReranker(model=HuggingFaceCrossEncoder(client=CrossEncoder(\n",
       "  (model): BertForSequenceClassification(\n",
       "    (bert): BertModel(\n",
       "      (embeddings): BertEmbeddings(\n",
       "        (word_embeddings): Embedding(30522, 384, padding_idx=0)\n",
       "        (position_embeddings): Embedding(512, 384)\n",
       "        (token_type_embeddings): Embedding(2, 384)\n",
       "        (LayerNorm): LayerNorm((384,), eps=1e-12, elementwise_affine=True)\n",
       "        (dropout): Dropout(p=0.1, inplace=False)\n",
       "      )\n",
       "      (encoder): BertEncoder(\n",
       "        (layer): ModuleList(\n",
       "          (0-5): 6 x BertLayer(\n",
       "            (attention): BertAttention(\n",
       "              (self): BertSdpaSelfAttention(\n",
       "                (query): Linear(in_features=384, out_features=384, bias=True)\n",
       "                (key): Linear(in_features=384, out_features=384, bias=True)\n",
       "                (value): Linear(in_features=384, out_features=384, bias=True)\n",
       "                (dropout): Dropout(p=0.1, inplace=False)\n",
       "              )\n",
       "              (output): BertSelfOutput(\n",
       "                (dense): Linear(in_features=384, out_features=384, bias=True)\n",
       "                (LayerNorm): LayerNorm((384,), eps=1e-12, elementwise_affine=True)\n",
       "                (dropout): Dropout(p=0.1, inplace=False)\n",
       "              )\n",
       "            )\n",
       "            (intermediate): BertIntermediate(\n",
       "              (dense): Linear(in_features=384, out_features=1536, bias=True)\n",
       "              (intermediate_act_fn): GELUActivation()\n",
       "            )\n",
       "            (output): BertOutput(\n",
       "              (dense): Linear(in_features=1536, out_features=384, bias=True)\n",
       "              (LayerNorm): LayerNorm((384,), eps=1e-12, elementwise_affine=True)\n",
       "              (dropout): Dropout(p=0.1, inplace=False)\n",
       "            )\n",
       "          )\n",
       "        )\n",
       "      )\n",
       "      (pooler): BertPooler(\n",
       "        (dense): Linear(in_features=384, out_features=384, bias=True)\n",
       "        (activation): Tanh()\n",
       "      )\n",
       "    )\n",
       "    (dropout): Dropout(p=0.1, inplace=False)\n",
       "    (classifier): Linear(in_features=384, out_features=1, bias=True)\n",
       "  )\n",
       "  (activation_fn): Identity()\n",
       "), model_name='cross-encoder/ms-marco-MiniLM-L6-v2', model_kwargs={'device': 'cuda', 'max_length': 512}), top_n=10)"
      ]
     },
     "execution_count": 63,
     "metadata": {},
     "output_type": "execute_result"
    }
   ],
   "source": [
    "reranker"
   ]
  },
  {
   "cell_type": "code",
   "execution_count": 64,
   "id": "9f5e9352",
   "metadata": {},
   "outputs": [],
   "source": [
    "from langchain.retrievers import ContextualCompressionRetriever\n",
    "com_retriever = ContextualCompressionRetriever(\n",
    "    base_compressor=reranker, base_retriever=ret_similarity\n",
    ")"
   ]
  },
  {
   "cell_type": "code",
   "execution_count": 65,
   "id": "74cb6310",
   "metadata": {},
   "outputs": [],
   "source": [
    "from langchain_community.document_transformers import LongContextReorder\n",
    "reorder = LongContextReorder()"
   ]
  },
  {
   "cell_type": "code",
   "execution_count": null,
   "id": "8d27d8a1",
   "metadata": {},
   "outputs": [],
   "source": [
    "def format_docs(docs):\n",
    "    result = []\n",
    "    for item in docs:\n",
    "        result.append(item.page_content)\n",
    "    \n",
    "    return \"\\n\\n--\\n\\n\".join(result)    "
   ]
  },
  {
   "cell_type": "code",
   "execution_count": 67,
   "id": "4d7b9b50",
   "metadata": {},
   "outputs": [],
   "source": [
    "from langchain_openai import ChatOpenAI\n",
    "rag_prompt = ChatPromptTemplate.from_messages([\n",
    "    (\"system\", \"\"\"주어진 Context만 근거로 간결하고 정확하게 답하도록 해라.\n",
    "     \n",
    "     [Context]\n",
    "     {context}\n",
    "\n",
    "     \"\"\"),\n",
    "     (\"human\", \"{question}\"),\n",
    "])\n",
    "model = ChatOpenAI(model=\"gpt-4.1-mini\", temperature=0)\n",
    "parser = StrOutputParser()"
   ]
  },
  {
   "cell_type": "code",
   "execution_count": 68,
   "id": "450e4cad",
   "metadata": {},
   "outputs": [
    {
     "data": {
      "text/plain": [
       "ChatPromptTemplate(input_variables=['context', 'question'], input_types={}, partial_variables={}, messages=[SystemMessagePromptTemplate(prompt=PromptTemplate(input_variables=['context'], input_types={}, partial_variables={}, template='주어진 Context만 근거로 간결하고 정확하게 답하도록 해라.\\n\\n     [Context]\\n     {context}\\n\\n     '), additional_kwargs={}), HumanMessagePromptTemplate(prompt=PromptTemplate(input_variables=['question'], input_types={}, partial_variables={}, template='{question}'), additional_kwargs={})])\n",
       "| ChatOpenAI(client=<openai.resources.chat.completions.completions.Completions object at 0x000002911A4E5210>, async_client=<openai.resources.chat.completions.completions.AsyncCompletions object at 0x0000029118409410>, root_client=<openai.OpenAI object at 0x00000291053A0490>, root_async_client=<openai.AsyncOpenAI object at 0x000002911A5DE8D0>, model_name='gpt-4.1-mini', temperature=0.0, model_kwargs={}, openai_api_key=SecretStr('**********'), stream_usage=True)\n",
       "| StrOutputParser()"
      ]
     },
     "execution_count": 68,
     "metadata": {},
     "output_type": "execute_result"
    }
   ],
   "source": [
    "\n",
    "chain = rag_prompt | model | parser \n",
    "chain"
   ]
  },
  {
   "cell_type": "markdown",
   "id": "dad03131",
   "metadata": {},
   "source": [
    "# 1번 방법"
   ]
  },
  {
   "cell_type": "code",
   "execution_count": null,
   "id": "b061ffd9",
   "metadata": {},
   "outputs": [],
   "source": []
  },
  {
   "cell_type": "code",
   "execution_count": null,
   "id": "23c8d2b4",
   "metadata": {},
   "outputs": [],
   "source": [
    "question = \"삼성의 미래 계획은 어떻게 되나요?\"\n",
    "# response = rag_chain.invoke({\"question\":question})"
   ]
  },
  {
   "cell_type": "markdown",
   "id": "96dfe744",
   "metadata": {},
   "source": [
    "# 2번 방법"
   ]
  },
  {
   "cell_type": "code",
   "execution_count": 82,
   "id": "346f1e08",
   "metadata": {},
   "outputs": [],
   "source": [
    "com_retriever_chain = {\n",
    "    \"context\": RunnableLambda(lambda x: x[\"question\"])\n",
    "    | com_retriever\n",
    "    | RunnableLambda(format_docs),\n",
    "    \"question\": RunnablePassthrough(),\n",
    "}"
   ]
  },
  {
   "cell_type": "code",
   "execution_count": 83,
   "id": "67d18aaf",
   "metadata": {},
   "outputs": [
    {
     "data": {
      "text/plain": [
       "'삼성전자는 인재와 기술을 바탕으로 최고의 제품과 서비스를 창출하여 인류사회에 공헌한다는 경영철학 아래 기술 리더십으로 재도약의 기반을 다지고, 새로운 영역에서 미래 성장동력을 확보해 나갈 계획입니다. 또한, 지속가능한 성장 기반 마련을 위해 이해관계자의 의견에 귀 기울이며 최선을 다할 예정입니다.'"
      ]
     },
     "execution_count": 83,
     "metadata": {},
     "output_type": "execute_result"
    }
   ],
   "source": [
    "\n",
    "rag_chain =  com_retriever_chain | chain\n",
    "\n",
    "rag_chain.invoke({\n",
    "    \"question\":\"삼성의 미래 계획은 어떻게 되나요?\"\n",
    "})"
   ]
  },
  {
   "cell_type": "markdown",
   "id": "1519d696",
   "metadata": {},
   "source": [
    "# 3번 방법"
   ]
  },
  {
   "cell_type": "code",
   "execution_count": null,
   "id": "cc95515d",
   "metadata": {},
   "outputs": [],
   "source": [
    "from operator import itemgetter\n",
    "\n",
    "retriever_chain = com_retriever | RunnableLambda(lambda docs: reorder.transform_documents(docs)) | RunnableLambda(format_docs)\n",
    "\n",
    "rag_chain = (\n",
    "    RunnablePassthrough.assign(\n",
    "        context = itemgetter(\"question\") | retriever_chain\n",
    "    )\n",
    "    | rag_prompt\n",
    "    | model \n",
    "    | parser \n",
    ")\n",
    "\n",
    "rag_chain.invoke({\n",
    "    \"question\":\"삼성의 미래 계획은 어떻게 되나요?\"\n",
    "})"
   ]
  },
  {
   "cell_type": "code",
   "execution_count": 79,
   "id": "f2934852",
   "metadata": {},
   "outputs": [],
   "source": [
    "from langchain_openai import ChatOpenAI\n",
    "rag_prompt = ChatPromptTemplate.from_messages([\n",
    "    (\"system\", \"\"\"주어진 Context만 근거로 간결하고 정확하게 답하도록 해라.\n",
    "     \n",
    "     [Context]\n",
    "     {context}\n",
    "\n",
    "     \"\"\"),\n",
    "     (\"human\", \"{pro} 스타일에 맞게 {question}에 대답해라\"),\n",
    "])\n",
    "model = ChatOpenAI(model=\"gpt-4.1-mini\", temperature=0)\n",
    "parser = StrOutputParser()"
   ]
  },
  {
   "cell_type": "code",
   "execution_count": null,
   "id": "649dda7d",
   "metadata": {},
   "outputs": [
    {
     "data": {
      "text/plain": [
       "'삼성전자는 인재와 기술을 바탕으로 최고의 제품과 서비스를 창출해 인류사회에 공헌하며, 기술 리더십으로 재도약의 기반을 다지고 새로운 영역에서 미래 성장동력을 확보할 계획입니다. 또한, 지속가능경영을 강화하고 청소년 교육, 중소기업·스타트업 지원, 환경경영 등 다양한 분야에서 사회적 가치를 창출하며 지속가능한 성장 기반을 마련할 예정입니다.'"
      ]
     },
     "execution_count": 85,
     "metadata": {},
     "output_type": "execute_result"
    }
   ],
   "source": [
    "\n",
    "rag_chain =  (\n",
    "    {\n",
    "        \"context\": com_retriever_chain,\n",
    "        \"question\" : RunnableLambda(lambda x : x['question']),\n",
    "        \"pro\" : RunnableLambda(lambda x:x['pro'])\n",
    "    } | chain\n",
    ")\n",
    "rag_chain.invoke({\n",
    "    \"question\":\"삼성의 미래 계획은 어떻게 되나요?\",\n",
    "    \"pro\":\"냥냥체\"\n",
    "})"
   ]
  },
  {
   "cell_type": "code",
   "execution_count": null,
   "id": "1a920858",
   "metadata": {},
   "outputs": [],
   "source": []
  }
 ],
 "metadata": {
  "kernelspec": {
   "display_name": "potenup_10",
   "language": "python",
   "name": "python3"
  },
  "language_info": {
   "codemirror_mode": {
    "name": "ipython",
    "version": 3
   },
   "file_extension": ".py",
   "mimetype": "text/x-python",
   "name": "python",
   "nbconvert_exporter": "python",
   "pygments_lexer": "ipython3",
   "version": "3.11.0"
  }
 },
 "nbformat": 4,
 "nbformat_minor": 5
}
