{
 "cells": [
  {
   "cell_type": "code",
   "execution_count": 1,
   "id": "156961a6",
   "metadata": {},
   "outputs": [],
   "source": [
    "from dotenv import load_dotenv\n",
    "load_dotenv()\n",
    "\n",
    "import os\n",
    "project_name = \"wanted_2nd_langchain_outputparser_basic\"\n",
    "os.environ[\"LANGSMITH_PROJECT\"] = project_name"
   ]
  },
  {
   "cell_type": "code",
   "execution_count": 7,
   "id": "1bc9b297",
   "metadata": {},
   "outputs": [],
   "source": [
    "from langchain_openai import ChatOpenAI\n",
    "from langchain_core.prompts import ChatPromptTemplate\n",
    "\n",
    "model = ChatOpenAI(\n",
    "    temperature=0.1,\n",
    "    model=\"gpt-4.1-mini\",\n",
    "    verbose=True\n",
    ")"
   ]
  },
  {
   "cell_type": "code",
   "execution_count": 9,
   "id": "a0fb8c04",
   "metadata": {},
   "outputs": [
    {
     "data": {
      "text/plain": [
       "ChatPromptTemplate(input_variables=['text'], input_types={}, partial_variables={}, messages=[HumanMessagePromptTemplate(prompt=PromptTemplate(input_variables=['text'], input_types={}, partial_variables={}, template='\\n    오직 JSON 문자열만 출력을 해라. 코드블록 금지\\n    키 : {{\"title\" : str, \"bullets\" : list[str], \"tone\" : \"neutral|postive|negative\"}}\\n    {text}\\n'), additional_kwargs={})])\n",
       "| ChatOpenAI(client=<openai.resources.chat.completions.completions.Completions object at 0x00000245FDF5B690>, async_client=<openai.resources.chat.completions.completions.AsyncCompletions object at 0x00000245FFAB83D0>, root_client=<openai.OpenAI object at 0x00000245FFA81490>, root_async_client=<openai.AsyncOpenAI object at 0x00000245FF4EFA10>, model_name='gpt-4.1-mini', temperature=0.1, model_kwargs={}, openai_api_key=SecretStr('**********'))\n",
       "| JsonOutputParser()"
      ]
     },
     "execution_count": 9,
     "metadata": {},
     "output_type": "execute_result"
    }
   ],
   "source": [
    "from langchain_core.output_parsers import JsonOutputParser\n",
    "\n",
    "json_parser = JsonOutputParser()\n",
    "\n",
    "template = \"\"\"\n",
    "    오직 JSON 문자열만 출력을 해라. 코드블록 금지\n",
    "    키 : {{\"title\" : str, \"bullets\" : list[str], \"tone\" : \"neutral|postive|negative\"}}\n",
    "    {text}\n",
    "\"\"\"\n",
    "\n",
    "\n",
    "prompt_template = ChatPromptTemplate.from_template(\n",
    "    template = template\n",
    ")\n",
    "\n",
    "chain = prompt_template | model | json_parser\n",
    "chain"
   ]
  },
  {
   "cell_type": "code",
   "execution_count": null,
   "id": "8ada3a37",
   "metadata": {},
   "outputs": [],
   "source": [
    "text = \"\"\"\n",
    "오늘 아침에 프로젝트 마감이 임박했는데도 불구하고 팀원들과의 긴밀한 협력 덕분에 무사히 작업을 완료할 수 있었습니다.\n",
    "특히 김 대리님의 자료 분석 능력이 빛을 발했고, 모두가 어려운 상황 속에서도 긍정적인 태도를 잃지 않았습니다. \n",
    "이 성과를 바탕으로 다음 프로젝트도 성공적으로 이끌어낼 수 있을 거라는 확신이 듭니다\n",
    "\"\"\"\n",
    "result = chain.invoke({\"text\" : text})"
   ]
  },
  {
   "cell_type": "code",
   "execution_count": 12,
   "id": "dd926497",
   "metadata": {},
   "outputs": [
    {
     "data": {
      "text/plain": [
       "{'title': '프로젝트 마감 성공',\n",
       " 'bullets': ['프로젝트 마감 임박 상황에서도 팀원들과 긴밀히 협력함',\n",
       "  '김 대리님의 뛰어난 자료 분석 능력 발휘',\n",
       "  '어려운 상황 속에서도 긍정적인 태도 유지',\n",
       "  '이번 성과를 바탕으로 다음 프로젝트 성공 기대'],\n",
       " 'tone': 'positive'}"
      ]
     },
     "execution_count": 12,
     "metadata": {},
     "output_type": "execute_result"
    }
   ],
   "source": [
    "result"
   ]
  },
  {
   "cell_type": "code",
   "execution_count": 13,
   "id": "48435fab",
   "metadata": {},
   "outputs": [
    {
     "name": "stdout",
     "output_type": "stream",
     "text": [
      "<class 'dict'>\n"
     ]
    }
   ],
   "source": [
    "print(type(result))"
   ]
  },
  {
   "cell_type": "code",
   "execution_count": null,
   "id": "4a6a0f57",
   "metadata": {},
   "outputs": [],
   "source": []
  }
 ],
 "metadata": {
  "kernelspec": {
   "display_name": "2025_10_LLM",
   "language": "python",
   "name": "python3"
  },
  "language_info": {
   "codemirror_mode": {
    "name": "ipython",
    "version": 3
   },
   "file_extension": ".py",
   "mimetype": "text/x-python",
   "name": "python",
   "nbconvert_exporter": "python",
   "pygments_lexer": "ipython3",
   "version": "3.11.9"
  }
 },
 "nbformat": 4,
 "nbformat_minor": 5
}
