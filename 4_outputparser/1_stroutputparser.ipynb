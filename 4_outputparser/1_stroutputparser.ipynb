{
 "cells": [
  {
   "cell_type": "code",
   "execution_count": 1,
   "id": "0a09db9b",
   "metadata": {},
   "outputs": [],
   "source": [
    "from dotenv import load_dotenv\n",
    "load_dotenv()\n",
    "\n",
    "import os\n",
    "project_name = \"wanted_2nd_langchain_outputparser_basic\"\n",
    "os.environ[\"LANGSMITH_PROJECT\"] = project_name"
   ]
  },
  {
   "cell_type": "code",
   "execution_count": 2,
   "id": "a1c8ad6d",
   "metadata": {},
   "outputs": [],
   "source": [
    "from langchain_openai import ChatOpenAI\n",
    "\n",
    "model = ChatOpenAI(\n",
    "    temperature=0.1,\n",
    "    model=\"gpt-4.1-mini\",\n",
    "    verbose=True\n",
    ")"
   ]
  },
  {
   "cell_type": "code",
   "execution_count": 3,
   "id": "cd1e850b",
   "metadata": {},
   "outputs": [
    {
     "data": {
      "text/plain": [
       "ChatPromptTemplate(input_variables=['gender', 'mbti', 'question', 'style'], input_types={}, partial_variables={}, messages=[SystemMessagePromptTemplate(prompt=PromptTemplate(input_variables=['gender', 'mbti', 'style'], input_types={}, partial_variables={}, template='당신의 MBTI 는 {mbti} 인, {style} 스타일의 {gender}야. 너의 스타일에 맞게 잘 답변해'), additional_kwargs={}), HumanMessagePromptTemplate(prompt=PromptTemplate(input_variables=[], input_types={}, partial_variables={}, template='안녕하세요'), additional_kwargs={}), AIMessagePromptTemplate(prompt=PromptTemplate(input_variables=[], input_types={}, partial_variables={}, template='안녕하세요, 연애 상담해드릴까요'), additional_kwargs={}), HumanMessagePromptTemplate(prompt=PromptTemplate(input_variables=['question'], input_types={}, partial_variables={}, template='{question} 에 대해 너의 스타일대로 답변해줘'), additional_kwargs={})])\n",
       "| ChatOpenAI(client=<openai.resources.chat.completions.completions.Completions object at 0x0000020818F8F710>, async_client=<openai.resources.chat.completions.completions.AsyncCompletions object at 0x00000208190B01D0>, root_client=<openai.OpenAI object at 0x0000020818B7AB10>, root_async_client=<openai.AsyncOpenAI object at 0x000002081908FC90>, model_name='gpt-4.1-mini', temperature=0.1, model_kwargs={}, openai_api_key=SecretStr('**********'))\n",
       "| StrOutputParser()"
      ]
     },
     "execution_count": 3,
     "metadata": {},
     "output_type": "execute_result"
    }
   ],
   "source": [
    "from langchain_core.output_parsers import StrOutputParser\n",
    "from langchain_core.prompts import ChatMessagePromptTemplate, ChatPromptTemplate\n",
    "\n",
    "chat_prompt = ChatPromptTemplate.from_messages(\n",
    "    [\n",
    "        (\"system\", \"당신의 MBTI 는 {mbti} 인, {style} 스타일의 {gender}야. 너의 스타일에 맞게 잘 답변해\"),\n",
    "        (\"human\", \"안녕하세요\"),\n",
    "        (\"ai\", \"안녕하세요, 연애 상담해드릴까요\"),\n",
    "        (\"human\", \"{question} 에 대해 너의 스타일대로 답변해줘\")\n",
    "    ]\n",
    ")\n",
    "chain = chat_prompt | model | StrOutputParser()\n",
    "chain"
   ]
  },
  {
   "cell_type": "code",
   "execution_count": 4,
   "id": "b068dd8e",
   "metadata": {},
   "outputs": [],
   "source": [
    "result = chain.invoke({\n",
    "    \"gender\" : \"여자\",\n",
    "    \"mbti\" : \"ENFP\",\n",
    "    \"question\" : \"나랑 잘맞는 MBTI 가 뭐일거 같아?\",\n",
    "    \"style\" : \"에겐\"\n",
    "})"
   ]
  },
  {
   "cell_type": "code",
   "execution_count": 6,
   "id": "b29ef26b",
   "metadata": {},
   "outputs": [
    {
     "name": "stdout",
     "output_type": "stream",
     "text": [
      "오, 이거 진짜 재밌는 질문이야! ENFP인 너랑 잘 맞는 MBTI는 보통 INFJ나 INTJ가 많이 꼽히는데, 왜냐하면 너의 활기차고 창의적인 에너지를 그들이 차분하고 깊이 있게 받아주거든. 너는 사람들과 소통하고 새로운 아이디어를 나누는 걸 좋아하니까, 상대방이 그걸 잘 이해해주고 균형을 맞춰줄 때 진짜 찰떡궁합이 되는 거지! 물론 MBTI는 참고용일 뿐이니까, 결국엔 서로의 마음과 노력, 그리고 케미가 제일 중요하다는 거 잊지 말자! 너라면 분명 멋진 인연 만날 수 있을 거야! 🌟💕\n"
     ]
    }
   ],
   "source": [
    "print(result)"
   ]
  },
  {
   "cell_type": "code",
   "execution_count": null,
   "id": "6ae38e45",
   "metadata": {},
   "outputs": [],
   "source": []
  }
 ],
 "metadata": {
  "kernelspec": {
   "display_name": "2025_10_LLM",
   "language": "python",
   "name": "python3"
  },
  "language_info": {
   "codemirror_mode": {
    "name": "ipython",
    "version": 3
   },
   "file_extension": ".py",
   "mimetype": "text/x-python",
   "name": "python",
   "nbconvert_exporter": "python",
   "pygments_lexer": "ipython3",
   "version": "3.11.9"
  }
 },
 "nbformat": 4,
 "nbformat_minor": 5
}
