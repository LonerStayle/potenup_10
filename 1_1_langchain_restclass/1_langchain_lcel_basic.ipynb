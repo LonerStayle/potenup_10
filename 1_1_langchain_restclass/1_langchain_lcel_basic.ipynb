{
 "cells": [
  {
   "cell_type": "code",
   "execution_count": 2,
   "id": "5babb9c3",
   "metadata": {},
   "outputs": [
    {
     "data": {
      "text/plain": [
       "True"
      ]
     },
     "execution_count": 2,
     "metadata": {},
     "output_type": "execute_result"
    }
   ],
   "source": [
    "from dotenv import load_dotenv\n",
    "load_dotenv() \n"
   ]
  },
  {
   "cell_type": "code",
   "execution_count": 3,
   "id": "ab6b654e",
   "metadata": {},
   "outputs": [
    {
     "name": "stderr",
     "output_type": "stream",
     "text": [
      "c:\\PythonProject\\potenup_10\\.venv\\Lib\\site-packages\\tqdm\\auto.py:21: TqdmWarning: IProgress not found. Please update jupyter and ipywidgets. See https://ipywidgets.readthedocs.io/en/stable/user_install.html\n",
      "  from .autonotebook import tqdm as notebook_tqdm\n"
     ]
    }
   ],
   "source": [
    "from langchain_openai import ChatOpenAI\n",
    "\n",
    "model = ChatOpenAI(model=\"gpt-4.1-mini\", temperature=0)"
   ]
  },
  {
   "cell_type": "code",
   "execution_count": 4,
   "id": "78dbbebd",
   "metadata": {},
   "outputs": [],
   "source": [
    "from datetime import datetime\n",
    "query = \"오늘 날씨가 어때?\"\n",
    "now = datetime.now()\n",
    "today = now.strftime('%Y년%m월%d일')"
   ]
  },
  {
   "cell_type": "code",
   "execution_count": 5,
   "id": "7ff2d2d0",
   "metadata": {},
   "outputs": [
    {
     "data": {
      "text/plain": [
       "AIMessage(content='죄송하지만 현재 위치나 실시간 날씨 정보를 확인할 수 있는 기능이 없습니다. 오늘 날씨를 알고 싶으시면, 스마트폰의 날씨 앱이나 인터넷 날씨 서비스를 이용해 보세요! 도움이 필요하시면 언제든 말씀해 주세요.', additional_kwargs={'refusal': None}, response_metadata={'token_usage': {'completion_tokens': 54, 'prompt_tokens': 14, 'total_tokens': 68, 'completion_tokens_details': {'accepted_prediction_tokens': 0, 'audio_tokens': 0, 'reasoning_tokens': 0, 'rejected_prediction_tokens': 0}, 'prompt_tokens_details': {'audio_tokens': 0, 'cached_tokens': 0}}, 'model_name': 'gpt-4.1-mini-2025-04-14', 'system_fingerprint': 'fp_c064fdde7c', 'id': 'chatcmpl-CQrCFXvJCSGZQ0iktjTK5ckbmGXcj', 'service_tier': 'default', 'finish_reason': 'stop', 'logprobs': None}, id='run--a6ca6a2c-b48c-4ca2-bc34-14197c032004-0', usage_metadata={'input_tokens': 14, 'output_tokens': 54, 'total_tokens': 68, 'input_token_details': {'audio': 0, 'cache_read': 0}, 'output_token_details': {'audio': 0, 'reasoning': 0}})"
      ]
     },
     "execution_count": 5,
     "metadata": {},
     "output_type": "execute_result"
    }
   ],
   "source": [
    "model.invoke(query)"
   ]
  },
  {
   "cell_type": "code",
   "execution_count": 6,
   "id": "0bca1604",
   "metadata": {},
   "outputs": [
    {
     "name": "stdout",
     "output_type": "stream",
     "text": [
      "접속할 최종 URL: https://server.smithery.ai/@sunhye/mcp-korea-weather/mcp?api_key=6bf43259-dc31-4143-a477-2dd5433e8adb&profile=usual-reindeer-MZSQQr\n"
     ]
    }
   ],
   "source": [
    "import nest_asyncio\n",
    "import os \n",
    "from langchain_mcp_adapters.client import MultiServerMCPClient\n",
    "from urllib.parse import urlencode\n",
    "nest_asyncio.apply()\n",
    "\n",
    "\n",
    "MCP_KEY = os.getenv(\"MCP_KEY\")\n",
    "if not MCP_KEY:\n",
    "    print(\"경고: MCP_KEY 환경 변수가 설정되지 않았습니다. MCP 호출이 실패할 수 있습니다.\")\n",
    "\n",
    "# 3. 클라이언트 초기화 및 전역 변수 설정 함수\n",
    "\n",
    "base_url = \"https://server.smithery.ai/@sunhye/mcp-korea-weather/mcp\"\n",
    "params = {\n",
    "    \"api_key\": MCP_KEY, # 환경 변수에서 불러온 키 사용\n",
    "    \"profile\": \"usual-reindeer-MZSQQr\" # 예시에 있던 프로필 값 (필요시 변경)\n",
    "}\n",
    "final_url = f\"{base_url}?{urlencode(params)}\"\n",
    "print(f\"접속할 최종 URL: {final_url}\")\n",
    "client = MultiServerMCPClient(\n",
    "    {\n",
    "        \"weather\": {\n",
    "            # 4. 새로 만든 최종 URL을 사용합니다.\n",
    "            \"url\": final_url,\n",
    "            \"transport\": \"streamable_http\",\n",
    "        }\n",
    "    }\n",
    ")\n"
   ]
  },
  {
   "cell_type": "code",
   "execution_count": 10,
   "id": "8674d3a2",
   "metadata": {},
   "outputs": [
    {
     "name": "stdout",
     "output_type": "stream",
     "text": [
      "(37.5665, 126.9780) nx=60, ny=127 / 기준 20251015 1730\n",
      "20251015-1800 → 21°C 흐림 없음 강수확률\n",
      "20251015-1900 → 20°C 흐림 없음 강수확률\n",
      "20251015-2000 → 19°C 흐림 강수확률\n"
     ]
    }
   ],
   "source": [
    "# nest_asyncio.apply()\n",
    "# 사용 가능한 도구 목록을 비동기적으로 가져옵니다.\n",
    "tools = await client.get_tools()\n",
    "\n",
    "# 첫 번째 도구를 비동기적으로 실행하고 결과를 기다립니다.\n",
    "# 입력값은 딕셔너리 형태로 정확하게 전달합니다.\n",
    "\n",
    "# 서울의 위도 경도\n",
    "seoul_latitude = \"37.5665\"\n",
    "seoul_longitude = \"126.9780\"\n",
    "result = await tools[1].ainvoke(\n",
    "    {\n",
    "        \"location\": f\"\"\"오늘 날짜:{today} \n",
    "                                             질문:{query}\"\"\",\n",
    "        \"latitude\": seoul_latitude,\n",
    "        \"longitude\": seoul_longitude,\n",
    "    }\n",
    ")\n",
    "\n",
    "# 최종 결과를 확인합니다.\n",
    "print(result)"
   ]
  },
  {
   "cell_type": "code",
   "execution_count": null,
   "id": "a3c43c77",
   "metadata": {},
   "outputs": [],
   "source": [
    "# 5. MCP 클라이언트를 사용하여 실제 요청을 보내는 비동기 함수 정의\n",
    "async def get_real_weather_async(query: str):\n",
    "    global client\n",
    "    \n",
    "    try:\n",
    "        # 실제 MCP 호출 및 결과 반환\n",
    "        result = await client.get_tools()\n",
    "        print(\"[MCP 응답] 데이터 수신 완료.\")\n",
    "        return result\n",
    "    except Exception as e:\n",
    "        print(f\"[MCP 오류] 요청 실패: {e}\")\n",
    "        return {\"error\": f\"MCP 호출 중 오류 발생: {e}\"}"
   ]
  },
  {
   "cell_type": "code",
   "execution_count": null,
   "id": "e4314fe5",
   "metadata": {},
   "outputs": [],
   "source": []
  },
  {
   "cell_type": "code",
   "execution_count": null,
   "id": "d06c872a",
   "metadata": {},
   "outputs": [],
   "source": [
    "import asyncio\n",
    "asyncio.run(get_real_weather_async(query))"
   ]
  },
  {
   "cell_type": "code",
   "execution_count": null,
   "id": "ad309fec",
   "metadata": {},
   "outputs": [],
   "source": [
    "from datetime import datetime\n",
    "\n",
    "model.invoke(f\"\"\"\n",
    "\n",
    "[역할]\n",
    "당신은 서울 날씨를 알려주는 봇 입니다.\n",
    "오늘 날짜: {today} \n",
    "\n",
    "[목표]\n",
    "오늘 날짜를 기반으로 서울 날씨를 상세하게 알려주세요\n",
    "\n",
    "[제약 조건]\n",
    "- 당일날 새벽의 날씨는 빼주세요 오전 ~ 밤 사이의 날씨이어야 합니다.\n",
    "- **절대 정보를 지어내지 마세요.**\n",
    "\n",
    "[출력 형식]\n",
    "- 비, 눈, 맑음 등 확실한 상태를 알려주세요\n",
    "- 오늘의 온도를 아침, 점심, 저녁으로 모두 파악해주세요.\n",
    "\n",
    "질문: 오늘 날씨가 어때?\n",
    "\"\"\")\n"
   ]
  },
  {
   "cell_type": "code",
   "execution_count": null,
   "id": "4f1ee03d",
   "metadata": {},
   "outputs": [],
   "source": []
  }
 ],
 "metadata": {
  "kernelspec": {
   "display_name": "potenup_10",
   "language": "python",
   "name": "python3"
  },
  "language_info": {
   "codemirror_mode": {
    "name": "ipython",
    "version": 3
   },
   "file_extension": ".py",
   "mimetype": "text/x-python",
   "name": "python",
   "nbconvert_exporter": "python",
   "pygments_lexer": "ipython3",
   "version": "3.11.0"
  }
 },
 "nbformat": 4,
 "nbformat_minor": 5
}
