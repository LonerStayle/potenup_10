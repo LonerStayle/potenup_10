{
 "cells": [
  {
   "cell_type": "code",
   "execution_count": 1,
   "id": "0974769e",
   "metadata": {},
   "outputs": [
    {
     "data": {
      "text/plain": [
       "True"
      ]
     },
     "execution_count": 1,
     "metadata": {},
     "output_type": "execute_result"
    }
   ],
   "source": [
    "from dotenv import load_dotenv\n",
    "load_dotenv()"
   ]
  },
  {
   "cell_type": "code",
   "execution_count": 2,
   "id": "5cb3224a",
   "metadata": {},
   "outputs": [],
   "source": [
    "# 출력 예쁘게 하기\n",
    "from rich.console import Console\n",
    "from rich.table import Table\n",
    "\n",
    "console = Console()\n",
    "\n",
    "def rich_docs(docs, max_len=140, title=\"Retriever Results\"):\n",
    "    table = Table(title=title)\n",
    "    table.add_column(\"#\", justify=\"right\")\n",
    "    table.add_column(\"Source\")\n",
    "    table.add_column(\"Page\", justify=\"right\")\n",
    "    table.add_column(\"Preview\")\n",
    "\n",
    "    for i, d in enumerate(docs, 1):\n",
    "        m = d.metadata or {}\n",
    "        src = (m.get(\"source\",\"\") or \"\").split(\"/\")[-1]\n",
    "        page = str(m.get(\"page_label\", m.get(\"page\",0)+1))\n",
    "        text = (d.page_content or \"\").strip().replace(\"\\n\", \" \")\n",
    "        table.add_row(str(i), src, page, (text[:max_len] + (\"…\" if len(text) > max_len else \"\")))\n",
    "\n",
    "    console.print(table)"
   ]
  },
  {
   "cell_type": "markdown",
   "id": "fd4eacec",
   "metadata": {},
   "source": [
    "### retriever 설정값\n",
    "- 일반 RAG 기본값 : similarity or mmr \n",
    "- 중복이 많을 경우 : mmr \n",
    "- 그 외 필터링이 필요한 경우 : search_kwargs 에 다양한 옵션값을 넣어주면 됩니다."
   ]
  },
  {
   "cell_type": "markdown",
   "id": "008aefd9",
   "metadata": {},
   "source": [
    "### advanced_retriever \n",
    "- 길이가 길 경우 : compressed_retriever -> 필요할 때 Parent-child \n",
    "- 용어가 중요할 경우 : hybrid(vec + bm25)\n",
    "- 정확도 극대화 : similarity -> reranker -> reorder \n"
   ]
  },
  {
   "cell_type": "code",
   "execution_count": 3,
   "id": "7c4edf48",
   "metadata": {},
   "outputs": [
    {
     "name": "stderr",
     "output_type": "stream",
     "text": [
      "c:\\PythonProject\\potenup_10\\.venv\\Lib\\site-packages\\tqdm\\auto.py:21: TqdmWarning: IProgress not found. Please update jupyter and ipywidgets. See https://ipywidgets.readthedocs.io/en/stable/user_install.html\n",
      "  from .autonotebook import tqdm as notebook_tqdm\n"
     ]
    }
   ],
   "source": [
    "from langchain_openai import OpenAIEmbeddings, ChatOpenAI\n",
    "from langchain_chroma import Chroma "
   ]
  },
  {
   "cell_type": "code",
   "execution_count": 4,
   "id": "b0c13b58",
   "metadata": {},
   "outputs": [
    {
     "data": {
      "text/plain": [
       "946"
      ]
     },
     "execution_count": 4,
     "metadata": {},
     "output_type": "execute_result"
    }
   ],
   "source": [
    "emd = OpenAIEmbeddings(model=\"text-embedding-3-small\")\n",
    "db_path = r\"C:\\PythonProject\\potenup_10\\7_vectorstore\\chroma_store\"\n",
    "col_name = \"samsung_all\"\n",
    "vecstore = Chroma(\n",
    "    embedding_function=emd,\n",
    "    collection_name=col_name,\n",
    "    persist_directory=db_path,\n",
    ")\n",
    "\n",
    "vecstore._collection.count()"
   ]
  },
  {
   "cell_type": "code",
   "execution_count": 5,
   "id": "7c2a753a",
   "metadata": {},
   "outputs": [
    {
     "name": "stdout",
     "output_type": "stream",
     "text": [
      "1536\n"
     ]
    }
   ],
   "source": [
    "dim_size = emd.embed_query(\"안녕하세요\")\n",
    "print(len(dim_size))"
   ]
  },
  {
   "cell_type": "code",
   "execution_count": 6,
   "id": "3eaf31e6",
   "metadata": {},
   "outputs": [
    {
     "data": {
      "text/html": [
       "<pre style=\"white-space:pre;overflow-x:auto;line-height:normal;font-family:Menlo,'DejaVu Sans Mono',consolas,'Courier New',monospace\"><span style=\"font-style: italic\">                                                 Retriever Results                                                 </span>\n",
       "┏━━━┳━━━━━━━━━━━━━━━━━━━━━━━━━━━━━━━━━━━━━━━━━━━━━━━━━━┳━━━━━━┳━━━━━━━━━━━━━━━━━━━━━━━━━━━━━━━━━━━━━━━━━━━━━━━━━━━┓\n",
       "┃<span style=\"font-weight: bold\"> # </span>┃<span style=\"font-weight: bold\"> Source                                           </span>┃<span style=\"font-weight: bold\"> Page </span>┃<span style=\"font-weight: bold\"> Preview                                           </span>┃\n",
       "┡━━━╇━━━━━━━━━━━━━━━━━━━━━━━━━━━━━━━━━━━━━━━━━━━━━━━━━━╇━━━━━━╇━━━━━━━━━━━━━━━━━━━━━━━━━━━━━━━━━━━━━━━━━━━━━━━━━━━┩\n",
       "│ 1 │ Sustainability_report_2024_kr.pdf                │   82 │ 보고 주기 매년(지난해 보고서 발간 시기 : 2023년   │\n",
       "│   │                                                  │      │ 6월) 보고서 인증 보고서 작성 프 로세스와 게재된   │\n",
       "│   │                                                  │      │ 정보에 대한 신뢰  확보를 위해 독립된  인증 기관 … │\n",
       "│   │                                                  │      │ 안진회계법인이 제3자 검증을 수행했습니다.         │\n",
       "│   │                                                  │      │ 검증기준은  ISAE3000을 적용했습니다. 관…          │\n",
       "│ 2 │ Sustainability_report_2024_kr.pdf                │   82 │ 보고 주기 매년(지난해 보고서 발간 시기 : 2023년   │\n",
       "│   │                                                  │      │ 6월) 보고서 인증 보고서 작성 프 로세스와 게재된   │\n",
       "│   │                                                  │      │ 정보에 대한 신뢰  확보를 위해 독립된  인증 기관 … │\n",
       "│   │                                                  │      │ 안진회계법인이 제3자 검증을 수행했습니다.         │\n",
       "│   │                                                  │      │ 검증기준은  ISAE3000을 적용했습니다. 관…          │\n",
       "│ 3 │ Samsung_Electronics_Sustainability_Report_2025_… │   86 │ 삼성전자 지속가능경영보고서 2025 86               │\n",
       "│   │                                                  │      │ 삼성전자주식회사는 경제·사회·환경적 가치 창출     │\n",
       "│   │                                                  │      │ 성과를 다양한 이해관계자와 투명하게 소통하기 위 … │\n",
       "│   │                                                  │      │ 2025년 열여덟 번째 지속가능경영보고서를           │\n",
       "│   │                                                  │      │ 발간합니다. 작성 기준 본 보고서는 지속가능경영    │\n",
       "│   │                                                  │      │ 보고 기준인 GRI(G…                                │\n",
       "│ 4 │ Samsung_Electronics_Sustainability_Report_2025_… │   86 │ 삼성전자 지속가능경영보고서 2025 86               │\n",
       "│   │                                                  │      │ 삼성전자주식회사는 경제·사회·환경적 가치 창출     │\n",
       "│   │                                                  │      │ 성과를 다양한 이해관계자와 투명하게 소통하기 위 … │\n",
       "│   │                                                  │      │ 2025년 열여덟 번째 지속가능경영보고서를           │\n",
       "│   │                                                  │      │ 발간합니다. 작성 기준 본 보고서는 지속가능경영    │\n",
       "│   │                                                  │      │ 보고 기준인 GRI(G…                                │\n",
       "│ 5 │ Samsung_Electronics_Sustainability_Report_2025_… │    1 │ 삼성전자 지속가능경영보고서 2025 A Journey        │\n",
       "│   │                                                  │      │ Towards   a Sustainable Future A Journey  Towards │\n",
       "│   │                                                  │      │ a Sustainable Future                              │\n",
       "└───┴──────────────────────────────────────────────────┴──────┴───────────────────────────────────────────────────┘\n",
       "</pre>\n"
      ],
      "text/plain": [
       "\u001b[3m                                                 Retriever Results                                                 \u001b[0m\n",
       "┏━━━┳━━━━━━━━━━━━━━━━━━━━━━━━━━━━━━━━━━━━━━━━━━━━━━━━━━┳━━━━━━┳━━━━━━━━━━━━━━━━━━━━━━━━━━━━━━━━━━━━━━━━━━━━━━━━━━━┓\n",
       "┃\u001b[1m \u001b[0m\u001b[1m#\u001b[0m\u001b[1m \u001b[0m┃\u001b[1m \u001b[0m\u001b[1mSource                                          \u001b[0m\u001b[1m \u001b[0m┃\u001b[1m \u001b[0m\u001b[1mPage\u001b[0m\u001b[1m \u001b[0m┃\u001b[1m \u001b[0m\u001b[1mPreview                                          \u001b[0m\u001b[1m \u001b[0m┃\n",
       "┡━━━╇━━━━━━━━━━━━━━━━━━━━━━━━━━━━━━━━━━━━━━━━━━━━━━━━━━╇━━━━━━╇━━━━━━━━━━━━━━━━━━━━━━━━━━━━━━━━━━━━━━━━━━━━━━━━━━━┩\n",
       "│ 1 │ Sustainability_report_2024_kr.pdf                │   82 │ 보고 주기 매년(지난해 보고서 발간 시기 : 2023년   │\n",
       "│   │                                                  │      │ 6월) 보고서 인증 보고서 작성 프 로세스와 게재된   │\n",
       "│   │                                                  │      │ 정보에 대한 신뢰  확보를 위해 독립된  인증 기관 … │\n",
       "│   │                                                  │      │ 안진회계법인이 제3자 검증을 수행했습니다.         │\n",
       "│   │                                                  │      │ 검증기준은  ISAE3000을 적용했습니다. 관…          │\n",
       "│ 2 │ Sustainability_report_2024_kr.pdf                │   82 │ 보고 주기 매년(지난해 보고서 발간 시기 : 2023년   │\n",
       "│   │                                                  │      │ 6월) 보고서 인증 보고서 작성 프 로세스와 게재된   │\n",
       "│   │                                                  │      │ 정보에 대한 신뢰  확보를 위해 독립된  인증 기관 … │\n",
       "│   │                                                  │      │ 안진회계법인이 제3자 검증을 수행했습니다.         │\n",
       "│   │                                                  │      │ 검증기준은  ISAE3000을 적용했습니다. 관…          │\n",
       "│ 3 │ Samsung_Electronics_Sustainability_Report_2025_… │   86 │ 삼성전자 지속가능경영보고서 2025 86               │\n",
       "│   │                                                  │      │ 삼성전자주식회사는 경제·사회·환경적 가치 창출     │\n",
       "│   │                                                  │      │ 성과를 다양한 이해관계자와 투명하게 소통하기 위 … │\n",
       "│   │                                                  │      │ 2025년 열여덟 번째 지속가능경영보고서를           │\n",
       "│   │                                                  │      │ 발간합니다. 작성 기준 본 보고서는 지속가능경영    │\n",
       "│   │                                                  │      │ 보고 기준인 GRI(G…                                │\n",
       "│ 4 │ Samsung_Electronics_Sustainability_Report_2025_… │   86 │ 삼성전자 지속가능경영보고서 2025 86               │\n",
       "│   │                                                  │      │ 삼성전자주식회사는 경제·사회·환경적 가치 창출     │\n",
       "│   │                                                  │      │ 성과를 다양한 이해관계자와 투명하게 소통하기 위 … │\n",
       "│   │                                                  │      │ 2025년 열여덟 번째 지속가능경영보고서를           │\n",
       "│   │                                                  │      │ 발간합니다. 작성 기준 본 보고서는 지속가능경영    │\n",
       "│   │                                                  │      │ 보고 기준인 GRI(G…                                │\n",
       "│ 5 │ Samsung_Electronics_Sustainability_Report_2025_… │    1 │ 삼성전자 지속가능경영보고서 2025 A Journey        │\n",
       "│   │                                                  │      │ Towards   a Sustainable Future A Journey  Towards │\n",
       "│   │                                                  │      │ a Sustainable Future                              │\n",
       "└───┴──────────────────────────────────────────────────┴──────┴───────────────────────────────────────────────────┘\n"
      ]
     },
     "metadata": {},
     "output_type": "display_data"
    }
   ],
   "source": [
    "question = \"삼성의 지속 가능성에 대해 알려줘\"\n",
    "# 1. 유사도 기반\n",
    "ret_sim = vecstore.as_retriever(\n",
    "    search_type = \"similarity\",\n",
    "    search_kwargs = {\"k\" : 5}\n",
    ")\n",
    "result = ret_sim.invoke(question)\n",
    "rich_docs(result)"
   ]
  },
  {
   "cell_type": "code",
   "execution_count": 7,
   "id": "59ec24cf",
   "metadata": {},
   "outputs": [
    {
     "data": {
      "text/html": [
       "<pre style=\"white-space:pre;overflow-x:auto;line-height:normal;font-family:Menlo,'DejaVu Sans Mono',consolas,'Courier New',monospace\"><span style=\"font-style: italic\">                                                 Retriever Results                                                 </span>\n",
       "┏━━━┳━━━━━━━━━━━━━━━━━━━━━━━━━━━━━━━━━━━━━━━━━━━━━━━━━━┳━━━━━━┳━━━━━━━━━━━━━━━━━━━━━━━━━━━━━━━━━━━━━━━━━━━━━━━━━━━┓\n",
       "┃<span style=\"font-weight: bold\"> # </span>┃<span style=\"font-weight: bold\"> Source                                           </span>┃<span style=\"font-weight: bold\"> Page </span>┃<span style=\"font-weight: bold\"> Preview                                           </span>┃\n",
       "┡━━━╇━━━━━━━━━━━━━━━━━━━━━━━━━━━━━━━━━━━━━━━━━━━━━━━━━━╇━━━━━━╇━━━━━━━━━━━━━━━━━━━━━━━━━━━━━━━━━━━━━━━━━━━━━━━━━━━┩\n",
       "│ 1 │ Sustainability_report_2024_kr.pdf                │   82 │ 보고 주기 매년(지난해 보고서 발간 시기 : 2023년   │\n",
       "│   │                                                  │      │ 6월) 보고서 인증 보고서 작성 프 로세스와 게재된   │\n",
       "│   │                                                  │      │ 정보에 대한 신뢰  확보를 위해 독립된  인증 기관 … │\n",
       "│   │                                                  │      │ 안진회계법인이 제3자 검증을 수행했습니다.         │\n",
       "│   │                                                  │      │ 검증기준은  ISAE3000을 적용했습니다. 관…          │\n",
       "│ 2 │ Samsung_Electronics_Sustainability_Report_2025_… │    1 │ 삼성전자 지속가능경영보고서 2025 A Journey        │\n",
       "│   │                                                  │      │ Towards   a Sustainable Future A Journey  Towards │\n",
       "│   │                                                  │      │ a Sustainable Future                              │\n",
       "│ 3 │ Sustainability_report_2024_kr.pdf                │   30 │ 삼성전자 지속가능경영보고서 2024 30Our Company    │\n",
       "│   │                                                  │      │ AppendixMateriality Assessment Facts &amp; Figures    │\n",
       "│   │                                                  │      │ PrinciplePlanet People 사회적 책임을 다하며       │\n",
       "│   │                                                  │      │ 미래로 함께 나아갑니다. People 31 …               │\n",
       "│ 4 │ Sustainability_report_2024_kr.pdf                │    4 │ 삼성전자 지속가능경영보고서 2024 04 Our Company   │\n",
       "│   │                                                  │      │ AppendixMateriality Assessment Facts &amp; Figures    │\n",
       "│   │                                                  │      │ PrinciplePlanet People CEO 메시지 Message from    │\n",
       "│   │                                                  │      │ Our CEO 주주, 고…                                 │\n",
       "│ 5 │ Samsung_Electronics_Sustainability_Report_2025_… │   46 │ 삼성전자 지속가능경영보고서 2025 46 주요 평가     │\n",
       "│   │                                                  │      │ 항목 책임있는 구매관행 거래 기본 계약서 체결      │\n",
       "│   │                                                  │      │ 삼성전자는 협력회사와의 거래 기본 계약서에        │\n",
       "│   │                                                  │      │ 온실가스 관리를 포함한 협력회사 행동규범 준수     │\n",
       "│   │                                                  │      │ 의무를 명시함으로써  협력회사 지속가능경영 기반   │\n",
       "│   │                                                  │      │ 강화를 위해 노…                                   │\n",
       "└───┴──────────────────────────────────────────────────┴──────┴───────────────────────────────────────────────────┘\n",
       "</pre>\n"
      ],
      "text/plain": [
       "\u001b[3m                                                 Retriever Results                                                 \u001b[0m\n",
       "┏━━━┳━━━━━━━━━━━━━━━━━━━━━━━━━━━━━━━━━━━━━━━━━━━━━━━━━━┳━━━━━━┳━━━━━━━━━━━━━━━━━━━━━━━━━━━━━━━━━━━━━━━━━━━━━━━━━━━┓\n",
       "┃\u001b[1m \u001b[0m\u001b[1m#\u001b[0m\u001b[1m \u001b[0m┃\u001b[1m \u001b[0m\u001b[1mSource                                          \u001b[0m\u001b[1m \u001b[0m┃\u001b[1m \u001b[0m\u001b[1mPage\u001b[0m\u001b[1m \u001b[0m┃\u001b[1m \u001b[0m\u001b[1mPreview                                          \u001b[0m\u001b[1m \u001b[0m┃\n",
       "┡━━━╇━━━━━━━━━━━━━━━━━━━━━━━━━━━━━━━━━━━━━━━━━━━━━━━━━━╇━━━━━━╇━━━━━━━━━━━━━━━━━━━━━━━━━━━━━━━━━━━━━━━━━━━━━━━━━━━┩\n",
       "│ 1 │ Sustainability_report_2024_kr.pdf                │   82 │ 보고 주기 매년(지난해 보고서 발간 시기 : 2023년   │\n",
       "│   │                                                  │      │ 6월) 보고서 인증 보고서 작성 프 로세스와 게재된   │\n",
       "│   │                                                  │      │ 정보에 대한 신뢰  확보를 위해 독립된  인증 기관 … │\n",
       "│   │                                                  │      │ 안진회계법인이 제3자 검증을 수행했습니다.         │\n",
       "│   │                                                  │      │ 검증기준은  ISAE3000을 적용했습니다. 관…          │\n",
       "│ 2 │ Samsung_Electronics_Sustainability_Report_2025_… │    1 │ 삼성전자 지속가능경영보고서 2025 A Journey        │\n",
       "│   │                                                  │      │ Towards   a Sustainable Future A Journey  Towards │\n",
       "│   │                                                  │      │ a Sustainable Future                              │\n",
       "│ 3 │ Sustainability_report_2024_kr.pdf                │   30 │ 삼성전자 지속가능경영보고서 2024 30Our Company    │\n",
       "│   │                                                  │      │ AppendixMateriality Assessment Facts & Figures    │\n",
       "│   │                                                  │      │ PrinciplePlanet People 사회적 책임을 다하며       │\n",
       "│   │                                                  │      │ 미래로 함께 나아갑니다. People 31 …               │\n",
       "│ 4 │ Sustainability_report_2024_kr.pdf                │    4 │ 삼성전자 지속가능경영보고서 2024 04 Our Company   │\n",
       "│   │                                                  │      │ AppendixMateriality Assessment Facts & Figures    │\n",
       "│   │                                                  │      │ PrinciplePlanet People CEO 메시지 Message from    │\n",
       "│   │                                                  │      │ Our CEO 주주, 고…                                 │\n",
       "│ 5 │ Samsung_Electronics_Sustainability_Report_2025_… │   46 │ 삼성전자 지속가능경영보고서 2025 46 주요 평가     │\n",
       "│   │                                                  │      │ 항목 책임있는 구매관행 거래 기본 계약서 체결      │\n",
       "│   │                                                  │      │ 삼성전자는 협력회사와의 거래 기본 계약서에        │\n",
       "│   │                                                  │      │ 온실가스 관리를 포함한 협력회사 행동규범 준수     │\n",
       "│   │                                                  │      │ 의무를 명시함으로써  협력회사 지속가능경영 기반   │\n",
       "│   │                                                  │      │ 강화를 위해 노…                                   │\n",
       "└───┴──────────────────────────────────────────────────┴──────┴───────────────────────────────────────────────────┘\n"
      ]
     },
     "metadata": {},
     "output_type": "display_data"
    }
   ],
   "source": [
    "ret_mmr = vecstore.as_retriever(\n",
    "    search_type = \"mmr\",\n",
    "    search_kwargs = {\"k\" : 5,\n",
    "                     \"fetch_k\" : 20,\n",
    "                     \"lambda_mult\" : 0.5\n",
    "                     }\n",
    ")\n",
    "\n",
    "result = ret_mmr.invoke(question)\n",
    "rich_docs(result)"
   ]
  },
  {
   "cell_type": "code",
   "execution_count": 8,
   "id": "988aa7f2",
   "metadata": {},
   "outputs": [
    {
     "data": {
      "text/html": [
       "<pre style=\"white-space:pre;overflow-x:auto;line-height:normal;font-family:Menlo,'DejaVu Sans Mono',consolas,'Courier New',monospace\"><span style=\"font-style: italic\">                                                   score로 확인                                                    </span>\n",
       "┏━━━┳━━━━━━━━━━━━━━━━━━━━━━━━━━━━━━━━━━━┳━━━━━━┳━━━━━━━━━━━━━━━━━━━━━━━━━━━━━━━━━━━━━━━━━━━━━━━━━━━━━━━━━━━━━━━━━━┓\n",
       "┃<span style=\"font-weight: bold\"> # </span>┃<span style=\"font-weight: bold\"> Source                            </span>┃<span style=\"font-weight: bold\"> Page </span>┃<span style=\"font-weight: bold\"> Preview                                                          </span>┃\n",
       "┡━━━╇━━━━━━━━━━━━━━━━━━━━━━━━━━━━━━━━━━━╇━━━━━━╇━━━━━━━━━━━━━━━━━━━━━━━━━━━━━━━━━━━━━━━━━━━━━━━━━━━━━━━━━━━━━━━━━━┩\n",
       "│ 1 │ Sustainability_report_2024_kr.pdf │   82 │ 보고 주기 매년(지난해 보고서 발간 시기 : 2023년 6월) 보고서 인 … │\n",
       "│   │                                   │      │ 보고서 작성 프 로세스와 게재된 정보에 대한 신뢰  확보를 위해     │\n",
       "│   │                                   │      │ 독립된  인증 기관인 안진회계법인이 제3자 검증을 수행했습니다.    │\n",
       "│   │                                   │      │ 검증기준은  ISAE3000을 적용했습니다. 관…                         │\n",
       "│ 2 │ Sustainability_report_2024_kr.pdf │   82 │ 보고 주기 매년(지난해 보고서 발간 시기 : 2023년 6월) 보고서 인 … │\n",
       "│   │                                   │      │ 보고서 작성 프 로세스와 게재된 정보에 대한 신뢰  확보를 위해     │\n",
       "│   │                                   │      │ 독립된  인증 기관인 안진회계법인이 제3자 검증을 수행했습니다.    │\n",
       "│   │                                   │      │ 검증기준은  ISAE3000을 적용했습니다. 관…                         │\n",
       "│ 3 │ Sustainability_report_2024_kr.pdf │   55 │ 삼성전자 지속가능경영보고서 2024 55Our Company                   │\n",
       "│   │                                   │      │ AppendixMateriality Assessment Facts &amp; Figures PrinciplePlanet   │\n",
       "│   │                                   │      │ People Facts &amp; Figures 56     경제성과 57     사…                │\n",
       "│ 4 │ Sustainability_report_2024_kr.pdf │   55 │ 삼성전자 지속가능경영보고서 2024 55Our Company                   │\n",
       "│   │                                   │      │ AppendixMateriality Assessment Facts &amp; Figures PrinciplePlanet   │\n",
       "│   │                                   │      │ People Facts &amp; Figures 56     경제성과 57     사…                │\n",
       "│ 5 │ Sustainability_report_2024_kr.pdf │   30 │ 삼성전자 지속가능경영보고서 2024 30Our Company                   │\n",
       "│   │                                   │      │ AppendixMateriality Assessment Facts &amp; Figures PrinciplePlanet   │\n",
       "│   │                                   │      │ People 사회적 책임을 다하며 미래로 함께 나아갑니다. People 31 …  │\n",
       "│ 6 │ Sustainability_report_2024_kr.pdf │   30 │ 삼성전자 지속가능경영보고서 2024 30Our Company                   │\n",
       "│   │                                   │      │ AppendixMateriality Assessment Facts &amp; Figures PrinciplePlanet   │\n",
       "│   │                                   │      │ People 사회적 책임을 다하며 미래로 함께 나아갑니다. People 31 …  │\n",
       "│ 7 │ Sustainability_report_2024_kr.pdf │    4 │ 삼성전자 지속가능경영보고서 2024 04 Our Company                  │\n",
       "│   │                                   │      │ AppendixMateriality Assessment Facts &amp; Figures PrinciplePlanet   │\n",
       "│   │                                   │      │ People CEO 메시지 Message from  Our CEO 주주, 고…                │\n",
       "│ 8 │ Sustainability_report_2024_kr.pdf │    4 │ 삼성전자 지속가능경영보고서 2024 04 Our Company                  │\n",
       "│   │                                   │      │ AppendixMateriality Assessment Facts &amp; Figures PrinciplePlanet   │\n",
       "│   │                                   │      │ People CEO 메시지 Message from  Our CEO 주주, 고…                │\n",
       "└───┴───────────────────────────────────┴──────┴──────────────────────────────────────────────────────────────────┘\n",
       "</pre>\n"
      ],
      "text/plain": [
       "\u001b[3m                                                   score로 확인                                                    \u001b[0m\n",
       "┏━━━┳━━━━━━━━━━━━━━━━━━━━━━━━━━━━━━━━━━━┳━━━━━━┳━━━━━━━━━━━━━━━━━━━━━━━━━━━━━━━━━━━━━━━━━━━━━━━━━━━━━━━━━━━━━━━━━━┓\n",
       "┃\u001b[1m \u001b[0m\u001b[1m#\u001b[0m\u001b[1m \u001b[0m┃\u001b[1m \u001b[0m\u001b[1mSource                           \u001b[0m\u001b[1m \u001b[0m┃\u001b[1m \u001b[0m\u001b[1mPage\u001b[0m\u001b[1m \u001b[0m┃\u001b[1m \u001b[0m\u001b[1mPreview                                                         \u001b[0m\u001b[1m \u001b[0m┃\n",
       "┡━━━╇━━━━━━━━━━━━━━━━━━━━━━━━━━━━━━━━━━━╇━━━━━━╇━━━━━━━━━━━━━━━━━━━━━━━━━━━━━━━━━━━━━━━━━━━━━━━━━━━━━━━━━━━━━━━━━━┩\n",
       "│ 1 │ Sustainability_report_2024_kr.pdf │   82 │ 보고 주기 매년(지난해 보고서 발간 시기 : 2023년 6월) 보고서 인 … │\n",
       "│   │                                   │      │ 보고서 작성 프 로세스와 게재된 정보에 대한 신뢰  확보를 위해     │\n",
       "│   │                                   │      │ 독립된  인증 기관인 안진회계법인이 제3자 검증을 수행했습니다.    │\n",
       "│   │                                   │      │ 검증기준은  ISAE3000을 적용했습니다. 관…                         │\n",
       "│ 2 │ Sustainability_report_2024_kr.pdf │   82 │ 보고 주기 매년(지난해 보고서 발간 시기 : 2023년 6월) 보고서 인 … │\n",
       "│   │                                   │      │ 보고서 작성 프 로세스와 게재된 정보에 대한 신뢰  확보를 위해     │\n",
       "│   │                                   │      │ 독립된  인증 기관인 안진회계법인이 제3자 검증을 수행했습니다.    │\n",
       "│   │                                   │      │ 검증기준은  ISAE3000을 적용했습니다. 관…                         │\n",
       "│ 3 │ Sustainability_report_2024_kr.pdf │   55 │ 삼성전자 지속가능경영보고서 2024 55Our Company                   │\n",
       "│   │                                   │      │ AppendixMateriality Assessment Facts & Figures PrinciplePlanet   │\n",
       "│   │                                   │      │ People Facts & Figures 56     경제성과 57     사…                │\n",
       "│ 4 │ Sustainability_report_2024_kr.pdf │   55 │ 삼성전자 지속가능경영보고서 2024 55Our Company                   │\n",
       "│   │                                   │      │ AppendixMateriality Assessment Facts & Figures PrinciplePlanet   │\n",
       "│   │                                   │      │ People Facts & Figures 56     경제성과 57     사…                │\n",
       "│ 5 │ Sustainability_report_2024_kr.pdf │   30 │ 삼성전자 지속가능경영보고서 2024 30Our Company                   │\n",
       "│   │                                   │      │ AppendixMateriality Assessment Facts & Figures PrinciplePlanet   │\n",
       "│   │                                   │      │ People 사회적 책임을 다하며 미래로 함께 나아갑니다. People 31 …  │\n",
       "│ 6 │ Sustainability_report_2024_kr.pdf │   30 │ 삼성전자 지속가능경영보고서 2024 30Our Company                   │\n",
       "│   │                                   │      │ AppendixMateriality Assessment Facts & Figures PrinciplePlanet   │\n",
       "│   │                                   │      │ People 사회적 책임을 다하며 미래로 함께 나아갑니다. People 31 …  │\n",
       "│ 7 │ Sustainability_report_2024_kr.pdf │    4 │ 삼성전자 지속가능경영보고서 2024 04 Our Company                  │\n",
       "│   │                                   │      │ AppendixMateriality Assessment Facts & Figures PrinciplePlanet   │\n",
       "│   │                                   │      │ People CEO 메시지 Message from  Our CEO 주주, 고…                │\n",
       "│ 8 │ Sustainability_report_2024_kr.pdf │    4 │ 삼성전자 지속가능경영보고서 2024 04 Our Company                  │\n",
       "│   │                                   │      │ AppendixMateriality Assessment Facts & Figures PrinciplePlanet   │\n",
       "│   │                                   │      │ People CEO 메시지 Message from  Our CEO 주주, 고…                │\n",
       "└───┴───────────────────────────────────┴──────┴──────────────────────────────────────────────────────────────────┘\n"
      ]
     },
     "metadata": {},
     "output_type": "display_data"
    }
   ],
   "source": [
    "# 3. score 로 제어 - threshold 값 지정\n",
    "ret_score = vecstore.as_retriever(\n",
    "    search_type=\"similarity_score_threshold\",\n",
    "    search_kwargs={\"k\": 8, \"score_threshold\": 0.2,\n",
    "                   \"filter\":{\"source\":\"../data/Sustainability_report_2024_kr.pdf\"}\n",
    "                   }\n",
    ")\n",
    "\n",
    "result = ret_score.invoke(question)\n",
    "rich_docs(result, title =\"score로 확인\")"
   ]
  },
  {
   "cell_type": "code",
   "execution_count": 9,
   "id": "f11c90eb",
   "metadata": {},
   "outputs": [
    {
     "data": {
      "text/plain": [
       "{'ids': ['samsung_2024::f383dc54-4efc-4832-abe5-bd7809a453f9'],\n",
       " 'embeddings': None,\n",
       " 'documents': ['A Journey Towards  \\na Sustainable Future\\n삼성전자 지속가능경영보고서 2024'],\n",
       " 'uris': None,\n",
       " 'included': ['metadatas', 'documents'],\n",
       " 'data': None,\n",
       " 'metadatas': [{'creator': 'Adobe InDesign 15.1 (Macintosh)',\n",
       "   'trapped': '/False',\n",
       "   'producer': 'Adobe PDF Library 15.0',\n",
       "   'page': 0,\n",
       "   'source': '../data/Sustainability_report_2024_kr.pdf',\n",
       "   'total_pages': 83,\n",
       "   'moddate': '2024-11-25T11:10:46+09:00',\n",
       "   'creationdate': '2024-11-25T11:10:32+09:00',\n",
       "   'page_label': '1'}]}"
      ]
     },
     "execution_count": 9,
     "metadata": {},
     "output_type": "execute_result"
    }
   ],
   "source": [
    "vecstore._collection.get(limit = 1)"
   ]
  },
  {
   "cell_type": "markdown",
   "id": "7b6ff1e4",
   "metadata": {},
   "source": [
    "# 4. 리오더 \n",
    "- 리랭크와 같이 사용\n",
    "- 리랭크에서는 맥락(내용의 흐름) 고려 x"
   ]
  },
  {
   "cell_type": "code",
   "execution_count": 10,
   "id": "4bb967bb",
   "metadata": {},
   "outputs": [
    {
     "data": {
      "text/html": [
       "<pre style=\"white-space:pre;overflow-x:auto;line-height:normal;font-family:Menlo,'DejaVu Sans Mono',consolas,'Courier New',monospace\"><span style=\"font-style: italic\">                                                    리오더 결과                                                    </span>\n",
       "┏━━━┳━━━━━━━━━━━━━━━━━━━━━━━━━━━━━━━━━━━┳━━━━━━┳━━━━━━━━━━━━━━━━━━━━━━━━━━━━━━━━━━━━━━━━━━━━━━━━━━━━━━━━━━━━━━━━━━┓\n",
       "┃<span style=\"font-weight: bold\"> # </span>┃<span style=\"font-weight: bold\"> Source                            </span>┃<span style=\"font-weight: bold\"> Page </span>┃<span style=\"font-weight: bold\"> Preview                                                          </span>┃\n",
       "┡━━━╇━━━━━━━━━━━━━━━━━━━━━━━━━━━━━━━━━━━╇━━━━━━╇━━━━━━━━━━━━━━━━━━━━━━━━━━━━━━━━━━━━━━━━━━━━━━━━━━━━━━━━━━━━━━━━━━┩\n",
       "│ 1 │ Sustainability_report_2024_kr.pdf │   82 │ 보고 주기 매년(지난해 보고서 발간 시기 : 2023년 6월) 보고서 인 … │\n",
       "│   │                                   │      │ 보고서 작성 프 로세스와 게재된 정보에 대한 신뢰  확보를 위해     │\n",
       "│   │                                   │      │ 독립된  인증 기관인 안진회계법인이 제3자 검증을 수행했습니다.    │\n",
       "│   │                                   │      │ 검증기준은  ISAE3000을 적용했습니다. 관…                         │\n",
       "│ 2 │ Sustainability_report_2024_kr.pdf │   55 │ 삼성전자 지속가능경영보고서 2024 55Our Company                   │\n",
       "│   │                                   │      │ AppendixMateriality Assessment Facts &amp; Figures PrinciplePlanet   │\n",
       "│   │                                   │      │ People Facts &amp; Figures 56     경제성과 57     사…                │\n",
       "│ 3 │ Sustainability_report_2024_kr.pdf │   30 │ 삼성전자 지속가능경영보고서 2024 30Our Company                   │\n",
       "│   │                                   │      │ AppendixMateriality Assessment Facts &amp; Figures PrinciplePlanet   │\n",
       "│   │                                   │      │ People 사회적 책임을 다하며 미래로 함께 나아갑니다. People 31 …  │\n",
       "│ 4 │ Sustainability_report_2024_kr.pdf │    4 │ 삼성전자 지속가능경영보고서 2024 04 Our Company                  │\n",
       "│   │                                   │      │ AppendixMateriality Assessment Facts &amp; Figures PrinciplePlanet   │\n",
       "│   │                                   │      │ People CEO 메시지 Message from  Our CEO 주주, 고…                │\n",
       "│ 5 │ Sustainability_report_2024_kr.pdf │    4 │ 삼성전자 지속가능경영보고서 2024 04 Our Company                  │\n",
       "│   │                                   │      │ AppendixMateriality Assessment Facts &amp; Figures PrinciplePlanet   │\n",
       "│   │                                   │      │ People CEO 메시지 Message from  Our CEO 주주, 고…                │\n",
       "│ 6 │ Sustainability_report_2024_kr.pdf │   30 │ 삼성전자 지속가능경영보고서 2024 30Our Company                   │\n",
       "│   │                                   │      │ AppendixMateriality Assessment Facts &amp; Figures PrinciplePlanet   │\n",
       "│   │                                   │      │ People 사회적 책임을 다하며 미래로 함께 나아갑니다. People 31 …  │\n",
       "│ 7 │ Sustainability_report_2024_kr.pdf │   55 │ 삼성전자 지속가능경영보고서 2024 55Our Company                   │\n",
       "│   │                                   │      │ AppendixMateriality Assessment Facts &amp; Figures PrinciplePlanet   │\n",
       "│   │                                   │      │ People Facts &amp; Figures 56     경제성과 57     사…                │\n",
       "│ 8 │ Sustainability_report_2024_kr.pdf │   82 │ 보고 주기 매년(지난해 보고서 발간 시기 : 2023년 6월) 보고서 인 … │\n",
       "│   │                                   │      │ 보고서 작성 프 로세스와 게재된 정보에 대한 신뢰  확보를 위해     │\n",
       "│   │                                   │      │ 독립된  인증 기관인 안진회계법인이 제3자 검증을 수행했습니다.    │\n",
       "│   │                                   │      │ 검증기준은  ISAE3000을 적용했습니다. 관…                         │\n",
       "└───┴───────────────────────────────────┴──────┴──────────────────────────────────────────────────────────────────┘\n",
       "</pre>\n"
      ],
      "text/plain": [
       "\u001b[3m                                                    리오더 결과                                                    \u001b[0m\n",
       "┏━━━┳━━━━━━━━━━━━━━━━━━━━━━━━━━━━━━━━━━━┳━━━━━━┳━━━━━━━━━━━━━━━━━━━━━━━━━━━━━━━━━━━━━━━━━━━━━━━━━━━━━━━━━━━━━━━━━━┓\n",
       "┃\u001b[1m \u001b[0m\u001b[1m#\u001b[0m\u001b[1m \u001b[0m┃\u001b[1m \u001b[0m\u001b[1mSource                           \u001b[0m\u001b[1m \u001b[0m┃\u001b[1m \u001b[0m\u001b[1mPage\u001b[0m\u001b[1m \u001b[0m┃\u001b[1m \u001b[0m\u001b[1mPreview                                                         \u001b[0m\u001b[1m \u001b[0m┃\n",
       "┡━━━╇━━━━━━━━━━━━━━━━━━━━━━━━━━━━━━━━━━━╇━━━━━━╇━━━━━━━━━━━━━━━━━━━━━━━━━━━━━━━━━━━━━━━━━━━━━━━━━━━━━━━━━━━━━━━━━━┩\n",
       "│ 1 │ Sustainability_report_2024_kr.pdf │   82 │ 보고 주기 매년(지난해 보고서 발간 시기 : 2023년 6월) 보고서 인 … │\n",
       "│   │                                   │      │ 보고서 작성 프 로세스와 게재된 정보에 대한 신뢰  확보를 위해     │\n",
       "│   │                                   │      │ 독립된  인증 기관인 안진회계법인이 제3자 검증을 수행했습니다.    │\n",
       "│   │                                   │      │ 검증기준은  ISAE3000을 적용했습니다. 관…                         │\n",
       "│ 2 │ Sustainability_report_2024_kr.pdf │   55 │ 삼성전자 지속가능경영보고서 2024 55Our Company                   │\n",
       "│   │                                   │      │ AppendixMateriality Assessment Facts & Figures PrinciplePlanet   │\n",
       "│   │                                   │      │ People Facts & Figures 56     경제성과 57     사…                │\n",
       "│ 3 │ Sustainability_report_2024_kr.pdf │   30 │ 삼성전자 지속가능경영보고서 2024 30Our Company                   │\n",
       "│   │                                   │      │ AppendixMateriality Assessment Facts & Figures PrinciplePlanet   │\n",
       "│   │                                   │      │ People 사회적 책임을 다하며 미래로 함께 나아갑니다. People 31 …  │\n",
       "│ 4 │ Sustainability_report_2024_kr.pdf │    4 │ 삼성전자 지속가능경영보고서 2024 04 Our Company                  │\n",
       "│   │                                   │      │ AppendixMateriality Assessment Facts & Figures PrinciplePlanet   │\n",
       "│   │                                   │      │ People CEO 메시지 Message from  Our CEO 주주, 고…                │\n",
       "│ 5 │ Sustainability_report_2024_kr.pdf │    4 │ 삼성전자 지속가능경영보고서 2024 04 Our Company                  │\n",
       "│   │                                   │      │ AppendixMateriality Assessment Facts & Figures PrinciplePlanet   │\n",
       "│   │                                   │      │ People CEO 메시지 Message from  Our CEO 주주, 고…                │\n",
       "│ 6 │ Sustainability_report_2024_kr.pdf │   30 │ 삼성전자 지속가능경영보고서 2024 30Our Company                   │\n",
       "│   │                                   │      │ AppendixMateriality Assessment Facts & Figures PrinciplePlanet   │\n",
       "│   │                                   │      │ People 사회적 책임을 다하며 미래로 함께 나아갑니다. People 31 …  │\n",
       "│ 7 │ Sustainability_report_2024_kr.pdf │   55 │ 삼성전자 지속가능경영보고서 2024 55Our Company                   │\n",
       "│   │                                   │      │ AppendixMateriality Assessment Facts & Figures PrinciplePlanet   │\n",
       "│   │                                   │      │ People Facts & Figures 56     경제성과 57     사…                │\n",
       "│ 8 │ Sustainability_report_2024_kr.pdf │   82 │ 보고 주기 매년(지난해 보고서 발간 시기 : 2023년 6월) 보고서 인 … │\n",
       "│   │                                   │      │ 보고서 작성 프 로세스와 게재된 정보에 대한 신뢰  확보를 위해     │\n",
       "│   │                                   │      │ 독립된  인증 기관인 안진회계법인이 제3자 검증을 수행했습니다.    │\n",
       "│   │                                   │      │ 검증기준은  ISAE3000을 적용했습니다. 관…                         │\n",
       "└───┴───────────────────────────────────┴──────┴──────────────────────────────────────────────────────────────────┘\n"
      ]
     },
     "metadata": {},
     "output_type": "display_data"
    }
   ],
   "source": [
    "from langchain_community.document_transformers import LongContextReorder\n",
    "reorder = LongContextReorder()\n",
    "reordered_result = reorder.transform_documents(result)\n",
    "\n",
    "rich_docs(reordered_result, title=\"리오더 결과\")"
   ]
  },
  {
   "cell_type": "code",
   "execution_count": null,
   "id": "9ed22747",
   "metadata": {},
   "outputs": [],
   "source": []
  }
 ],
 "metadata": {
  "kernelspec": {
   "display_name": "potenup_10",
   "language": "python",
   "name": "python3"
  },
  "language_info": {
   "codemirror_mode": {
    "name": "ipython",
    "version": 3
   },
   "file_extension": ".py",
   "mimetype": "text/x-python",
   "name": "python",
   "nbconvert_exporter": "python",
   "pygments_lexer": "ipython3",
   "version": "3.11.0"
  }
 },
 "nbformat": 4,
 "nbformat_minor": 5
}
